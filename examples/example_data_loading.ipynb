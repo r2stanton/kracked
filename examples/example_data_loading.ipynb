{
 "cells": [
  {
   "cell_type": "code",
   "execution_count": 61,
   "metadata": {},
   "outputs": [],
   "source": [
    "from plotly.subplots import make_subplots\n",
    "import plotly.graph_objects as go\n",
    "import pandas as pd\n",
    "import numpy as np\n",
    "import json\n",
    "\n",
    "import matplotlib.pyplot as plt\n",
    "import seaborn as sns\n",
    "\n",
    "\n",
    "data_dir = \"ex_out\""
   ]
  },
  {
   "cell_type": "markdown",
   "metadata": {},
   "source": [
    "### Parsing the OHLCV Data:\n",
    "\n",
    "A few notes here:\n",
    "1. Be sure to select for the correct symbol you are desiring to pull statistics/visualizations for. Here the example shows how to select all columns corresponding to the symbol DOGE/USD.\n",
    "2. **IMPORTANT**: Kraken Websockets ping with OHLCV data more frequently than the desired resolution. This means we need to do a `groupby()` on the time column, and then take the last entry in order to get one one typically thinks of as the \"OHLCV\" data.\n"
   ]
  },
  {
   "cell_type": "code",
   "execution_count": 110,
   "metadata": {},
   "outputs": [
    {
     "data": {
      "application/vnd.plotly.v1+json": {
       "config": {
        "plotlyServerURL": "https://plot.ly"
       },
       "data": [
        {
         "close": [
          0.17624,
          0.1763274,
          0.1765344,
          0.1765344,
          0.1765343,
          0.1765999,
          0.1768682,
          0.1765057,
          0.176588,
          0.1762759,
          0.1763544,
          0.1753339,
          0.175052,
          0.1751717,
          0.1750693,
          0.17514,
          0.1754403,
          0.1754463
         ],
         "high": [
          0.17624,
          0.176425,
          0.1765344,
          0.1765344,
          0.1766,
          0.1766,
          0.177,
          0.1768775,
          0.176588,
          0.1765169,
          0.1764748,
          0.1763708,
          0.1753196,
          0.1754591,
          0.1752426,
          0.17514,
          0.1755205,
          0.1754463
         ],
         "low": [
          0.176094,
          0.1761443,
          0.17645,
          0.1764241,
          0.1765343,
          0.1764843,
          0.1766,
          0.1765057,
          0.1764829,
          0.1762759,
          0.1763286,
          0.1753339,
          0.175052,
          0.1749605,
          0.1750461,
          0.1751196,
          0.1752205,
          0.1754059
         ],
         "name": "OHLC",
         "open": [
          0.176094,
          0.1761443,
          0.17645,
          0.1764241,
          0.1765344,
          0.1764843,
          0.1766,
          0.1768773,
          0.1765011,
          0.1763158,
          0.1764238,
          0.1763708,
          0.1751484,
          0.1751299,
          0.1752426,
          0.1751249,
          0.1752205,
          0.175406
         ],
         "type": "candlestick",
         "x": [
          "2024-10-30T00:20:00.000000Z",
          "2024-10-30T00:21:00.000000Z",
          "2024-10-30T00:22:00.000000Z",
          "2024-10-30T00:23:00.000000Z",
          "2024-10-30T00:24:00.000000Z",
          "2024-10-30T00:25:00.000000Z",
          "2024-10-30T00:26:00.000000Z",
          "2024-10-30T00:27:00.000000Z",
          "2024-10-30T00:28:00.000000Z",
          "2024-10-30T00:29:00.000000Z",
          "2024-10-30T00:30:00.000000Z",
          "2024-10-30T00:31:00.000000Z",
          "2024-10-30T00:32:00.000000Z",
          "2024-10-30T00:33:00.000000Z",
          "2024-10-30T00:34:00.000000Z",
          "2024-10-30T00:35:00.000000Z",
          "2024-10-30T00:36:00.000000Z",
          "2024-10-30T00:37:00.000000Z"
         ],
         "xaxis": "x",
         "yaxis": "y"
        },
        {
         "marker": {
          "color": "rgba(100,100,100,0.5)"
         },
         "name": "Volume",
         "type": "bar",
         "x": [
          "2024-10-30T00:20:00.000000Z",
          "2024-10-30T00:21:00.000000Z",
          "2024-10-30T00:22:00.000000Z",
          "2024-10-30T00:23:00.000000Z",
          "2024-10-30T00:24:00.000000Z",
          "2024-10-30T00:25:00.000000Z",
          "2024-10-30T00:26:00.000000Z",
          "2024-10-30T00:27:00.000000Z",
          "2024-10-30T00:28:00.000000Z",
          "2024-10-30T00:29:00.000000Z",
          "2024-10-30T00:30:00.000000Z",
          "2024-10-30T00:31:00.000000Z",
          "2024-10-30T00:32:00.000000Z",
          "2024-10-30T00:33:00.000000Z",
          "2024-10-30T00:34:00.000000Z",
          "2024-10-30T00:35:00.000000Z",
          "2024-10-30T00:36:00.000000Z",
          "2024-10-30T00:37:00.000000Z"
         ],
         "xaxis": "x2",
         "y": [
          7542.2449,
          14503.3647008,
          194449.20599851,
          7824.95264715,
          658823.05670578,
          186489.6337514,
          516173.69683011,
          14816.00723722,
          6102.73797604,
          43689.55859838,
          79467.11008419,
          18620.0338626,
          82446.32774632,
          66074.24423448,
          41990.36993116,
          9739.85179217,
          18345.76477734,
          97765.82863615
         ],
         "yaxis": "y2"
        }
       ],
       "layout": {
        "height": 800,
        "template": {
         "data": {
          "bar": [
           {
            "error_x": {
             "color": "#f2f5fa"
            },
            "error_y": {
             "color": "#f2f5fa"
            },
            "marker": {
             "line": {
              "color": "rgb(17,17,17)",
              "width": 0.5
             },
             "pattern": {
              "fillmode": "overlay",
              "size": 10,
              "solidity": 0.2
             }
            },
            "type": "bar"
           }
          ],
          "barpolar": [
           {
            "marker": {
             "line": {
              "color": "rgb(17,17,17)",
              "width": 0.5
             },
             "pattern": {
              "fillmode": "overlay",
              "size": 10,
              "solidity": 0.2
             }
            },
            "type": "barpolar"
           }
          ],
          "carpet": [
           {
            "aaxis": {
             "endlinecolor": "#A2B1C6",
             "gridcolor": "#506784",
             "linecolor": "#506784",
             "minorgridcolor": "#506784",
             "startlinecolor": "#A2B1C6"
            },
            "baxis": {
             "endlinecolor": "#A2B1C6",
             "gridcolor": "#506784",
             "linecolor": "#506784",
             "minorgridcolor": "#506784",
             "startlinecolor": "#A2B1C6"
            },
            "type": "carpet"
           }
          ],
          "choropleth": [
           {
            "colorbar": {
             "outlinewidth": 0,
             "ticks": ""
            },
            "type": "choropleth"
           }
          ],
          "contour": [
           {
            "colorbar": {
             "outlinewidth": 0,
             "ticks": ""
            },
            "colorscale": [
             [
              0,
              "#0d0887"
             ],
             [
              0.1111111111111111,
              "#46039f"
             ],
             [
              0.2222222222222222,
              "#7201a8"
             ],
             [
              0.3333333333333333,
              "#9c179e"
             ],
             [
              0.4444444444444444,
              "#bd3786"
             ],
             [
              0.5555555555555556,
              "#d8576b"
             ],
             [
              0.6666666666666666,
              "#ed7953"
             ],
             [
              0.7777777777777778,
              "#fb9f3a"
             ],
             [
              0.8888888888888888,
              "#fdca26"
             ],
             [
              1,
              "#f0f921"
             ]
            ],
            "type": "contour"
           }
          ],
          "contourcarpet": [
           {
            "colorbar": {
             "outlinewidth": 0,
             "ticks": ""
            },
            "type": "contourcarpet"
           }
          ],
          "heatmap": [
           {
            "colorbar": {
             "outlinewidth": 0,
             "ticks": ""
            },
            "colorscale": [
             [
              0,
              "#0d0887"
             ],
             [
              0.1111111111111111,
              "#46039f"
             ],
             [
              0.2222222222222222,
              "#7201a8"
             ],
             [
              0.3333333333333333,
              "#9c179e"
             ],
             [
              0.4444444444444444,
              "#bd3786"
             ],
             [
              0.5555555555555556,
              "#d8576b"
             ],
             [
              0.6666666666666666,
              "#ed7953"
             ],
             [
              0.7777777777777778,
              "#fb9f3a"
             ],
             [
              0.8888888888888888,
              "#fdca26"
             ],
             [
              1,
              "#f0f921"
             ]
            ],
            "type": "heatmap"
           }
          ],
          "heatmapgl": [
           {
            "colorbar": {
             "outlinewidth": 0,
             "ticks": ""
            },
            "colorscale": [
             [
              0,
              "#0d0887"
             ],
             [
              0.1111111111111111,
              "#46039f"
             ],
             [
              0.2222222222222222,
              "#7201a8"
             ],
             [
              0.3333333333333333,
              "#9c179e"
             ],
             [
              0.4444444444444444,
              "#bd3786"
             ],
             [
              0.5555555555555556,
              "#d8576b"
             ],
             [
              0.6666666666666666,
              "#ed7953"
             ],
             [
              0.7777777777777778,
              "#fb9f3a"
             ],
             [
              0.8888888888888888,
              "#fdca26"
             ],
             [
              1,
              "#f0f921"
             ]
            ],
            "type": "heatmapgl"
           }
          ],
          "histogram": [
           {
            "marker": {
             "pattern": {
              "fillmode": "overlay",
              "size": 10,
              "solidity": 0.2
             }
            },
            "type": "histogram"
           }
          ],
          "histogram2d": [
           {
            "colorbar": {
             "outlinewidth": 0,
             "ticks": ""
            },
            "colorscale": [
             [
              0,
              "#0d0887"
             ],
             [
              0.1111111111111111,
              "#46039f"
             ],
             [
              0.2222222222222222,
              "#7201a8"
             ],
             [
              0.3333333333333333,
              "#9c179e"
             ],
             [
              0.4444444444444444,
              "#bd3786"
             ],
             [
              0.5555555555555556,
              "#d8576b"
             ],
             [
              0.6666666666666666,
              "#ed7953"
             ],
             [
              0.7777777777777778,
              "#fb9f3a"
             ],
             [
              0.8888888888888888,
              "#fdca26"
             ],
             [
              1,
              "#f0f921"
             ]
            ],
            "type": "histogram2d"
           }
          ],
          "histogram2dcontour": [
           {
            "colorbar": {
             "outlinewidth": 0,
             "ticks": ""
            },
            "colorscale": [
             [
              0,
              "#0d0887"
             ],
             [
              0.1111111111111111,
              "#46039f"
             ],
             [
              0.2222222222222222,
              "#7201a8"
             ],
             [
              0.3333333333333333,
              "#9c179e"
             ],
             [
              0.4444444444444444,
              "#bd3786"
             ],
             [
              0.5555555555555556,
              "#d8576b"
             ],
             [
              0.6666666666666666,
              "#ed7953"
             ],
             [
              0.7777777777777778,
              "#fb9f3a"
             ],
             [
              0.8888888888888888,
              "#fdca26"
             ],
             [
              1,
              "#f0f921"
             ]
            ],
            "type": "histogram2dcontour"
           }
          ],
          "mesh3d": [
           {
            "colorbar": {
             "outlinewidth": 0,
             "ticks": ""
            },
            "type": "mesh3d"
           }
          ],
          "parcoords": [
           {
            "line": {
             "colorbar": {
              "outlinewidth": 0,
              "ticks": ""
             }
            },
            "type": "parcoords"
           }
          ],
          "pie": [
           {
            "automargin": true,
            "type": "pie"
           }
          ],
          "scatter": [
           {
            "marker": {
             "line": {
              "color": "#283442"
             }
            },
            "type": "scatter"
           }
          ],
          "scatter3d": [
           {
            "line": {
             "colorbar": {
              "outlinewidth": 0,
              "ticks": ""
             }
            },
            "marker": {
             "colorbar": {
              "outlinewidth": 0,
              "ticks": ""
             }
            },
            "type": "scatter3d"
           }
          ],
          "scattercarpet": [
           {
            "marker": {
             "colorbar": {
              "outlinewidth": 0,
              "ticks": ""
             }
            },
            "type": "scattercarpet"
           }
          ],
          "scattergeo": [
           {
            "marker": {
             "colorbar": {
              "outlinewidth": 0,
              "ticks": ""
             }
            },
            "type": "scattergeo"
           }
          ],
          "scattergl": [
           {
            "marker": {
             "line": {
              "color": "#283442"
             }
            },
            "type": "scattergl"
           }
          ],
          "scattermapbox": [
           {
            "marker": {
             "colorbar": {
              "outlinewidth": 0,
              "ticks": ""
             }
            },
            "type": "scattermapbox"
           }
          ],
          "scatterpolar": [
           {
            "marker": {
             "colorbar": {
              "outlinewidth": 0,
              "ticks": ""
             }
            },
            "type": "scatterpolar"
           }
          ],
          "scatterpolargl": [
           {
            "marker": {
             "colorbar": {
              "outlinewidth": 0,
              "ticks": ""
             }
            },
            "type": "scatterpolargl"
           }
          ],
          "scatterternary": [
           {
            "marker": {
             "colorbar": {
              "outlinewidth": 0,
              "ticks": ""
             }
            },
            "type": "scatterternary"
           }
          ],
          "surface": [
           {
            "colorbar": {
             "outlinewidth": 0,
             "ticks": ""
            },
            "colorscale": [
             [
              0,
              "#0d0887"
             ],
             [
              0.1111111111111111,
              "#46039f"
             ],
             [
              0.2222222222222222,
              "#7201a8"
             ],
             [
              0.3333333333333333,
              "#9c179e"
             ],
             [
              0.4444444444444444,
              "#bd3786"
             ],
             [
              0.5555555555555556,
              "#d8576b"
             ],
             [
              0.6666666666666666,
              "#ed7953"
             ],
             [
              0.7777777777777778,
              "#fb9f3a"
             ],
             [
              0.8888888888888888,
              "#fdca26"
             ],
             [
              1,
              "#f0f921"
             ]
            ],
            "type": "surface"
           }
          ],
          "table": [
           {
            "cells": {
             "fill": {
              "color": "#506784"
             },
             "line": {
              "color": "rgb(17,17,17)"
             }
            },
            "header": {
             "fill": {
              "color": "#2a3f5f"
             },
             "line": {
              "color": "rgb(17,17,17)"
             }
            },
            "type": "table"
           }
          ]
         },
         "layout": {
          "annotationdefaults": {
           "arrowcolor": "#f2f5fa",
           "arrowhead": 0,
           "arrowwidth": 1
          },
          "autotypenumbers": "strict",
          "coloraxis": {
           "colorbar": {
            "outlinewidth": 0,
            "ticks": ""
           }
          },
          "colorscale": {
           "diverging": [
            [
             0,
             "#8e0152"
            ],
            [
             0.1,
             "#c51b7d"
            ],
            [
             0.2,
             "#de77ae"
            ],
            [
             0.3,
             "#f1b6da"
            ],
            [
             0.4,
             "#fde0ef"
            ],
            [
             0.5,
             "#f7f7f7"
            ],
            [
             0.6,
             "#e6f5d0"
            ],
            [
             0.7,
             "#b8e186"
            ],
            [
             0.8,
             "#7fbc41"
            ],
            [
             0.9,
             "#4d9221"
            ],
            [
             1,
             "#276419"
            ]
           ],
           "sequential": [
            [
             0,
             "#0d0887"
            ],
            [
             0.1111111111111111,
             "#46039f"
            ],
            [
             0.2222222222222222,
             "#7201a8"
            ],
            [
             0.3333333333333333,
             "#9c179e"
            ],
            [
             0.4444444444444444,
             "#bd3786"
            ],
            [
             0.5555555555555556,
             "#d8576b"
            ],
            [
             0.6666666666666666,
             "#ed7953"
            ],
            [
             0.7777777777777778,
             "#fb9f3a"
            ],
            [
             0.8888888888888888,
             "#fdca26"
            ],
            [
             1,
             "#f0f921"
            ]
           ],
           "sequentialminus": [
            [
             0,
             "#0d0887"
            ],
            [
             0.1111111111111111,
             "#46039f"
            ],
            [
             0.2222222222222222,
             "#7201a8"
            ],
            [
             0.3333333333333333,
             "#9c179e"
            ],
            [
             0.4444444444444444,
             "#bd3786"
            ],
            [
             0.5555555555555556,
             "#d8576b"
            ],
            [
             0.6666666666666666,
             "#ed7953"
            ],
            [
             0.7777777777777778,
             "#fb9f3a"
            ],
            [
             0.8888888888888888,
             "#fdca26"
            ],
            [
             1,
             "#f0f921"
            ]
           ]
          },
          "colorway": [
           "#636efa",
           "#EF553B",
           "#00cc96",
           "#ab63fa",
           "#FFA15A",
           "#19d3f3",
           "#FF6692",
           "#B6E880",
           "#FF97FF",
           "#FECB52"
          ],
          "font": {
           "color": "#f2f5fa"
          },
          "geo": {
           "bgcolor": "rgb(17,17,17)",
           "lakecolor": "rgb(17,17,17)",
           "landcolor": "rgb(17,17,17)",
           "showlakes": true,
           "showland": true,
           "subunitcolor": "#506784"
          },
          "hoverlabel": {
           "align": "left"
          },
          "hovermode": "closest",
          "mapbox": {
           "style": "dark"
          },
          "paper_bgcolor": "rgb(17,17,17)",
          "plot_bgcolor": "rgb(17,17,17)",
          "polar": {
           "angularaxis": {
            "gridcolor": "#506784",
            "linecolor": "#506784",
            "ticks": ""
           },
           "bgcolor": "rgb(17,17,17)",
           "radialaxis": {
            "gridcolor": "#506784",
            "linecolor": "#506784",
            "ticks": ""
           }
          },
          "scene": {
           "xaxis": {
            "backgroundcolor": "rgb(17,17,17)",
            "gridcolor": "#506784",
            "gridwidth": 2,
            "linecolor": "#506784",
            "showbackground": true,
            "ticks": "",
            "zerolinecolor": "#C8D4E3"
           },
           "yaxis": {
            "backgroundcolor": "rgb(17,17,17)",
            "gridcolor": "#506784",
            "gridwidth": 2,
            "linecolor": "#506784",
            "showbackground": true,
            "ticks": "",
            "zerolinecolor": "#C8D4E3"
           },
           "zaxis": {
            "backgroundcolor": "rgb(17,17,17)",
            "gridcolor": "#506784",
            "gridwidth": 2,
            "linecolor": "#506784",
            "showbackground": true,
            "ticks": "",
            "zerolinecolor": "#C8D4E3"
           }
          },
          "shapedefaults": {
           "line": {
            "color": "#f2f5fa"
           }
          },
          "sliderdefaults": {
           "bgcolor": "#C8D4E3",
           "bordercolor": "rgb(17,17,17)",
           "borderwidth": 1,
           "tickwidth": 0
          },
          "ternary": {
           "aaxis": {
            "gridcolor": "#506784",
            "linecolor": "#506784",
            "ticks": ""
           },
           "baxis": {
            "gridcolor": "#506784",
            "linecolor": "#506784",
            "ticks": ""
           },
           "bgcolor": "rgb(17,17,17)",
           "caxis": {
            "gridcolor": "#506784",
            "linecolor": "#506784",
            "ticks": ""
           }
          },
          "title": {
           "x": 0.05
          },
          "updatemenudefaults": {
           "bgcolor": "#506784",
           "borderwidth": 0
          },
          "xaxis": {
           "automargin": true,
           "gridcolor": "#283442",
           "linecolor": "#506784",
           "ticks": "",
           "title": {
            "standoff": 15
           },
           "zerolinecolor": "#283442",
           "zerolinewidth": 2
          },
          "yaxis": {
           "automargin": true,
           "gridcolor": "#283442",
           "linecolor": "#506784",
           "ticks": "",
           "title": {
            "standoff": 15
           },
           "zerolinecolor": "#283442",
           "zerolinewidth": 2
          }
         }
        },
        "title": {
         "text": "DOGE/USD Price and Volume"
        },
        "xaxis": {
         "anchor": "y",
         "domain": [
          0,
          1
         ],
         "matches": "x2",
         "rangeslider": {
          "visible": false
         },
         "showticklabels": false
        },
        "xaxis2": {
         "anchor": "y2",
         "domain": [
          0,
          1
         ]
        },
        "yaxis": {
         "anchor": "x",
         "domain": [
          0.32099999999999995,
          0.9999999999999999
         ],
         "title": {
          "text": "Price"
         }
        },
        "yaxis2": {
         "anchor": "x2",
         "domain": [
          0,
          0.291
         ],
         "title": {
          "text": "Volume"
         }
        }
       }
      },
      "text/html": [
       "<div>                            <div id=\"935fd498-d651-48ef-ab2b-12d40a43068b\" class=\"plotly-graph-div\" style=\"height:800px; width:100%;\"></div>            <script type=\"text/javascript\">                require([\"plotly\"], function(Plotly) {                    window.PLOTLYENV=window.PLOTLYENV || {};                                    if (document.getElementById(\"935fd498-d651-48ef-ab2b-12d40a43068b\")) {                    Plotly.newPlot(                        \"935fd498-d651-48ef-ab2b-12d40a43068b\",                        [{\"close\":[0.17624,0.1763274,0.1765344,0.1765344,0.1765343,0.1765999,0.1768682,0.1765057,0.176588,0.1762759,0.1763544,0.1753339,0.175052,0.1751717,0.1750693,0.17514,0.1754403,0.1754463],\"high\":[0.17624,0.176425,0.1765344,0.1765344,0.1766,0.1766,0.177,0.1768775,0.176588,0.1765169,0.1764748,0.1763708,0.1753196,0.1754591,0.1752426,0.17514,0.1755205,0.1754463],\"low\":[0.176094,0.1761443,0.17645,0.1764241,0.1765343,0.1764843,0.1766,0.1765057,0.1764829,0.1762759,0.1763286,0.1753339,0.175052,0.1749605,0.1750461,0.1751196,0.1752205,0.1754059],\"name\":\"OHLC\",\"open\":[0.176094,0.1761443,0.17645,0.1764241,0.1765344,0.1764843,0.1766,0.1768773,0.1765011,0.1763158,0.1764238,0.1763708,0.1751484,0.1751299,0.1752426,0.1751249,0.1752205,0.175406],\"x\":[\"2024-10-30T00:20:00.000000Z\",\"2024-10-30T00:21:00.000000Z\",\"2024-10-30T00:22:00.000000Z\",\"2024-10-30T00:23:00.000000Z\",\"2024-10-30T00:24:00.000000Z\",\"2024-10-30T00:25:00.000000Z\",\"2024-10-30T00:26:00.000000Z\",\"2024-10-30T00:27:00.000000Z\",\"2024-10-30T00:28:00.000000Z\",\"2024-10-30T00:29:00.000000Z\",\"2024-10-30T00:30:00.000000Z\",\"2024-10-30T00:31:00.000000Z\",\"2024-10-30T00:32:00.000000Z\",\"2024-10-30T00:33:00.000000Z\",\"2024-10-30T00:34:00.000000Z\",\"2024-10-30T00:35:00.000000Z\",\"2024-10-30T00:36:00.000000Z\",\"2024-10-30T00:37:00.000000Z\"],\"type\":\"candlestick\",\"xaxis\":\"x\",\"yaxis\":\"y\"},{\"marker\":{\"color\":\"rgba(100,100,100,0.5)\"},\"name\":\"Volume\",\"x\":[\"2024-10-30T00:20:00.000000Z\",\"2024-10-30T00:21:00.000000Z\",\"2024-10-30T00:22:00.000000Z\",\"2024-10-30T00:23:00.000000Z\",\"2024-10-30T00:24:00.000000Z\",\"2024-10-30T00:25:00.000000Z\",\"2024-10-30T00:26:00.000000Z\",\"2024-10-30T00:27:00.000000Z\",\"2024-10-30T00:28:00.000000Z\",\"2024-10-30T00:29:00.000000Z\",\"2024-10-30T00:30:00.000000Z\",\"2024-10-30T00:31:00.000000Z\",\"2024-10-30T00:32:00.000000Z\",\"2024-10-30T00:33:00.000000Z\",\"2024-10-30T00:34:00.000000Z\",\"2024-10-30T00:35:00.000000Z\",\"2024-10-30T00:36:00.000000Z\",\"2024-10-30T00:37:00.000000Z\"],\"y\":[7542.2449,14503.3647008,194449.20599851,7824.95264715,658823.05670578,186489.6337514,516173.69683011,14816.00723722,6102.73797604,43689.55859838,79467.11008419,18620.0338626,82446.32774632,66074.24423448,41990.36993116,9739.85179217,18345.76477734,97765.82863615],\"type\":\"bar\",\"xaxis\":\"x2\",\"yaxis\":\"y2\"}],                        {\"template\":{\"data\":{\"barpolar\":[{\"marker\":{\"line\":{\"color\":\"rgb(17,17,17)\",\"width\":0.5},\"pattern\":{\"fillmode\":\"overlay\",\"size\":10,\"solidity\":0.2}},\"type\":\"barpolar\"}],\"bar\":[{\"error_x\":{\"color\":\"#f2f5fa\"},\"error_y\":{\"color\":\"#f2f5fa\"},\"marker\":{\"line\":{\"color\":\"rgb(17,17,17)\",\"width\":0.5},\"pattern\":{\"fillmode\":\"overlay\",\"size\":10,\"solidity\":0.2}},\"type\":\"bar\"}],\"carpet\":[{\"aaxis\":{\"endlinecolor\":\"#A2B1C6\",\"gridcolor\":\"#506784\",\"linecolor\":\"#506784\",\"minorgridcolor\":\"#506784\",\"startlinecolor\":\"#A2B1C6\"},\"baxis\":{\"endlinecolor\":\"#A2B1C6\",\"gridcolor\":\"#506784\",\"linecolor\":\"#506784\",\"minorgridcolor\":\"#506784\",\"startlinecolor\":\"#A2B1C6\"},\"type\":\"carpet\"}],\"choropleth\":[{\"colorbar\":{\"outlinewidth\":0,\"ticks\":\"\"},\"type\":\"choropleth\"}],\"contourcarpet\":[{\"colorbar\":{\"outlinewidth\":0,\"ticks\":\"\"},\"type\":\"contourcarpet\"}],\"contour\":[{\"colorbar\":{\"outlinewidth\":0,\"ticks\":\"\"},\"colorscale\":[[0.0,\"#0d0887\"],[0.1111111111111111,\"#46039f\"],[0.2222222222222222,\"#7201a8\"],[0.3333333333333333,\"#9c179e\"],[0.4444444444444444,\"#bd3786\"],[0.5555555555555556,\"#d8576b\"],[0.6666666666666666,\"#ed7953\"],[0.7777777777777778,\"#fb9f3a\"],[0.8888888888888888,\"#fdca26\"],[1.0,\"#f0f921\"]],\"type\":\"contour\"}],\"heatmapgl\":[{\"colorbar\":{\"outlinewidth\":0,\"ticks\":\"\"},\"colorscale\":[[0.0,\"#0d0887\"],[0.1111111111111111,\"#46039f\"],[0.2222222222222222,\"#7201a8\"],[0.3333333333333333,\"#9c179e\"],[0.4444444444444444,\"#bd3786\"],[0.5555555555555556,\"#d8576b\"],[0.6666666666666666,\"#ed7953\"],[0.7777777777777778,\"#fb9f3a\"],[0.8888888888888888,\"#fdca26\"],[1.0,\"#f0f921\"]],\"type\":\"heatmapgl\"}],\"heatmap\":[{\"colorbar\":{\"outlinewidth\":0,\"ticks\":\"\"},\"colorscale\":[[0.0,\"#0d0887\"],[0.1111111111111111,\"#46039f\"],[0.2222222222222222,\"#7201a8\"],[0.3333333333333333,\"#9c179e\"],[0.4444444444444444,\"#bd3786\"],[0.5555555555555556,\"#d8576b\"],[0.6666666666666666,\"#ed7953\"],[0.7777777777777778,\"#fb9f3a\"],[0.8888888888888888,\"#fdca26\"],[1.0,\"#f0f921\"]],\"type\":\"heatmap\"}],\"histogram2dcontour\":[{\"colorbar\":{\"outlinewidth\":0,\"ticks\":\"\"},\"colorscale\":[[0.0,\"#0d0887\"],[0.1111111111111111,\"#46039f\"],[0.2222222222222222,\"#7201a8\"],[0.3333333333333333,\"#9c179e\"],[0.4444444444444444,\"#bd3786\"],[0.5555555555555556,\"#d8576b\"],[0.6666666666666666,\"#ed7953\"],[0.7777777777777778,\"#fb9f3a\"],[0.8888888888888888,\"#fdca26\"],[1.0,\"#f0f921\"]],\"type\":\"histogram2dcontour\"}],\"histogram2d\":[{\"colorbar\":{\"outlinewidth\":0,\"ticks\":\"\"},\"colorscale\":[[0.0,\"#0d0887\"],[0.1111111111111111,\"#46039f\"],[0.2222222222222222,\"#7201a8\"],[0.3333333333333333,\"#9c179e\"],[0.4444444444444444,\"#bd3786\"],[0.5555555555555556,\"#d8576b\"],[0.6666666666666666,\"#ed7953\"],[0.7777777777777778,\"#fb9f3a\"],[0.8888888888888888,\"#fdca26\"],[1.0,\"#f0f921\"]],\"type\":\"histogram2d\"}],\"histogram\":[{\"marker\":{\"pattern\":{\"fillmode\":\"overlay\",\"size\":10,\"solidity\":0.2}},\"type\":\"histogram\"}],\"mesh3d\":[{\"colorbar\":{\"outlinewidth\":0,\"ticks\":\"\"},\"type\":\"mesh3d\"}],\"parcoords\":[{\"line\":{\"colorbar\":{\"outlinewidth\":0,\"ticks\":\"\"}},\"type\":\"parcoords\"}],\"pie\":[{\"automargin\":true,\"type\":\"pie\"}],\"scatter3d\":[{\"line\":{\"colorbar\":{\"outlinewidth\":0,\"ticks\":\"\"}},\"marker\":{\"colorbar\":{\"outlinewidth\":0,\"ticks\":\"\"}},\"type\":\"scatter3d\"}],\"scattercarpet\":[{\"marker\":{\"colorbar\":{\"outlinewidth\":0,\"ticks\":\"\"}},\"type\":\"scattercarpet\"}],\"scattergeo\":[{\"marker\":{\"colorbar\":{\"outlinewidth\":0,\"ticks\":\"\"}},\"type\":\"scattergeo\"}],\"scattergl\":[{\"marker\":{\"line\":{\"color\":\"#283442\"}},\"type\":\"scattergl\"}],\"scattermapbox\":[{\"marker\":{\"colorbar\":{\"outlinewidth\":0,\"ticks\":\"\"}},\"type\":\"scattermapbox\"}],\"scatterpolargl\":[{\"marker\":{\"colorbar\":{\"outlinewidth\":0,\"ticks\":\"\"}},\"type\":\"scatterpolargl\"}],\"scatterpolar\":[{\"marker\":{\"colorbar\":{\"outlinewidth\":0,\"ticks\":\"\"}},\"type\":\"scatterpolar\"}],\"scatter\":[{\"marker\":{\"line\":{\"color\":\"#283442\"}},\"type\":\"scatter\"}],\"scatterternary\":[{\"marker\":{\"colorbar\":{\"outlinewidth\":0,\"ticks\":\"\"}},\"type\":\"scatterternary\"}],\"surface\":[{\"colorbar\":{\"outlinewidth\":0,\"ticks\":\"\"},\"colorscale\":[[0.0,\"#0d0887\"],[0.1111111111111111,\"#46039f\"],[0.2222222222222222,\"#7201a8\"],[0.3333333333333333,\"#9c179e\"],[0.4444444444444444,\"#bd3786\"],[0.5555555555555556,\"#d8576b\"],[0.6666666666666666,\"#ed7953\"],[0.7777777777777778,\"#fb9f3a\"],[0.8888888888888888,\"#fdca26\"],[1.0,\"#f0f921\"]],\"type\":\"surface\"}],\"table\":[{\"cells\":{\"fill\":{\"color\":\"#506784\"},\"line\":{\"color\":\"rgb(17,17,17)\"}},\"header\":{\"fill\":{\"color\":\"#2a3f5f\"},\"line\":{\"color\":\"rgb(17,17,17)\"}},\"type\":\"table\"}]},\"layout\":{\"annotationdefaults\":{\"arrowcolor\":\"#f2f5fa\",\"arrowhead\":0,\"arrowwidth\":1},\"autotypenumbers\":\"strict\",\"coloraxis\":{\"colorbar\":{\"outlinewidth\":0,\"ticks\":\"\"}},\"colorscale\":{\"diverging\":[[0,\"#8e0152\"],[0.1,\"#c51b7d\"],[0.2,\"#de77ae\"],[0.3,\"#f1b6da\"],[0.4,\"#fde0ef\"],[0.5,\"#f7f7f7\"],[0.6,\"#e6f5d0\"],[0.7,\"#b8e186\"],[0.8,\"#7fbc41\"],[0.9,\"#4d9221\"],[1,\"#276419\"]],\"sequential\":[[0.0,\"#0d0887\"],[0.1111111111111111,\"#46039f\"],[0.2222222222222222,\"#7201a8\"],[0.3333333333333333,\"#9c179e\"],[0.4444444444444444,\"#bd3786\"],[0.5555555555555556,\"#d8576b\"],[0.6666666666666666,\"#ed7953\"],[0.7777777777777778,\"#fb9f3a\"],[0.8888888888888888,\"#fdca26\"],[1.0,\"#f0f921\"]],\"sequentialminus\":[[0.0,\"#0d0887\"],[0.1111111111111111,\"#46039f\"],[0.2222222222222222,\"#7201a8\"],[0.3333333333333333,\"#9c179e\"],[0.4444444444444444,\"#bd3786\"],[0.5555555555555556,\"#d8576b\"],[0.6666666666666666,\"#ed7953\"],[0.7777777777777778,\"#fb9f3a\"],[0.8888888888888888,\"#fdca26\"],[1.0,\"#f0f921\"]]},\"colorway\":[\"#636efa\",\"#EF553B\",\"#00cc96\",\"#ab63fa\",\"#FFA15A\",\"#19d3f3\",\"#FF6692\",\"#B6E880\",\"#FF97FF\",\"#FECB52\"],\"font\":{\"color\":\"#f2f5fa\"},\"geo\":{\"bgcolor\":\"rgb(17,17,17)\",\"lakecolor\":\"rgb(17,17,17)\",\"landcolor\":\"rgb(17,17,17)\",\"showlakes\":true,\"showland\":true,\"subunitcolor\":\"#506784\"},\"hoverlabel\":{\"align\":\"left\"},\"hovermode\":\"closest\",\"mapbox\":{\"style\":\"dark\"},\"paper_bgcolor\":\"rgb(17,17,17)\",\"plot_bgcolor\":\"rgb(17,17,17)\",\"polar\":{\"angularaxis\":{\"gridcolor\":\"#506784\",\"linecolor\":\"#506784\",\"ticks\":\"\"},\"bgcolor\":\"rgb(17,17,17)\",\"radialaxis\":{\"gridcolor\":\"#506784\",\"linecolor\":\"#506784\",\"ticks\":\"\"}},\"scene\":{\"xaxis\":{\"backgroundcolor\":\"rgb(17,17,17)\",\"gridcolor\":\"#506784\",\"gridwidth\":2,\"linecolor\":\"#506784\",\"showbackground\":true,\"ticks\":\"\",\"zerolinecolor\":\"#C8D4E3\"},\"yaxis\":{\"backgroundcolor\":\"rgb(17,17,17)\",\"gridcolor\":\"#506784\",\"gridwidth\":2,\"linecolor\":\"#506784\",\"showbackground\":true,\"ticks\":\"\",\"zerolinecolor\":\"#C8D4E3\"},\"zaxis\":{\"backgroundcolor\":\"rgb(17,17,17)\",\"gridcolor\":\"#506784\",\"gridwidth\":2,\"linecolor\":\"#506784\",\"showbackground\":true,\"ticks\":\"\",\"zerolinecolor\":\"#C8D4E3\"}},\"shapedefaults\":{\"line\":{\"color\":\"#f2f5fa\"}},\"sliderdefaults\":{\"bgcolor\":\"#C8D4E3\",\"bordercolor\":\"rgb(17,17,17)\",\"borderwidth\":1,\"tickwidth\":0},\"ternary\":{\"aaxis\":{\"gridcolor\":\"#506784\",\"linecolor\":\"#506784\",\"ticks\":\"\"},\"baxis\":{\"gridcolor\":\"#506784\",\"linecolor\":\"#506784\",\"ticks\":\"\"},\"bgcolor\":\"rgb(17,17,17)\",\"caxis\":{\"gridcolor\":\"#506784\",\"linecolor\":\"#506784\",\"ticks\":\"\"}},\"title\":{\"x\":0.05},\"updatemenudefaults\":{\"bgcolor\":\"#506784\",\"borderwidth\":0},\"xaxis\":{\"automargin\":true,\"gridcolor\":\"#283442\",\"linecolor\":\"#506784\",\"ticks\":\"\",\"title\":{\"standoff\":15},\"zerolinecolor\":\"#283442\",\"zerolinewidth\":2},\"yaxis\":{\"automargin\":true,\"gridcolor\":\"#283442\",\"linecolor\":\"#506784\",\"ticks\":\"\",\"title\":{\"standoff\":15},\"zerolinecolor\":\"#283442\",\"zerolinewidth\":2}}},\"xaxis\":{\"anchor\":\"y\",\"domain\":[0.0,1.0],\"matches\":\"x2\",\"showticklabels\":false,\"rangeslider\":{\"visible\":false}},\"yaxis\":{\"anchor\":\"x\",\"domain\":[0.32099999999999995,0.9999999999999999],\"title\":{\"text\":\"Price\"}},\"xaxis2\":{\"anchor\":\"y2\",\"domain\":[0.0,1.0]},\"yaxis2\":{\"anchor\":\"x2\",\"domain\":[0.0,0.291],\"title\":{\"text\":\"Volume\"}},\"title\":{\"text\":\"DOGE/USD Price and Volume\"},\"height\":800},                        {\"responsive\": true}                    ).then(function(){\n",
       "                            \n",
       "var gd = document.getElementById('935fd498-d651-48ef-ab2b-12d40a43068b');\n",
       "var x = new MutationObserver(function (mutations, observer) {{\n",
       "        var display = window.getComputedStyle(gd).display;\n",
       "        if (!display || display === 'none') {{\n",
       "            console.log([gd, 'removed!']);\n",
       "            Plotly.purge(gd);\n",
       "            observer.disconnect();\n",
       "        }}\n",
       "}});\n",
       "\n",
       "// Listen for the removal of the full notebook cells\n",
       "var notebookContainer = gd.closest('#notebook-container');\n",
       "if (notebookContainer) {{\n",
       "    x.observe(notebookContainer, {childList: true});\n",
       "}}\n",
       "\n",
       "// Listen for the clearing of the current output cell\n",
       "var outputEl = gd.closest('.output');\n",
       "if (outputEl) {{\n",
       "    x.observe(outputEl, {childList: true});\n",
       "}}\n",
       "\n",
       "                        })                };                });            </script>        </div>"
      ]
     },
     "metadata": {},
     "output_type": "display_data"
    },
    {
     "data": {
      "text/html": [
       "<div>\n",
       "<style scoped>\n",
       "    .dataframe tbody tr th:only-of-type {\n",
       "        vertical-align: middle;\n",
       "    }\n",
       "\n",
       "    .dataframe tbody tr th {\n",
       "        vertical-align: top;\n",
       "    }\n",
       "\n",
       "    .dataframe thead th {\n",
       "        text-align: right;\n",
       "    }\n",
       "</style>\n",
       "<table border=\"1\" class=\"dataframe\">\n",
       "  <thead>\n",
       "    <tr style=\"text-align: right;\">\n",
       "      <th></th>\n",
       "      <th>timestamp</th>\n",
       "      <th>symbol</th>\n",
       "      <th>open</th>\n",
       "      <th>high</th>\n",
       "      <th>low</th>\n",
       "      <th>close</th>\n",
       "      <th>volume</th>\n",
       "      <th>vwap</th>\n",
       "      <th>trades</th>\n",
       "      <th>tstart</th>\n",
       "      <th>ttrue</th>\n",
       "    </tr>\n",
       "  </thead>\n",
       "  <tbody>\n",
       "    <tr>\n",
       "      <th>0</th>\n",
       "      <td>2024-10-30T00:21:00.000000Z</td>\n",
       "      <td>BTC/USD</td>\n",
       "      <td>72375.0</td>\n",
       "      <td>72396.4</td>\n",
       "      <td>72368.0</td>\n",
       "      <td>72368.0</td>\n",
       "      <td>0.122587</td>\n",
       "      <td>72386.5</td>\n",
       "      <td>85</td>\n",
       "      <td>2024-10-30T00:20:00.000000000Z</td>\n",
       "      <td>2024-10-30T00:29:02.921971487Z</td>\n",
       "    </tr>\n",
       "    <tr>\n",
       "      <th>1</th>\n",
       "      <td>2024-10-30T00:22:00.000000Z</td>\n",
       "      <td>BTC/USD</td>\n",
       "      <td>72368.1</td>\n",
       "      <td>72400.0</td>\n",
       "      <td>72367.6</td>\n",
       "      <td>72384.5</td>\n",
       "      <td>0.274488</td>\n",
       "      <td>72379.2</td>\n",
       "      <td>39</td>\n",
       "      <td>2024-10-30T00:21:00.000000000Z</td>\n",
       "      <td>2024-10-30T00:29:02.921971487Z</td>\n",
       "    </tr>\n",
       "    <tr>\n",
       "      <th>2</th>\n",
       "      <td>2024-10-30T00:23:00.000000Z</td>\n",
       "      <td>BTC/USD</td>\n",
       "      <td>72384.6</td>\n",
       "      <td>72385.0</td>\n",
       "      <td>72369.8</td>\n",
       "      <td>72373.1</td>\n",
       "      <td>0.212518</td>\n",
       "      <td>72380.6</td>\n",
       "      <td>59</td>\n",
       "      <td>2024-10-30T00:22:00.000000000Z</td>\n",
       "      <td>2024-10-30T00:29:02.921971487Z</td>\n",
       "    </tr>\n",
       "    <tr>\n",
       "      <th>3</th>\n",
       "      <td>2024-10-30T00:24:00.000000Z</td>\n",
       "      <td>BTC/USD</td>\n",
       "      <td>72364.6</td>\n",
       "      <td>72364.6</td>\n",
       "      <td>72344.9</td>\n",
       "      <td>72352.4</td>\n",
       "      <td>2.175711</td>\n",
       "      <td>72346.7</td>\n",
       "      <td>37</td>\n",
       "      <td>2024-10-30T00:23:00.000000000Z</td>\n",
       "      <td>2024-10-30T00:29:02.921971487Z</td>\n",
       "    </tr>\n",
       "    <tr>\n",
       "      <th>4</th>\n",
       "      <td>2024-10-30T00:25:00.000000Z</td>\n",
       "      <td>BTC/USD</td>\n",
       "      <td>72347.6</td>\n",
       "      <td>72347.6</td>\n",
       "      <td>72337.7</td>\n",
       "      <td>72344.2</td>\n",
       "      <td>2.686447</td>\n",
       "      <td>72341.0</td>\n",
       "      <td>28</td>\n",
       "      <td>2024-10-30T00:24:00.000000000Z</td>\n",
       "      <td>2024-10-30T00:29:02.921971487Z</td>\n",
       "    </tr>\n",
       "  </tbody>\n",
       "</table>\n",
       "</div>"
      ],
      "text/plain": [
       "                     timestamp   symbol     open     high      low    close  \\\n",
       "0  2024-10-30T00:21:00.000000Z  BTC/USD  72375.0  72396.4  72368.0  72368.0   \n",
       "1  2024-10-30T00:22:00.000000Z  BTC/USD  72368.1  72400.0  72367.6  72384.5   \n",
       "2  2024-10-30T00:23:00.000000Z  BTC/USD  72384.6  72385.0  72369.8  72373.1   \n",
       "3  2024-10-30T00:24:00.000000Z  BTC/USD  72364.6  72364.6  72344.9  72352.4   \n",
       "4  2024-10-30T00:25:00.000000Z  BTC/USD  72347.6  72347.6  72337.7  72344.2   \n",
       "\n",
       "     volume     vwap  trades                          tstart  \\\n",
       "0  0.122587  72386.5      85  2024-10-30T00:20:00.000000000Z   \n",
       "1  0.274488  72379.2      39  2024-10-30T00:21:00.000000000Z   \n",
       "2  0.212518  72380.6      59  2024-10-30T00:22:00.000000000Z   \n",
       "3  2.175711  72346.7      37  2024-10-30T00:23:00.000000000Z   \n",
       "4  2.686447  72341.0      28  2024-10-30T00:24:00.000000000Z   \n",
       "\n",
       "                            ttrue  \n",
       "0  2024-10-30T00:29:02.921971487Z  \n",
       "1  2024-10-30T00:29:02.921971487Z  \n",
       "2  2024-10-30T00:29:02.921971487Z  \n",
       "3  2024-10-30T00:29:02.921971487Z  \n",
       "4  2024-10-30T00:29:02.921971487Z  "
      ]
     },
     "execution_count": 110,
     "metadata": {},
     "output_type": "execute_result"
    }
   ],
   "source": [
    "ohlcdf = pd.read_csv(f\"{data_dir}/OHLC.csv\")\n",
    "\n",
    "# Select only DOGE/USD\n",
    "dogedf = ohlcdf[ohlcdf[\"symbol\"] == \"DOGE/USD\"]\n",
    "\n",
    "# Groupby \n",
    "dogedf = dogedf.groupby(\"timestamp\").last().reset_index()\n",
    "\n",
    "\n",
    "# Create figure with secondary y-axis\n",
    "fig = make_subplots(rows=2, cols=1, shared_xaxes=True, \n",
    "                    vertical_spacing=0.03, \n",
    "                    row_heights=[0.7, 0.3])\n",
    "\n",
    "# Add candlestick chart\n",
    "fig.add_trace(go.Candlestick(x=dogedf['timestamp'],\n",
    "                            open=dogedf['open'],\n",
    "                            high=dogedf['high'],\n",
    "                            low=dogedf['low'],\n",
    "                            close=dogedf['close'],\n",
    "                            name='OHLC'),\n",
    "                            row=1, col=1)\n",
    "\n",
    "# Add volume bars\n",
    "fig.add_trace(go.Bar(x=dogedf['timestamp'],\n",
    "                     y=dogedf['volume'],\n",
    "                     name='Volume',\n",
    "                     marker_color='rgba(100,100,100,0.5)'),\n",
    "                     row=2, col=1)\n",
    "\n",
    "# Update layout\n",
    "fig.update_layout(\n",
    "    title='DOGE/USD Price and Volume',\n",
    "    yaxis_title='Price',\n",
    "    yaxis2_title='Volume',\n",
    "    template='plotly_dark',\n",
    "    xaxis_rangeslider_visible=False,  # Disable rangeslider\n",
    "    height=800  # Increase overall height of the figure\n",
    ")\n",
    "\n",
    "# Update y-axes labels\n",
    "fig.update_yaxes(title_text=\"Price\", row=1, col=1)\n",
    "fig.update_yaxes(title_text=\"Volume\", row=2, col=1)\n",
    "\n",
    "fig.show()\n",
    "ohlcdf.head()"
   ]
  },
  {
   "cell_type": "markdown",
   "metadata": {},
   "source": [
    "### Parsing the L1 Data:"
   ]
  },
  {
   "cell_type": "code",
   "execution_count": 11,
   "metadata": {},
   "outputs": [
    {
     "data": {
      "text/html": [
       "<div>\n",
       "<style scoped>\n",
       "    .dataframe tbody tr th:only-of-type {\n",
       "        vertical-align: middle;\n",
       "    }\n",
       "\n",
       "    .dataframe tbody tr th {\n",
       "        vertical-align: top;\n",
       "    }\n",
       "\n",
       "    .dataframe thead th {\n",
       "        text-align: right;\n",
       "    }\n",
       "</style>\n",
       "<table border=\"1\" class=\"dataframe\">\n",
       "  <thead>\n",
       "    <tr style=\"text-align: right;\">\n",
       "      <th></th>\n",
       "      <th>timestamp</th>\n",
       "      <th>symbol</th>\n",
       "      <th>bid</th>\n",
       "      <th>bid_qty</th>\n",
       "      <th>ask</th>\n",
       "      <th>ask_qty</th>\n",
       "      <th>last</th>\n",
       "      <th>volume</th>\n",
       "      <th>vwap</th>\n",
       "      <th>low</th>\n",
       "      <th>high</th>\n",
       "      <th>change</th>\n",
       "      <th>change_pct</th>\n",
       "    </tr>\n",
       "  </thead>\n",
       "  <tbody>\n",
       "    <tr>\n",
       "      <th>0</th>\n",
       "      <td>2024-10-29 18:08:10.456478</td>\n",
       "      <td>BTC/USD</td>\n",
       "      <td>72494.500000</td>\n",
       "      <td>0.048965</td>\n",
       "      <td>72494.600000</td>\n",
       "      <td>7.389896</td>\n",
       "      <td>72494.500000</td>\n",
       "      <td>3.120228e+03</td>\n",
       "      <td>71936.80000</td>\n",
       "      <td>69720.100000</td>\n",
       "      <td>73574.900000</td>\n",
       "      <td>2694.500000</td>\n",
       "      <td>3.86</td>\n",
       "    </tr>\n",
       "    <tr>\n",
       "      <th>1</th>\n",
       "      <td>2024-10-29 18:08:10.456717</td>\n",
       "      <td>DOGE/USD</td>\n",
       "      <td>0.175859</td>\n",
       "      <td>6075.000000</td>\n",
       "      <td>0.175923</td>\n",
       "      <td>4689.239751</td>\n",
       "      <td>0.175861</td>\n",
       "      <td>2.470833e+08</td>\n",
       "      <td>0.16981</td>\n",
       "      <td>0.160497</td>\n",
       "      <td>0.179604</td>\n",
       "      <td>0.015326</td>\n",
       "      <td>9.55</td>\n",
       "    </tr>\n",
       "    <tr>\n",
       "      <th>2</th>\n",
       "      <td>2024-10-29 18:08:11.705749</td>\n",
       "      <td>BTC/USD</td>\n",
       "      <td>72494.500000</td>\n",
       "      <td>0.069556</td>\n",
       "      <td>72494.600000</td>\n",
       "      <td>7.074932</td>\n",
       "      <td>72494.500000</td>\n",
       "      <td>3.120228e+03</td>\n",
       "      <td>71936.80000</td>\n",
       "      <td>69720.100000</td>\n",
       "      <td>73574.900000</td>\n",
       "      <td>2694.500000</td>\n",
       "      <td>3.86</td>\n",
       "    </tr>\n",
       "    <tr>\n",
       "      <th>3</th>\n",
       "      <td>2024-10-29 18:08:15.336034</td>\n",
       "      <td>BTC/USD</td>\n",
       "      <td>72494.500000</td>\n",
       "      <td>0.048865</td>\n",
       "      <td>72494.600000</td>\n",
       "      <td>4.669289</td>\n",
       "      <td>72494.600000</td>\n",
       "      <td>3.120228e+03</td>\n",
       "      <td>71936.80000</td>\n",
       "      <td>69720.100000</td>\n",
       "      <td>73574.900000</td>\n",
       "      <td>2696.300000</td>\n",
       "      <td>3.86</td>\n",
       "    </tr>\n",
       "    <tr>\n",
       "      <th>4</th>\n",
       "      <td>2024-10-29 18:08:26.074338</td>\n",
       "      <td>DOGE/USD</td>\n",
       "      <td>0.175923</td>\n",
       "      <td>182187.742448</td>\n",
       "      <td>0.176132</td>\n",
       "      <td>62.439185</td>\n",
       "      <td>0.175924</td>\n",
       "      <td>2.470831e+08</td>\n",
       "      <td>0.16981</td>\n",
       "      <td>0.160500</td>\n",
       "      <td>0.179604</td>\n",
       "      <td>0.015423</td>\n",
       "      <td>9.61</td>\n",
       "    </tr>\n",
       "  </tbody>\n",
       "</table>\n",
       "</div>"
      ],
      "text/plain": [
       "                    timestamp    symbol           bid        bid_qty  \\\n",
       "0  2024-10-29 18:08:10.456478   BTC/USD  72494.500000       0.048965   \n",
       "1  2024-10-29 18:08:10.456717  DOGE/USD      0.175859    6075.000000   \n",
       "2  2024-10-29 18:08:11.705749   BTC/USD  72494.500000       0.069556   \n",
       "3  2024-10-29 18:08:15.336034   BTC/USD  72494.500000       0.048865   \n",
       "4  2024-10-29 18:08:26.074338  DOGE/USD      0.175923  182187.742448   \n",
       "\n",
       "            ask      ask_qty          last        volume         vwap  \\\n",
       "0  72494.600000     7.389896  72494.500000  3.120228e+03  71936.80000   \n",
       "1      0.175923  4689.239751      0.175861  2.470833e+08      0.16981   \n",
       "2  72494.600000     7.074932  72494.500000  3.120228e+03  71936.80000   \n",
       "3  72494.600000     4.669289  72494.600000  3.120228e+03  71936.80000   \n",
       "4      0.176132    62.439185      0.175924  2.470831e+08      0.16981   \n",
       "\n",
       "            low          high       change  change_pct  \n",
       "0  69720.100000  73574.900000  2694.500000        3.86  \n",
       "1      0.160497      0.179604     0.015326        9.55  \n",
       "2  69720.100000  73574.900000  2694.500000        3.86  \n",
       "3  69720.100000  73574.900000  2696.300000        3.86  \n",
       "4      0.160500      0.179604     0.015423        9.61  "
      ]
     },
     "execution_count": 11,
     "metadata": {},
     "output_type": "execute_result"
    }
   ],
   "source": [
    "l1df = pd.read_csv(f\"{data_dir}/L1.csv\")\n",
    "l1df.head()"
   ]
  },
  {
   "cell_type": "markdown",
   "metadata": {},
   "source": [
    "### Parsing the L2 Data:\n",
    "\n",
    "1. If in `append_mode` the book is stored over time at the desire depth. There will be one file per symbol. Here we look at loading in the single symbol DOGE/USD. Note that the file name will be converted from QUOTE/BASE to QUOTE_BASE to avoid filesystem issues.\n",
    "\n",
    "These dataframes have columns ordered as follows, with `D` being the depth:\n",
    "\n",
    "`timestamp`, `ap0`, ...`apD`, `av0`, ...`avD`, `bp0`, ...`bpD`, `bv0`, ...`bvD`\n",
    "\n",
    "Where the notation is consistent with the following:\n",
    "\n",
    "`ap->ask_price`\n",
    "\n",
    " `av->ask_volume`\n",
    " \n",
    "  `bp->bid_price`\n",
    "  \n",
    "   `bv->bid_volume`\n"
   ]
  },
  {
   "cell_type": "code",
   "execution_count": 12,
   "metadata": {},
   "outputs": [
    {
     "data": {
      "text/html": [
       "<div>\n",
       "<style scoped>\n",
       "    .dataframe tbody tr th:only-of-type {\n",
       "        vertical-align: middle;\n",
       "    }\n",
       "\n",
       "    .dataframe tbody tr th {\n",
       "        vertical-align: top;\n",
       "    }\n",
       "\n",
       "    .dataframe thead th {\n",
       "        text-align: right;\n",
       "    }\n",
       "</style>\n",
       "<table border=\"1\" class=\"dataframe\">\n",
       "  <thead>\n",
       "    <tr style=\"text-align: right;\">\n",
       "      <th></th>\n",
       "      <th>timestamp</th>\n",
       "      <th>ap0</th>\n",
       "      <th>ap1</th>\n",
       "      <th>ap2</th>\n",
       "      <th>ap3</th>\n",
       "      <th>ap4</th>\n",
       "      <th>ap5</th>\n",
       "      <th>ap6</th>\n",
       "      <th>ap7</th>\n",
       "      <th>ap8</th>\n",
       "      <th>...</th>\n",
       "      <th>bv0</th>\n",
       "      <th>bv1</th>\n",
       "      <th>bv2</th>\n",
       "      <th>bv3</th>\n",
       "      <th>bv4</th>\n",
       "      <th>bv5</th>\n",
       "      <th>bv6</th>\n",
       "      <th>bv7</th>\n",
       "      <th>bv8</th>\n",
       "      <th>bv9</th>\n",
       "    </tr>\n",
       "  </thead>\n",
       "  <tbody>\n",
       "    <tr>\n",
       "      <th>0</th>\n",
       "      <td>2024-10-29T23:41:35.868941Z</td>\n",
       "      <td>0.175822</td>\n",
       "      <td>0.175822</td>\n",
       "      <td>0.175832</td>\n",
       "      <td>0.175844</td>\n",
       "      <td>0.175869</td>\n",
       "      <td>0.17587</td>\n",
       "      <td>0.175877</td>\n",
       "      <td>0.175878</td>\n",
       "      <td>0.175884</td>\n",
       "      <td>...</td>\n",
       "      <td>38.475545</td>\n",
       "      <td>3037.500000</td>\n",
       "      <td>9595.394211</td>\n",
       "      <td>4302.2</td>\n",
       "      <td>3037.5</td>\n",
       "      <td>4290.0</td>\n",
       "      <td>3037.500000</td>\n",
       "      <td>4802.233947</td>\n",
       "      <td>4302.2</td>\n",
       "      <td>3037.500000</td>\n",
       "    </tr>\n",
       "    <tr>\n",
       "      <th>1</th>\n",
       "      <td>2024-10-29T23:41:35.872777Z</td>\n",
       "      <td>0.175822</td>\n",
       "      <td>0.175822</td>\n",
       "      <td>0.175832</td>\n",
       "      <td>0.175844</td>\n",
       "      <td>0.175869</td>\n",
       "      <td>0.17587</td>\n",
       "      <td>0.175877</td>\n",
       "      <td>0.175878</td>\n",
       "      <td>0.175884</td>\n",
       "      <td>...</td>\n",
       "      <td>9633.869756</td>\n",
       "      <td>3037.500000</td>\n",
       "      <td>9595.394211</td>\n",
       "      <td>4302.2</td>\n",
       "      <td>3037.5</td>\n",
       "      <td>4290.0</td>\n",
       "      <td>3037.500000</td>\n",
       "      <td>4802.233947</td>\n",
       "      <td>4302.2</td>\n",
       "      <td>3037.500000</td>\n",
       "    </tr>\n",
       "    <tr>\n",
       "      <th>2</th>\n",
       "      <td>2024-10-29T23:41:35.874902Z</td>\n",
       "      <td>0.175822</td>\n",
       "      <td>0.175822</td>\n",
       "      <td>0.175832</td>\n",
       "      <td>0.175844</td>\n",
       "      <td>0.175869</td>\n",
       "      <td>0.17587</td>\n",
       "      <td>0.175877</td>\n",
       "      <td>0.175878</td>\n",
       "      <td>0.175884</td>\n",
       "      <td>...</td>\n",
       "      <td>9633.869756</td>\n",
       "      <td>3037.500000</td>\n",
       "      <td>9595.394211</td>\n",
       "      <td>4302.2</td>\n",
       "      <td>3037.5</td>\n",
       "      <td>4290.0</td>\n",
       "      <td>3037.500000</td>\n",
       "      <td>4802.233947</td>\n",
       "      <td>4302.2</td>\n",
       "      <td>3037.500000</td>\n",
       "    </tr>\n",
       "    <tr>\n",
       "      <th>3</th>\n",
       "      <td>2024-10-29T23:41:36.056382Z</td>\n",
       "      <td>0.175822</td>\n",
       "      <td>0.175822</td>\n",
       "      <td>0.175832</td>\n",
       "      <td>0.175844</td>\n",
       "      <td>0.175869</td>\n",
       "      <td>0.17587</td>\n",
       "      <td>0.175877</td>\n",
       "      <td>0.175878</td>\n",
       "      <td>0.175884</td>\n",
       "      <td>...</td>\n",
       "      <td>9633.869756</td>\n",
       "      <td>9595.394211</td>\n",
       "      <td>4302.200000</td>\n",
       "      <td>3037.5</td>\n",
       "      <td>4290.0</td>\n",
       "      <td>3037.5</td>\n",
       "      <td>4802.233947</td>\n",
       "      <td>4302.200000</td>\n",
       "      <td>3037.5</td>\n",
       "      <td>17397.527875</td>\n",
       "    </tr>\n",
       "    <tr>\n",
       "      <th>4</th>\n",
       "      <td>2024-10-29T23:41:36.059977Z</td>\n",
       "      <td>0.175822</td>\n",
       "      <td>0.175822</td>\n",
       "      <td>0.175832</td>\n",
       "      <td>0.175844</td>\n",
       "      <td>0.175869</td>\n",
       "      <td>0.17587</td>\n",
       "      <td>0.175877</td>\n",
       "      <td>0.175878</td>\n",
       "      <td>0.175884</td>\n",
       "      <td>...</td>\n",
       "      <td>38.475545</td>\n",
       "      <td>9595.394211</td>\n",
       "      <td>4302.200000</td>\n",
       "      <td>3037.5</td>\n",
       "      <td>4290.0</td>\n",
       "      <td>3037.5</td>\n",
       "      <td>4802.233947</td>\n",
       "      <td>4302.200000</td>\n",
       "      <td>3037.5</td>\n",
       "      <td>17397.527875</td>\n",
       "    </tr>\n",
       "  </tbody>\n",
       "</table>\n",
       "<p>5 rows × 41 columns</p>\n",
       "</div>"
      ],
      "text/plain": [
       "                     timestamp       ap0       ap1       ap2       ap3  \\\n",
       "0  2024-10-29T23:41:35.868941Z  0.175822  0.175822  0.175832  0.175844   \n",
       "1  2024-10-29T23:41:35.872777Z  0.175822  0.175822  0.175832  0.175844   \n",
       "2  2024-10-29T23:41:35.874902Z  0.175822  0.175822  0.175832  0.175844   \n",
       "3  2024-10-29T23:41:36.056382Z  0.175822  0.175822  0.175832  0.175844   \n",
       "4  2024-10-29T23:41:36.059977Z  0.175822  0.175822  0.175832  0.175844   \n",
       "\n",
       "        ap4      ap5       ap6       ap7       ap8  ...          bv0  \\\n",
       "0  0.175869  0.17587  0.175877  0.175878  0.175884  ...    38.475545   \n",
       "1  0.175869  0.17587  0.175877  0.175878  0.175884  ...  9633.869756   \n",
       "2  0.175869  0.17587  0.175877  0.175878  0.175884  ...  9633.869756   \n",
       "3  0.175869  0.17587  0.175877  0.175878  0.175884  ...  9633.869756   \n",
       "4  0.175869  0.17587  0.175877  0.175878  0.175884  ...    38.475545   \n",
       "\n",
       "           bv1          bv2     bv3     bv4     bv5          bv6          bv7  \\\n",
       "0  3037.500000  9595.394211  4302.2  3037.5  4290.0  3037.500000  4802.233947   \n",
       "1  3037.500000  9595.394211  4302.2  3037.5  4290.0  3037.500000  4802.233947   \n",
       "2  3037.500000  9595.394211  4302.2  3037.5  4290.0  3037.500000  4802.233947   \n",
       "3  9595.394211  4302.200000  3037.5  4290.0  3037.5  4802.233947  4302.200000   \n",
       "4  9595.394211  4302.200000  3037.5  4290.0  3037.5  4802.233947  4302.200000   \n",
       "\n",
       "      bv8           bv9  \n",
       "0  4302.2   3037.500000  \n",
       "1  4302.2   3037.500000  \n",
       "2  4302.2   3037.500000  \n",
       "3  3037.5  17397.527875  \n",
       "4  3037.5  17397.527875  \n",
       "\n",
       "[5 rows x 41 columns]"
      ]
     },
     "execution_count": 12,
     "metadata": {},
     "output_type": "execute_result"
    }
   ],
   "source": [
    "l2df = pd.read_csv(f\"{data_dir}/L2_DOGE_USD_orderbook.csv\") \n",
    "l2df.head()"
   ]
  },
  {
   "cell_type": "markdown",
   "metadata": {},
   "source": [
    "2. Regardless of whether or not in `append_mode`, the book at a given point will be stored in the `L2_live_orderbooks.json` file.\n",
    "\n",
    "These dictionaries have the following structure:\n",
    "\n",
    "```python\n",
    "data = {\n",
    "    symbol: {\n",
    "        b:{\n",
    "            price_level_0:volume_0,\n",
    "            ...\n",
    "            price_level_D:volume_D\n",
    "        },\n",
    "        a:{\n",
    "            ... \n",
    "        }\n",
    "    }\n",
    "}\n",
    "```"
   ]
  },
  {
   "cell_type": "code",
   "execution_count": 13,
   "metadata": {},
   "outputs": [
    {
     "name": "stdout",
     "output_type": "stream",
     "text": [
      "{'BTC/USD': {'bids': {'72693.7': 1.14088643, '72690.7': 0.4123544, '72686.6': 0.01588097, '72686.4': 0.39561, '72683.0': 0.0001, '72682.3': 0.25, '72679.4': 0.0001, '72679.3': 0.0032, '72679.2': 0.03005553, '72675.9': 0.00079973}, 'asks': {'72693.8': 0.0021, '72705.5': 0.0014778, '72709.0': 0.0408, '72709.7': 0.00138136, '72715.2': 0.00113373, '72716.2': 0.0063321, '72716.6': 0.212457, '72718.2': 0.03947498, '72719.3': 0.00028132, '72722.7': 0.00154524}}, 'DOGE/USD': {'bids': {'0.1758697': 2843.01389039, '0.1758403': 1933.24, '0.1758172': 47.89145721, '0.1758169': 3037.5, '0.1757959': 2247.72218181, '0.1757958': 6510.41045452, '0.1757957': 3037.5, '0.1757927': 3110.0, '0.1757851': 4172.9, '0.1757699': 3037.5}, 'asks': {'0.1758698': 12632.89421078, '0.1758817': 3037.5, '0.1758871': 4172.9, '0.1759002': 3037.5, '0.1759141': 3130.0, '0.1759177': 17807.85647346, '0.1759178': 3037.5, '0.175922': 4000.0, '0.1759244': 1057.10552419, '0.1759301': 2290.26024424}}}\n"
     ]
    }
   ],
   "source": [
    "with open(f\"{data_dir}/L2_live_orderbooks.json\", \"r\") as fil:\n",
    "    data = json.load(fil)\n",
    "\n",
    "print(data)"
   ]
  },
  {
   "cell_type": "markdown",
   "metadata": {},
   "source": [
    "### Parsing the Trades Data:\n",
    "\n",
    "Beware these also write to only one file even if multiple symbols are being traded. Be sure to select the relevant data from your DataFrame accordingly."
   ]
  },
  {
   "cell_type": "code",
   "execution_count": 113,
   "metadata": {},
   "outputs": [
    {
     "data": {
      "text/html": [
       "<div>\n",
       "<style scoped>\n",
       "    .dataframe tbody tr th:only-of-type {\n",
       "        vertical-align: middle;\n",
       "    }\n",
       "\n",
       "    .dataframe tbody tr th {\n",
       "        vertical-align: top;\n",
       "    }\n",
       "\n",
       "    .dataframe thead th {\n",
       "        text-align: right;\n",
       "    }\n",
       "</style>\n",
       "<table border=\"1\" class=\"dataframe\">\n",
       "  <thead>\n",
       "    <tr style=\"text-align: right;\">\n",
       "      <th></th>\n",
       "      <th>ts_event</th>\n",
       "      <th>symbol</th>\n",
       "      <th>price</th>\n",
       "      <th>qty</th>\n",
       "      <th>side</th>\n",
       "      <th>ord_type</th>\n",
       "      <th>trade_id</th>\n",
       "    </tr>\n",
       "  </thead>\n",
       "  <tbody>\n",
       "    <tr>\n",
       "      <th>0</th>\n",
       "      <td>2024-10-30T00:43:22.778845Z</td>\n",
       "      <td>BTC/USD</td>\n",
       "      <td>72178.2</td>\n",
       "      <td>0.000155</td>\n",
       "      <td>buy</td>\n",
       "      <td>limit</td>\n",
       "      <td>75084477</td>\n",
       "    </tr>\n",
       "    <tr>\n",
       "      <th>1</th>\n",
       "      <td>2024-10-30T00:43:22.780390Z</td>\n",
       "      <td>BTC/USD</td>\n",
       "      <td>72178.2</td>\n",
       "      <td>0.000155</td>\n",
       "      <td>buy</td>\n",
       "      <td>limit</td>\n",
       "      <td>75084478</td>\n",
       "    </tr>\n",
       "    <tr>\n",
       "      <th>2</th>\n",
       "      <td>2024-10-30T00:43:22.781595Z</td>\n",
       "      <td>BTC/USD</td>\n",
       "      <td>72178.2</td>\n",
       "      <td>0.000155</td>\n",
       "      <td>buy</td>\n",
       "      <td>limit</td>\n",
       "      <td>75084479</td>\n",
       "    </tr>\n",
       "    <tr>\n",
       "      <th>3</th>\n",
       "      <td>2024-10-30T00:43:22.783631Z</td>\n",
       "      <td>BTC/USD</td>\n",
       "      <td>72178.2</td>\n",
       "      <td>0.000155</td>\n",
       "      <td>buy</td>\n",
       "      <td>limit</td>\n",
       "      <td>75084480</td>\n",
       "    </tr>\n",
       "    <tr>\n",
       "      <th>4</th>\n",
       "      <td>2024-10-30T00:43:22.786578Z</td>\n",
       "      <td>BTC/USD</td>\n",
       "      <td>72178.2</td>\n",
       "      <td>0.000155</td>\n",
       "      <td>buy</td>\n",
       "      <td>limit</td>\n",
       "      <td>75084481</td>\n",
       "    </tr>\n",
       "  </tbody>\n",
       "</table>\n",
       "</div>"
      ],
      "text/plain": [
       "                      ts_event   symbol    price       qty side ord_type  \\\n",
       "0  2024-10-30T00:43:22.778845Z  BTC/USD  72178.2  0.000155  buy    limit   \n",
       "1  2024-10-30T00:43:22.780390Z  BTC/USD  72178.2  0.000155  buy    limit   \n",
       "2  2024-10-30T00:43:22.781595Z  BTC/USD  72178.2  0.000155  buy    limit   \n",
       "3  2024-10-30T00:43:22.783631Z  BTC/USD  72178.2  0.000155  buy    limit   \n",
       "4  2024-10-30T00:43:22.786578Z  BTC/USD  72178.2  0.000155  buy    limit   \n",
       "\n",
       "   trade_id  \n",
       "0  75084477  \n",
       "1  75084478  \n",
       "2  75084479  \n",
       "3  75084480  \n",
       "4  75084481  "
      ]
     },
     "execution_count": 113,
     "metadata": {},
     "output_type": "execute_result"
    }
   ],
   "source": [
    "tdf = pd.read_csv(f\"{data_dir}/trades.csv\")\n",
    "tdf.head()"
   ]
  },
  {
   "cell_type": "markdown",
   "metadata": {},
   "source": [
    "### Parsing the L3 data \n",
    "\n",
    "The columns here are self-explanatory, but below I give some basic examples of analyzing the basic properties of the stored data."
   ]
  },
  {
   "cell_type": "code",
   "execution_count": 132,
   "metadata": {},
   "outputs": [
    {
     "data": {
      "text/html": [
       "<div>\n",
       "<style scoped>\n",
       "    .dataframe tbody tr th:only-of-type {\n",
       "        vertical-align: middle;\n",
       "    }\n",
       "\n",
       "    .dataframe tbody tr th {\n",
       "        vertical-align: top;\n",
       "    }\n",
       "\n",
       "    .dataframe thead th {\n",
       "        text-align: right;\n",
       "    }\n",
       "</style>\n",
       "<table border=\"1\" class=\"dataframe\">\n",
       "  <thead>\n",
       "    <tr style=\"text-align: right;\">\n",
       "      <th></th>\n",
       "      <th>side</th>\n",
       "      <th>timestamp</th>\n",
       "      <th>price</th>\n",
       "      <th>size</th>\n",
       "      <th>event</th>\n",
       "      <th>order_id</th>\n",
       "      <th>symbol</th>\n",
       "    </tr>\n",
       "  </thead>\n",
       "  <tbody>\n",
       "    <tr>\n",
       "      <th>6</th>\n",
       "      <td>b</td>\n",
       "      <td>2024-10-29T23:53:46.305294966Z</td>\n",
       "      <td>0.175717</td>\n",
       "      <td>3037.500000</td>\n",
       "      <td>add</td>\n",
       "      <td>OVAJOQ-JTBU4-AVBYA7</td>\n",
       "      <td>DOGE/USD</td>\n",
       "    </tr>\n",
       "    <tr>\n",
       "      <th>37</th>\n",
       "      <td>b</td>\n",
       "      <td>2024-10-29T23:53:46.142479615Z</td>\n",
       "      <td>0.175707</td>\n",
       "      <td>41.438310</td>\n",
       "      <td>delete</td>\n",
       "      <td>OW42SE-MFP6Y-7B5U67</td>\n",
       "      <td>DOGE/USD</td>\n",
       "    </tr>\n",
       "    <tr>\n",
       "      <th>38</th>\n",
       "      <td>b</td>\n",
       "      <td>2024-10-29T23:53:45.968421413Z</td>\n",
       "      <td>0.175640</td>\n",
       "      <td>253.826405</td>\n",
       "      <td>add</td>\n",
       "      <td>OAXO4X-IM7HH-GUE6NP</td>\n",
       "      <td>DOGE/USD</td>\n",
       "    </tr>\n",
       "    <tr>\n",
       "      <th>39</th>\n",
       "      <td>b</td>\n",
       "      <td>2024-10-29T23:53:46.339076109Z</td>\n",
       "      <td>0.175640</td>\n",
       "      <td>41.800035</td>\n",
       "      <td>add</td>\n",
       "      <td>OW42SE-MFP6Y-7B5U67</td>\n",
       "      <td>DOGE/USD</td>\n",
       "    </tr>\n",
       "    <tr>\n",
       "      <th>40</th>\n",
       "      <td>b</td>\n",
       "      <td>2024-10-29T23:53:46.354018700Z</td>\n",
       "      <td>0.175717</td>\n",
       "      <td>3037.500000</td>\n",
       "      <td>delete</td>\n",
       "      <td>OVAJOQ-JTBU4-AVBYA7</td>\n",
       "      <td>DOGE/USD</td>\n",
       "    </tr>\n",
       "  </tbody>\n",
       "</table>\n",
       "</div>"
      ],
      "text/plain": [
       "   side                       timestamp     price         size   event  \\\n",
       "6     b  2024-10-29T23:53:46.305294966Z  0.175717  3037.500000     add   \n",
       "37    b  2024-10-29T23:53:46.142479615Z  0.175707    41.438310  delete   \n",
       "38    b  2024-10-29T23:53:45.968421413Z  0.175640   253.826405     add   \n",
       "39    b  2024-10-29T23:53:46.339076109Z  0.175640    41.800035     add   \n",
       "40    b  2024-10-29T23:53:46.354018700Z  0.175717  3037.500000  delete   \n",
       "\n",
       "               order_id    symbol  \n",
       "6   OVAJOQ-JTBU4-AVBYA7  DOGE/USD  \n",
       "37  OW42SE-MFP6Y-7B5U67  DOGE/USD  \n",
       "38  OAXO4X-IM7HH-GUE6NP  DOGE/USD  \n",
       "39  OW42SE-MFP6Y-7B5U67  DOGE/USD  \n",
       "40  OVAJOQ-JTBU4-AVBYA7  DOGE/USD  "
      ]
     },
     "execution_count": 132,
     "metadata": {},
     "output_type": "execute_result"
    }
   ],
   "source": [
    "l3df = pd.read_csv(f\"{data_dir}/L3_ticks.csv\")\n",
    "\n",
    "l3_doge = l3df[l3df[\"symbol\"] == \"DOGE/USD\"]\n",
    "\n",
    "l3_doge.head()"
   ]
  },
  {
   "cell_type": "code",
   "execution_count": 133,
   "metadata": {},
   "outputs": [
    {
     "data": {
      "text/plain": [
       "[]"
      ]
     },
     "execution_count": 133,
     "metadata": {},
     "output_type": "execute_result"
    },
    {
     "data": {
      "image/png": "[encoded data removed]",
      "text/plain": [
       "<Figure size 640x480 with 1 Axes>"
      ]
     },
     "metadata": {},
     "output_type": "display_data"
    }
   ],
   "source": [
    "sns.histplot(l3_doge[\"size\"], bins=40, kde=True)\n",
    "plt.title(\"Volume Histogram\")\n",
    "plt.xlabel(\"Volume\")\n",
    "plt.ylabel(\"Frequency\")\n",
    "plt.semilogy()"
   ]
  },
  {
   "cell_type": "code",
   "execution_count": 139,
   "metadata": {},
   "outputs": [
    {
     "data": {
      "text/plain": [
       "<Axes: xlabel='event'>"
      ]
     },
     "execution_count": 139,
     "metadata": {},
     "output_type": "execute_result"
    },
    {
     "data": {
      "image/png": "[encoded data removed]",
      "text/plain": [
       "<Figure size 640x480 with 1 Axes>"
      ]
     },
     "metadata": {},
     "output_type": "display_data"
    }
   ],
   "source": [
    "l3df[\"event\"].value_counts().plot(kind=\"bar\", edgecolor='k', linewidth=2)"
   ]
  },
  {
   "cell_type": "markdown",
   "metadata": {},
   "source": [
    "### End"
   ]
  },
  {
   "cell_type": "code",
   "execution_count": null,
   "metadata": {},
   "outputs": [],
   "source": []
  },
  {
   "cell_type": "code",
   "execution_count": null,
   "metadata": {},
   "outputs": [],
   "source": []
  },
  {
   "cell_type": "code",
   "execution_count": null,
   "metadata": {},
   "outputs": [],
   "source": []
  },
  {
   "cell_type": "code",
   "execution_count": null,
   "metadata": {},
   "outputs": [],
   "source": []
  }
 ],
 "metadata": {
  "kernelspec": {
   "display_name": "Python 3 (ipykernel)",
   "language": "python",
   "name": "python3"
  }
 },
 "nbformat": 4,
 "nbformat_minor": 2
}
