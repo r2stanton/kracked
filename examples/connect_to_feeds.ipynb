{
 "cells": [
  {
   "cell_type": "markdown",
   "metadata": {},
   "source": [
    "### Explain the overall framework\n",
    "\n",
    "\n",
    "\n",
    "# Explain the L3 feed specifically."
   ]
  },
  {
   "cell_type": "code",
   "execution_count": 13,
   "metadata": {},
   "outputs": [],
   "source": [
    "\n",
    "from kracked.feeds import KrakenL3, KrakenL2\n",
    "import toml, os\n",
    "\n",
    "with open(f\"/home/alg/.api.toml\", \"r\") as fil:\n",
    "    data = toml.load(fil)\n",
    "api_key = data['kraken_api']\n",
    "api_secret = data['kraken_sec']\n"
   ]
  },
  {
   "cell_type": "markdown",
   "metadata": {},
   "source": [
    "# Explain how to launch the L3 feed, and what output to expect."
   ]
  },
  {
   "cell_type": "code",
   "execution_count": 14,
   "metadata": {},
   "outputs": [],
   "source": [
    "if not os.path.exists(\"data/\"):\n",
    "    os.system(\"mkdir data\")\n",
    "l3feed = KrakenL3(\"BTC/USD\",\n",
    "                  api_key=api_key,\n",
    "                  secret_key=api_secret,\n",
    "                  trace=False,\n",
    "                  out_file_name='data/output.csv')\n",
    "\n",
    "# l3feed.launch()"
   ]
  },
  {
   "cell_type": "code",
   "execution_count": 15,
   "metadata": {},
   "outputs": [
    {
     "ename": "NameError",
     "evalue": "name 'l2feed' is not defined",
     "output_type": "error",
     "traceback": [
      "\u001b[0;31m---------------------------------------------------------------------------\u001b[0m",
      "\u001b[0;31mNameError\u001b[0m                                 Traceback (most recent call last)",
      "Cell \u001b[0;32mIn[15], line 1\u001b[0m\n\u001b[0;32m----> 1\u001b[0m \u001b[43ml2feed\u001b[49m\n",
      "\u001b[0;31mNameError\u001b[0m: name 'l2feed' is not defined"
     ]
    }
   ],
   "source": [
    "l2feed = KrakenL2(\"BTC/USD, \n",
    "                  api_key=api_key,\n",
    "                  secret_key=api_secret,\n",
    "                  depth=10,\n",
    "                  out_file_name=\"data/L2_output.csv\",\n",
    "                  log_bbo_every=200,\n",
    "                  log_every=10)"
   ]
  },
  {
   "cell_type": "code",
   "execution_count": null,
   "metadata": {},
   "outputs": [],
   "source": []
  }
 ],
 "metadata": {
  "kernelspec": {
   "display_name": "torch",
   "language": "python",
   "name": "python3"
  },
  "language_info": {
   "codemirror_mode": {
    "name": "ipython",
    "version": 3
   },
   "file_extension": ".py",
   "mimetype": "text/x-python",
   "name": "python",
   "nbconvert_exporter": "python",
   "pygments_lexer": "ipython3",
   "version": "3.10.13"
  }
 },
 "nbformat": 4,
 "nbformat_minor": 2
}
