{
 "cells": [
  {
   "cell_type": "code",
   "execution_count": 14,
   "metadata": {},
   "outputs": [
    {
     "name": "stderr",
     "output_type": "stream",
     "text": [
      "++Rcv raw: b'\\x81~\\x00\\xf6{\"channel\":\"level3\",\"type\":\"update\",\"data\":[{\"checksum\":2689645963,\"symbol\":\"BTC/USD\",\"bids\":[{\"event\":\"add\",\"order_id\":\"OAESWM-36V76-U5WCIA\",\"limit_price\":63111.0,\"order_qty\":3.96127153,\"timestamp\":\"2024-09-24T05:20:37.190223016Z\"}],\"asks\":[]}]}'\n"
     ]
    }
   ],
   "source": [
    "import websocket, json, threading, hashlib, toml\n",
    "import urllib.parse, hmac, base64, time, requests\n",
    "\n",
    "def get_kraken_signature(urlpath, data, secret):\n",
    "    # Encode dat for request into URL.\n",
    "    postdata = urllib.parse.urlencode(data)\n",
    "    encoded = (str(data['nonce']) + postdata).encode()\n",
    "    message = urlpath.encode() + hashlib.sha256(encoded).digest()\n",
    "    mac = hmac.new(base64.b64decode(secret), message, hashlib.sha512)\n",
    "    sigdigest = base64.b64encode(mac.digest())\n",
    "    return sigdigest.decode()\n",
    "\n",
    "def get_ws_token(api_key, api_secret):\n",
    "    url = \"https://api.kraken.com/0/private/GetWebSocketsToken\"\n",
    "    nonce = int(time.time() * 1000)\n",
    "    data = {\n",
    "        \"nonce\": nonce,\n",
    "    }\n",
    "    headers = {\n",
    "        \"API-Key\": api_key,\n",
    "        \"API-Sign\": get_kraken_signature(\"/0/private/GetWebSocketsToken\", data, api_secret)\n",
    "    }\n",
    "    response = requests.post(url, headers=headers, data=data)\n",
    "    if response.status_code == 200:\n",
    "        return response.json()['result']['token']\n",
    "    else:\n",
    "        raise Exception(f\"Failed to get WebSocket token: {response.text}\")\n",
    "\n",
    "\n",
    "def on_message(ws, message):\n",
    "    # print(type(message))\n",
    "    # print(f\"Received message: {message}\")\n",
    "    data = json.loads(message)\n",
    "    print(data)\n",
    "\n",
    "def on_error(ws, error):\n",
    "    print(f\"\\n===========================================\")\n",
    "    print(f\"===========Error: {error}=================\")\n",
    "    print(f\"===========================================\\n\")\n",
    "\n",
    "def on_close(ws, close_status_code, close_msg):\n",
    "    print(f\"\\n===========================================\")\n",
    "    print(\"========WebSocket connection closed======\")\n",
    "    print(f\"===========================================\\n\")\n",
    "def on_open(ws):\n",
    "    print(\"Kraken v2 Connection Opened.\")\n",
    "    \n",
    "    # Authentication\n",
    "    with open(\"/home/alg/.api.toml\", \"r\") as fil:\n",
    "        data = toml.load(fil)\n",
    "\n",
    "    api_key = data['kraken_api']\n",
    "    api_secret = data['kraken_sec']\n",
    "    ws_token = get_ws_token(api_key, api_secret)\n",
    "    \n",
    "    # auth_message = {\n",
    "        # \"event\": \"subscribe\",\n",
    "        # \"subscription\": {\n",
    "            # \"name\": \"ownTrades\",\n",
    "            # \"token\": ws_token\n",
    "        # }\n",
    "    # }\n",
    "    # ws.send(json.dumps(auth_message))\n",
    "    \n",
    "    # Subscribe to a public channel (e.g., ticker for BTC/USD)\n",
    "    subscription = {\n",
    "        \"method\": \"subscribe\",\n",
    "        \"params\": {\n",
    "            \"channel\": \"level3\",\n",
    "            \"symbol\": [\"BTC/USD\"],\n",
    "            \"token\": ws_token\n",
    "        }\n",
    "    }\n",
    "    ws.send(json.dumps(subscription))\n",
    "\n",
    "def run_websocket():\n",
    "    websocket.enableTrace(True)\n",
    "    conn = \"wss://ws.kraken.com/v2\"\n",
    "    conn = \"wss://ws-auth.kraken.com/v2\"\n",
    "    ws = websocket.WebSocketApp(conn,\n",
    "                                on_open=on_open,\n",
    "                                on_message=on_message,\n",
    "                                on_error=on_error,\n",
    "                                on_close=on_close)\n",
    "    \n",
    "    ws.run_forever()\n"
   ]
  },
  {
   "cell_type": "code",
   "execution_count": null,
   "metadata": {},
   "outputs": [],
   "source": []
  },
  {
   "cell_type": "code",
   "execution_count": 15,
   "metadata": {},
   "outputs": [
    {
     "name": "stderr",
     "output_type": "stream",
     "text": [
      "--- request header ---\n",
      "GET /v2 HTTP/1.1\n",
      "Upgrade: websocket\n",
      "Host: ws-auth.kraken.com\n",
      "Origin: https://ws-auth.kraken.com\n",
      "Sec-WebSocket-Key: RPg0UR3vomvK1QRuFhGrdA==\n",
      "Sec-WebSocket-Version: 13\n",
      "Connection: Upgrade\n",
      "Cookie: __cf_bm=aehmEqzh1Fuz1ssZs.w2gWGP9tQThh3ce.fewIyQMLI-1727154993-1.0.1.1-qzJCX3ecxJN1qukrTYrNFSL8qJ_bmm2vJdpWtw87bqBV570LccOa0KO9qYDVqgU5wsvHk7LZSlOvrywS1GYbRQ; _cfuvid=_sVor2rNjDN8qpG89I4BiB4ctl_a9J.NXx7ZDGWDOJc-1727154993009-0.0.1.1-604800000\n",
      "\n",
      "\n",
      "-----------------------\n",
      "--- response header ---\n",
      "HTTP/1.1 101 Switching Protocols\n",
      "Date: Tue, 24 Sep 2024 05:20:18 GMT\n",
      "Connection: upgrade\n",
      "upgrade: websocket\n",
      "sec-websocket-accept: s3YFcf8S3vuwbYEQk1JUwVjee+s=\n",
      "CF-Cache-Status: DYNAMIC\n",
      "Strict-Transport-Security: max-age=31536000; includeSubDomains; preload\n",
      "X-Content-Type-Options: nosniff\n",
      "Server: cloudflare\n",
      "CF-RAY: 8c80530b7908799f-DEN\n",
      "-----------------------\n",
      "Websocket connected\n"
     ]
    },
    {
     "name": "stdout",
     "output_type": "stream",
     "text": [
      "Kraken v2 Connection Opened.\n"
     ]
    },
    {
     "name": "stderr",
     "output_type": "stream",
     "text": [
      "++Sent raw: b'\\x81\\xfe\\x00\\x87\"N\\x12\\x93Yl\\x7f\\xf6V&}\\xf7\\x00t2\\xb1Q;p\\xe0A<{\\xf1Gl>\\xb3\\x00>s\\xe1C#a\\xb1\\x18ni\\xb1A&s\\xfdL+~\\xb1\\x18n0\\xffG8w\\xff\\x11l>\\xb3\\x00=k\\xfe@!~\\xb1\\x18nI\\xb1`\\x1aQ\\xbcw\\x1dV\\xb1\\x7fb2\\xb1V!y\\xf6Ll(\\xb3\\x00!^\\xc4m=!\\xf1\\t(d\\xdaj\\x05D\\xddL\\x08y\\xf5e{`\\xf0d)^\\xfeG\\x18{\\xea\\x15-y\\xa0t&k\\xc6d\\x1b}\\xa7\\x003o'\n",
      "++Sent decoded: fin=1 opcode=1 data=b'{\"method\": \"subscribe\", \"params\": {\"channel\": \"level3\", \"symbol\": [\"BTC/USD\"], \"token\": \"oLWOs3b+fvIHKVNnFkfG5rcFgLmeViy7ck3VhyUFUo4\"}}'\n",
      "++Rcv raw: b'\\x81~\\x00\\x8b{\"channel\":\"status\",\"data\":[{\"api_version\":\"v2\",\"connection_id\":13469703312155409151,\"system\":\"online\",\"version\":\"2.0.8\"}],\"type\":\"update\"}'\n",
      "++Rcv decoded: fin=1 opcode=1 data=b'{\"channel\":\"status\",\"data\":[{\"api_version\":\"v2\",\"connection_id\":13469703312155409151,\"system\":\"online\",\"version\":\"2.0.8\"}],\"type\":\"update\"}'\n",
      "++Rcv raw: b'\\x81~\\x00\\xb7{\"method\":\"subscribe\",\"result\":{\"channel\":\"level3\",\"snapshot\":true,\"symbol\":\"BTC/USD\"},\"success\":true,\"time_in\":\"2024-09-24T05:20:19.052512Z\",\"time_out\":\"2024-09-24T05:20:19.059858Z\"}'\n",
      "++Rcv decoded: fin=1 opcode=1 data=b'{\"method\":\"subscribe\",\"result\":{\"channel\":\"level3\",\"snapshot\":true,\"symbol\":\"BTC/USD\"},\"success\":true,\"time_in\":\"2024-09-24T05:20:19.052512Z\",\"time_out\":\"2024-09-24T05:20:19.059858Z\"}'\n"
     ]
    },
    {
     "name": "stdout",
     "output_type": "stream",
     "text": [
      "{'channel': 'status', 'data': [{'api_version': 'v2', 'connection_id': 13469703312155409151, 'system': 'online', 'version': '2.0.8'}], 'type': 'update'}\n",
      "{'method': 'subscribe', 'result': {'channel': 'level3', 'snapshot': True, 'symbol': 'BTC/USD'}, 'success': True, 'time_in': '2024-09-24T05:20:19.052512Z', 'time_out': '2024-09-24T05:20:19.059858Z'}\n"
     ]
    },
    {
     "name": "stderr",
     "output_type": "stream",
     "text": [
      "++Rcv raw: b'\\x81~\\x19\\xd1{\"channel\":\"level3\",\"type\":\"snapshot\",\"data\": [{\"symbol\":\"BTC/USD\",\"checksum\":4061653184,\"bids\":[{\"order_id\":\"OL35PK-5U2PH-H3ZH3V\",\"limit_price\":63125.8,\"order_qty\":0.10000000,\"timestamp\":\"2024-09-24T05:18:36.191436421Z\"},{\"order_id\":\"O727JF-3XQUX-NCE6EL\",\"limit_price\":63125.8,\"order_qty\":0.20000000,\"timestamp\":\"2024-09-24T05:18:36.191674373Z\"},{\"order_id\":\"OFJD62-HPBDZ-T7IAVB\",\"limit_price\":63125.8,\"order_qty\":0.14603000,\"timestamp\":\"2024-09-24T05:18:36.193209346Z\"},{\"order_id\":\"O7FA2F-3FFD2-KLF2V3\",\"limit_price\":63125.8,\"order_qty\":0.20000000,\"timestamp\":\"2024-09-24T05:18:36.193577725Z\"},{\"order_id\":\"OXPFDJ-OWOMB-GXZJD6\",\"limit_price\":63125.8,\"order_qty\":0.40000000,\"timestamp\":\"2024-09-24T05:18:36.193595265Z\"},{\"order_id\":\"OQIUDW-2NWLF-EIMWS5\",\"limit_price\":63125.8,\"order_qty\":0.20000000,\"timestamp\":\"2024-09-24T05:18:36.193665930Z\"},{\"order_id\":\"O7M5D7-GSULO-K35NHE\",\"limit_price\":63125.8,\"order_qty\":0.90000000,\"timestamp\":\"2024-09-24T05:18:37.420395591Z\"},{\"order_id\":\"O3QR4Z-FJMM5-AZAVRB\",\"limit_price\":63125.8,\"order_qty\":2.97300000,\"timestamp\":\"2024-09-24T05:19:52.621522608Z\"},{\"order_id\":\"OVDLOY-EFIWB-A4SGLD\",\"limit_price\":63125.8,\"order_qty\":0.00194497,\"timestamp\":\"2024-09-24T05:19:53.344530512Z\"},{\"order_id\":\"OZNP2L-R5PAM-5UXUQ7\",\"limit_price\":63125.8,\"order_qty\":0.40000000,\"timestamp\":\"2024-09-24T05:19:53.944870978Z\"},{\"order_id\":\"OENJ7B-QAKHY-LSN2FA\",\"limit_price\":63125.8,\"order_qty\":0.00200000,\"timestamp\":\"2024-09-24T05:20:12.907445945Z\"},{\"order_id\":\"OL3BME-RT2CU-KFQO5E\",\"limit_price\":63125.8,\"order_qty\":0.01690505,\"timestamp\":\"2024-09-24T05:20:16.410843854Z\"},{\"order_id\":\"OMTFHV-CGXRW-VNDYWA\",\"limit_price\":63125.6,\"order_qty\":3.96035416,\"timestamp\":\"2024-09-24T05:20:19.483534671Z\"},{\"order_id\":\"OHUYD7-KXRH5-I2XNV4\",\"limit_price\":63125.0,\"order_qty\":0.00010000,\"timestamp\":\"2024-09-24T05:13:30.934455945Z\"},{\"order_id\":\"OJ2X7O-MCQGM-4ZQKIG\",\"limit_price\":63124.3,\"order_qty\":3.96043567,\"timestamp\":\"2024-09-24T05:20:15.703315398Z\"},{\"order_id\":\"OD7QX3-KN2V7-J6IBRU\",\"limit_price\":63123.4,\"order_qty\":0.00787233,\"timestamp\":\"2024-09-24T05:20:16.880113670Z\"},{\"order_id\":\"O6MH2I-WV422-HCND4N\",\"limit_price\":63123.0,\"order_qty\":0.13452308,\"timestamp\":\"2024-09-24T05:20:16.597724093Z\"},{\"order_id\":\"OEV5EU-ND7FG-OANJWL\",\"limit_price\":63120.8,\"order_qty\":0.00010000,\"timestamp\":\"2024-09-24T05:12:08.673809858Z\"},{\"order_id\":\"OLCAUL-FXJ2F-J6MYJA\",\"limit_price\":63120.8,\"order_qty\":0.00010000,\"timestamp\":\"2024-09-24T05:13:32.050603930Z\"},{\"order_id\":\"OC6OQ7-KFKY3-CBEVJK\",\"limit_price\":63120.8,\"order_qty\":0.00010000,\"timestamp\":\"2024-09-24T05:14:55.367811766Z\"},{\"order_id\":\"ORS5B7-C4CXV-ODDAB7\",\"limit_price\":63120.8,\"order_qty\":0.00010000,\"timestamp\":\"2024-09-24T05:16:18.681082541Z\"},{\"order_id\":\"O6COZC-5FEDU-WWJHRP\",\"limit_price\":63120.8,\"order_qty\":0.00010000,\"timestamp\":\"2024-09-24T05:17:42.030090773Z\"},{\"order_id\":\"OY2PFU-JIJUP-KNHNB4\",\"limit_price\":63120.8,\"order_qty\":0.00010000,\"timestamp\":\"2024-09-24T05:19:05.659945014Z\"},{\"order_id\":\"OLNAIX-2JXZK-7J2Q5Y\",\"limit_price\":63120.8,\"order_qty\":3.96065401,\"timestamp\":\"2024-09-24T05:20:15.703271068Z\"},{\"order_id\":\"O7HD4P-K3V2Z-DHDXOL\",\"limit_price\":63120.1,\"order_qty\":0.30951412,\"timestamp\":\"2024-09-24T05:20:16.162361583Z\"},{\"order_id\":\"OKTC42-ZADKS-IDGITF\",\"limit_price\":63120.0,\"order_qty\":0.00158428,\"timestamp\":\"2024-09-24T05:18:30.341425389Z\"},{\"order_id\":\"OAW7HX-DJZET-VAUTM3\",\"limit_price\":63118.1,\"order_qty\":0.06000000,\"timestamp\":\"2024-09-24T05:20:18.976523105Z\"}],\"asks\":[{\"order_id\":\"O62TUY-KFGON-6URV3K\",\"limit_price\":63125.9,\"order_qty\":0.17717817,\"timestamp\":\"2024-09-24T05:08:36.053396747Z\"},{\"order_id\":\"OD2R3X-BJL5J-BDIWQZ\",\"limit_price\":63125.9,\"order_qty\":0.00100000,\"timestamp\":\"2024-09-24T05:11:22.025024161Z\"},{\"order_id\":\"OJRLR4-UAPNA-E5GHYU\",\"limit_price\":63125.9,\"order_qty\":0.00100000,\"timestamp\":\"2024-09-24T05:11:23.026495709Z\"},{\"order_id\":\"OKWOB6-5RK7T-NG7B3G\",\"limit_price\":63125.9,\"order_qty\":0.01000000,\"timestamp\":\"2024-09-24T05:11:52.883483674Z\"},{\"order_id\":\"OXL5QB-E6HZF-ARBRUW\",\"limit_price\":63125.9,\"order_qty\":0.06527674,\"timestamp\":\"2024-09-24T05:12:50.867282852Z\"},{\"order_id\":\"ONIWBU-DHYUU-PSPAEQ\",\"limit_price\":63125.9,\"order_qty\":0.10000000,\"timestamp\":\"2024-09-24T05:20:12.889360443Z\"},{\"order_id\":\"OIGVUV-AQYCF-4QCV2T\",\"limit_price\":63125.9,\"order_qty\":0.20000000,\"timestamp\":\"2024-09-24T05:20:12.889756646Z\"},{\"order_id\":\"OIUVIG-DG4TB-ITS77N\",\"limit_price\":63125.9,\"order_qty\":0.40000000,\"timestamp\":\"2024-09-24T05:20:12.890217990Z\"},{\"order_id\":\"ONOREW-3BLYP-AP4WXN\",\"limit_price\":63125.9,\"order_qty\":0.20000000,\"timestamp\":\"2024-09-24T05:20:12.890565513Z\"},{\"order_id\":\"OZUOZM-VUMOL-53EJEV\",\"limit_price\":63125.9,\"order_qty\":0.40000000,\"timestamp\":\"2024-09-24T05:20:12.898803488Z\"},{\"order_id\":\"OD3HZ7-GVXPK-5P75MN\",\"limit_price\":63125.9,\"order_qty\":0.20000000,\"timestamp\":\"2024-09-24T05:20:12.899084967Z\"},{\"order_id\":\"OESMGK-VSSIS-4RKDWA\",\"limit_price\":63125.9,\"order_qty\":0.40000000,\"timestamp\":\"2024-09-24T05:20:12.899167217Z\"},{\"order_id\":\"OFTVPA-K3EMR-QZA43H\",\"limit_price\":63125.9,\"order_qty\":0.01516411,\"timestamp\":\"2024-09-24T05:20:13.022050888Z\"},{\"order_id\":\"OBLXT3-CFUHS-KPTWLE\",\"limit_price\":63125.9,\"order_qty\":0.00022765,\"timestamp\":\"2024-09-24T05:20:14.515232503Z\"},{\"order_id\":\"OBQUBF-FIVTL-STQBV2\",\"limit_price\":63125.9,\"order_qty\":0.03168271,\"timestamp\":\"2024-09-24T05:20:15.657514895Z\"},{\"order_id\":\"O64KA4-4KYQV-3RUQDR\",\"limit_price\":63126.0,\"order_qty\":0.01346513,\"timestamp\":\"2024-09-24T05:14:21.378629274Z\"},{\"order_id\":\"OQ6AOW-DMAS5-UWUK2Z\",\"limit_price\":63129.2,\"order_qty\":3.96013415,\"timestamp\":\"2024-09-24T05:20:19.394335420Z\"},{\"order_id\":\"OSNACP-HN7VX-NVTBXY\",\"limit_price\":63129.8,\"order_qty\":0.59000000,\"timestamp\":\"2024-09-24T05:20:15.846262770Z\"},{\"order_id\":\"OOH2FY-LNBM5-U5E6BE\",\"limit_price\":63130.7,\"order_qty\":0.01000000,\"timestamp\":\"2024-09-24T05:11:22.292743420Z\"},{\"order_id\":\"OOS5GD-Y6MMX-5YWYSD\",\"limit_price\":63130.9,\"order_qty\":0.00015853,\"timestamp\":\"2024-09-24T05:07:16.777946999Z\"},{\"order_id\":\"O6VUKV-ZZOFS-D5PQ35\",\"limit_price\":63130.9,\"order_qty\":3.96003108,\"timestamp\":\"2024-09-24T05:20:16.072746234Z\"},{\"order_id\":\"OQDJQG-O47NR-O4HPAF\",\"limit_price\":63131.1,\"order_qty\":0.00010000,\"timestamp\":\"2024-09-24T05:20:18.498267234Z\"},{\"order_id\":\"OL6Z6V-VJR3X-YHA4VW\",\"limit_price\":63132.0,\"order_qty\":0.03730000,\"timestamp\":\"2024-09-24T05:20:12.695482003Z\"},{\"order_id\":\"O3PF7P-FIANT-3OF6EX\",\"limit_price\":63132.3,\"order_qty\":0.46870000,\"timestamp\":\"2024-09-24T05:20:12.895482418Z\"},{\"order_id\":\"OKWBJO-57ZCN-ESFN5W\",\"limit_price\":63134.0,\"order_qty\":0.00015865,\"timestamp\":\"2024-09-24T05:00:50.764166862Z\"}]}]}'\n",
      "++Rcv decoded: fin=1 opcode=1 data=b'{\"channel\":\"level3\",\"type\":\"snapshot\",\"data\": [{\"symbol\":\"BTC/USD\",\"checksum\":4061653184,\"bids\":[{\"order_id\":\"OL35PK-5U2PH-H3ZH3V\",\"limit_price\":63125.8,\"order_qty\":0.10000000,\"timestamp\":\"2024-09-24T05:18:36.191436421Z\"},{\"order_id\":\"O727JF-3XQUX-NCE6EL\",\"limit_price\":63125.8,\"order_qty\":0.20000000,\"timestamp\":\"2024-09-24T05:18:36.191674373Z\"},{\"order_id\":\"OFJD62-HPBDZ-T7IAVB\",\"limit_price\":63125.8,\"order_qty\":0.14603000,\"timestamp\":\"2024-09-24T05:18:36.193209346Z\"},{\"order_id\":\"O7FA2F-3FFD2-KLF2V3\",\"limit_price\":63125.8,\"order_qty\":0.20000000,\"timestamp\":\"2024-09-24T05:18:36.193577725Z\"},{\"order_id\":\"OXPFDJ-OWOMB-GXZJD6\",\"limit_price\":63125.8,\"order_qty\":0.40000000,\"timestamp\":\"2024-09-24T05:18:36.193595265Z\"},{\"order_id\":\"OQIUDW-2NWLF-EIMWS5\",\"limit_price\":63125.8,\"order_qty\":0.20000000,\"timestamp\":\"2024-09-24T05:18:36.193665930Z\"},{\"order_id\":\"O7M5D7-GSULO-K35NHE\",\"limit_price\":63125.8,\"order_qty\":0.90000000,\"timestamp\":\"2024-09-24T05:18:37.420395591Z\"},{\"order_id\":\"O3QR4Z-FJMM5-AZAVRB\",\"limit_price\":63125.8,\"order_qty\":2.97300000,\"timestamp\":\"2024-09-24T05:19:52.621522608Z\"},{\"order_id\":\"OVDLOY-EFIWB-A4SGLD\",\"limit_price\":63125.8,\"order_qty\":0.00194497,\"timestamp\":\"2024-09-24T05:19:53.344530512Z\"},{\"order_id\":\"OZNP2L-R5PAM-5UXUQ7\",\"limit_price\":63125.8,\"order_qty\":0.40000000,\"timestamp\":\"2024-09-24T05:19:53.944870978Z\"},{\"order_id\":\"OENJ7B-QAKHY-LSN2FA\",\"limit_price\":63125.8,\"order_qty\":0.00200000,\"timestamp\":\"2024-09-24T05:20:12.907445945Z\"},{\"order_id\":\"OL3BME-RT2CU-KFQO5E\",\"limit_price\":63125.8,\"order_qty\":0.01690505,\"timestamp\":\"2024-09-24T05:20:16.410843854Z\"},{\"order_id\":\"OMTFHV-CGXRW-VNDYWA\",\"limit_price\":63125.6,\"order_qty\":3.96035416,\"timestamp\":\"2024-09-24T05:20:19.483534671Z\"},{\"order_id\":\"OHUYD7-KXRH5-I2XNV4\",\"limit_price\":63125.0,\"order_qty\":0.00010000,\"timestamp\":\"2024-09-24T05:13:30.934455945Z\"},{\"order_id\":\"OJ2X7O-MCQGM-4ZQKIG\",\"limit_price\":63124.3,\"order_qty\":3.96043567,\"timestamp\":\"2024-09-24T05:20:15.703315398Z\"},{\"order_id\":\"OD7QX3-KN2V7-J6IBRU\",\"limit_price\":63123.4,\"order_qty\":0.00787233,\"timestamp\":\"2024-09-24T05:20:16.880113670Z\"},{\"order_id\":\"O6MH2I-WV422-HCND4N\",\"limit_price\":63123.0,\"order_qty\":0.13452308,\"timestamp\":\"2024-09-24T05:20:16.597724093Z\"},{\"order_id\":\"OEV5EU-ND7FG-OANJWL\",\"limit_price\":63120.8,\"order_qty\":0.00010000,\"timestamp\":\"2024-09-24T05:12:08.673809858Z\"},{\"order_id\":\"OLCAUL-FXJ2F-J6MYJA\",\"limit_price\":63120.8,\"order_qty\":0.00010000,\"timestamp\":\"2024-09-24T05:13:32.050603930Z\"},{\"order_id\":\"OC6OQ7-KFKY3-CBEVJK\",\"limit_price\":63120.8,\"order_qty\":0.00010000,\"timestamp\":\"2024-09-24T05:14:55.367811766Z\"},{\"order_id\":\"ORS5B7-C4CXV-ODDAB7\",\"limit_price\":63120.8,\"order_qty\":0.00010000,\"timestamp\":\"2024-09-24T05:16:18.681082541Z\"},{\"order_id\":\"O6COZC-5FEDU-WWJHRP\",\"limit_price\":63120.8,\"order_qty\":0.00010000,\"timestamp\":\"2024-09-24T05:17:42.030090773Z\"},{\"order_id\":\"OY2PFU-JIJUP-KNHNB4\",\"limit_price\":63120.8,\"order_qty\":0.00010000,\"timestamp\":\"2024-09-24T05:19:05.659945014Z\"},{\"order_id\":\"OLNAIX-2JXZK-7J2Q5Y\",\"limit_price\":63120.8,\"order_qty\":3.96065401,\"timestamp\":\"2024-09-24T05:20:15.703271068Z\"},{\"order_id\":\"O7HD4P-K3V2Z-DHDXOL\",\"limit_price\":63120.1,\"order_qty\":0.30951412,\"timestamp\":\"2024-09-24T05:20:16.162361583Z\"},{\"order_id\":\"OKTC42-ZADKS-IDGITF\",\"limit_price\":63120.0,\"order_qty\":0.00158428,\"timestamp\":\"2024-09-24T05:18:30.341425389Z\"},{\"order_id\":\"OAW7HX-DJZET-VAUTM3\",\"limit_price\":63118.1,\"order_qty\":0.06000000,\"timestamp\":\"2024-09-24T05:20:18.976523105Z\"}],\"asks\":[{\"order_id\":\"O62TUY-KFGON-6URV3K\",\"limit_price\":63125.9,\"order_qty\":0.17717817,\"timestamp\":\"2024-09-24T05:08:36.053396747Z\"},{\"order_id\":\"OD2R3X-BJL5J-BDIWQZ\",\"limit_price\":63125.9,\"order_qty\":0.00100000,\"timestamp\":\"2024-09-24T05:11:22.025024161Z\"},{\"order_id\":\"OJRLR4-UAPNA-E5GHYU\",\"limit_price\":63125.9,\"order_qty\":0.00100000,\"timestamp\":\"2024-09-24T05:11:23.026495709Z\"},{\"order_id\":\"OKWOB6-5RK7T-NG7B3G\",\"limit_price\":63125.9,\"order_qty\":0.01000000,\"timestamp\":\"2024-09-24T05:11:52.883483674Z\"},{\"order_id\":\"OXL5QB-E6HZF-ARBRUW\",\"limit_price\":63125.9,\"order_qty\":0.06527674,\"timestamp\":\"2024-09-24T05:12:50.867282852Z\"},{\"order_id\":\"ONIWBU-DHYUU-PSPAEQ\",\"limit_price\":63125.9,\"order_qty\":0.10000000,\"timestamp\":\"2024-09-24T05:20:12.889360443Z\"},{\"order_id\":\"OIGVUV-AQYCF-4QCV2T\",\"limit_price\":63125.9,\"order_qty\":0.20000000,\"timestamp\":\"2024-09-24T05:20:12.889756646Z\"},{\"order_id\":\"OIUVIG-DG4TB-ITS77N\",\"limit_price\":63125.9,\"order_qty\":0.40000000,\"timestamp\":\"2024-09-24T05:20:12.890217990Z\"},{\"order_id\":\"ONOREW-3BLYP-AP4WXN\",\"limit_price\":63125.9,\"order_qty\":0.20000000,\"timestamp\":\"2024-09-24T05:20:12.890565513Z\"},{\"order_id\":\"OZUOZM-VUMOL-53EJEV\",\"limit_price\":63125.9,\"order_qty\":0.40000000,\"timestamp\":\"2024-09-24T05:20:12.898803488Z\"},{\"order_id\":\"OD3HZ7-GVXPK-5P75MN\",\"limit_price\":63125.9,\"order_qty\":0.20000000,\"timestamp\":\"2024-09-24T05:20:12.899084967Z\"},{\"order_id\":\"OESMGK-VSSIS-4RKDWA\",\"limit_price\":63125.9,\"order_qty\":0.40000000,\"timestamp\":\"2024-09-24T05:20:12.899167217Z\"},{\"order_id\":\"OFTVPA-K3EMR-QZA43H\",\"limit_price\":63125.9,\"order_qty\":0.01516411,\"timestamp\":\"2024-09-24T05:20:13.022050888Z\"},{\"order_id\":\"OBLXT3-CFUHS-KPTWLE\",\"limit_price\":63125.9,\"order_qty\":0.00022765,\"timestamp\":\"2024-09-24T05:20:14.515232503Z\"},{\"order_id\":\"OBQUBF-FIVTL-STQBV2\",\"limit_price\":63125.9,\"order_qty\":0.03168271,\"timestamp\":\"2024-09-24T05:20:15.657514895Z\"},{\"order_id\":\"O64KA4-4KYQV-3RUQDR\",\"limit_price\":63126.0,\"order_qty\":0.01346513,\"timestamp\":\"2024-09-24T05:14:21.378629274Z\"},{\"order_id\":\"OQ6AOW-DMAS5-UWUK2Z\",\"limit_price\":63129.2,\"order_qty\":3.96013415,\"timestamp\":\"2024-09-24T05:20:19.394335420Z\"},{\"order_id\":\"OSNACP-HN7VX-NVTBXY\",\"limit_price\":63129.8,\"order_qty\":0.59000000,\"timestamp\":\"2024-09-24T05:20:15.846262770Z\"},{\"order_id\":\"OOH2FY-LNBM5-U5E6BE\",\"limit_price\":63130.7,\"order_qty\":0.01000000,\"timestamp\":\"2024-09-24T05:11:22.292743420Z\"},{\"order_id\":\"OOS5GD-Y6MMX-5YWYSD\",\"limit_price\":63130.9,\"order_qty\":0.00015853,\"timestamp\":\"2024-09-24T05:07:16.777946999Z\"},{\"order_id\":\"O6VUKV-ZZOFS-D5PQ35\",\"limit_price\":63130.9,\"order_qty\":3.96003108,\"timestamp\":\"2024-09-24T05:20:16.072746234Z\"},{\"order_id\":\"OQDJQG-O47NR-O4HPAF\",\"limit_price\":63131.1,\"order_qty\":0.00010000,\"timestamp\":\"2024-09-24T05:20:18.498267234Z\"},{\"order_id\":\"OL6Z6V-VJR3X-YHA4VW\",\"limit_price\":63132.0,\"order_qty\":0.03730000,\"timestamp\":\"2024-09-24T05:20:12.695482003Z\"},{\"order_id\":\"O3PF7P-FIANT-3OF6EX\",\"limit_price\":63132.3,\"order_qty\":0.46870000,\"timestamp\":\"2024-09-24T05:20:12.895482418Z\"},{\"order_id\":\"OKWBJO-57ZCN-ESFN5W\",\"limit_price\":63134.0,\"order_qty\":0.00015865,\"timestamp\":\"2024-09-24T05:00:50.764166862Z\"}]}]}'\n",
      "++Rcv raw: b'\\x81~\\x01\\x84{\"channel\":\"level3\",\"type\":\"update\",\"data\":[{\"checksum\":2565043292,\"symbol\":\"BTC/USD\",\"bids\":[],\"asks\":[{\"event\":\"delete\",\"order_id\":\"OQ6AOW-DMAS5-UWUK2Z\",\"limit_price\":63129.2,\"order_qty\":3.96013415,\"timestamp\":\"2024-09-24T05:20:19.584187675Z\"},{\"event\":\"add\",\"order_id\":\"OXSPJF-Z5YJC-JD7YZO\",\"limit_price\":63134.6,\"order_qty\":0.21432800,\"timestamp\":\"2024-09-24T05:20:12.975093812Z\"}]}]}'\n",
      "++Rcv decoded: fin=1 opcode=1 data=b'{\"channel\":\"level3\",\"type\":\"update\",\"data\":[{\"checksum\":2565043292,\"symbol\":\"BTC/USD\",\"bids\":[],\"asks\":[{\"event\":\"delete\",\"order_id\":\"OQ6AOW-DMAS5-UWUK2Z\",\"limit_price\":63129.2,\"order_qty\":3.96013415,\"timestamp\":\"2024-09-24T05:20:19.584187675Z\"},{\"event\":\"add\",\"order_id\":\"OXSPJF-Z5YJC-JD7YZO\",\"limit_price\":63134.6,\"order_qty\":0.21432800,\"timestamp\":\"2024-09-24T05:20:12.975093812Z\"}]}]}'\n",
      "++Rcv raw: b'\\x81~\\x00\\xf6{\"channel\":\"level3\",\"type\":\"update\",\"data\":[{\"checksum\":2218386228,\"symbol\":\"BTC/USD\",\"bids\":[],\"asks\":[{\"event\":\"add\",\"order_id\":\"ONTW7R-5LHSW-A4QAVO\",\"limit_price\":63131.6,\"order_qty\":3.95998341,\"timestamp\":\"2024-09-24T05:20:19.587713188Z\"}]}]}'\n",
      "++Rcv decoded: fin=1 opcode=1 data=b'{\"channel\":\"level3\",\"type\":\"update\",\"data\":[{\"checksum\":2218386228,\"symbol\":\"BTC/USD\",\"bids\":[],\"asks\":[{\"event\":\"add\",\"order_id\":\"ONTW7R-5LHSW-A4QAVO\",\"limit_price\":63131.6,\"order_qty\":3.95998341,\"timestamp\":\"2024-09-24T05:20:19.587713188Z\"}]}]}'\n",
      "++Rcv raw: b'\\x81~\\x00\\xf8{\"channel\":\"level3\",\"type\":\"update\",\"data\":[{\"checksum\":488615112,\"symbol\":\"BTC/USD\",\"bids\":[],\"asks\":[{\"event\":\"delete\",\"order_id\":\"O6VUKV-ZZOFS-D5PQ35\",\"limit_price\":63130.9,\"order_qty\":3.96003108,\"timestamp\":\"2024-09-24T05:20:19.591831786Z\"}]}]}'\n",
      "++Rcv decoded: fin=1 opcode=1 data=b'{\"channel\":\"level3\",\"type\":\"update\",\"data\":[{\"checksum\":488615112,\"symbol\":\"BTC/USD\",\"bids\":[],\"asks\":[{\"event\":\"delete\",\"order_id\":\"O6VUKV-ZZOFS-D5PQ35\",\"limit_price\":63130.9,\"order_qty\":3.96003108,\"timestamp\":\"2024-09-24T05:20:19.591831786Z\"}]}]}'\n",
      "++Rcv raw: b'\\x81~\\x00\\xf6{\"channel\":\"level3\",\"type\":\"update\",\"data\":[{\"checksum\":3148531780,\"symbol\":\"BTC/USD\",\"bids\":[{\"event\":\"add\",\"order_id\":\"OZWB26-MJDZZ-PKFYS4\",\"limit_price\":63119.4,\"order_qty\":0.46870000,\"timestamp\":\"2024-09-24T05:20:19.609818877Z\"}],\"asks\":[]}]}'\n",
      "++Rcv decoded: fin=1 opcode=1 data=b'{\"channel\":\"level3\",\"type\":\"update\",\"data\":[{\"checksum\":3148531780,\"symbol\":\"BTC/USD\",\"bids\":[{\"event\":\"add\",\"order_id\":\"OZWB26-MJDZZ-PKFYS4\",\"limit_price\":63119.4,\"order_qty\":0.46870000,\"timestamp\":\"2024-09-24T05:20:19.609818877Z\"}],\"asks\":[]}]}'\n",
      "++Rcv raw: b'\\x81~\\x01\\x83{\"channel\":\"level3\",\"type\":\"update\",\"data\":[{\"checksum\":488615112,\"symbol\":\"BTC/USD\",\"bids\":[{\"event\":\"delete\",\"order_id\":\"OZWB26-MJDZZ-PKFYS4\",\"limit_price\":63119.4,\"order_qty\":0.46870000,\"timestamp\":\"2024-09-24T05:20:19.635395552Z\"},{\"event\":\"add\",\"order_id\":\"OAW7HX-DJZET-VAUTM3\",\"limit_price\":63118.1,\"order_qty\":0.06000000,\"timestamp\":\"2024-09-24T05:20:18.976523105Z\"}],\"asks\":[]}]}'\n",
      "++Rcv decoded: fin=1 opcode=1 data=b'{\"channel\":\"level3\",\"type\":\"update\",\"data\":[{\"checksum\":488615112,\"symbol\":\"BTC/USD\",\"bids\":[{\"event\":\"delete\",\"order_id\":\"OZWB26-MJDZZ-PKFYS4\",\"limit_price\":63119.4,\"order_qty\":0.46870000,\"timestamp\":\"2024-09-24T05:20:19.635395552Z\"},{\"event\":\"add\",\"order_id\":\"OAW7HX-DJZET-VAUTM3\",\"limit_price\":63118.1,\"order_qty\":0.06000000,\"timestamp\":\"2024-09-24T05:20:18.976523105Z\"}],\"asks\":[]}]}'\n",
      "++Rcv raw: b'\\x81~\\x00\\xf6{\"channel\":\"level3\",\"type\":\"update\",\"data\":[{\"checksum\":1091724019,\"symbol\":\"BTC/USD\",\"bids\":[],\"asks\":[{\"event\":\"add\",\"order_id\":\"O2D3UX-4TYJC-VA72HL\",\"limit_price\":63130.4,\"order_qty\":3.96005811,\"timestamp\":\"2024-09-24T05:20:19.647065421Z\"}]}]}'\n",
      "++Rcv decoded: fin=1 opcode=1 data=b'{\"channel\":\"level3\",\"type\":\"update\",\"data\":[{\"checksum\":1091724019,\"symbol\":\"BTC/USD\",\"bids\":[],\"asks\":[{\"event\":\"add\",\"order_id\":\"O2D3UX-4TYJC-VA72HL\",\"limit_price\":63130.4,\"order_qty\":3.96005811,\"timestamp\":\"2024-09-24T05:20:19.647065421Z\"}]}]}'\n",
      "++Rcv raw: b'\\x81~\\x01\\x84{\"channel\":\"level3\",\"type\":\"update\",\"data\":[{\"checksum\":3666897113,\"symbol\":\"BTC/USD\",\"bids\":[],\"asks\":[{\"event\":\"delete\",\"order_id\":\"ONTW7R-5LHSW-A4QAVO\",\"limit_price\":63131.6,\"order_qty\":3.95998341,\"timestamp\":\"2024-09-24T05:20:19.655175048Z\"},{\"event\":\"add\",\"order_id\":\"OKWBJO-57ZCN-ESFN5W\",\"limit_price\":63134.0,\"order_qty\":0.00015865,\"timestamp\":\"2024-09-24T05:00:50.764166862Z\"}]}]}'\n",
      "++Rcv decoded: fin=1 opcode=1 data=b'{\"channel\":\"level3\",\"type\":\"update\",\"data\":[{\"checksum\":3666897113,\"symbol\":\"BTC/USD\",\"bids\":[],\"asks\":[{\"event\":\"delete\",\"order_id\":\"ONTW7R-5LHSW-A4QAVO\",\"limit_price\":63131.6,\"order_qty\":3.95998341,\"timestamp\":\"2024-09-24T05:20:19.655175048Z\"},{\"event\":\"add\",\"order_id\":\"OKWBJO-57ZCN-ESFN5W\",\"limit_price\":63134.0,\"order_qty\":0.00015865,\"timestamp\":\"2024-09-24T05:00:50.764166862Z\"}]}]}'\n",
      "++Rcv raw: b'\\x81~\\x01\\x84{\"channel\":\"level3\",\"type\":\"update\",\"data\":[{\"checksum\":1628827772,\"symbol\":\"BTC/USD\",\"bids\":[{\"event\":\"delete\",\"order_id\":\"OMTFHV-CGXRW-VNDYWA\",\"limit_price\":63125.6,\"order_qty\":3.96035416,\"timestamp\":\"2024-09-24T05:20:19.655199547Z\"},{\"event\":\"add\",\"order_id\":\"ONWTJI-WY3VZ-E5ZPHW\",\"limit_price\":63117.2,\"order_qty\":0.21783346,\"timestamp\":\"2024-09-24T05:20:15.827981053Z\"}],\"asks\":[]}]}'\n",
      "++Rcv decoded: fin=1 opcode=1 data=b'{\"channel\":\"level3\",\"type\":\"update\",\"data\":[{\"checksum\":1628827772,\"symbol\":\"BTC/USD\",\"bids\":[{\"event\":\"delete\",\"order_id\":\"OMTFHV-CGXRW-VNDYWA\",\"limit_price\":63125.6,\"order_qty\":3.96035416,\"timestamp\":\"2024-09-24T05:20:19.655199547Z\"},{\"event\":\"add\",\"order_id\":\"ONWTJI-WY3VZ-E5ZPHW\",\"limit_price\":63117.2,\"order_qty\":0.21783346,\"timestamp\":\"2024-09-24T05:20:15.827981053Z\"}],\"asks\":[]}]}'\n",
      "++Rcv raw: b'\\x81~\\x00\\xf5{\"channel\":\"level3\",\"type\":\"update\",\"data\":[{\"checksum\":135077491,\"symbol\":\"BTC/USD\",\"bids\":[{\"event\":\"add\",\"order_id\":\"OPVKLX-BHPQX-PDHNER\",\"limit_price\":63123.6,\"order_qty\":3.96048194,\"timestamp\":\"2024-09-24T05:20:19.658123981Z\"}],\"asks\":[]}]}'\n",
      "++Rcv decoded: fin=1 opcode=1 data=b'{\"channel\":\"level3\",\"type\":\"update\",\"data\":[{\"checksum\":135077491,\"symbol\":\"BTC/USD\",\"bids\":[{\"event\":\"add\",\"order_id\":\"OPVKLX-BHPQX-PDHNER\",\"limit_price\":63123.6,\"order_qty\":3.96048194,\"timestamp\":\"2024-09-24T05:20:19.658123981Z\"}],\"asks\":[]}]}'\n",
      "++Rcv raw: b'\\x81\\x17{\"channel\":\"heartbeat\"}'\n",
      "++Rcv decoded: fin=1 opcode=1 data=b'{\"channel\":\"heartbeat\"}'\n"
     ]
    },
    {
     "name": "stdout",
     "output_type": "stream",
     "text": [
      "{'channel': 'level3', 'type': 'snapshot', 'data': [{'symbol': 'BTC/USD', 'checksum': 4061653184, 'bids': [{'order_id': 'OL35PK-5U2PH-H3ZH3V', 'limit_price': 63125.8, 'order_qty': 0.1, 'timestamp': '2024-09-24T05:18:36.191436421Z'}, {'order_id': 'O727JF-3XQUX-NCE6EL', 'limit_price': 63125.8, 'order_qty': 0.2, 'timestamp': '2024-09-24T05:18:36.191674373Z'}, {'order_id': 'OFJD62-HPBDZ-T7IAVB', 'limit_price': 63125.8, 'order_qty': 0.14603, 'timestamp': '2024-09-24T05:18:36.193209346Z'}, {'order_id': 'O7FA2F-3FFD2-KLF2V3', 'limit_price': 63125.8, 'order_qty': 0.2, 'timestamp': '2024-09-24T05:18:36.193577725Z'}, {'order_id': 'OXPFDJ-OWOMB-GXZJD6', 'limit_price': 63125.8, 'order_qty': 0.4, 'timestamp': '2024-09-24T05:18:36.193595265Z'}, {'order_id': 'OQIUDW-2NWLF-EIMWS5', 'limit_price': 63125.8, 'order_qty': 0.2, 'timestamp': '2024-09-24T05:18:36.193665930Z'}, {'order_id': 'O7M5D7-GSULO-K35NHE', 'limit_price': 63125.8, 'order_qty': 0.9, 'timestamp': '2024-09-24T05:18:37.420395591Z'}, {'order_id': 'O3QR4Z-FJMM5-AZAVRB', 'limit_price': 63125.8, 'order_qty': 2.973, 'timestamp': '2024-09-24T05:19:52.621522608Z'}, {'order_id': 'OVDLOY-EFIWB-A4SGLD', 'limit_price': 63125.8, 'order_qty': 0.00194497, 'timestamp': '2024-09-24T05:19:53.344530512Z'}, {'order_id': 'OZNP2L-R5PAM-5UXUQ7', 'limit_price': 63125.8, 'order_qty': 0.4, 'timestamp': '2024-09-24T05:19:53.944870978Z'}, {'order_id': 'OENJ7B-QAKHY-LSN2FA', 'limit_price': 63125.8, 'order_qty': 0.002, 'timestamp': '2024-09-24T05:20:12.907445945Z'}, {'order_id': 'OL3BME-RT2CU-KFQO5E', 'limit_price': 63125.8, 'order_qty': 0.01690505, 'timestamp': '2024-09-24T05:20:16.410843854Z'}, {'order_id': 'OMTFHV-CGXRW-VNDYWA', 'limit_price': 63125.6, 'order_qty': 3.96035416, 'timestamp': '2024-09-24T05:20:19.483534671Z'}, {'order_id': 'OHUYD7-KXRH5-I2XNV4', 'limit_price': 63125.0, 'order_qty': 0.0001, 'timestamp': '2024-09-24T05:13:30.934455945Z'}, {'order_id': 'OJ2X7O-MCQGM-4ZQKIG', 'limit_price': 63124.3, 'order_qty': 3.96043567, 'timestamp': '2024-09-24T05:20:15.703315398Z'}, {'order_id': 'OD7QX3-KN2V7-J6IBRU', 'limit_price': 63123.4, 'order_qty': 0.00787233, 'timestamp': '2024-09-24T05:20:16.880113670Z'}, {'order_id': 'O6MH2I-WV422-HCND4N', 'limit_price': 63123.0, 'order_qty': 0.13452308, 'timestamp': '2024-09-24T05:20:16.597724093Z'}, {'order_id': 'OEV5EU-ND7FG-OANJWL', 'limit_price': 63120.8, 'order_qty': 0.0001, 'timestamp': '2024-09-24T05:12:08.673809858Z'}, {'order_id': 'OLCAUL-FXJ2F-J6MYJA', 'limit_price': 63120.8, 'order_qty': 0.0001, 'timestamp': '2024-09-24T05:13:32.050603930Z'}, {'order_id': 'OC6OQ7-KFKY3-CBEVJK', 'limit_price': 63120.8, 'order_qty': 0.0001, 'timestamp': '2024-09-24T05:14:55.367811766Z'}, {'order_id': 'ORS5B7-C4CXV-ODDAB7', 'limit_price': 63120.8, 'order_qty': 0.0001, 'timestamp': '2024-09-24T05:16:18.681082541Z'}, {'order_id': 'O6COZC-5FEDU-WWJHRP', 'limit_price': 63120.8, 'order_qty': 0.0001, 'timestamp': '2024-09-24T05:17:42.030090773Z'}, {'order_id': 'OY2PFU-JIJUP-KNHNB4', 'limit_price': 63120.8, 'order_qty': 0.0001, 'timestamp': '2024-09-24T05:19:05.659945014Z'}, {'order_id': 'OLNAIX-2JXZK-7J2Q5Y', 'limit_price': 63120.8, 'order_qty': 3.96065401, 'timestamp': '2024-09-24T05:20:15.703271068Z'}, {'order_id': 'O7HD4P-K3V2Z-DHDXOL', 'limit_price': 63120.1, 'order_qty': 0.30951412, 'timestamp': '2024-09-24T05:20:16.162361583Z'}, {'order_id': 'OKTC42-ZADKS-IDGITF', 'limit_price': 63120.0, 'order_qty': 0.00158428, 'timestamp': '2024-09-24T05:18:30.341425389Z'}, {'order_id': 'OAW7HX-DJZET-VAUTM3', 'limit_price': 63118.1, 'order_qty': 0.06, 'timestamp': '2024-09-24T05:20:18.976523105Z'}], 'asks': [{'order_id': 'O62TUY-KFGON-6URV3K', 'limit_price': 63125.9, 'order_qty': 0.17717817, 'timestamp': '2024-09-24T05:08:36.053396747Z'}, {'order_id': 'OD2R3X-BJL5J-BDIWQZ', 'limit_price': 63125.9, 'order_qty': 0.001, 'timestamp': '2024-09-24T05:11:22.025024161Z'}, {'order_id': 'OJRLR4-UAPNA-E5GHYU', 'limit_price': 63125.9, 'order_qty': 0.001, 'timestamp': '2024-09-24T05:11:23.026495709Z'}, {'order_id': 'OKWOB6-5RK7T-NG7B3G', 'limit_price': 63125.9, 'order_qty': 0.01, 'timestamp': '2024-09-24T05:11:52.883483674Z'}, {'order_id': 'OXL5QB-E6HZF-ARBRUW', 'limit_price': 63125.9, 'order_qty': 0.06527674, 'timestamp': '2024-09-24T05:12:50.867282852Z'}, {'order_id': 'ONIWBU-DHYUU-PSPAEQ', 'limit_price': 63125.9, 'order_qty': 0.1, 'timestamp': '2024-09-24T05:20:12.889360443Z'}, {'order_id': 'OIGVUV-AQYCF-4QCV2T', 'limit_price': 63125.9, 'order_qty': 0.2, 'timestamp': '2024-09-24T05:20:12.889756646Z'}, {'order_id': 'OIUVIG-DG4TB-ITS77N', 'limit_price': 63125.9, 'order_qty': 0.4, 'timestamp': '2024-09-24T05:20:12.890217990Z'}, {'order_id': 'ONOREW-3BLYP-AP4WXN', 'limit_price': 63125.9, 'order_qty': 0.2, 'timestamp': '2024-09-24T05:20:12.890565513Z'}, {'order_id': 'OZUOZM-VUMOL-53EJEV', 'limit_price': 63125.9, 'order_qty': 0.4, 'timestamp': '2024-09-24T05:20:12.898803488Z'}, {'order_id': 'OD3HZ7-GVXPK-5P75MN', 'limit_price': 63125.9, 'order_qty': 0.2, 'timestamp': '2024-09-24T05:20:12.899084967Z'}, {'order_id': 'OESMGK-VSSIS-4RKDWA', 'limit_price': 63125.9, 'order_qty': 0.4, 'timestamp': '2024-09-24T05:20:12.899167217Z'}, {'order_id': 'OFTVPA-K3EMR-QZA43H', 'limit_price': 63125.9, 'order_qty': 0.01516411, 'timestamp': '2024-09-24T05:20:13.022050888Z'}, {'order_id': 'OBLXT3-CFUHS-KPTWLE', 'limit_price': 63125.9, 'order_qty': 0.00022765, 'timestamp': '2024-09-24T05:20:14.515232503Z'}, {'order_id': 'OBQUBF-FIVTL-STQBV2', 'limit_price': 63125.9, 'order_qty': 0.03168271, 'timestamp': '2024-09-24T05:20:15.657514895Z'}, {'order_id': 'O64KA4-4KYQV-3RUQDR', 'limit_price': 63126.0, 'order_qty': 0.01346513, 'timestamp': '2024-09-24T05:14:21.378629274Z'}, {'order_id': 'OQ6AOW-DMAS5-UWUK2Z', 'limit_price': 63129.2, 'order_qty': 3.96013415, 'timestamp': '2024-09-24T05:20:19.394335420Z'}, {'order_id': 'OSNACP-HN7VX-NVTBXY', 'limit_price': 63129.8, 'order_qty': 0.59, 'timestamp': '2024-09-24T05:20:15.846262770Z'}, {'order_id': 'OOH2FY-LNBM5-U5E6BE', 'limit_price': 63130.7, 'order_qty': 0.01, 'timestamp': '2024-09-24T05:11:22.292743420Z'}, {'order_id': 'OOS5GD-Y6MMX-5YWYSD', 'limit_price': 63130.9, 'order_qty': 0.00015853, 'timestamp': '2024-09-24T05:07:16.777946999Z'}, {'order_id': 'O6VUKV-ZZOFS-D5PQ35', 'limit_price': 63130.9, 'order_qty': 3.96003108, 'timestamp': '2024-09-24T05:20:16.072746234Z'}, {'order_id': 'OQDJQG-O47NR-O4HPAF', 'limit_price': 63131.1, 'order_qty': 0.0001, 'timestamp': '2024-09-24T05:20:18.498267234Z'}, {'order_id': 'OL6Z6V-VJR3X-YHA4VW', 'limit_price': 63132.0, 'order_qty': 0.0373, 'timestamp': '2024-09-24T05:20:12.695482003Z'}, {'order_id': 'O3PF7P-FIANT-3OF6EX', 'limit_price': 63132.3, 'order_qty': 0.4687, 'timestamp': '2024-09-24T05:20:12.895482418Z'}, {'order_id': 'OKWBJO-57ZCN-ESFN5W', 'limit_price': 63134.0, 'order_qty': 0.00015865, 'timestamp': '2024-09-24T05:00:50.764166862Z'}]}]}\n",
      "{'channel': 'level3', 'type': 'update', 'data': [{'checksum': 2565043292, 'symbol': 'BTC/USD', 'bids': [], 'asks': [{'event': 'delete', 'order_id': 'OQ6AOW-DMAS5-UWUK2Z', 'limit_price': 63129.2, 'order_qty': 3.96013415, 'timestamp': '2024-09-24T05:20:19.584187675Z'}, {'event': 'add', 'order_id': 'OXSPJF-Z5YJC-JD7YZO', 'limit_price': 63134.6, 'order_qty': 0.214328, 'timestamp': '2024-09-24T05:20:12.975093812Z'}]}]}\n",
      "{'channel': 'level3', 'type': 'update', 'data': [{'checksum': 2218386228, 'symbol': 'BTC/USD', 'bids': [], 'asks': [{'event': 'add', 'order_id': 'ONTW7R-5LHSW-A4QAVO', 'limit_price': 63131.6, 'order_qty': 3.95998341, 'timestamp': '2024-09-24T05:20:19.587713188Z'}]}]}\n",
      "{'channel': 'level3', 'type': 'update', 'data': [{'checksum': 488615112, 'symbol': 'BTC/USD', 'bids': [], 'asks': [{'event': 'delete', 'order_id': 'O6VUKV-ZZOFS-D5PQ35', 'limit_price': 63130.9, 'order_qty': 3.96003108, 'timestamp': '2024-09-24T05:20:19.591831786Z'}]}]}\n",
      "{'channel': 'level3', 'type': 'update', 'data': [{'checksum': 3148531780, 'symbol': 'BTC/USD', 'bids': [{'event': 'add', 'order_id': 'OZWB26-MJDZZ-PKFYS4', 'limit_price': 63119.4, 'order_qty': 0.4687, 'timestamp': '2024-09-24T05:20:19.609818877Z'}], 'asks': []}]}\n",
      "{'channel': 'level3', 'type': 'update', 'data': [{'checksum': 488615112, 'symbol': 'BTC/USD', 'bids': [{'event': 'delete', 'order_id': 'OZWB26-MJDZZ-PKFYS4', 'limit_price': 63119.4, 'order_qty': 0.4687, 'timestamp': '2024-09-24T05:20:19.635395552Z'}, {'event': 'add', 'order_id': 'OAW7HX-DJZET-VAUTM3', 'limit_price': 63118.1, 'order_qty': 0.06, 'timestamp': '2024-09-24T05:20:18.976523105Z'}], 'asks': []}]}\n",
      "{'channel': 'level3', 'type': 'update', 'data': [{'checksum': 1091724019, 'symbol': 'BTC/USD', 'bids': [], 'asks': [{'event': 'add', 'order_id': 'O2D3UX-4TYJC-VA72HL', 'limit_price': 63130.4, 'order_qty': 3.96005811, 'timestamp': '2024-09-24T05:20:19.647065421Z'}]}]}\n",
      "{'channel': 'level3', 'type': 'update', 'data': [{'checksum': 3666897113, 'symbol': 'BTC/USD', 'bids': [], 'asks': [{'event': 'delete', 'order_id': 'ONTW7R-5LHSW-A4QAVO', 'limit_price': 63131.6, 'order_qty': 3.95998341, 'timestamp': '2024-09-24T05:20:19.655175048Z'}, {'event': 'add', 'order_id': 'OKWBJO-57ZCN-ESFN5W', 'limit_price': 63134.0, 'order_qty': 0.00015865, 'timestamp': '2024-09-24T05:00:50.764166862Z'}]}]}\n",
      "{'channel': 'level3', 'type': 'update', 'data': [{'checksum': 1628827772, 'symbol': 'BTC/USD', 'bids': [{'event': 'delete', 'order_id': 'OMTFHV-CGXRW-VNDYWA', 'limit_price': 63125.6, 'order_qty': 3.96035416, 'timestamp': '2024-09-24T05:20:19.655199547Z'}, {'event': 'add', 'order_id': 'ONWTJI-WY3VZ-E5ZPHW', 'limit_price': 63117.2, 'order_qty': 0.21783346, 'timestamp': '2024-09-24T05:20:15.827981053Z'}], 'asks': []}]}\n",
      "{'channel': 'level3', 'type': 'update', 'data': [{'checksum': 135077491, 'symbol': 'BTC/USD', 'bids': [{'event': 'add', 'order_id': 'OPVKLX-BHPQX-PDHNER', 'limit_price': 63123.6, 'order_qty': 3.96048194, 'timestamp': '2024-09-24T05:20:19.658123981Z'}], 'asks': []}]}\n",
      "{'channel': 'heartbeat'}\n"
     ]
    },
    {
     "name": "stderr",
     "output_type": "stream",
     "text": [
      "++Rcv raw: b'\\x81~\\x01\\x84{\"channel\":\"level3\",\"type\":\"update\",\"data\":[{\"checksum\":1628827772,\"symbol\":\"BTC/USD\",\"bids\":[{\"event\":\"delete\",\"order_id\":\"OPVKLX-BHPQX-PDHNER\",\"limit_price\":63123.6,\"order_qty\":3.96048194,\"timestamp\":\"2024-09-24T05:20:19.746067217Z\"},{\"event\":\"add\",\"order_id\":\"ONWTJI-WY3VZ-E5ZPHW\",\"limit_price\":63117.2,\"order_qty\":0.21783346,\"timestamp\":\"2024-09-24T05:20:15.827981053Z\"}],\"asks\":[]}]}'\n",
      "++Rcv decoded: fin=1 opcode=1 data=b'{\"channel\":\"level3\",\"type\":\"update\",\"data\":[{\"checksum\":1628827772,\"symbol\":\"BTC/USD\",\"bids\":[{\"event\":\"delete\",\"order_id\":\"OPVKLX-BHPQX-PDHNER\",\"limit_price\":63123.6,\"order_qty\":3.96048194,\"timestamp\":\"2024-09-24T05:20:19.746067217Z\"},{\"event\":\"add\",\"order_id\":\"ONWTJI-WY3VZ-E5ZPHW\",\"limit_price\":63117.2,\"order_qty\":0.21783346,\"timestamp\":\"2024-09-24T05:20:15.827981053Z\"}],\"asks\":[]}]}'\n",
      "++Rcv raw: b'\\x81~\\x00\\xf5{\"channel\":\"level3\",\"type\":\"update\",\"data\":[{\"checksum\":195536412,\"symbol\":\"BTC/USD\",\"bids\":[],\"asks\":[{\"event\":\"add\",\"order_id\":\"O6M6S5-BSJGP-O4KXSV\",\"limit_price\":63131.2,\"order_qty\":3.96000881,\"timestamp\":\"2024-09-24T05:20:19.748757323Z\"}]}]}'\n",
      "++Rcv decoded: fin=1 opcode=1 data=b'{\"channel\":\"level3\",\"type\":\"update\",\"data\":[{\"checksum\":195536412,\"symbol\":\"BTC/USD\",\"bids\":[],\"asks\":[{\"event\":\"add\",\"order_id\":\"O6M6S5-BSJGP-O4KXSV\",\"limit_price\":63131.2,\"order_qty\":3.96000881,\"timestamp\":\"2024-09-24T05:20:19.748757323Z\"}]}]}'\n",
      "++Rcv raw: b'\\x81~\\x00\\xf6{\"channel\":\"level3\",\"type\":\"update\",\"data\":[{\"checksum\":2383678069,\"symbol\":\"BTC/USD\",\"bids\":[{\"event\":\"add\",\"order_id\":\"OCWPE7-5S4MV-LMDQNE\",\"limit_price\":63125.6,\"order_qty\":3.96035698,\"timestamp\":\"2024-09-24T05:20:19.748806322Z\"}],\"asks\":[]}]}'\n",
      "++Rcv decoded: fin=1 opcode=1 data=b'{\"channel\":\"level3\",\"type\":\"update\",\"data\":[{\"checksum\":2383678069,\"symbol\":\"BTC/USD\",\"bids\":[{\"event\":\"add\",\"order_id\":\"OCWPE7-5S4MV-LMDQNE\",\"limit_price\":63125.6,\"order_qty\":3.96035698,\"timestamp\":\"2024-09-24T05:20:19.748806322Z\"}],\"asks\":[]}]}'\n",
      "++Rcv raw: b'\\x81~\\x00\\xf5{\"channel\":\"level3\",\"type\":\"update\",\"data\":[{\"checksum\":250154195,\"symbol\":\"BTC/USD\",\"bids\":[{\"event\":\"add\",\"order_id\":\"OMLVAR-7MHG6-WFBBF5\",\"limit_price\":63119.4,\"order_qty\":0.46870000,\"timestamp\":\"2024-09-24T05:20:19.779708323Z\"}],\"asks\":[]}]}'\n",
      "++Rcv decoded: fin=1 opcode=1 data=b'{\"channel\":\"level3\",\"type\":\"update\",\"data\":[{\"checksum\":250154195,\"symbol\":\"BTC/USD\",\"bids\":[{\"event\":\"add\",\"order_id\":\"OMLVAR-7MHG6-WFBBF5\",\"limit_price\":63119.4,\"order_qty\":0.46870000,\"timestamp\":\"2024-09-24T05:20:19.779708323Z\"}],\"asks\":[]}]}'\n",
      "++Rcv raw: b'\\x81~\\x01\\x83{\"channel\":\"level3\",\"type\":\"update\",\"data\":[{\"checksum\":627396282,\"symbol\":\"BTC/USD\",\"bids\":[],\"asks\":[{\"event\":\"delete\",\"order_id\":\"O2D3UX-4TYJC-VA72HL\",\"limit_price\":63130.4,\"order_qty\":3.96005811,\"timestamp\":\"2024-09-24T05:20:19.784218147Z\"},{\"event\":\"add\",\"order_id\":\"OKWBJO-57ZCN-ESFN5W\",\"limit_price\":63134.0,\"order_qty\":0.00015865,\"timestamp\":\"2024-09-24T05:00:50.764166862Z\"}]}]}'\n",
      "++Rcv decoded: fin=1 opcode=1 data=b'{\"channel\":\"level3\",\"type\":\"update\",\"data\":[{\"checksum\":627396282,\"symbol\":\"BTC/USD\",\"bids\":[],\"asks\":[{\"event\":\"delete\",\"order_id\":\"O2D3UX-4TYJC-VA72HL\",\"limit_price\":63130.4,\"order_qty\":3.96005811,\"timestamp\":\"2024-09-24T05:20:19.784218147Z\"},{\"event\":\"add\",\"order_id\":\"OKWBJO-57ZCN-ESFN5W\",\"limit_price\":63134.0,\"order_qty\":0.00015865,\"timestamp\":\"2024-09-24T05:00:50.764166862Z\"}]}]}'\n",
      "++Rcv raw: b'\\x81~\\x00\\xf5{\"channel\":\"level3\",\"type\":\"update\",\"data\":[{\"checksum\":996672196,\"symbol\":\"BTC/USD\",\"bids\":[],\"asks\":[{\"event\":\"add\",\"order_id\":\"OKEYPO-ZWDDN-OMAP6D\",\"limit_price\":63129.9,\"order_qty\":3.96008866,\"timestamp\":\"2024-09-24T05:20:19.857360676Z\"}]}]}'\n",
      "++Rcv decoded: fin=1 opcode=1 data=b'{\"channel\":\"level3\",\"type\":\"update\",\"data\":[{\"checksum\":996672196,\"symbol\":\"BTC/USD\",\"bids\":[],\"asks\":[{\"event\":\"add\",\"order_id\":\"OKEYPO-ZWDDN-OMAP6D\",\"limit_price\":63129.9,\"order_qty\":3.96008866,\"timestamp\":\"2024-09-24T05:20:19.857360676Z\"}]}]}'\n",
      "++Rcv raw: b'\\x81~\\x01\\x84{\"channel\":\"level3\",\"type\":\"update\",\"data\":[{\"checksum\":4047915865,\"symbol\":\"BTC/USD\",\"bids\":[{\"event\":\"delete\",\"order_id\":\"OCWPE7-5S4MV-LMDQNE\",\"limit_price\":63125.6,\"order_qty\":3.96035698,\"timestamp\":\"2024-09-24T05:20:19.886262414Z\"},{\"event\":\"add\",\"order_id\":\"OAW7HX-DJZET-VAUTM3\",\"limit_price\":63118.1,\"order_qty\":0.06000000,\"timestamp\":\"2024-09-24T05:20:18.976523105Z\"}],\"asks\":[]}]}'\n",
      "++Rcv decoded: fin=1 opcode=1 data=b'{\"channel\":\"level3\",\"type\":\"update\",\"data\":[{\"checksum\":4047915865,\"symbol\":\"BTC/USD\",\"bids\":[{\"event\":\"delete\",\"order_id\":\"OCWPE7-5S4MV-LMDQNE\",\"limit_price\":63125.6,\"order_qty\":3.96035698,\"timestamp\":\"2024-09-24T05:20:19.886262414Z\"},{\"event\":\"add\",\"order_id\":\"OAW7HX-DJZET-VAUTM3\",\"limit_price\":63118.1,\"order_qty\":0.06000000,\"timestamp\":\"2024-09-24T05:20:18.976523105Z\"}],\"asks\":[]}]}'\n",
      "++Rcv raw: b'\\x81~\\x01\\x84{\"channel\":\"level3\",\"type\":\"update\",\"data\":[{\"checksum\":3281220213,\"symbol\":\"BTC/USD\",\"bids\":[{\"event\":\"delete\",\"order_id\":\"OMLVAR-7MHG6-WFBBF5\",\"limit_price\":63119.4,\"order_qty\":0.46870000,\"timestamp\":\"2024-09-24T05:20:19.888620800Z\"},{\"event\":\"add\",\"order_id\":\"ONWTJI-WY3VZ-E5ZPHW\",\"limit_price\":63117.2,\"order_qty\":0.21783346,\"timestamp\":\"2024-09-24T05:20:15.827981053Z\"}],\"asks\":[]}]}'\n",
      "++Rcv decoded: fin=1 opcode=1 data=b'{\"channel\":\"level3\",\"type\":\"update\",\"data\":[{\"checksum\":3281220213,\"symbol\":\"BTC/USD\",\"bids\":[{\"event\":\"delete\",\"order_id\":\"OMLVAR-7MHG6-WFBBF5\",\"limit_price\":63119.4,\"order_qty\":0.46870000,\"timestamp\":\"2024-09-24T05:20:19.888620800Z\"},{\"event\":\"add\",\"order_id\":\"ONWTJI-WY3VZ-E5ZPHW\",\"limit_price\":63117.2,\"order_qty\":0.21783346,\"timestamp\":\"2024-09-24T05:20:15.827981053Z\"}],\"asks\":[]}]}'\n",
      "++Rcv raw: b'\\x81~\\x00\\xf5{\"channel\":\"level3\",\"type\":\"update\",\"data\":[{\"checksum\":856244374,\"symbol\":\"BTC/USD\",\"bids\":[{\"event\":\"add\",\"order_id\":\"OFNJNL-ULTEA-GZ5VHD\",\"limit_price\":63123.4,\"order_qty\":3.96049247,\"timestamp\":\"2024-09-24T05:20:19.889021487Z\"}],\"asks\":[]}]}'\n",
      "++Rcv decoded: fin=1 opcode=1 data=b'{\"channel\":\"level3\",\"type\":\"update\",\"data\":[{\"checksum\":856244374,\"symbol\":\"BTC/USD\",\"bids\":[{\"event\":\"add\",\"order_id\":\"OFNJNL-ULTEA-GZ5VHD\",\"limit_price\":63123.4,\"order_qty\":3.96049247,\"timestamp\":\"2024-09-24T05:20:19.889021487Z\"}],\"asks\":[]}]}'\n"
     ]
    },
    {
     "name": "stdout",
     "output_type": "stream",
     "text": [
      "{'channel': 'level3', 'type': 'update', 'data': [{'checksum': 1628827772, 'symbol': 'BTC/USD', 'bids': [{'event': 'delete', 'order_id': 'OPVKLX-BHPQX-PDHNER', 'limit_price': 63123.6, 'order_qty': 3.96048194, 'timestamp': '2024-09-24T05:20:19.746067217Z'}, {'event': 'add', 'order_id': 'ONWTJI-WY3VZ-E5ZPHW', 'limit_price': 63117.2, 'order_qty': 0.21783346, 'timestamp': '2024-09-24T05:20:15.827981053Z'}], 'asks': []}]}\n",
      "{'channel': 'level3', 'type': 'update', 'data': [{'checksum': 195536412, 'symbol': 'BTC/USD', 'bids': [], 'asks': [{'event': 'add', 'order_id': 'O6M6S5-BSJGP-O4KXSV', 'limit_price': 63131.2, 'order_qty': 3.96000881, 'timestamp': '2024-09-24T05:20:19.748757323Z'}]}]}\n",
      "{'channel': 'level3', 'type': 'update', 'data': [{'checksum': 2383678069, 'symbol': 'BTC/USD', 'bids': [{'event': 'add', 'order_id': 'OCWPE7-5S4MV-LMDQNE', 'limit_price': 63125.6, 'order_qty': 3.96035698, 'timestamp': '2024-09-24T05:20:19.748806322Z'}], 'asks': []}]}\n",
      "{'channel': 'level3', 'type': 'update', 'data': [{'checksum': 250154195, 'symbol': 'BTC/USD', 'bids': [{'event': 'add', 'order_id': 'OMLVAR-7MHG6-WFBBF5', 'limit_price': 63119.4, 'order_qty': 0.4687, 'timestamp': '2024-09-24T05:20:19.779708323Z'}], 'asks': []}]}\n",
      "{'channel': 'level3', 'type': 'update', 'data': [{'checksum': 627396282, 'symbol': 'BTC/USD', 'bids': [], 'asks': [{'event': 'delete', 'order_id': 'O2D3UX-4TYJC-VA72HL', 'limit_price': 63130.4, 'order_qty': 3.96005811, 'timestamp': '2024-09-24T05:20:19.784218147Z'}, {'event': 'add', 'order_id': 'OKWBJO-57ZCN-ESFN5W', 'limit_price': 63134.0, 'order_qty': 0.00015865, 'timestamp': '2024-09-24T05:00:50.764166862Z'}]}]}\n",
      "{'channel': 'level3', 'type': 'update', 'data': [{'checksum': 996672196, 'symbol': 'BTC/USD', 'bids': [], 'asks': [{'event': 'add', 'order_id': 'OKEYPO-ZWDDN-OMAP6D', 'limit_price': 63129.9, 'order_qty': 3.96008866, 'timestamp': '2024-09-24T05:20:19.857360676Z'}]}]}\n",
      "{'channel': 'level3', 'type': 'update', 'data': [{'checksum': 4047915865, 'symbol': 'BTC/USD', 'bids': [{'event': 'delete', 'order_id': 'OCWPE7-5S4MV-LMDQNE', 'limit_price': 63125.6, 'order_qty': 3.96035698, 'timestamp': '2024-09-24T05:20:19.886262414Z'}, {'event': 'add', 'order_id': 'OAW7HX-DJZET-VAUTM3', 'limit_price': 63118.1, 'order_qty': 0.06, 'timestamp': '2024-09-24T05:20:18.976523105Z'}], 'asks': []}]}\n",
      "{'channel': 'level3', 'type': 'update', 'data': [{'checksum': 3281220213, 'symbol': 'BTC/USD', 'bids': [{'event': 'delete', 'order_id': 'OMLVAR-7MHG6-WFBBF5', 'limit_price': 63119.4, 'order_qty': 0.4687, 'timestamp': '2024-09-24T05:20:19.888620800Z'}, {'event': 'add', 'order_id': 'ONWTJI-WY3VZ-E5ZPHW', 'limit_price': 63117.2, 'order_qty': 0.21783346, 'timestamp': '2024-09-24T05:20:15.827981053Z'}], 'asks': []}]}\n",
      "{'channel': 'level3', 'type': 'update', 'data': [{'checksum': 856244374, 'symbol': 'BTC/USD', 'bids': [{'event': 'add', 'order_id': 'OFNJNL-ULTEA-GZ5VHD', 'limit_price': 63123.4, 'order_qty': 3.96049247, 'timestamp': '2024-09-24T05:20:19.889021487Z'}], 'asks': []}]}\n"
     ]
    },
    {
     "name": "stderr",
     "output_type": "stream",
     "text": [
      "++Rcv raw: b'\\x81~\\x00\\xf9{\"channel\":\"level3\",\"type\":\"update\",\"data\":[{\"checksum\":2220721335,\"symbol\":\"BTC/USD\",\"bids\":[{\"event\":\"delete\",\"order_id\":\"OD7QX3-KN2V7-J6IBRU\",\"limit_price\":63123.4,\"order_qty\":0.00787233,\"timestamp\":\"2024-09-24T05:20:19.956402867Z\"}],\"asks\":[]}]}'\n",
      "++Rcv decoded: fin=1 opcode=1 data=b'{\"channel\":\"level3\",\"type\":\"update\",\"data\":[{\"checksum\":2220721335,\"symbol\":\"BTC/USD\",\"bids\":[{\"event\":\"delete\",\"order_id\":\"OD7QX3-KN2V7-J6IBRU\",\"limit_price\":63123.4,\"order_qty\":0.00787233,\"timestamp\":\"2024-09-24T05:20:19.956402867Z\"}],\"asks\":[]}]}'\n",
      "++Rcv raw: b'\\x81~\\x01\\x84{\"channel\":\"level3\",\"type\":\"update\",\"data\":[{\"checksum\":2833907953,\"symbol\":\"BTC/USD\",\"bids\":[{\"event\":\"delete\",\"order_id\":\"OFNJNL-ULTEA-GZ5VHD\",\"limit_price\":63123.4,\"order_qty\":3.96049247,\"timestamp\":\"2024-09-24T05:20:19.962696006Z\"},{\"event\":\"add\",\"order_id\":\"OX6PMC-SPE6H-JS7VS2\",\"limit_price\":63115.5,\"order_qty\":0.00962325,\"timestamp\":\"2024-09-24T05:20:19.191920565Z\"}],\"asks\":[]}]}'\n",
      "++Rcv decoded: fin=1 opcode=1 data=b'{\"channel\":\"level3\",\"type\":\"update\",\"data\":[{\"checksum\":2833907953,\"symbol\":\"BTC/USD\",\"bids\":[{\"event\":\"delete\",\"order_id\":\"OFNJNL-ULTEA-GZ5VHD\",\"limit_price\":63123.4,\"order_qty\":3.96049247,\"timestamp\":\"2024-09-24T05:20:19.962696006Z\"},{\"event\":\"add\",\"order_id\":\"OX6PMC-SPE6H-JS7VS2\",\"limit_price\":63115.5,\"order_qty\":0.00962325,\"timestamp\":\"2024-09-24T05:20:19.191920565Z\"}],\"asks\":[]}]}'\n",
      "++Rcv raw: b'\\x81~\\x00\\xf6{\"channel\":\"level3\",\"type\":\"update\",\"data\":[{\"checksum\":1936371074,\"symbol\":\"BTC/USD\",\"bids\":[{\"event\":\"add\",\"order_id\":\"OAVAWZ-GWYRS-IOYB7C\",\"limit_price\":63125.4,\"order_qty\":3.96037063,\"timestamp\":\"2024-09-24T05:20:19.965200721Z\"}],\"asks\":[]}]}'\n",
      "++Rcv decoded: fin=1 opcode=1 data=b'{\"channel\":\"level3\",\"type\":\"update\",\"data\":[{\"checksum\":1936371074,\"symbol\":\"BTC/USD\",\"bids\":[{\"event\":\"add\",\"order_id\":\"OAVAWZ-GWYRS-IOYB7C\",\"limit_price\":63125.4,\"order_qty\":3.96037063,\"timestamp\":\"2024-09-24T05:20:19.965200721Z\"}],\"asks\":[]}]}'\n",
      "++Rcv raw: b'\\x81~\\x01\\x84{\"channel\":\"level3\",\"type\":\"update\",\"data\":[{\"checksum\":2833907953,\"symbol\":\"BTC/USD\",\"bids\":[{\"event\":\"delete\",\"order_id\":\"OAVAWZ-GWYRS-IOYB7C\",\"limit_price\":63125.4,\"order_qty\":3.96037063,\"timestamp\":\"2024-09-24T05:20:20.002622735Z\"},{\"event\":\"add\",\"order_id\":\"OX6PMC-SPE6H-JS7VS2\",\"limit_price\":63115.5,\"order_qty\":0.00962325,\"timestamp\":\"2024-09-24T05:20:19.191920565Z\"}],\"asks\":[]}]}'\n",
      "++Rcv decoded: fin=1 opcode=1 data=b'{\"channel\":\"level3\",\"type\":\"update\",\"data\":[{\"checksum\":2833907953,\"symbol\":\"BTC/USD\",\"bids\":[{\"event\":\"delete\",\"order_id\":\"OAVAWZ-GWYRS-IOYB7C\",\"limit_price\":63125.4,\"order_qty\":3.96037063,\"timestamp\":\"2024-09-24T05:20:20.002622735Z\"},{\"event\":\"add\",\"order_id\":\"OX6PMC-SPE6H-JS7VS2\",\"limit_price\":63115.5,\"order_qty\":0.00962325,\"timestamp\":\"2024-09-24T05:20:19.191920565Z\"}],\"asks\":[]}]}'\n",
      "++Rcv raw: b'\\x81~\\x00\\xf6{\"channel\":\"level3\",\"type\":\"update\",\"data\":[{\"checksum\":2199757616,\"symbol\":\"BTC/USD\",\"bids\":[{\"event\":\"add\",\"order_id\":\"OQOZ4S-ZY7UI-2Y4VWX\",\"limit_price\":63123.1,\"order_qty\":3.96051228,\"timestamp\":\"2024-09-24T05:20:20.005564660Z\"}],\"asks\":[]}]}'\n",
      "++Rcv decoded: fin=1 opcode=1 data=b'{\"channel\":\"level3\",\"type\":\"update\",\"data\":[{\"checksum\":2199757616,\"symbol\":\"BTC/USD\",\"bids\":[{\"event\":\"add\",\"order_id\":\"OQOZ4S-ZY7UI-2Y4VWX\",\"limit_price\":63123.1,\"order_qty\":3.96051228,\"timestamp\":\"2024-09-24T05:20:20.005564660Z\"}],\"asks\":[]}]}'\n",
      "++Rcv raw: b'\\x81~\\x00\\xf6{\"channel\":\"level3\",\"type\":\"update\",\"data\":[{\"checksum\":2171656765,\"symbol\":\"BTC/USD\",\"bids\":[],\"asks\":[{\"event\":\"add\",\"order_id\":\"OFUTMD-J7AAS-QG5QJS\",\"limit_price\":63128.7,\"order_qty\":3.96016409,\"timestamp\":\"2024-09-24T05:20:20.005749568Z\"}]}]}'\n",
      "++Rcv decoded: fin=1 opcode=1 data=b'{\"channel\":\"level3\",\"type\":\"update\",\"data\":[{\"checksum\":2171656765,\"symbol\":\"BTC/USD\",\"bids\":[],\"asks\":[{\"event\":\"add\",\"order_id\":\"OFUTMD-J7AAS-QG5QJS\",\"limit_price\":63128.7,\"order_qty\":3.96016409,\"timestamp\":\"2024-09-24T05:20:20.005749568Z\"}]}]}'\n",
      "++Rcv raw: b'\\x81~\\x01\\x84{\"channel\":\"level3\",\"type\":\"update\",\"data\":[{\"checksum\":2199757616,\"symbol\":\"BTC/USD\",\"bids\":[],\"asks\":[{\"event\":\"delete\",\"order_id\":\"OFUTMD-J7AAS-QG5QJS\",\"limit_price\":63128.7,\"order_qty\":3.96016409,\"timestamp\":\"2024-09-24T05:20:20.119636216Z\"},{\"event\":\"add\",\"order_id\":\"O3PF7P-FIANT-3OF6EX\",\"limit_price\":63132.3,\"order_qty\":0.46870000,\"timestamp\":\"2024-09-24T05:20:12.895482418Z\"}]}]}'\n",
      "++Rcv decoded: fin=1 opcode=1 data=b'{\"channel\":\"level3\",\"type\":\"update\",\"data\":[{\"checksum\":2199757616,\"symbol\":\"BTC/USD\",\"bids\":[],\"asks\":[{\"event\":\"delete\",\"order_id\":\"OFUTMD-J7AAS-QG5QJS\",\"limit_price\":63128.7,\"order_qty\":3.96016409,\"timestamp\":\"2024-09-24T05:20:20.119636216Z\"},{\"event\":\"add\",\"order_id\":\"O3PF7P-FIANT-3OF6EX\",\"limit_price\":63132.3,\"order_qty\":0.46870000,\"timestamp\":\"2024-09-24T05:20:12.895482418Z\"}]}]}'\n",
      "++Rcv raw: b'\\x81~\\x01\\x84{\"channel\":\"level3\",\"type\":\"update\",\"data\":[{\"checksum\":2833907953,\"symbol\":\"BTC/USD\",\"bids\":[{\"event\":\"delete\",\"order_id\":\"OQOZ4S-ZY7UI-2Y4VWX\",\"limit_price\":63123.1,\"order_qty\":3.96051228,\"timestamp\":\"2024-09-24T05:20:20.119688061Z\"},{\"event\":\"add\",\"order_id\":\"OX6PMC-SPE6H-JS7VS2\",\"limit_price\":63115.5,\"order_qty\":0.00962325,\"timestamp\":\"2024-09-24T05:20:19.191920565Z\"}],\"asks\":[]}]}'\n",
      "++Rcv decoded: fin=1 opcode=1 data=b'{\"channel\":\"level3\",\"type\":\"update\",\"data\":[{\"checksum\":2833907953,\"symbol\":\"BTC/USD\",\"bids\":[{\"event\":\"delete\",\"order_id\":\"OQOZ4S-ZY7UI-2Y4VWX\",\"limit_price\":63123.1,\"order_qty\":3.96051228,\"timestamp\":\"2024-09-24T05:20:20.119688061Z\"},{\"event\":\"add\",\"order_id\":\"OX6PMC-SPE6H-JS7VS2\",\"limit_price\":63115.5,\"order_qty\":0.00962325,\"timestamp\":\"2024-09-24T05:20:19.191920565Z\"}],\"asks\":[]}]}'\n",
      "++Rcv raw: b'\\x81~\\x00\\xf4{\"channel\":\"level3\",\"type\":\"update\",\"data\":[{\"checksum\":36345153,\"symbol\":\"BTC/USD\",\"bids\":[{\"event\":\"add\",\"order_id\":\"O4ZLJ2-OMYLC-K7MUMW\",\"limit_price\":63125.4,\"order_qty\":3.96036786,\"timestamp\":\"2024-09-24T05:20:20.122520803Z\"}],\"asks\":[]}]}'\n",
      "++Rcv decoded: fin=1 opcode=1 data=b'{\"channel\":\"level3\",\"type\":\"update\",\"data\":[{\"checksum\":36345153,\"symbol\":\"BTC/USD\",\"bids\":[{\"event\":\"add\",\"order_id\":\"O4ZLJ2-OMYLC-K7MUMW\",\"limit_price\":63125.4,\"order_qty\":3.96036786,\"timestamp\":\"2024-09-24T05:20:20.122520803Z\"}],\"asks\":[]}]}'\n"
     ]
    },
    {
     "name": "stdout",
     "output_type": "stream",
     "text": [
      "{'channel': 'level3', 'type': 'update', 'data': [{'checksum': 2220721335, 'symbol': 'BTC/USD', 'bids': [{'event': 'delete', 'order_id': 'OD7QX3-KN2V7-J6IBRU', 'limit_price': 63123.4, 'order_qty': 0.00787233, 'timestamp': '2024-09-24T05:20:19.956402867Z'}], 'asks': []}]}\n",
      "{'channel': 'level3', 'type': 'update', 'data': [{'checksum': 2833907953, 'symbol': 'BTC/USD', 'bids': [{'event': 'delete', 'order_id': 'OFNJNL-ULTEA-GZ5VHD', 'limit_price': 63123.4, 'order_qty': 3.96049247, 'timestamp': '2024-09-24T05:20:19.962696006Z'}, {'event': 'add', 'order_id': 'OX6PMC-SPE6H-JS7VS2', 'limit_price': 63115.5, 'order_qty': 0.00962325, 'timestamp': '2024-09-24T05:20:19.191920565Z'}], 'asks': []}]}\n",
      "{'channel': 'level3', 'type': 'update', 'data': [{'checksum': 1936371074, 'symbol': 'BTC/USD', 'bids': [{'event': 'add', 'order_id': 'OAVAWZ-GWYRS-IOYB7C', 'limit_price': 63125.4, 'order_qty': 3.96037063, 'timestamp': '2024-09-24T05:20:19.965200721Z'}], 'asks': []}]}\n",
      "{'channel': 'level3', 'type': 'update', 'data': [{'checksum': 2833907953, 'symbol': 'BTC/USD', 'bids': [{'event': 'delete', 'order_id': 'OAVAWZ-GWYRS-IOYB7C', 'limit_price': 63125.4, 'order_qty': 3.96037063, 'timestamp': '2024-09-24T05:20:20.002622735Z'}, {'event': 'add', 'order_id': 'OX6PMC-SPE6H-JS7VS2', 'limit_price': 63115.5, 'order_qty': 0.00962325, 'timestamp': '2024-09-24T05:20:19.191920565Z'}], 'asks': []}]}\n",
      "{'channel': 'level3', 'type': 'update', 'data': [{'checksum': 2199757616, 'symbol': 'BTC/USD', 'bids': [{'event': 'add', 'order_id': 'OQOZ4S-ZY7UI-2Y4VWX', 'limit_price': 63123.1, 'order_qty': 3.96051228, 'timestamp': '2024-09-24T05:20:20.005564660Z'}], 'asks': []}]}\n",
      "{'channel': 'level3', 'type': 'update', 'data': [{'checksum': 2171656765, 'symbol': 'BTC/USD', 'bids': [], 'asks': [{'event': 'add', 'order_id': 'OFUTMD-J7AAS-QG5QJS', 'limit_price': 63128.7, 'order_qty': 3.96016409, 'timestamp': '2024-09-24T05:20:20.005749568Z'}]}]}\n",
      "{'channel': 'level3', 'type': 'update', 'data': [{'checksum': 2199757616, 'symbol': 'BTC/USD', 'bids': [], 'asks': [{'event': 'delete', 'order_id': 'OFUTMD-J7AAS-QG5QJS', 'limit_price': 63128.7, 'order_qty': 3.96016409, 'timestamp': '2024-09-24T05:20:20.119636216Z'}, {'event': 'add', 'order_id': 'O3PF7P-FIANT-3OF6EX', 'limit_price': 63132.3, 'order_qty': 0.4687, 'timestamp': '2024-09-24T05:20:12.895482418Z'}]}]}\n",
      "{'channel': 'level3', 'type': 'update', 'data': [{'checksum': 2833907953, 'symbol': 'BTC/USD', 'bids': [{'event': 'delete', 'order_id': 'OQOZ4S-ZY7UI-2Y4VWX', 'limit_price': 63123.1, 'order_qty': 3.96051228, 'timestamp': '2024-09-24T05:20:20.119688061Z'}, {'event': 'add', 'order_id': 'OX6PMC-SPE6H-JS7VS2', 'limit_price': 63115.5, 'order_qty': 0.00962325, 'timestamp': '2024-09-24T05:20:19.191920565Z'}], 'asks': []}]}\n",
      "{'channel': 'level3', 'type': 'update', 'data': [{'checksum': 36345153, 'symbol': 'BTC/USD', 'bids': [{'event': 'add', 'order_id': 'O4ZLJ2-OMYLC-K7MUMW', 'limit_price': 63125.4, 'order_qty': 3.96036786, 'timestamp': '2024-09-24T05:20:20.122520803Z'}], 'asks': []}]}\n"
     ]
    },
    {
     "name": "stderr",
     "output_type": "stream",
     "text": [
      "++Rcv raw: b'\\x81~\\x00\\xf6{\"channel\":\"level3\",\"type\":\"update\",\"data\":[{\"checksum\":2407429943,\"symbol\":\"BTC/USD\",\"bids\":[{\"event\":\"add\",\"order_id\":\"O32RIQ-QU6O6-IWGYJ5\",\"limit_price\":63123.3,\"order_qty\":0.00793264,\"timestamp\":\"2024-09-24T05:20:20.295548091Z\"}],\"asks\":[]}]}'\n",
      "++Rcv decoded: fin=1 opcode=1 data=b'{\"channel\":\"level3\",\"type\":\"update\",\"data\":[{\"checksum\":2407429943,\"symbol\":\"BTC/USD\",\"bids\":[{\"event\":\"add\",\"order_id\":\"O32RIQ-QU6O6-IWGYJ5\",\"limit_price\":63123.3,\"order_qty\":0.00793264,\"timestamp\":\"2024-09-24T05:20:20.295548091Z\"}],\"asks\":[]}]}'\n",
      "++Rcv raw: b'\\x81~\\x01\\x84{\"channel\":\"level3\",\"type\":\"update\",\"data\":[{\"checksum\":2867483705,\"symbol\":\"BTC/USD\",\"bids\":[{\"event\":\"delete\",\"order_id\":\"O4ZLJ2-OMYLC-K7MUMW\",\"limit_price\":63125.4,\"order_qty\":3.96036786,\"timestamp\":\"2024-09-24T05:20:20.418700227Z\"},{\"event\":\"add\",\"order_id\":\"ONWTJI-WY3VZ-E5ZPHW\",\"limit_price\":63117.2,\"order_qty\":0.21783346,\"timestamp\":\"2024-09-24T05:20:15.827981053Z\"}],\"asks\":[]}]}'\n",
      "++Rcv decoded: fin=1 opcode=1 data=b'{\"channel\":\"level3\",\"type\":\"update\",\"data\":[{\"checksum\":2867483705,\"symbol\":\"BTC/USD\",\"bids\":[{\"event\":\"delete\",\"order_id\":\"O4ZLJ2-OMYLC-K7MUMW\",\"limit_price\":63125.4,\"order_qty\":3.96036786,\"timestamp\":\"2024-09-24T05:20:20.418700227Z\"},{\"event\":\"add\",\"order_id\":\"ONWTJI-WY3VZ-E5ZPHW\",\"limit_price\":63117.2,\"order_qty\":0.21783346,\"timestamp\":\"2024-09-24T05:20:15.827981053Z\"}],\"asks\":[]}]}'\n",
      "++Rcv raw: b'\\x81~\\x00\\xf6{\"channel\":\"level3\",\"type\":\"update\",\"data\":[{\"checksum\":3967799179,\"symbol\":\"BTC/USD\",\"bids\":[{\"event\":\"add\",\"order_id\":\"OCR775-XALC2-PCZQYH\",\"limit_price\":63123.4,\"order_qty\":3.96049305,\"timestamp\":\"2024-09-24T05:20:20.421865726Z\"}],\"asks\":[]}]}'\n",
      "++Rcv decoded: fin=1 opcode=1 data=b'{\"channel\":\"level3\",\"type\":\"update\",\"data\":[{\"checksum\":3967799179,\"symbol\":\"BTC/USD\",\"bids\":[{\"event\":\"add\",\"order_id\":\"OCR775-XALC2-PCZQYH\",\"limit_price\":63123.4,\"order_qty\":3.96049305,\"timestamp\":\"2024-09-24T05:20:20.421865726Z\"}],\"asks\":[]}]}'\n"
     ]
    },
    {
     "name": "stdout",
     "output_type": "stream",
     "text": [
      "{'channel': 'level3', 'type': 'update', 'data': [{'checksum': 2407429943, 'symbol': 'BTC/USD', 'bids': [{'event': 'add', 'order_id': 'O32RIQ-QU6O6-IWGYJ5', 'limit_price': 63123.3, 'order_qty': 0.00793264, 'timestamp': '2024-09-24T05:20:20.295548091Z'}], 'asks': []}]}\n",
      "{'channel': 'level3', 'type': 'update', 'data': [{'checksum': 2867483705, 'symbol': 'BTC/USD', 'bids': [{'event': 'delete', 'order_id': 'O4ZLJ2-OMYLC-K7MUMW', 'limit_price': 63125.4, 'order_qty': 3.96036786, 'timestamp': '2024-09-24T05:20:20.418700227Z'}, {'event': 'add', 'order_id': 'ONWTJI-WY3VZ-E5ZPHW', 'limit_price': 63117.2, 'order_qty': 0.21783346, 'timestamp': '2024-09-24T05:20:15.827981053Z'}], 'asks': []}]}\n",
      "{'channel': 'level3', 'type': 'update', 'data': [{'checksum': 3967799179, 'symbol': 'BTC/USD', 'bids': [{'event': 'add', 'order_id': 'OCR775-XALC2-PCZQYH', 'limit_price': 63123.4, 'order_qty': 3.96049305, 'timestamp': '2024-09-24T05:20:20.421865726Z'}], 'asks': []}]}\n"
     ]
    },
    {
     "name": "stderr",
     "output_type": "stream",
     "text": [
      "++Rcv raw: b'\\x81\\x17{\"channel\":\"heartbeat\"}'\n",
      "++Rcv decoded: fin=1 opcode=1 data=b'{\"channel\":\"heartbeat\"}'\n"
     ]
    },
    {
     "name": "stdout",
     "output_type": "stream",
     "text": [
      "{'channel': 'heartbeat'}\n"
     ]
    },
    {
     "name": "stderr",
     "output_type": "stream",
     "text": [
      "++Rcv raw: b'\\x81~\\x01\\x84{\"channel\":\"level3\",\"type\":\"update\",\"data\":[{\"checksum\":2867483705,\"symbol\":\"BTC/USD\",\"bids\":[{\"event\":\"delete\",\"order_id\":\"OCR775-XALC2-PCZQYH\",\"limit_price\":63123.4,\"order_qty\":3.96049305,\"timestamp\":\"2024-09-24T05:20:21.018167909Z\"},{\"event\":\"add\",\"order_id\":\"ONWTJI-WY3VZ-E5ZPHW\",\"limit_price\":63117.2,\"order_qty\":0.21783346,\"timestamp\":\"2024-09-24T05:20:15.827981053Z\"}],\"asks\":[]}]}'\n",
      "++Rcv decoded: fin=1 opcode=1 data=b'{\"channel\":\"level3\",\"type\":\"update\",\"data\":[{\"checksum\":2867483705,\"symbol\":\"BTC/USD\",\"bids\":[{\"event\":\"delete\",\"order_id\":\"OCR775-XALC2-PCZQYH\",\"limit_price\":63123.4,\"order_qty\":3.96049305,\"timestamp\":\"2024-09-24T05:20:21.018167909Z\"},{\"event\":\"add\",\"order_id\":\"ONWTJI-WY3VZ-E5ZPHW\",\"limit_price\":63117.2,\"order_qty\":0.21783346,\"timestamp\":\"2024-09-24T05:20:15.827981053Z\"}],\"asks\":[]}]}'\n",
      "++Rcv raw: b'\\x81~\\x00\\xf6{\"channel\":\"level3\",\"type\":\"update\",\"data\":[{\"checksum\":1593430282,\"symbol\":\"BTC/USD\",\"bids\":[{\"event\":\"add\",\"order_id\":\"OJ3XSV-P44GA-72FTV5\",\"limit_price\":63125.4,\"order_qty\":3.96036741,\"timestamp\":\"2024-09-24T05:20:21.020986385Z\"}],\"asks\":[]}]}'\n",
      "++Rcv decoded: fin=1 opcode=1 data=b'{\"channel\":\"level3\",\"type\":\"update\",\"data\":[{\"checksum\":1593430282,\"symbol\":\"BTC/USD\",\"bids\":[{\"event\":\"add\",\"order_id\":\"OJ3XSV-P44GA-72FTV5\",\"limit_price\":63125.4,\"order_qty\":3.96036741,\"timestamp\":\"2024-09-24T05:20:21.020986385Z\"}],\"asks\":[]}]}'\n"
     ]
    },
    {
     "name": "stdout",
     "output_type": "stream",
     "text": [
      "{'channel': 'level3', 'type': 'update', 'data': [{'checksum': 2867483705, 'symbol': 'BTC/USD', 'bids': [{'event': 'delete', 'order_id': 'OCR775-XALC2-PCZQYH', 'limit_price': 63123.4, 'order_qty': 3.96049305, 'timestamp': '2024-09-24T05:20:21.018167909Z'}, {'event': 'add', 'order_id': 'ONWTJI-WY3VZ-E5ZPHW', 'limit_price': 63117.2, 'order_qty': 0.21783346, 'timestamp': '2024-09-24T05:20:15.827981053Z'}], 'asks': []}]}\n",
      "{'channel': 'level3', 'type': 'update', 'data': [{'checksum': 1593430282, 'symbol': 'BTC/USD', 'bids': [{'event': 'add', 'order_id': 'OJ3XSV-P44GA-72FTV5', 'limit_price': 63125.4, 'order_qty': 3.96036741, 'timestamp': '2024-09-24T05:20:21.020986385Z'}], 'asks': []}]}\n"
     ]
    },
    {
     "name": "stderr",
     "output_type": "stream",
     "text": [
      "++Rcv raw: b'\\x81~\\x00\\xf5{\"channel\":\"level3\",\"type\":\"update\",\"data\":[{\"checksum\":145160370,\"symbol\":\"BTC/USD\",\"bids\":[{\"event\":\"add\",\"order_id\":\"O6WJPM-3AZBO-XMHG44\",\"limit_price\":63125.8,\"order_qty\":0.02376208,\"timestamp\":\"2024-09-24T05:20:21.365641272Z\"}],\"asks\":[]}]}'\n",
      "++Rcv decoded: fin=1 opcode=1 data=b'{\"channel\":\"level3\",\"type\":\"update\",\"data\":[{\"checksum\":145160370,\"symbol\":\"BTC/USD\",\"bids\":[{\"event\":\"add\",\"order_id\":\"O6WJPM-3AZBO-XMHG44\",\"limit_price\":63125.8,\"order_qty\":0.02376208,\"timestamp\":\"2024-09-24T05:20:21.365641272Z\"}],\"asks\":[]}]}'\n",
      "++Rcv raw: b'\\x81~\\x00\\xf9{\"channel\":\"level3\",\"type\":\"update\",\"data\":[{\"checksum\":1593430282,\"symbol\":\"BTC/USD\",\"bids\":[{\"event\":\"delete\",\"order_id\":\"O6WJPM-3AZBO-XMHG44\",\"limit_price\":63125.8,\"order_qty\":0.02376208,\"timestamp\":\"2024-09-24T05:20:21.524440890Z\"}],\"asks\":[]}]}'\n",
      "++Rcv decoded: fin=1 opcode=1 data=b'{\"channel\":\"level3\",\"type\":\"update\",\"data\":[{\"checksum\":1593430282,\"symbol\":\"BTC/USD\",\"bids\":[{\"event\":\"delete\",\"order_id\":\"O6WJPM-3AZBO-XMHG44\",\"limit_price\":63125.8,\"order_qty\":0.02376208,\"timestamp\":\"2024-09-24T05:20:21.524440890Z\"}],\"asks\":[]}]}'\n"
     ]
    },
    {
     "name": "stdout",
     "output_type": "stream",
     "text": [
      "{'channel': 'level3', 'type': 'update', 'data': [{'checksum': 145160370, 'symbol': 'BTC/USD', 'bids': [{'event': 'add', 'order_id': 'O6WJPM-3AZBO-XMHG44', 'limit_price': 63125.8, 'order_qty': 0.02376208, 'timestamp': '2024-09-24T05:20:21.365641272Z'}], 'asks': []}]}\n",
      "{'channel': 'level3', 'type': 'update', 'data': [{'checksum': 1593430282, 'symbol': 'BTC/USD', 'bids': [{'event': 'delete', 'order_id': 'O6WJPM-3AZBO-XMHG44', 'limit_price': 63125.8, 'order_qty': 0.02376208, 'timestamp': '2024-09-24T05:20:21.524440890Z'}], 'asks': []}]}\n"
     ]
    },
    {
     "name": "stderr",
     "output_type": "stream",
     "text": [
      "++Rcv raw: b'\\x81\\x17{\"channel\":\"heartbeat\"}'\n",
      "++Rcv decoded: fin=1 opcode=1 data=b'{\"channel\":\"heartbeat\"}'\n",
      "++Rcv raw: b'\\x81~\\x01\\x84{\"channel\":\"level3\",\"type\":\"update\",\"data\":[{\"checksum\":2867483705,\"symbol\":\"BTC/USD\",\"bids\":[{\"event\":\"delete\",\"order_id\":\"OJ3XSV-P44GA-72FTV5\",\"limit_price\":63125.4,\"order_qty\":3.96036741,\"timestamp\":\"2024-09-24T05:20:21.871608202Z\"},{\"event\":\"add\",\"order_id\":\"ONWTJI-WY3VZ-E5ZPHW\",\"limit_price\":63117.2,\"order_qty\":0.21783346,\"timestamp\":\"2024-09-24T05:20:15.827981053Z\"}],\"asks\":[]}]}'\n",
      "++Rcv decoded: fin=1 opcode=1 data=b'{\"channel\":\"level3\",\"type\":\"update\",\"data\":[{\"checksum\":2867483705,\"symbol\":\"BTC/USD\",\"bids\":[{\"event\":\"delete\",\"order_id\":\"OJ3XSV-P44GA-72FTV5\",\"limit_price\":63125.4,\"order_qty\":3.96036741,\"timestamp\":\"2024-09-24T05:20:21.871608202Z\"},{\"event\":\"add\",\"order_id\":\"ONWTJI-WY3VZ-E5ZPHW\",\"limit_price\":63117.2,\"order_qty\":0.21783346,\"timestamp\":\"2024-09-24T05:20:15.827981053Z\"}],\"asks\":[]}]}'\n"
     ]
    },
    {
     "name": "stdout",
     "output_type": "stream",
     "text": [
      "{'channel': 'heartbeat'}\n",
      "{'channel': 'level3', 'type': 'update', 'data': [{'checksum': 2867483705, 'symbol': 'BTC/USD', 'bids': [{'event': 'delete', 'order_id': 'OJ3XSV-P44GA-72FTV5', 'limit_price': 63125.4, 'order_qty': 3.96036741, 'timestamp': '2024-09-24T05:20:21.871608202Z'}, {'event': 'add', 'order_id': 'ONWTJI-WY3VZ-E5ZPHW', 'limit_price': 63117.2, 'order_qty': 0.21783346, 'timestamp': '2024-09-24T05:20:15.827981053Z'}], 'asks': []}]}\n"
     ]
    },
    {
     "name": "stderr",
     "output_type": "stream",
     "text": [
      "++Rcv raw: b'\\x81~\\x01\\x84{\"channel\":\"level3\",\"type\":\"update\",\"data\":[{\"checksum\":3404944612,\"symbol\":\"BTC/USD\",\"bids\":[],\"asks\":[{\"event\":\"delete\",\"order_id\":\"O6M6S5-BSJGP-O4KXSV\",\"limit_price\":63131.2,\"order_qty\":3.96000881,\"timestamp\":\"2024-09-24T05:20:21.871694311Z\"},{\"event\":\"add\",\"order_id\":\"OKWBJO-57ZCN-ESFN5W\",\"limit_price\":63134.0,\"order_qty\":0.00015865,\"timestamp\":\"2024-09-24T05:00:50.764166862Z\"}]}]}'\n",
      "++Rcv decoded: fin=1 opcode=1 data=b'{\"channel\":\"level3\",\"type\":\"update\",\"data\":[{\"checksum\":3404944612,\"symbol\":\"BTC/USD\",\"bids\":[],\"asks\":[{\"event\":\"delete\",\"order_id\":\"O6M6S5-BSJGP-O4KXSV\",\"limit_price\":63131.2,\"order_qty\":3.96000881,\"timestamp\":\"2024-09-24T05:20:21.871694311Z\"},{\"event\":\"add\",\"order_id\":\"OKWBJO-57ZCN-ESFN5W\",\"limit_price\":63134.0,\"order_qty\":0.00015865,\"timestamp\":\"2024-09-24T05:00:50.764166862Z\"}]}]}'\n",
      "++Rcv raw: b'\\x81~\\x00\\xf6{\"channel\":\"level3\",\"type\":\"update\",\"data\":[{\"checksum\":3689826110,\"symbol\":\"BTC/USD\",\"bids\":[],\"asks\":[{\"event\":\"add\",\"order_id\":\"OFB4BW-2TZIK-C6XQSP\",\"limit_price\":63128.8,\"order_qty\":3.96015938,\"timestamp\":\"2024-09-24T05:20:21.874950680Z\"}]}]}'\n",
      "++Rcv decoded: fin=1 opcode=1 data=b'{\"channel\":\"level3\",\"type\":\"update\",\"data\":[{\"checksum\":3689826110,\"symbol\":\"BTC/USD\",\"bids\":[],\"asks\":[{\"event\":\"add\",\"order_id\":\"OFB4BW-2TZIK-C6XQSP\",\"limit_price\":63128.8,\"order_qty\":3.96015938,\"timestamp\":\"2024-09-24T05:20:21.874950680Z\"}]}]}'\n",
      "++Rcv raw: b'\\x81~\\x00\\xf6{\"channel\":\"level3\",\"type\":\"update\",\"data\":[{\"checksum\":4135387815,\"symbol\":\"BTC/USD\",\"bids\":[{\"event\":\"add\",\"order_id\":\"OUXXEO-J43AH-GM44RI\",\"limit_price\":63123.2,\"order_qty\":3.96050457,\"timestamp\":\"2024-09-24T05:20:21.875031034Z\"}],\"asks\":[]}]}'\n",
      "++Rcv decoded: fin=1 opcode=1 data=b'{\"channel\":\"level3\",\"type\":\"update\",\"data\":[{\"checksum\":4135387815,\"symbol\":\"BTC/USD\",\"bids\":[{\"event\":\"add\",\"order_id\":\"OUXXEO-J43AH-GM44RI\",\"limit_price\":63123.2,\"order_qty\":3.96050457,\"timestamp\":\"2024-09-24T05:20:21.875031034Z\"}],\"asks\":[]}]}'\n",
      "++Rcv raw: b'\\x81~\\x01\\x84{\"channel\":\"level3\",\"type\":\"update\",\"data\":[{\"checksum\":2908208802,\"symbol\":\"BTC/USD\",\"bids\":[{\"event\":\"delete\",\"order_id\":\"O32RIQ-QU6O6-IWGYJ5\",\"limit_price\":63123.3,\"order_qty\":0.00793264,\"timestamp\":\"2024-09-24T05:20:21.875461692Z\"},{\"event\":\"add\",\"order_id\":\"ONWTJI-WY3VZ-E5ZPHW\",\"limit_price\":63117.2,\"order_qty\":0.21783346,\"timestamp\":\"2024-09-24T05:20:15.827981053Z\"}],\"asks\":[]}]}'\n",
      "++Rcv decoded: fin=1 opcode=1 data=b'{\"channel\":\"level3\",\"type\":\"update\",\"data\":[{\"checksum\":2908208802,\"symbol\":\"BTC/USD\",\"bids\":[{\"event\":\"delete\",\"order_id\":\"O32RIQ-QU6O6-IWGYJ5\",\"limit_price\":63123.3,\"order_qty\":0.00793264,\"timestamp\":\"2024-09-24T05:20:21.875461692Z\"},{\"event\":\"add\",\"order_id\":\"ONWTJI-WY3VZ-E5ZPHW\",\"limit_price\":63117.2,\"order_qty\":0.21783346,\"timestamp\":\"2024-09-24T05:20:15.827981053Z\"}],\"asks\":[]}]}'\n",
      "++Rcv raw: b'\\x81~\\x01\\x84{\"channel\":\"level3\",\"type\":\"update\",\"data\":[{\"checksum\":2282093041,\"symbol\":\"BTC/USD\",\"bids\":[{\"event\":\"delete\",\"order_id\":\"O6MH2I-WV422-HCND4N\",\"limit_price\":63123.0,\"order_qty\":0.13452308,\"timestamp\":\"2024-09-24T05:20:21.883608279Z\"},{\"event\":\"add\",\"order_id\":\"OX6PMC-SPE6H-JS7VS2\",\"limit_price\":63115.5,\"order_qty\":0.00962325,\"timestamp\":\"2024-09-24T05:20:19.191920565Z\"}],\"asks\":[]}]}'\n",
      "++Rcv decoded: fin=1 opcode=1 data=b'{\"channel\":\"level3\",\"type\":\"update\",\"data\":[{\"checksum\":2282093041,\"symbol\":\"BTC/USD\",\"bids\":[{\"event\":\"delete\",\"order_id\":\"O6MH2I-WV422-HCND4N\",\"limit_price\":63123.0,\"order_qty\":0.13452308,\"timestamp\":\"2024-09-24T05:20:21.883608279Z\"},{\"event\":\"add\",\"order_id\":\"OX6PMC-SPE6H-JS7VS2\",\"limit_price\":63115.5,\"order_qty\":0.00962325,\"timestamp\":\"2024-09-24T05:20:19.191920565Z\"}],\"asks\":[]}]}'\n",
      "++Rcv raw: b'\\x81~\\x00\\xf6{\"channel\":\"level3\",\"type\":\"update\",\"data\":[{\"checksum\":1497082978,\"symbol\":\"BTC/USD\",\"bids\":[{\"event\":\"add\",\"order_id\":\"OB4WXK-FR527-PWNPW6\",\"limit_price\":63120.2,\"order_qty\":0.13452308,\"timestamp\":\"2024-09-24T05:20:21.883608283Z\"}],\"asks\":[]}]}'\n",
      "++Rcv decoded: fin=1 opcode=1 data=b'{\"channel\":\"level3\",\"type\":\"update\",\"data\":[{\"checksum\":1497082978,\"symbol\":\"BTC/USD\",\"bids\":[{\"event\":\"add\",\"order_id\":\"OB4WXK-FR527-PWNPW6\",\"limit_price\":63120.2,\"order_qty\":0.13452308,\"timestamp\":\"2024-09-24T05:20:21.883608283Z\"}],\"asks\":[]}]}'\n",
      "++Rcv raw: b'\\x81~\\x00\\xf5{\"channel\":\"level3\",\"type\":\"update\",\"data\":[{\"checksum\":335300987,\"symbol\":\"BTC/USD\",\"bids\":[],\"asks\":[{\"event\":\"add\",\"order_id\":\"ODUVRN-2K2CZ-QNP26Y\",\"limit_price\":63125.9,\"order_qty\":0.46870000,\"timestamp\":\"2024-09-24T05:20:21.884662206Z\"}]}]}'\n",
      "++Rcv decoded: fin=1 opcode=1 data=b'{\"channel\":\"level3\",\"type\":\"update\",\"data\":[{\"checksum\":335300987,\"symbol\":\"BTC/USD\",\"bids\":[],\"asks\":[{\"event\":\"add\",\"order_id\":\"ODUVRN-2K2CZ-QNP26Y\",\"limit_price\":63125.9,\"order_qty\":0.46870000,\"timestamp\":\"2024-09-24T05:20:21.884662206Z\"}]}]}'\n",
      "++Rcv raw: b'\\x81~\\x00\\xf5{\"channel\":\"level3\",\"type\":\"update\",\"data\":[{\"checksum\":175161477,\"symbol\":\"BTC/USD\",\"bids\":[{\"event\":\"add\",\"order_id\":\"OYLIQV-AWPJZ-NAOEGW\",\"limit_price\":63120.2,\"order_qty\":0.13452308,\"timestamp\":\"2024-09-24T05:20:21.887349786Z\"}],\"asks\":[]}]}'\n",
      "++Rcv decoded: fin=1 opcode=1 data=b'{\"channel\":\"level3\",\"type\":\"update\",\"data\":[{\"checksum\":175161477,\"symbol\":\"BTC/USD\",\"bids\":[{\"event\":\"add\",\"order_id\":\"OYLIQV-AWPJZ-NAOEGW\",\"limit_price\":63120.2,\"order_qty\":0.13452308,\"timestamp\":\"2024-09-24T05:20:21.887349786Z\"}],\"asks\":[]}]}'\n",
      "++Rcv raw: b'\\x81~\\x01\\x84{\"channel\":\"level3\",\"type\":\"update\",\"data\":[{\"checksum\":3561564279,\"symbol\":\"BTC/USD\",\"bids\":[{\"event\":\"delete\",\"order_id\":\"OJ2X7O-MCQGM-4ZQKIG\",\"limit_price\":63124.3,\"order_qty\":3.96043567,\"timestamp\":\"2024-09-24T05:20:21.900753496Z\"},{\"event\":\"add\",\"order_id\":\"OX6PMC-SPE6H-JS7VS2\",\"limit_price\":63115.5,\"order_qty\":0.00962325,\"timestamp\":\"2024-09-24T05:20:19.191920565Z\"}],\"asks\":[]}]}'\n",
      "++Rcv decoded: fin=1 opcode=1 data=b'{\"channel\":\"level3\",\"type\":\"update\",\"data\":[{\"checksum\":3561564279,\"symbol\":\"BTC/USD\",\"bids\":[{\"event\":\"delete\",\"order_id\":\"OJ2X7O-MCQGM-4ZQKIG\",\"limit_price\":63124.3,\"order_qty\":3.96043567,\"timestamp\":\"2024-09-24T05:20:21.900753496Z\"},{\"event\":\"add\",\"order_id\":\"OX6PMC-SPE6H-JS7VS2\",\"limit_price\":63115.5,\"order_qty\":0.00962325,\"timestamp\":\"2024-09-24T05:20:19.191920565Z\"}],\"asks\":[]}]}'\n",
      "++Rcv raw: b'\\x81~\\x00\\xf9{\"channel\":\"level3\",\"type\":\"update\",\"data\":[{\"checksum\":3032655016,\"symbol\":\"BTC/USD\",\"bids\":[],\"asks\":[{\"event\":\"delete\",\"order_id\":\"ODUVRN-2K2CZ-QNP26Y\",\"limit_price\":63125.9,\"order_qty\":0.46870000,\"timestamp\":\"2024-09-24T05:20:21.902008529Z\"}]}]}'\n",
      "++Rcv decoded: fin=1 opcode=1 data=b'{\"channel\":\"level3\",\"type\":\"update\",\"data\":[{\"checksum\":3032655016,\"symbol\":\"BTC/USD\",\"bids\":[],\"asks\":[{\"event\":\"delete\",\"order_id\":\"ODUVRN-2K2CZ-QNP26Y\",\"limit_price\":63125.9,\"order_qty\":0.46870000,\"timestamp\":\"2024-09-24T05:20:21.902008529Z\"}]}]}'\n",
      "++Rcv raw: b'\\x81~\\x00\\xf6{\"channel\":\"level3\",\"type\":\"update\",\"data\":[{\"checksum\":1165335053,\"symbol\":\"BTC/USD\",\"bids\":[{\"event\":\"add\",\"order_id\":\"OFTFU4-GROFJ-AIE62Y\",\"limit_price\":63124.7,\"order_qty\":3.96041225,\"timestamp\":\"2024-09-24T05:20:21.906730989Z\"}],\"asks\":[]}]}'\n",
      "++Rcv decoded: fin=1 opcode=1 data=b'{\"channel\":\"level3\",\"type\":\"update\",\"data\":[{\"checksum\":1165335053,\"symbol\":\"BTC/USD\",\"bids\":[{\"event\":\"add\",\"order_id\":\"OFTFU4-GROFJ-AIE62Y\",\"limit_price\":63124.7,\"order_qty\":3.96041225,\"timestamp\":\"2024-09-24T05:20:21.906730989Z\"}],\"asks\":[]}]}'\n",
      "++Rcv raw: b'\\x81~\\x00\\xf9{\"channel\":\"level3\",\"type\":\"update\",\"data\":[{\"checksum\":3793903357,\"symbol\":\"BTC/USD\",\"bids\":[{\"event\":\"delete\",\"order_id\":\"OB4WXK-FR527-PWNPW6\",\"limit_price\":63120.2,\"order_qty\":0.13452308,\"timestamp\":\"2024-09-24T05:20:21.945055444Z\"}],\"asks\":[]}]}'\n",
      "++Rcv decoded: fin=1 opcode=1 data=b'{\"channel\":\"level3\",\"type\":\"update\",\"data\":[{\"checksum\":3793903357,\"symbol\":\"BTC/USD\",\"bids\":[{\"event\":\"delete\",\"order_id\":\"OB4WXK-FR527-PWNPW6\",\"limit_price\":63120.2,\"order_qty\":0.13452308,\"timestamp\":\"2024-09-24T05:20:21.945055444Z\"}],\"asks\":[]}]}'\n",
      "++Rcv raw: b'\\x81~\\x00\\xf6{\"channel\":\"level3\",\"type\":\"update\",\"data\":[{\"checksum\":2833628132,\"symbol\":\"BTC/USD\",\"bids\":[],\"asks\":[{\"event\":\"add\",\"order_id\":\"OEGMCX-YOBJ3-D32J2P\",\"limit_price\":63125.9,\"order_qty\":0.46870000,\"timestamp\":\"2024-09-24T05:20:21.949596586Z\"}]}]}'\n",
      "++Rcv decoded: fin=1 opcode=1 data=b'{\"channel\":\"level3\",\"type\":\"update\",\"data\":[{\"checksum\":2833628132,\"symbol\":\"BTC/USD\",\"bids\":[],\"asks\":[{\"event\":\"add\",\"order_id\":\"OEGMCX-YOBJ3-D32J2P\",\"limit_price\":63125.9,\"order_qty\":0.46870000,\"timestamp\":\"2024-09-24T05:20:21.949596586Z\"}]}]}'\n",
      "++Rcv raw: b'\\x81~\\x00\\xf9{\"channel\":\"level3\",\"type\":\"update\",\"data\":[{\"checksum\":3793903357,\"symbol\":\"BTC/USD\",\"bids\":[],\"asks\":[{\"event\":\"delete\",\"order_id\":\"OEGMCX-YOBJ3-D32J2P\",\"limit_price\":63125.9,\"order_qty\":0.46870000,\"timestamp\":\"2024-09-24T05:20:21.978305504Z\"}]}]}'\n",
      "++Rcv decoded: fin=1 opcode=1 data=b'{\"channel\":\"level3\",\"type\":\"update\",\"data\":[{\"checksum\":3793903357,\"symbol\":\"BTC/USD\",\"bids\":[],\"asks\":[{\"event\":\"delete\",\"order_id\":\"OEGMCX-YOBJ3-D32J2P\",\"limit_price\":63125.9,\"order_qty\":0.46870000,\"timestamp\":\"2024-09-24T05:20:21.978305504Z\"}]}]}'\n",
      "++Rcv raw: b'\\x81~\\x01\\x84{\"channel\":\"level3\",\"type\":\"update\",\"data\":[{\"checksum\":1294831361,\"symbol\":\"BTC/USD\",\"bids\":[],\"asks\":[{\"event\":\"delete\",\"order_id\":\"OL6Z6V-VJR3X-YHA4VW\",\"limit_price\":63132.0,\"order_qty\":0.03730000,\"timestamp\":\"2024-09-24T05:20:22.015647307Z\"},{\"event\":\"add\",\"order_id\":\"OKWBJO-57ZCN-ESFN5W\",\"limit_price\":63134.0,\"order_qty\":0.00015865,\"timestamp\":\"2024-09-24T05:00:50.764166862Z\"}]}]}'\n",
      "++Rcv decoded: fin=1 opcode=1 data=b'{\"channel\":\"level3\",\"type\":\"update\",\"data\":[{\"checksum\":1294831361,\"symbol\":\"BTC/USD\",\"bids\":[],\"asks\":[{\"event\":\"delete\",\"order_id\":\"OL6Z6V-VJR3X-YHA4VW\",\"limit_price\":63132.0,\"order_qty\":0.03730000,\"timestamp\":\"2024-09-24T05:20:22.015647307Z\"},{\"event\":\"add\",\"order_id\":\"OKWBJO-57ZCN-ESFN5W\",\"limit_price\":63134.0,\"order_qty\":0.00015865,\"timestamp\":\"2024-09-24T05:00:50.764166862Z\"}]}]}'\n",
      "++Rcv raw: b'\\x81~\\x00\\xf6{\"channel\":\"level3\",\"type\":\"update\",\"data\":[{\"checksum\":3189237646,\"symbol\":\"BTC/USD\",\"bids\":[],\"asks\":[{\"event\":\"add\",\"order_id\":\"OX3CVY-2LIVR-DNG46C\",\"limit_price\":63126.0,\"order_qty\":0.03730000,\"timestamp\":\"2024-09-24T05:20:22.015749214Z\"}]}]}'\n",
      "++Rcv decoded: fin=1 opcode=1 data=b'{\"channel\":\"level3\",\"type\":\"update\",\"data\":[{\"checksum\":3189237646,\"symbol\":\"BTC/USD\",\"bids\":[],\"asks\":[{\"event\":\"add\",\"order_id\":\"OX3CVY-2LIVR-DNG46C\",\"limit_price\":63126.0,\"order_qty\":0.03730000,\"timestamp\":\"2024-09-24T05:20:22.015749214Z\"}]}]}'\n"
     ]
    },
    {
     "name": "stdout",
     "output_type": "stream",
     "text": [
      "{'channel': 'level3', 'type': 'update', 'data': [{'checksum': 3404944612, 'symbol': 'BTC/USD', 'bids': [], 'asks': [{'event': 'delete', 'order_id': 'O6M6S5-BSJGP-O4KXSV', 'limit_price': 63131.2, 'order_qty': 3.96000881, 'timestamp': '2024-09-24T05:20:21.871694311Z'}, {'event': 'add', 'order_id': 'OKWBJO-57ZCN-ESFN5W', 'limit_price': 63134.0, 'order_qty': 0.00015865, 'timestamp': '2024-09-24T05:00:50.764166862Z'}]}]}\n",
      "{'channel': 'level3', 'type': 'update', 'data': [{'checksum': 3689826110, 'symbol': 'BTC/USD', 'bids': [], 'asks': [{'event': 'add', 'order_id': 'OFB4BW-2TZIK-C6XQSP', 'limit_price': 63128.8, 'order_qty': 3.96015938, 'timestamp': '2024-09-24T05:20:21.874950680Z'}]}]}\n",
      "{'channel': 'level3', 'type': 'update', 'data': [{'checksum': 4135387815, 'symbol': 'BTC/USD', 'bids': [{'event': 'add', 'order_id': 'OUXXEO-J43AH-GM44RI', 'limit_price': 63123.2, 'order_qty': 3.96050457, 'timestamp': '2024-09-24T05:20:21.875031034Z'}], 'asks': []}]}\n",
      "{'channel': 'level3', 'type': 'update', 'data': [{'checksum': 2908208802, 'symbol': 'BTC/USD', 'bids': [{'event': 'delete', 'order_id': 'O32RIQ-QU6O6-IWGYJ5', 'limit_price': 63123.3, 'order_qty': 0.00793264, 'timestamp': '2024-09-24T05:20:21.875461692Z'}, {'event': 'add', 'order_id': 'ONWTJI-WY3VZ-E5ZPHW', 'limit_price': 63117.2, 'order_qty': 0.21783346, 'timestamp': '2024-09-24T05:20:15.827981053Z'}], 'asks': []}]}\n",
      "{'channel': 'level3', 'type': 'update', 'data': [{'checksum': 2282093041, 'symbol': 'BTC/USD', 'bids': [{'event': 'delete', 'order_id': 'O6MH2I-WV422-HCND4N', 'limit_price': 63123.0, 'order_qty': 0.13452308, 'timestamp': '2024-09-24T05:20:21.883608279Z'}, {'event': 'add', 'order_id': 'OX6PMC-SPE6H-JS7VS2', 'limit_price': 63115.5, 'order_qty': 0.00962325, 'timestamp': '2024-09-24T05:20:19.191920565Z'}], 'asks': []}]}\n",
      "{'channel': 'level3', 'type': 'update', 'data': [{'checksum': 1497082978, 'symbol': 'BTC/USD', 'bids': [{'event': 'add', 'order_id': 'OB4WXK-FR527-PWNPW6', 'limit_price': 63120.2, 'order_qty': 0.13452308, 'timestamp': '2024-09-24T05:20:21.883608283Z'}], 'asks': []}]}\n",
      "{'channel': 'level3', 'type': 'update', 'data': [{'checksum': 335300987, 'symbol': 'BTC/USD', 'bids': [], 'asks': [{'event': 'add', 'order_id': 'ODUVRN-2K2CZ-QNP26Y', 'limit_price': 63125.9, 'order_qty': 0.4687, 'timestamp': '2024-09-24T05:20:21.884662206Z'}]}]}\n",
      "{'channel': 'level3', 'type': 'update', 'data': [{'checksum': 175161477, 'symbol': 'BTC/USD', 'bids': [{'event': 'add', 'order_id': 'OYLIQV-AWPJZ-NAOEGW', 'limit_price': 63120.2, 'order_qty': 0.13452308, 'timestamp': '2024-09-24T05:20:21.887349786Z'}], 'asks': []}]}\n",
      "{'channel': 'level3', 'type': 'update', 'data': [{'checksum': 3561564279, 'symbol': 'BTC/USD', 'bids': [{'event': 'delete', 'order_id': 'OJ2X7O-MCQGM-4ZQKIG', 'limit_price': 63124.3, 'order_qty': 3.96043567, 'timestamp': '2024-09-24T05:20:21.900753496Z'}, {'event': 'add', 'order_id': 'OX6PMC-SPE6H-JS7VS2', 'limit_price': 63115.5, 'order_qty': 0.00962325, 'timestamp': '2024-09-24T05:20:19.191920565Z'}], 'asks': []}]}\n",
      "{'channel': 'level3', 'type': 'update', 'data': [{'checksum': 3032655016, 'symbol': 'BTC/USD', 'bids': [], 'asks': [{'event': 'delete', 'order_id': 'ODUVRN-2K2CZ-QNP26Y', 'limit_price': 63125.9, 'order_qty': 0.4687, 'timestamp': '2024-09-24T05:20:21.902008529Z'}]}]}\n",
      "{'channel': 'level3', 'type': 'update', 'data': [{'checksum': 1165335053, 'symbol': 'BTC/USD', 'bids': [{'event': 'add', 'order_id': 'OFTFU4-GROFJ-AIE62Y', 'limit_price': 63124.7, 'order_qty': 3.96041225, 'timestamp': '2024-09-24T05:20:21.906730989Z'}], 'asks': []}]}\n",
      "{'channel': 'level3', 'type': 'update', 'data': [{'checksum': 3793903357, 'symbol': 'BTC/USD', 'bids': [{'event': 'delete', 'order_id': 'OB4WXK-FR527-PWNPW6', 'limit_price': 63120.2, 'order_qty': 0.13452308, 'timestamp': '2024-09-24T05:20:21.945055444Z'}], 'asks': []}]}\n",
      "{'channel': 'level3', 'type': 'update', 'data': [{'checksum': 2833628132, 'symbol': 'BTC/USD', 'bids': [], 'asks': [{'event': 'add', 'order_id': 'OEGMCX-YOBJ3-D32J2P', 'limit_price': 63125.9, 'order_qty': 0.4687, 'timestamp': '2024-09-24T05:20:21.949596586Z'}]}]}\n",
      "{'channel': 'level3', 'type': 'update', 'data': [{'checksum': 3793903357, 'symbol': 'BTC/USD', 'bids': [], 'asks': [{'event': 'delete', 'order_id': 'OEGMCX-YOBJ3-D32J2P', 'limit_price': 63125.9, 'order_qty': 0.4687, 'timestamp': '2024-09-24T05:20:21.978305504Z'}]}]}\n",
      "{'channel': 'level3', 'type': 'update', 'data': [{'checksum': 1294831361, 'symbol': 'BTC/USD', 'bids': [], 'asks': [{'event': 'delete', 'order_id': 'OL6Z6V-VJR3X-YHA4VW', 'limit_price': 63132.0, 'order_qty': 0.0373, 'timestamp': '2024-09-24T05:20:22.015647307Z'}, {'event': 'add', 'order_id': 'OKWBJO-57ZCN-ESFN5W', 'limit_price': 63134.0, 'order_qty': 0.00015865, 'timestamp': '2024-09-24T05:00:50.764166862Z'}]}]}\n",
      "{'channel': 'level3', 'type': 'update', 'data': [{'checksum': 3189237646, 'symbol': 'BTC/USD', 'bids': [], 'asks': [{'event': 'add', 'order_id': 'OX3CVY-2LIVR-DNG46C', 'limit_price': 63126.0, 'order_qty': 0.0373, 'timestamp': '2024-09-24T05:20:22.015749214Z'}]}]}\n"
     ]
    },
    {
     "name": "stderr",
     "output_type": "stream",
     "text": [
      "++Rcv raw: b'\\x81~\\x01\\x84{\"channel\":\"level3\",\"type\":\"update\",\"data\":[{\"checksum\":3602621565,\"symbol\":\"BTC/USD\",\"bids\":[{\"event\":\"delete\",\"order_id\":\"OFTFU4-GROFJ-AIE62Y\",\"limit_price\":63124.7,\"order_qty\":3.96041225,\"timestamp\":\"2024-09-24T05:20:22.233837086Z\"},{\"event\":\"add\",\"order_id\":\"OHYSTO-VZCT2-QSJG7V\",\"limit_price\":63115.5,\"order_qty\":0.01085432,\"timestamp\":\"2024-09-24T05:20:21.917136362Z\"}],\"asks\":[]}]}'\n",
      "++Rcv decoded: fin=1 opcode=1 data=b'{\"channel\":\"level3\",\"type\":\"update\",\"data\":[{\"checksum\":3602621565,\"symbol\":\"BTC/USD\",\"bids\":[{\"event\":\"delete\",\"order_id\":\"OFTFU4-GROFJ-AIE62Y\",\"limit_price\":63124.7,\"order_qty\":3.96041225,\"timestamp\":\"2024-09-24T05:20:22.233837086Z\"},{\"event\":\"add\",\"order_id\":\"OHYSTO-VZCT2-QSJG7V\",\"limit_price\":63115.5,\"order_qty\":0.01085432,\"timestamp\":\"2024-09-24T05:20:21.917136362Z\"}],\"asks\":[]}]}'\n",
      "++Rcv raw: b'\\x81~\\x00\\xf6{\"channel\":\"level3\",\"type\":\"update\",\"data\":[{\"checksum\":4047363259,\"symbol\":\"BTC/USD\",\"bids\":[{\"event\":\"add\",\"order_id\":\"OSI7WX-GUOPG-WK3PE7\",\"limit_price\":63119.2,\"order_qty\":3.96075941,\"timestamp\":\"2024-09-24T05:20:22.237385160Z\"}],\"asks\":[]}]}'\n",
      "++Rcv decoded: fin=1 opcode=1 data=b'{\"channel\":\"level3\",\"type\":\"update\",\"data\":[{\"checksum\":4047363259,\"symbol\":\"BTC/USD\",\"bids\":[{\"event\":\"add\",\"order_id\":\"OSI7WX-GUOPG-WK3PE7\",\"limit_price\":63119.2,\"order_qty\":3.96075941,\"timestamp\":\"2024-09-24T05:20:22.237385160Z\"}],\"asks\":[]}]}'\n",
      "++Rcv raw: b'\\x81~\\x00\\xf6{\"channel\":\"level3\",\"type\":\"update\",\"data\":[{\"checksum\":1767871118,\"symbol\":\"BTC/USD\",\"bids\":[],\"asks\":[{\"event\":\"add\",\"order_id\":\"OKNFLS-LHP3Q-3CPIYH\",\"limit_price\":63127.7,\"order_qty\":3.96023017,\"timestamp\":\"2024-09-24T05:20:22.237431333Z\"}]}]}'\n",
      "++Rcv decoded: fin=1 opcode=1 data=b'{\"channel\":\"level3\",\"type\":\"update\",\"data\":[{\"checksum\":1767871118,\"symbol\":\"BTC/USD\",\"bids\":[],\"asks\":[{\"event\":\"add\",\"order_id\":\"OKNFLS-LHP3Q-3CPIYH\",\"limit_price\":63127.7,\"order_qty\":3.96023017,\"timestamp\":\"2024-09-24T05:20:22.237431333Z\"}]}]}'\n",
      "++Rcv raw: b'\\x81~\\x00\\xf9{\"channel\":\"level3\",\"type\":\"update\",\"data\":[{\"checksum\":2457884224,\"symbol\":\"BTC/USD\",\"bids\":[{\"event\":\"delete\",\"order_id\":\"OLNAIX-2JXZK-7J2Q5Y\",\"limit_price\":63120.8,\"order_qty\":3.96065401,\"timestamp\":\"2024-09-24T05:20:22.239311918Z\"}],\"asks\":[]}]}'\n",
      "++Rcv decoded: fin=1 opcode=1 data=b'{\"channel\":\"level3\",\"type\":\"update\",\"data\":[{\"checksum\":2457884224,\"symbol\":\"BTC/USD\",\"bids\":[{\"event\":\"delete\",\"order_id\":\"OLNAIX-2JXZK-7J2Q5Y\",\"limit_price\":63120.8,\"order_qty\":3.96065401,\"timestamp\":\"2024-09-24T05:20:22.239311918Z\"}],\"asks\":[]}]}'\n",
      "++Rcv raw: b'\\x81~\\x00\\xf6{\"channel\":\"level3\",\"type\":\"update\",\"data\":[{\"checksum\":1658392664,\"symbol\":\"BTC/USD\",\"bids\":[{\"event\":\"add\",\"order_id\":\"OP7P4D-3UV4J-BIHFUZ\",\"limit_price\":63122.5,\"order_qty\":3.96055121,\"timestamp\":\"2024-09-24T05:20:22.241728472Z\"}],\"asks\":[]}]}'\n",
      "++Rcv decoded: fin=1 opcode=1 data=b'{\"channel\":\"level3\",\"type\":\"update\",\"data\":[{\"checksum\":1658392664,\"symbol\":\"BTC/USD\",\"bids\":[{\"event\":\"add\",\"order_id\":\"OP7P4D-3UV4J-BIHFUZ\",\"limit_price\":63122.5,\"order_qty\":3.96055121,\"timestamp\":\"2024-09-24T05:20:22.241728472Z\"}],\"asks\":[]}]}'\n",
      "++Rcv raw: b'\\x81~\\x00\\xf5{\"channel\":\"level3\",\"type\":\"update\",\"data\":[{\"checksum\":116948861,\"symbol\":\"BTC/USD\",\"bids\":[],\"asks\":[{\"event\":\"add\",\"order_id\":\"OPJG72-JVV6R-F7HE5A\",\"limit_price\":63125.9,\"order_qty\":0.46870000,\"timestamp\":\"2024-09-24T05:20:22.265281174Z\"}]}]}'\n",
      "++Rcv decoded: fin=1 opcode=1 data=b'{\"channel\":\"level3\",\"type\":\"update\",\"data\":[{\"checksum\":116948861,\"symbol\":\"BTC/USD\",\"bids\":[],\"asks\":[{\"event\":\"add\",\"order_id\":\"OPJG72-JVV6R-F7HE5A\",\"limit_price\":63125.9,\"order_qty\":0.46870000,\"timestamp\":\"2024-09-24T05:20:22.265281174Z\"}]}]}'\n",
      "++Rcv raw: b'\\x81~\\x00\\xf9{\"channel\":\"level3\",\"type\":\"update\",\"data\":[{\"checksum\":1658392664,\"symbol\":\"BTC/USD\",\"bids\":[],\"asks\":[{\"event\":\"delete\",\"order_id\":\"OPJG72-JVV6R-F7HE5A\",\"limit_price\":63125.9,\"order_qty\":0.46870000,\"timestamp\":\"2024-09-24T05:20:22.267433788Z\"}]}]}'\n",
      "++Rcv decoded: fin=1 opcode=1 data=b'{\"channel\":\"level3\",\"type\":\"update\",\"data\":[{\"checksum\":1658392664,\"symbol\":\"BTC/USD\",\"bids\":[],\"asks\":[{\"event\":\"delete\",\"order_id\":\"OPJG72-JVV6R-F7HE5A\",\"limit_price\":63125.9,\"order_qty\":0.46870000,\"timestamp\":\"2024-09-24T05:20:22.267433788Z\"}]}]}'\n",
      "++Rcv raw: b'\\x81~\\x01\\x84{\"channel\":\"level3\",\"type\":\"update\",\"data\":[{\"checksum\":3409688334,\"symbol\":\"BTC/USD\",\"bids\":[{\"event\":\"delete\",\"order_id\":\"OAW7HX-DJZET-VAUTM3\",\"limit_price\":63118.1,\"order_qty\":0.06000000,\"timestamp\":\"2024-09-24T05:20:22.293799245Z\"},{\"event\":\"add\",\"order_id\":\"ONWTJI-WY3VZ-E5ZPHW\",\"limit_price\":63117.2,\"order_qty\":0.21783346,\"timestamp\":\"2024-09-24T05:20:15.827981053Z\"}],\"asks\":[]}]}'\n",
      "++Rcv decoded: fin=1 opcode=1 data=b'{\"channel\":\"level3\",\"type\":\"update\",\"data\":[{\"checksum\":3409688334,\"symbol\":\"BTC/USD\",\"bids\":[{\"event\":\"delete\",\"order_id\":\"OAW7HX-DJZET-VAUTM3\",\"limit_price\":63118.1,\"order_qty\":0.06000000,\"timestamp\":\"2024-09-24T05:20:22.293799245Z\"},{\"event\":\"add\",\"order_id\":\"ONWTJI-WY3VZ-E5ZPHW\",\"limit_price\":63117.2,\"order_qty\":0.21783346,\"timestamp\":\"2024-09-24T05:20:15.827981053Z\"}],\"asks\":[]}]}'\n",
      "++Rcv raw: b'\\x81~\\x00\\xf6{\"channel\":\"level3\",\"type\":\"update\",\"data\":[{\"checksum\":2153464358,\"symbol\":\"BTC/USD\",\"bids\":[],\"asks\":[{\"event\":\"add\",\"order_id\":\"OLCYCE-HTS66-MMKCPZ\",\"limit_price\":63125.9,\"order_qty\":0.46870000,\"timestamp\":\"2024-09-24T05:20:22.305054558Z\"}]}]}'\n",
      "++Rcv decoded: fin=1 opcode=1 data=b'{\"channel\":\"level3\",\"type\":\"update\",\"data\":[{\"checksum\":2153464358,\"symbol\":\"BTC/USD\",\"bids\":[],\"asks\":[{\"event\":\"add\",\"order_id\":\"OLCYCE-HTS66-MMKCPZ\",\"limit_price\":63125.9,\"order_qty\":0.46870000,\"timestamp\":\"2024-09-24T05:20:22.305054558Z\"}]}]}'\n",
      "++Rcv raw: b'\\x81~\\x01\\x84{\"channel\":\"level3\",\"type\":\"update\",\"data\":[{\"checksum\":3270147957,\"symbol\":\"BTC/USD\",\"bids\":[],\"asks\":[{\"event\":\"delete\",\"order_id\":\"OFB4BW-2TZIK-C6XQSP\",\"limit_price\":63128.8,\"order_qty\":3.96015938,\"timestamp\":\"2024-09-24T05:20:22.384951441Z\"},{\"event\":\"add\",\"order_id\":\"OKWBJO-57ZCN-ESFN5W\",\"limit_price\":63134.0,\"order_qty\":0.00015865,\"timestamp\":\"2024-09-24T05:00:50.764166862Z\"}]}]}'\n",
      "++Rcv decoded: fin=1 opcode=1 data=b'{\"channel\":\"level3\",\"type\":\"update\",\"data\":[{\"checksum\":3270147957,\"symbol\":\"BTC/USD\",\"bids\":[],\"asks\":[{\"event\":\"delete\",\"order_id\":\"OFB4BW-2TZIK-C6XQSP\",\"limit_price\":63128.8,\"order_qty\":3.96015938,\"timestamp\":\"2024-09-24T05:20:22.384951441Z\"},{\"event\":\"add\",\"order_id\":\"OKWBJO-57ZCN-ESFN5W\",\"limit_price\":63134.0,\"order_qty\":0.00015865,\"timestamp\":\"2024-09-24T05:00:50.764166862Z\"}]}]}'\n",
      "++Rcv raw: b'\\x81~\\x00\\xf6{\"channel\":\"level3\",\"type\":\"update\",\"data\":[{\"checksum\":1042871742,\"symbol\":\"BTC/USD\",\"bids\":[],\"asks\":[{\"event\":\"add\",\"order_id\":\"OP2MBL-ZGDZW-5I42DP\",\"limit_price\":63132.5,\"order_qty\":3.95992765,\"timestamp\":\"2024-09-24T05:20:22.387695307Z\"}]}]}'\n",
      "++Rcv decoded: fin=1 opcode=1 data=b'{\"channel\":\"level3\",\"type\":\"update\",\"data\":[{\"checksum\":1042871742,\"symbol\":\"BTC/USD\",\"bids\":[],\"asks\":[{\"event\":\"add\",\"order_id\":\"OP2MBL-ZGDZW-5I42DP\",\"limit_price\":63132.5,\"order_qty\":3.95992765,\"timestamp\":\"2024-09-24T05:20:22.387695307Z\"}]}]}'\n",
      "++Rcv raw: b'\\x81~\\x00\\xf6{\"channel\":\"level3\",\"type\":\"update\",\"data\":[{\"checksum\":4218271373,\"symbol\":\"BTC/USD\",\"bids\":[{\"event\":\"add\",\"order_id\":\"OW6S73-6N453-DETKKO\",\"limit_price\":63125.8,\"order_qty\":0.01399625,\"timestamp\":\"2024-09-24T05:20:22.392650128Z\"}],\"asks\":[]}]}'\n",
      "++Rcv decoded: fin=1 opcode=1 data=b'{\"channel\":\"level3\",\"type\":\"update\",\"data\":[{\"checksum\":4218271373,\"symbol\":\"BTC/USD\",\"bids\":[{\"event\":\"add\",\"order_id\":\"OW6S73-6N453-DETKKO\",\"limit_price\":63125.8,\"order_qty\":0.01399625,\"timestamp\":\"2024-09-24T05:20:22.392650128Z\"}],\"asks\":[]}]}'\n"
     ]
    },
    {
     "name": "stdout",
     "output_type": "stream",
     "text": [
      "{'channel': 'level3', 'type': 'update', 'data': [{'checksum': 3602621565, 'symbol': 'BTC/USD', 'bids': [{'event': 'delete', 'order_id': 'OFTFU4-GROFJ-AIE62Y', 'limit_price': 63124.7, 'order_qty': 3.96041225, 'timestamp': '2024-09-24T05:20:22.233837086Z'}, {'event': 'add', 'order_id': 'OHYSTO-VZCT2-QSJG7V', 'limit_price': 63115.5, 'order_qty': 0.01085432, 'timestamp': '2024-09-24T05:20:21.917136362Z'}], 'asks': []}]}\n",
      "{'channel': 'level3', 'type': 'update', 'data': [{'checksum': 4047363259, 'symbol': 'BTC/USD', 'bids': [{'event': 'add', 'order_id': 'OSI7WX-GUOPG-WK3PE7', 'limit_price': 63119.2, 'order_qty': 3.96075941, 'timestamp': '2024-09-24T05:20:22.237385160Z'}], 'asks': []}]}\n",
      "{'channel': 'level3', 'type': 'update', 'data': [{'checksum': 1767871118, 'symbol': 'BTC/USD', 'bids': [], 'asks': [{'event': 'add', 'order_id': 'OKNFLS-LHP3Q-3CPIYH', 'limit_price': 63127.7, 'order_qty': 3.96023017, 'timestamp': '2024-09-24T05:20:22.237431333Z'}]}]}\n",
      "{'channel': 'level3', 'type': 'update', 'data': [{'checksum': 2457884224, 'symbol': 'BTC/USD', 'bids': [{'event': 'delete', 'order_id': 'OLNAIX-2JXZK-7J2Q5Y', 'limit_price': 63120.8, 'order_qty': 3.96065401, 'timestamp': '2024-09-24T05:20:22.239311918Z'}], 'asks': []}]}\n",
      "{'channel': 'level3', 'type': 'update', 'data': [{'checksum': 1658392664, 'symbol': 'BTC/USD', 'bids': [{'event': 'add', 'order_id': 'OP7P4D-3UV4J-BIHFUZ', 'limit_price': 63122.5, 'order_qty': 3.96055121, 'timestamp': '2024-09-24T05:20:22.241728472Z'}], 'asks': []}]}\n",
      "{'channel': 'level3', 'type': 'update', 'data': [{'checksum': 116948861, 'symbol': 'BTC/USD', 'bids': [], 'asks': [{'event': 'add', 'order_id': 'OPJG72-JVV6R-F7HE5A', 'limit_price': 63125.9, 'order_qty': 0.4687, 'timestamp': '2024-09-24T05:20:22.265281174Z'}]}]}\n",
      "{'channel': 'level3', 'type': 'update', 'data': [{'checksum': 1658392664, 'symbol': 'BTC/USD', 'bids': [], 'asks': [{'event': 'delete', 'order_id': 'OPJG72-JVV6R-F7HE5A', 'limit_price': 63125.9, 'order_qty': 0.4687, 'timestamp': '2024-09-24T05:20:22.267433788Z'}]}]}\n",
      "{'channel': 'level3', 'type': 'update', 'data': [{'checksum': 3409688334, 'symbol': 'BTC/USD', 'bids': [{'event': 'delete', 'order_id': 'OAW7HX-DJZET-VAUTM3', 'limit_price': 63118.1, 'order_qty': 0.06, 'timestamp': '2024-09-24T05:20:22.293799245Z'}, {'event': 'add', 'order_id': 'ONWTJI-WY3VZ-E5ZPHW', 'limit_price': 63117.2, 'order_qty': 0.21783346, 'timestamp': '2024-09-24T05:20:15.827981053Z'}], 'asks': []}]}\n",
      "{'channel': 'level3', 'type': 'update', 'data': [{'checksum': 2153464358, 'symbol': 'BTC/USD', 'bids': [], 'asks': [{'event': 'add', 'order_id': 'OLCYCE-HTS66-MMKCPZ', 'limit_price': 63125.9, 'order_qty': 0.4687, 'timestamp': '2024-09-24T05:20:22.305054558Z'}]}]}\n",
      "{'channel': 'level3', 'type': 'update', 'data': [{'checksum': 3270147957, 'symbol': 'BTC/USD', 'bids': [], 'asks': [{'event': 'delete', 'order_id': 'OFB4BW-2TZIK-C6XQSP', 'limit_price': 63128.8, 'order_qty': 3.96015938, 'timestamp': '2024-09-24T05:20:22.384951441Z'}, {'event': 'add', 'order_id': 'OKWBJO-57ZCN-ESFN5W', 'limit_price': 63134.0, 'order_qty': 0.00015865, 'timestamp': '2024-09-24T05:00:50.764166862Z'}]}]}\n",
      "{'channel': 'level3', 'type': 'update', 'data': [{'checksum': 1042871742, 'symbol': 'BTC/USD', 'bids': [], 'asks': [{'event': 'add', 'order_id': 'OP2MBL-ZGDZW-5I42DP', 'limit_price': 63132.5, 'order_qty': 3.95992765, 'timestamp': '2024-09-24T05:20:22.387695307Z'}]}]}\n",
      "{'channel': 'level3', 'type': 'update', 'data': [{'checksum': 4218271373, 'symbol': 'BTC/USD', 'bids': [{'event': 'add', 'order_id': 'OW6S73-6N453-DETKKO', 'limit_price': 63125.8, 'order_qty': 0.01399625, 'timestamp': '2024-09-24T05:20:22.392650128Z'}], 'asks': []}]}\n"
     ]
    },
    {
     "name": "stderr",
     "output_type": "stream",
     "text": [
      "++Rcv raw: b'\\x81~\\x00\\xf9{\"channel\":\"level3\",\"type\":\"update\",\"data\":[{\"checksum\":1042871742,\"symbol\":\"BTC/USD\",\"bids\":[{\"event\":\"delete\",\"order_id\":\"OW6S73-6N453-DETKKO\",\"limit_price\":63125.8,\"order_qty\":0.01399625,\"timestamp\":\"2024-09-24T05:20:22.555204524Z\"}],\"asks\":[]}]}'\n",
      "++Rcv decoded: fin=1 opcode=1 data=b'{\"channel\":\"level3\",\"type\":\"update\",\"data\":[{\"checksum\":1042871742,\"symbol\":\"BTC/USD\",\"bids\":[{\"event\":\"delete\",\"order_id\":\"OW6S73-6N453-DETKKO\",\"limit_price\":63125.8,\"order_qty\":0.01399625,\"timestamp\":\"2024-09-24T05:20:22.555204524Z\"}],\"asks\":[]}]}'\n",
      "++Rcv raw: b'\\x81~\\x00\\xf9{\"channel\":\"level3\",\"type\":\"update\",\"data\":[{\"checksum\":2068519258,\"symbol\":\"BTC/USD\",\"bids\":[{\"event\":\"delete\",\"order_id\":\"OL3BME-RT2CU-KFQO5E\",\"limit_price\":63125.8,\"order_qty\":0.01690505,\"timestamp\":\"2024-09-24T05:20:22.557141460Z\"}],\"asks\":[]}]}'\n",
      "++Rcv decoded: fin=1 opcode=1 data=b'{\"channel\":\"level3\",\"type\":\"update\",\"data\":[{\"checksum\":2068519258,\"symbol\":\"BTC/USD\",\"bids\":[{\"event\":\"delete\",\"order_id\":\"OL3BME-RT2CU-KFQO5E\",\"limit_price\":63125.8,\"order_qty\":0.01690505,\"timestamp\":\"2024-09-24T05:20:22.557141460Z\"}],\"asks\":[]}]}'\n",
      "++Rcv raw: b'\\x81~\\x00\\xf6{\"channel\":\"level3\",\"type\":\"update\",\"data\":[{\"checksum\":1325527613,\"symbol\":\"BTC/USD\",\"bids\":[],\"asks\":[{\"event\":\"add\",\"order_id\":\"OLHY7E-Q6ZVC-75HDIC\",\"limit_price\":63125.9,\"order_qty\":0.36390760,\"timestamp\":\"2024-09-24T05:20:22.558174323Z\"}]}]}'\n",
      "++Rcv decoded: fin=1 opcode=1 data=b'{\"channel\":\"level3\",\"type\":\"update\",\"data\":[{\"checksum\":1325527613,\"symbol\":\"BTC/USD\",\"bids\":[],\"asks\":[{\"event\":\"add\",\"order_id\":\"OLHY7E-Q6ZVC-75HDIC\",\"limit_price\":63125.9,\"order_qty\":0.36390760,\"timestamp\":\"2024-09-24T05:20:22.558174323Z\"}]}]}'\n",
      "++Rcv raw: b'\\x81~\\x01\\x84{\"channel\":\"level3\",\"type\":\"update\",\"data\":[{\"checksum\":2139545458,\"symbol\":\"BTC/USD\",\"bids\":[{\"event\":\"delete\",\"order_id\":\"O7HD4P-K3V2Z-DHDXOL\",\"limit_price\":63120.1,\"order_qty\":0.30951412,\"timestamp\":\"2024-09-24T05:20:22.629746695Z\"},{\"event\":\"add\",\"order_id\":\"OHYSTO-VZCT2-QSJG7V\",\"limit_price\":63115.5,\"order_qty\":0.01085432,\"timestamp\":\"2024-09-24T05:20:21.917136362Z\"}],\"asks\":[]}]}'\n",
      "++Rcv decoded: fin=1 opcode=1 data=b'{\"channel\":\"level3\",\"type\":\"update\",\"data\":[{\"checksum\":2139545458,\"symbol\":\"BTC/USD\",\"bids\":[{\"event\":\"delete\",\"order_id\":\"O7HD4P-K3V2Z-DHDXOL\",\"limit_price\":63120.1,\"order_qty\":0.30951412,\"timestamp\":\"2024-09-24T05:20:22.629746695Z\"},{\"event\":\"add\",\"order_id\":\"OHYSTO-VZCT2-QSJG7V\",\"limit_price\":63115.5,\"order_qty\":0.01085432,\"timestamp\":\"2024-09-24T05:20:21.917136362Z\"}],\"asks\":[]}]}'\n",
      "++Rcv raw: b'\\x81~\\x00\\xf6{\"channel\":\"level3\",\"type\":\"update\",\"data\":[{\"checksum\":3493636884,\"symbol\":\"BTC/USD\",\"bids\":[{\"event\":\"add\",\"order_id\":\"OHC6DV-XGTH4-M7ZI3X\",\"limit_price\":63117.4,\"order_qty\":0.30765354,\"timestamp\":\"2024-09-24T05:20:22.634551568Z\"}],\"asks\":[]}]}'\n",
      "++Rcv decoded: fin=1 opcode=1 data=b'{\"channel\":\"level3\",\"type\":\"update\",\"data\":[{\"checksum\":3493636884,\"symbol\":\"BTC/USD\",\"bids\":[{\"event\":\"add\",\"order_id\":\"OHC6DV-XGTH4-M7ZI3X\",\"limit_price\":63117.4,\"order_qty\":0.30765354,\"timestamp\":\"2024-09-24T05:20:22.634551568Z\"}],\"asks\":[]}]}'\n",
      "++Rcv raw: b'\\x81\\x17{\"channel\":\"heartbeat\"}'\n",
      "++Rcv decoded: fin=1 opcode=1 data=b'{\"channel\":\"heartbeat\"}'\n",
      "++Rcv raw: b'\\x81~\\x00\\xf9{\"channel\":\"level3\",\"type\":\"update\",\"data\":[{\"checksum\":3854721819,\"symbol\":\"BTC/USD\",\"bids\":[],\"asks\":[{\"event\":\"delete\",\"order_id\":\"OLCYCE-HTS66-MMKCPZ\",\"limit_price\":63125.9,\"order_qty\":0.46870000,\"timestamp\":\"2024-09-24T05:20:22.689960406Z\"}]}]}'\n",
      "++Rcv decoded: fin=1 opcode=1 data=b'{\"channel\":\"level3\",\"type\":\"update\",\"data\":[{\"checksum\":3854721819,\"symbol\":\"BTC/USD\",\"bids\":[],\"asks\":[{\"event\":\"delete\",\"order_id\":\"OLCYCE-HTS66-MMKCPZ\",\"limit_price\":63125.9,\"order_qty\":0.46870000,\"timestamp\":\"2024-09-24T05:20:22.689960406Z\"}]}]}'\n"
     ]
    },
    {
     "name": "stdout",
     "output_type": "stream",
     "text": [
      "{'channel': 'level3', 'type': 'update', 'data': [{'checksum': 1042871742, 'symbol': 'BTC/USD', 'bids': [{'event': 'delete', 'order_id': 'OW6S73-6N453-DETKKO', 'limit_price': 63125.8, 'order_qty': 0.01399625, 'timestamp': '2024-09-24T05:20:22.555204524Z'}], 'asks': []}]}\n",
      "{'channel': 'level3', 'type': 'update', 'data': [{'checksum': 2068519258, 'symbol': 'BTC/USD', 'bids': [{'event': 'delete', 'order_id': 'OL3BME-RT2CU-KFQO5E', 'limit_price': 63125.8, 'order_qty': 0.01690505, 'timestamp': '2024-09-24T05:20:22.557141460Z'}], 'asks': []}]}\n",
      "{'channel': 'level3', 'type': 'update', 'data': [{'checksum': 1325527613, 'symbol': 'BTC/USD', 'bids': [], 'asks': [{'event': 'add', 'order_id': 'OLHY7E-Q6ZVC-75HDIC', 'limit_price': 63125.9, 'order_qty': 0.3639076, 'timestamp': '2024-09-24T05:20:22.558174323Z'}]}]}\n",
      "{'channel': 'level3', 'type': 'update', 'data': [{'checksum': 2139545458, 'symbol': 'BTC/USD', 'bids': [{'event': 'delete', 'order_id': 'O7HD4P-K3V2Z-DHDXOL', 'limit_price': 63120.1, 'order_qty': 0.30951412, 'timestamp': '2024-09-24T05:20:22.629746695Z'}, {'event': 'add', 'order_id': 'OHYSTO-VZCT2-QSJG7V', 'limit_price': 63115.5, 'order_qty': 0.01085432, 'timestamp': '2024-09-24T05:20:21.917136362Z'}], 'asks': []}]}\n",
      "{'channel': 'level3', 'type': 'update', 'data': [{'checksum': 3493636884, 'symbol': 'BTC/USD', 'bids': [{'event': 'add', 'order_id': 'OHC6DV-XGTH4-M7ZI3X', 'limit_price': 63117.4, 'order_qty': 0.30765354, 'timestamp': '2024-09-24T05:20:22.634551568Z'}], 'asks': []}]}\n",
      "{'channel': 'heartbeat'}\n",
      "{'channel': 'level3', 'type': 'update', 'data': [{'checksum': 3854721819, 'symbol': 'BTC/USD', 'bids': [], 'asks': [{'event': 'delete', 'order_id': 'OLCYCE-HTS66-MMKCPZ', 'limit_price': 63125.9, 'order_qty': 0.4687, 'timestamp': '2024-09-24T05:20:22.689960406Z'}]}]}\n"
     ]
    },
    {
     "name": "stderr",
     "output_type": "stream",
     "text": [
      "++Rcv raw: b'\\x81~\\x00\\xf6{\"channel\":\"level3\",\"type\":\"update\",\"data\":[{\"checksum\":3604906755,\"symbol\":\"BTC/USD\",\"bids\":[],\"asks\":[{\"event\":\"add\",\"order_id\":\"O6CM4Z-KJSMK-FGI7TI\",\"limit_price\":63125.9,\"order_qty\":0.46870000,\"timestamp\":\"2024-09-24T05:20:22.797668390Z\"}]}]}'\n",
      "++Rcv decoded: fin=1 opcode=1 data=b'{\"channel\":\"level3\",\"type\":\"update\",\"data\":[{\"checksum\":3604906755,\"symbol\":\"BTC/USD\",\"bids\":[],\"asks\":[{\"event\":\"add\",\"order_id\":\"O6CM4Z-KJSMK-FGI7TI\",\"limit_price\":63125.9,\"order_qty\":0.46870000,\"timestamp\":\"2024-09-24T05:20:22.797668390Z\"}]}]}'\n",
      "++Rcv raw: b'\\x81~\\x01\\x83{\"channel\":\"level3\",\"type\":\"update\",\"data\":[{\"checksum\":470653695,\"symbol\":\"BTC/USD\",\"bids\":[{\"event\":\"delete\",\"order_id\":\"OYLIQV-AWPJZ-NAOEGW\",\"limit_price\":63120.2,\"order_qty\":0.13452308,\"timestamp\":\"2024-09-24T05:20:22.799774630Z\"},{\"event\":\"add\",\"order_id\":\"OHYSTO-VZCT2-QSJG7V\",\"limit_price\":63115.5,\"order_qty\":0.01085432,\"timestamp\":\"2024-09-24T05:20:21.917136362Z\"}],\"asks\":[]}]}'\n",
      "++Rcv decoded: fin=1 opcode=1 data=b'{\"channel\":\"level3\",\"type\":\"update\",\"data\":[{\"checksum\":470653695,\"symbol\":\"BTC/USD\",\"bids\":[{\"event\":\"delete\",\"order_id\":\"OYLIQV-AWPJZ-NAOEGW\",\"limit_price\":63120.2,\"order_qty\":0.13452308,\"timestamp\":\"2024-09-24T05:20:22.799774630Z\"},{\"event\":\"add\",\"order_id\":\"OHYSTO-VZCT2-QSJG7V\",\"limit_price\":63115.5,\"order_qty\":0.01085432,\"timestamp\":\"2024-09-24T05:20:21.917136362Z\"}],\"asks\":[]}]}'\n",
      "++Rcv raw: b'\\x81~\\x02\\x0f{\"channel\":\"level3\",\"type\":\"update\",\"data\":[{\"checksum\":2178571248,\"symbol\":\"BTC/USD\",\"bids\":[{\"event\":\"delete\",\"order_id\":\"OP7P4D-3UV4J-BIHFUZ\",\"limit_price\":63122.5,\"order_qty\":3.96055121,\"timestamp\":\"2024-09-24T05:20:22.801761187Z\"},{\"event\":\"add\",\"order_id\":\"OR2BA2-PXVIN-BH2XJL\",\"limit_price\":63115.2,\"order_qty\":0.00015844,\"timestamp\":\"2024-09-24T05:11:19.366269456Z\"},{\"event\":\"add\",\"order_id\":\"OZTEZY-WSYHM-CI2FEH\",\"limit_price\":63115.2,\"order_qty\":7.92201563,\"timestamp\":\"2024-09-24T05:20:15.862186803Z\"}],\"asks\":[]}]}'\n",
      "++Rcv decoded: fin=1 opcode=1 data=b'{\"channel\":\"level3\",\"type\":\"update\",\"data\":[{\"checksum\":2178571248,\"symbol\":\"BTC/USD\",\"bids\":[{\"event\":\"delete\",\"order_id\":\"OP7P4D-3UV4J-BIHFUZ\",\"limit_price\":63122.5,\"order_qty\":3.96055121,\"timestamp\":\"2024-09-24T05:20:22.801761187Z\"},{\"event\":\"add\",\"order_id\":\"OR2BA2-PXVIN-BH2XJL\",\"limit_price\":63115.2,\"order_qty\":0.00015844,\"timestamp\":\"2024-09-24T05:11:19.366269456Z\"},{\"event\":\"add\",\"order_id\":\"OZTEZY-WSYHM-CI2FEH\",\"limit_price\":63115.2,\"order_qty\":7.92201563,\"timestamp\":\"2024-09-24T05:20:15.862186803Z\"}],\"asks\":[]}]}'\n",
      "++Rcv raw: b'\\x81~\\x01\\x84{\"channel\":\"level3\",\"type\":\"update\",\"data\":[{\"checksum\":1690727701,\"symbol\":\"BTC/USD\",\"bids\":[],\"asks\":[{\"event\":\"delete\",\"order_id\":\"OKNFLS-LHP3Q-3CPIYH\",\"limit_price\":63127.7,\"order_qty\":3.96023017,\"timestamp\":\"2024-09-24T05:20:22.801972416Z\"},{\"event\":\"add\",\"order_id\":\"OKWBJO-57ZCN-ESFN5W\",\"limit_price\":63134.0,\"order_qty\":0.00015865,\"timestamp\":\"2024-09-24T05:00:50.764166862Z\"}]}]}'\n",
      "++Rcv decoded: fin=1 opcode=1 data=b'{\"channel\":\"level3\",\"type\":\"update\",\"data\":[{\"checksum\":1690727701,\"symbol\":\"BTC/USD\",\"bids\":[],\"asks\":[{\"event\":\"delete\",\"order_id\":\"OKNFLS-LHP3Q-3CPIYH\",\"limit_price\":63127.7,\"order_qty\":3.96023017,\"timestamp\":\"2024-09-24T05:20:22.801972416Z\"},{\"event\":\"add\",\"order_id\":\"OKWBJO-57ZCN-ESFN5W\",\"limit_price\":63134.0,\"order_qty\":0.00015865,\"timestamp\":\"2024-09-24T05:00:50.764166862Z\"}]}]}'\n",
      "++Rcv raw: b'\\x81~\\x00\\xf6{\"channel\":\"level3\",\"type\":\"update\",\"data\":[{\"checksum\":1514729733,\"symbol\":\"BTC/USD\",\"bids\":[{\"event\":\"add\",\"order_id\":\"OZYDTG-W7JAO-76OCZ4\",\"limit_price\":63122.8,\"order_qty\":0.00784235,\"timestamp\":\"2024-09-24T05:20:22.802936766Z\"}],\"asks\":[]}]}'\n",
      "++Rcv decoded: fin=1 opcode=1 data=b'{\"channel\":\"level3\",\"type\":\"update\",\"data\":[{\"checksum\":1514729733,\"symbol\":\"BTC/USD\",\"bids\":[{\"event\":\"add\",\"order_id\":\"OZYDTG-W7JAO-76OCZ4\",\"limit_price\":63122.8,\"order_qty\":0.00784235,\"timestamp\":\"2024-09-24T05:20:22.802936766Z\"}],\"asks\":[]}]}'\n",
      "++Rcv raw: b'\\x81~\\x00\\xf5{\"channel\":\"level3\",\"type\":\"update\",\"data\":[{\"checksum\":939794495,\"symbol\":\"BTC/USD\",\"bids\":[],\"asks\":[{\"event\":\"add\",\"order_id\":\"OXBTVZ-ZF2JZ-VQANKQ\",\"limit_price\":63127.7,\"order_qty\":0.21436200,\"timestamp\":\"2024-09-24T05:20:22.804103662Z\"}]}]}'\n",
      "++Rcv decoded: fin=1 opcode=1 data=b'{\"channel\":\"level3\",\"type\":\"update\",\"data\":[{\"checksum\":939794495,\"symbol\":\"BTC/USD\",\"bids\":[],\"asks\":[{\"event\":\"add\",\"order_id\":\"OXBTVZ-ZF2JZ-VQANKQ\",\"limit_price\":63127.7,\"order_qty\":0.21436200,\"timestamp\":\"2024-09-24T05:20:22.804103662Z\"}]}]}'\n",
      "++Rcv raw: b'\\x81~\\x02\\x0f{\"channel\":\"level3\",\"type\":\"update\",\"data\":[{\"checksum\":1887179772,\"symbol\":\"BTC/USD\",\"bids\":[{\"event\":\"delete\",\"order_id\":\"OUXXEO-J43AH-GM44RI\",\"limit_price\":63123.2,\"order_qty\":3.96050457,\"timestamp\":\"2024-09-24T05:20:22.804523269Z\"},{\"event\":\"add\",\"order_id\":\"OR2BA2-PXVIN-BH2XJL\",\"limit_price\":63115.2,\"order_qty\":0.00015844,\"timestamp\":\"2024-09-24T05:11:19.366269456Z\"},{\"event\":\"add\",\"order_id\":\"OZTEZY-WSYHM-CI2FEH\",\"limit_price\":63115.2,\"order_qty\":7.92201563,\"timestamp\":\"2024-09-24T05:20:15.862186803Z\"}],\"asks\":[]}]}'\n",
      "++Rcv decoded: fin=1 opcode=1 data=b'{\"channel\":\"level3\",\"type\":\"update\",\"data\":[{\"checksum\":1887179772,\"symbol\":\"BTC/USD\",\"bids\":[{\"event\":\"delete\",\"order_id\":\"OUXXEO-J43AH-GM44RI\",\"limit_price\":63123.2,\"order_qty\":3.96050457,\"timestamp\":\"2024-09-24T05:20:22.804523269Z\"},{\"event\":\"add\",\"order_id\":\"OR2BA2-PXVIN-BH2XJL\",\"limit_price\":63115.2,\"order_qty\":0.00015844,\"timestamp\":\"2024-09-24T05:11:19.366269456Z\"},{\"event\":\"add\",\"order_id\":\"OZTEZY-WSYHM-CI2FEH\",\"limit_price\":63115.2,\"order_qty\":7.92201563,\"timestamp\":\"2024-09-24T05:20:15.862186803Z\"}],\"asks\":[]}]}'\n",
      "++Rcv raw: b'\\x81~\\x01\\x84{\"channel\":\"level3\",\"type\":\"update\",\"data\":[{\"checksum\":1732972556,\"symbol\":\"BTC/USD\",\"bids\":[],\"asks\":[{\"event\":\"delete\",\"order_id\":\"OP2MBL-ZGDZW-5I42DP\",\"limit_price\":63132.5,\"order_qty\":3.95992765,\"timestamp\":\"2024-09-24T05:20:22.804532279Z\"},{\"event\":\"add\",\"order_id\":\"OKWBJO-57ZCN-ESFN5W\",\"limit_price\":63134.0,\"order_qty\":0.00015865,\"timestamp\":\"2024-09-24T05:00:50.764166862Z\"}]}]}'\n",
      "++Rcv decoded: fin=1 opcode=1 data=b'{\"channel\":\"level3\",\"type\":\"update\",\"data\":[{\"checksum\":1732972556,\"symbol\":\"BTC/USD\",\"bids\":[],\"asks\":[{\"event\":\"delete\",\"order_id\":\"OP2MBL-ZGDZW-5I42DP\",\"limit_price\":63132.5,\"order_qty\":3.95992765,\"timestamp\":\"2024-09-24T05:20:22.804532279Z\"},{\"event\":\"add\",\"order_id\":\"OKWBJO-57ZCN-ESFN5W\",\"limit_price\":63134.0,\"order_qty\":0.00015865,\"timestamp\":\"2024-09-24T05:00:50.764166862Z\"}]}]}'\n",
      "++Rcv raw: b'\\x81~\\x01\\x84{\"channel\":\"level3\",\"type\":\"update\",\"data\":[{\"checksum\":2156409268,\"symbol\":\"BTC/USD\",\"bids\":[],\"asks\":[{\"event\":\"delete\",\"order_id\":\"OKEYPO-ZWDDN-OMAP6D\",\"limit_price\":63129.9,\"order_qty\":3.96008866,\"timestamp\":\"2024-09-24T05:20:22.804806655Z\"},{\"event\":\"add\",\"order_id\":\"O44R7I-444HK-5TGEHL\",\"limit_price\":63134.3,\"order_qty\":0.13452308,\"timestamp\":\"2024-09-24T05:20:22.328826222Z\"}]}]}'\n",
      "++Rcv decoded: fin=1 opcode=1 data=b'{\"channel\":\"level3\",\"type\":\"update\",\"data\":[{\"checksum\":2156409268,\"symbol\":\"BTC/USD\",\"bids\":[],\"asks\":[{\"event\":\"delete\",\"order_id\":\"OKEYPO-ZWDDN-OMAP6D\",\"limit_price\":63129.9,\"order_qty\":3.96008866,\"timestamp\":\"2024-09-24T05:20:22.804806655Z\"},{\"event\":\"add\",\"order_id\":\"O44R7I-444HK-5TGEHL\",\"limit_price\":63134.3,\"order_qty\":0.13452308,\"timestamp\":\"2024-09-24T05:20:22.328826222Z\"}]}]}'\n",
      "++Rcv raw: b'\\x81~\\x00\\xf9{\"channel\":\"level3\",\"type\":\"update\",\"data\":[{\"checksum\":1853367023,\"symbol\":\"BTC/USD\",\"bids\":[{\"event\":\"delete\",\"order_id\":\"OZTEZY-WSYHM-CI2FEH\",\"limit_price\":63115.2,\"order_qty\":7.92201563,\"timestamp\":\"2024-09-24T05:20:22.805767849Z\"}],\"asks\":[]}]}'\n",
      "++Rcv decoded: fin=1 opcode=1 data=b'{\"channel\":\"level3\",\"type\":\"update\",\"data\":[{\"checksum\":1853367023,\"symbol\":\"BTC/USD\",\"bids\":[{\"event\":\"delete\",\"order_id\":\"OZTEZY-WSYHM-CI2FEH\",\"limit_price\":63115.2,\"order_qty\":7.92201563,\"timestamp\":\"2024-09-24T05:20:22.805767849Z\"}],\"asks\":[]}]}'\n",
      "++Rcv raw: b'\\x81~\\x01\\x84{\"channel\":\"level3\",\"type\":\"update\",\"data\":[{\"checksum\":1319793551,\"symbol\":\"BTC/USD\",\"bids\":[{\"event\":\"delete\",\"order_id\":\"OSI7WX-GUOPG-WK3PE7\",\"limit_price\":63119.2,\"order_qty\":3.96075941,\"timestamp\":\"2024-09-24T05:20:22.807048192Z\"},{\"event\":\"add\",\"order_id\":\"OKF27G-7NT2M-C5DMKL\",\"limit_price\":63114.6,\"order_qty\":0.43119078,\"timestamp\":\"2024-09-24T05:20:21.944812974Z\"}],\"asks\":[]}]}'\n",
      "++Rcv decoded: fin=1 opcode=1 data=b'{\"channel\":\"level3\",\"type\":\"update\",\"data\":[{\"checksum\":1319793551,\"symbol\":\"BTC/USD\",\"bids\":[{\"event\":\"delete\",\"order_id\":\"OSI7WX-GUOPG-WK3PE7\",\"limit_price\":63119.2,\"order_qty\":3.96075941,\"timestamp\":\"2024-09-24T05:20:22.807048192Z\"},{\"event\":\"add\",\"order_id\":\"OKF27G-7NT2M-C5DMKL\",\"limit_price\":63114.6,\"order_qty\":0.43119078,\"timestamp\":\"2024-09-24T05:20:21.944812974Z\"}],\"asks\":[]}]}'\n",
      "++Rcv raw: b'\\x81~\\x00\\xf9{\"channel\":\"level3\",\"type\":\"update\",\"data\":[{\"checksum\":2970884110,\"symbol\":\"BTC/USD\",\"bids\":[{\"event\":\"delete\",\"order_id\":\"OL35PK-5U2PH-H3ZH3V\",\"limit_price\":63125.8,\"order_qty\":0.10000000,\"timestamp\":\"2024-09-24T05:20:22.808369933Z\"}],\"asks\":[]}]}'\n",
      "++Rcv decoded: fin=1 opcode=1 data=b'{\"channel\":\"level3\",\"type\":\"update\",\"data\":[{\"checksum\":2970884110,\"symbol\":\"BTC/USD\",\"bids\":[{\"event\":\"delete\",\"order_id\":\"OL35PK-5U2PH-H3ZH3V\",\"limit_price\":63125.8,\"order_qty\":0.10000000,\"timestamp\":\"2024-09-24T05:20:22.808369933Z\"}],\"asks\":[]}]}'\n",
      "++Rcv raw: b'\\x81~\\x00\\xf9{\"channel\":\"level3\",\"type\":\"update\",\"data\":[{\"checksum\":2772416947,\"symbol\":\"BTC/USD\",\"bids\":[{\"event\":\"delete\",\"order_id\":\"OFJD62-HPBDZ-T7IAVB\",\"limit_price\":63125.8,\"order_qty\":0.14603000,\"timestamp\":\"2024-09-24T05:20:22.808617943Z\"}],\"asks\":[]}]}'\n",
      "++Rcv decoded: fin=1 opcode=1 data=b'{\"channel\":\"level3\",\"type\":\"update\",\"data\":[{\"checksum\":2772416947,\"symbol\":\"BTC/USD\",\"bids\":[{\"event\":\"delete\",\"order_id\":\"OFJD62-HPBDZ-T7IAVB\",\"limit_price\":63125.8,\"order_qty\":0.14603000,\"timestamp\":\"2024-09-24T05:20:22.808617943Z\"}],\"asks\":[]}]}'\n",
      "++Rcv raw: b'\\x81~\\x00\\xf9{\"channel\":\"level3\",\"type\":\"update\",\"data\":[{\"checksum\":1100342797,\"symbol\":\"BTC/USD\",\"bids\":[{\"event\":\"delete\",\"order_id\":\"OQIUDW-2NWLF-EIMWS5\",\"limit_price\":63125.8,\"order_qty\":0.20000000,\"timestamp\":\"2024-09-24T05:20:22.809447063Z\"}],\"asks\":[]}]}'\n",
      "++Rcv decoded: fin=1 opcode=1 data=b'{\"channel\":\"level3\",\"type\":\"update\",\"data\":[{\"checksum\":1100342797,\"symbol\":\"BTC/USD\",\"bids\":[{\"event\":\"delete\",\"order_id\":\"OQIUDW-2NWLF-EIMWS5\",\"limit_price\":63125.8,\"order_qty\":0.20000000,\"timestamp\":\"2024-09-24T05:20:22.809447063Z\"}],\"asks\":[]}]}'\n",
      "++Rcv raw: b'\\x81~\\x00\\xf9{\"channel\":\"level3\",\"type\":\"update\",\"data\":[{\"checksum\":1292331851,\"symbol\":\"BTC/USD\",\"bids\":[{\"event\":\"delete\",\"order_id\":\"OXPFDJ-OWOMB-GXZJD6\",\"limit_price\":63125.8,\"order_qty\":0.40000000,\"timestamp\":\"2024-09-24T05:20:22.810040099Z\"}],\"asks\":[]}]}'\n",
      "++Rcv decoded: fin=1 opcode=1 data=b'{\"channel\":\"level3\",\"type\":\"update\",\"data\":[{\"checksum\":1292331851,\"symbol\":\"BTC/USD\",\"bids\":[{\"event\":\"delete\",\"order_id\":\"OXPFDJ-OWOMB-GXZJD6\",\"limit_price\":63125.8,\"order_qty\":0.40000000,\"timestamp\":\"2024-09-24T05:20:22.810040099Z\"}],\"asks\":[]}]}'\n",
      "++Rcv raw: b'\\x81~\\x01\\x84{\"channel\":\"level3\",\"type\":\"update\",\"data\":[{\"checksum\":1121023926,\"symbol\":\"BTC/USD\",\"bids\":[{\"event\":\"delete\",\"order_id\":\"OZYDTG-W7JAO-76OCZ4\",\"limit_price\":63122.8,\"order_qty\":0.00784235,\"timestamp\":\"2024-09-24T05:20:22.810101691Z\"},{\"event\":\"add\",\"order_id\":\"OODOCS-ZH4M7-YUGPV2\",\"limit_price\":63113.2,\"order_qty\":0.00792236,\"timestamp\":\"2024-09-24T05:14:52.749973329Z\"}],\"asks\":[]}]}'\n",
      "++Rcv decoded: fin=1 opcode=1 data=b'{\"channel\":\"level3\",\"type\":\"update\",\"data\":[{\"checksum\":1121023926,\"symbol\":\"BTC/USD\",\"bids\":[{\"event\":\"delete\",\"order_id\":\"OZYDTG-W7JAO-76OCZ4\",\"limit_price\":63122.8,\"order_qty\":0.00784235,\"timestamp\":\"2024-09-24T05:20:22.810101691Z\"},{\"event\":\"add\",\"order_id\":\"OODOCS-ZH4M7-YUGPV2\",\"limit_price\":63113.2,\"order_qty\":0.00792236,\"timestamp\":\"2024-09-24T05:14:52.749973329Z\"}],\"asks\":[]}]}'\n",
      "++Rcv raw: b'\\x81~\\x00\\xf9{\"channel\":\"level3\",\"type\":\"update\",\"data\":[{\"checksum\":1888384926,\"symbol\":\"BTC/USD\",\"bids\":[{\"event\":\"delete\",\"order_id\":\"OZNP2L-R5PAM-5UXUQ7\",\"limit_price\":63125.8,\"order_qty\":0.40000000,\"timestamp\":\"2024-09-24T05:20:22.816171975Z\"}],\"asks\":[]}]}'\n",
      "++Rcv decoded: fin=1 opcode=1 data=b'{\"channel\":\"level3\",\"type\":\"update\",\"data\":[{\"checksum\":1888384926,\"symbol\":\"BTC/USD\",\"bids\":[{\"event\":\"delete\",\"order_id\":\"OZNP2L-R5PAM-5UXUQ7\",\"limit_price\":63125.8,\"order_qty\":0.40000000,\"timestamp\":\"2024-09-24T05:20:22.816171975Z\"}],\"asks\":[]}]}'\n",
      "++Rcv raw: b'\\x81~\\x00\\xf9{\"channel\":\"level3\",\"type\":\"update\",\"data\":[{\"checksum\":1704172902,\"symbol\":\"BTC/USD\",\"bids\":[{\"event\":\"delete\",\"order_id\":\"O727JF-3XQUX-NCE6EL\",\"limit_price\":63125.8,\"order_qty\":0.20000000,\"timestamp\":\"2024-09-24T05:20:22.816224096Z\"}],\"asks\":[]}]}'\n",
      "++Rcv decoded: fin=1 opcode=1 data=b'{\"channel\":\"level3\",\"type\":\"update\",\"data\":[{\"checksum\":1704172902,\"symbol\":\"BTC/USD\",\"bids\":[{\"event\":\"delete\",\"order_id\":\"O727JF-3XQUX-NCE6EL\",\"limit_price\":63125.8,\"order_qty\":0.20000000,\"timestamp\":\"2024-09-24T05:20:22.816224096Z\"}],\"asks\":[]}]}'\n",
      "++Rcv raw: b'\\x81~\\x00\\xf9{\"channel\":\"level3\",\"type\":\"update\",\"data\":[{\"checksum\":3008613564,\"symbol\":\"BTC/USD\",\"bids\":[{\"event\":\"delete\",\"order_id\":\"O7FA2F-3FFD2-KLF2V3\",\"limit_price\":63125.8,\"order_qty\":0.20000000,\"timestamp\":\"2024-09-24T05:20:22.816254111Z\"}],\"asks\":[]}]}'\n",
      "++Rcv decoded: fin=1 opcode=1 data=b'{\"channel\":\"level3\",\"type\":\"update\",\"data\":[{\"checksum\":3008613564,\"symbol\":\"BTC/USD\",\"bids\":[{\"event\":\"delete\",\"order_id\":\"O7FA2F-3FFD2-KLF2V3\",\"limit_price\":63125.8,\"order_qty\":0.20000000,\"timestamp\":\"2024-09-24T05:20:22.816254111Z\"}],\"asks\":[]}]}'\n",
      "++Rcv raw: b'\\x81~\\x00\\xf6{\"channel\":\"level3\",\"type\":\"update\",\"data\":[{\"checksum\":1760027483,\"symbol\":\"BTC/USD\",\"bids\":[],\"asks\":[{\"event\":\"add\",\"order_id\":\"OXJYT7-E26HH-MMUD6C\",\"limit_price\":63125.9,\"order_qty\":0.46870000,\"timestamp\":\"2024-09-24T05:20:22.819852131Z\"}]}]}'\n",
      "++Rcv decoded: fin=1 opcode=1 data=b'{\"channel\":\"level3\",\"type\":\"update\",\"data\":[{\"checksum\":1760027483,\"symbol\":\"BTC/USD\",\"bids\":[],\"asks\":[{\"event\":\"add\",\"order_id\":\"OXJYT7-E26HH-MMUD6C\",\"limit_price\":63125.9,\"order_qty\":0.46870000,\"timestamp\":\"2024-09-24T05:20:22.819852131Z\"}]}]}'\n",
      "++Rcv raw: b'\\x81~\\x01\\x84{\"channel\":\"level3\",\"type\":\"update\",\"data\":[{\"checksum\":2184331082,\"symbol\":\"BTC/USD\",\"bids\":[{\"event\":\"delete\",\"order_id\":\"OKF27G-7NT2M-C5DMKL\",\"limit_price\":63114.6,\"order_qty\":0.43119078,\"timestamp\":\"2024-09-24T05:20:22.820700855Z\"},{\"event\":\"add\",\"order_id\":\"OFWFEH-UZ3VY-JJLJLH\",\"limit_price\":63113.1,\"order_qty\":0.25000000,\"timestamp\":\"2024-09-24T05:20:17.406452484Z\"}],\"asks\":[]}]}'\n",
      "++Rcv decoded: fin=1 opcode=1 data=b'{\"channel\":\"level3\",\"type\":\"update\",\"data\":[{\"checksum\":2184331082,\"symbol\":\"BTC/USD\",\"bids\":[{\"event\":\"delete\",\"order_id\":\"OKF27G-7NT2M-C5DMKL\",\"limit_price\":63114.6,\"order_qty\":0.43119078,\"timestamp\":\"2024-09-24T05:20:22.820700855Z\"},{\"event\":\"add\",\"order_id\":\"OFWFEH-UZ3VY-JJLJLH\",\"limit_price\":63113.1,\"order_qty\":0.25000000,\"timestamp\":\"2024-09-24T05:20:17.406452484Z\"}],\"asks\":[]}]}'\n",
      "++Rcv raw: b'\\x81~\\x00\\xf6{\"channel\":\"level3\",\"type\":\"update\",\"data\":[{\"checksum\":1442641950,\"symbol\":\"BTC/USD\",\"bids\":[{\"event\":\"add\",\"order_id\":\"OALIIZ-VWWBN-5HLQYN\",\"limit_price\":63114.7,\"order_qty\":0.43119010,\"timestamp\":\"2024-09-24T05:20:22.824299220Z\"}],\"asks\":[]}]}'\n",
      "++Rcv decoded: fin=1 opcode=1 data=b'{\"channel\":\"level3\",\"type\":\"update\",\"data\":[{\"checksum\":1442641950,\"symbol\":\"BTC/USD\",\"bids\":[{\"event\":\"add\",\"order_id\":\"OALIIZ-VWWBN-5HLQYN\",\"limit_price\":63114.7,\"order_qty\":0.43119010,\"timestamp\":\"2024-09-24T05:20:22.824299220Z\"}],\"asks\":[]}]}'\n",
      "++Rcv raw: b'\\x81~\\x01\\x84{\"channel\":\"level3\",\"type\":\"update\",\"data\":[{\"checksum\":2184331082,\"symbol\":\"BTC/USD\",\"bids\":[{\"event\":\"delete\",\"order_id\":\"OALIIZ-VWWBN-5HLQYN\",\"limit_price\":63114.7,\"order_qty\":0.43119010,\"timestamp\":\"2024-09-24T05:20:22.824685629Z\"},{\"event\":\"add\",\"order_id\":\"OFWFEH-UZ3VY-JJLJLH\",\"limit_price\":63113.1,\"order_qty\":0.25000000,\"timestamp\":\"2024-09-24T05:20:17.406452484Z\"}],\"asks\":[]}]}'\n",
      "++Rcv decoded: fin=1 opcode=1 data=b'{\"channel\":\"level3\",\"type\":\"update\",\"data\":[{\"checksum\":2184331082,\"symbol\":\"BTC/USD\",\"bids\":[{\"event\":\"delete\",\"order_id\":\"OALIIZ-VWWBN-5HLQYN\",\"limit_price\":63114.7,\"order_qty\":0.43119010,\"timestamp\":\"2024-09-24T05:20:22.824685629Z\"},{\"event\":\"add\",\"order_id\":\"OFWFEH-UZ3VY-JJLJLH\",\"limit_price\":63113.1,\"order_qty\":0.25000000,\"timestamp\":\"2024-09-24T05:20:17.406452484Z\"}],\"asks\":[]}]}'\n",
      "++Rcv raw: b'\\x81~\\x00\\xf6{\"channel\":\"level3\",\"type\":\"update\",\"data\":[{\"checksum\":3061200523,\"symbol\":\"BTC/USD\",\"bids\":[],\"asks\":[{\"event\":\"add\",\"order_id\":\"OKQNLY-2XI24-BDVRPJ\",\"limit_price\":63125.9,\"order_qty\":3.96033957,\"timestamp\":\"2024-09-24T05:20:22.826800672Z\"}]}]}'\n",
      "++Rcv decoded: fin=1 opcode=1 data=b'{\"channel\":\"level3\",\"type\":\"update\",\"data\":[{\"checksum\":3061200523,\"symbol\":\"BTC/USD\",\"bids\":[],\"asks\":[{\"event\":\"add\",\"order_id\":\"OKQNLY-2XI24-BDVRPJ\",\"limit_price\":63125.9,\"order_qty\":3.96033957,\"timestamp\":\"2024-09-24T05:20:22.826800672Z\"}]}]}'\n",
      "++Rcv raw: b'\\x81~\\x00\\xf6{\"channel\":\"level3\",\"type\":\"update\",\"data\":[{\"checksum\":1329092633,\"symbol\":\"BTC/USD\",\"bids\":[{\"event\":\"add\",\"order_id\":\"O6T6OC-HOARP-T6NMFM\",\"limit_price\":63116.1,\"order_qty\":3.96095140,\"timestamp\":\"2024-09-24T05:20:22.826878348Z\"}],\"asks\":[]}]}'\n",
      "++Rcv decoded: fin=1 opcode=1 data=b'{\"channel\":\"level3\",\"type\":\"update\",\"data\":[{\"checksum\":1329092633,\"symbol\":\"BTC/USD\",\"bids\":[{\"event\":\"add\",\"order_id\":\"O6T6OC-HOARP-T6NMFM\",\"limit_price\":63116.1,\"order_qty\":3.96095140,\"timestamp\":\"2024-09-24T05:20:22.826878348Z\"}],\"asks\":[]}]}'\n",
      "++Rcv raw: b'\\x81~\\x00\\xf6{\"channel\":\"level3\",\"type\":\"update\",\"data\":[{\"checksum\":1919127800,\"symbol\":\"BTC/USD\",\"bids\":[{\"event\":\"add\",\"order_id\":\"OHHANE-TQFCV-OZLZ7V\",\"limit_price\":63118.1,\"order_qty\":3.96082790,\"timestamp\":\"2024-09-24T05:20:22.826893594Z\"}],\"asks\":[]}]}'\n",
      "++Rcv decoded: fin=1 opcode=1 data=b'{\"channel\":\"level3\",\"type\":\"update\",\"data\":[{\"checksum\":1919127800,\"symbol\":\"BTC/USD\",\"bids\":[{\"event\":\"add\",\"order_id\":\"OHHANE-TQFCV-OZLZ7V\",\"limit_price\":63118.1,\"order_qty\":3.96082790,\"timestamp\":\"2024-09-24T05:20:22.826893594Z\"}],\"asks\":[]}]}'\n",
      "++Rcv raw: b'\\x81~\\x00\\xf6{\"channel\":\"level3\",\"type\":\"update\",\"data\":[{\"checksum\":2180806506,\"symbol\":\"BTC/USD\",\"bids\":[],\"asks\":[{\"event\":\"add\",\"order_id\":\"OAAIH3-WZRY4-2QEZKF\",\"limit_price\":63125.9,\"order_qty\":3.96033957,\"timestamp\":\"2024-09-24T05:20:22.826964793Z\"}]}]}'\n",
      "++Rcv decoded: fin=1 opcode=1 data=b'{\"channel\":\"level3\",\"type\":\"update\",\"data\":[{\"checksum\":2180806506,\"symbol\":\"BTC/USD\",\"bids\":[],\"asks\":[{\"event\":\"add\",\"order_id\":\"OAAIH3-WZRY4-2QEZKF\",\"limit_price\":63125.9,\"order_qty\":3.96033957,\"timestamp\":\"2024-09-24T05:20:22.826964793Z\"}]}]}'\n",
      "++Rcv raw: b'\\x81~\\x00\\xf6{\"channel\":\"level3\",\"type\":\"update\",\"data\":[{\"checksum\":2556136903,\"symbol\":\"BTC/USD\",\"bids\":[],\"asks\":[{\"event\":\"add\",\"order_id\":\"OC2OTC-AXVDA-42QWZQ\",\"limit_price\":63133.6,\"order_qty\":7.91971801,\"timestamp\":\"2024-09-24T05:20:22.827006585Z\"}]}]}'\n",
      "++Rcv decoded: fin=1 opcode=1 data=b'{\"channel\":\"level3\",\"type\":\"update\",\"data\":[{\"checksum\":2556136903,\"symbol\":\"BTC/USD\",\"bids\":[],\"asks\":[{\"event\":\"add\",\"order_id\":\"OC2OTC-AXVDA-42QWZQ\",\"limit_price\":63133.6,\"order_qty\":7.91971801,\"timestamp\":\"2024-09-24T05:20:22.827006585Z\"}]}]}'\n",
      "++Rcv raw: b'\\x81~\\x00\\xf6{\"channel\":\"level3\",\"type\":\"update\",\"data\":[{\"checksum\":3896314710,\"symbol\":\"BTC/USD\",\"bids\":[],\"asks\":[{\"event\":\"add\",\"order_id\":\"ODGCH6-4DZUM-DZ2YM6\",\"limit_price\":63132.0,\"order_qty\":0.13452308,\"timestamp\":\"2024-09-24T05:20:22.829350605Z\"}]}]}'\n",
      "++Rcv decoded: fin=1 opcode=1 data=b'{\"channel\":\"level3\",\"type\":\"update\",\"data\":[{\"checksum\":3896314710,\"symbol\":\"BTC/USD\",\"bids\":[],\"asks\":[{\"event\":\"add\",\"order_id\":\"ODGCH6-4DZUM-DZ2YM6\",\"limit_price\":63132.0,\"order_qty\":0.13452308,\"timestamp\":\"2024-09-24T05:20:22.829350605Z\"}]}]}'\n",
      "++Rcv raw: b'\\x81~\\x00\\xf6{\"channel\":\"level3\",\"type\":\"update\",\"data\":[{\"checksum\":2181925078,\"symbol\":\"BTC/USD\",\"bids\":[],\"asks\":[{\"event\":\"add\",\"order_id\":\"OWQ7SK-MZWQ7-N2HLML\",\"limit_price\":63132.0,\"order_qty\":0.13452308,\"timestamp\":\"2024-09-24T05:20:22.829899529Z\"}]}]}'\n",
      "++Rcv decoded: fin=1 opcode=1 data=b'{\"channel\":\"level3\",\"type\":\"update\",\"data\":[{\"checksum\":2181925078,\"symbol\":\"BTC/USD\",\"bids\":[],\"asks\":[{\"event\":\"add\",\"order_id\":\"OWQ7SK-MZWQ7-N2HLML\",\"limit_price\":63132.0,\"order_qty\":0.13452308,\"timestamp\":\"2024-09-24T05:20:22.829899529Z\"}]}]}'\n",
      "++Rcv raw: b'\\x81~\\x01\\x83{\"channel\":\"level3\",\"type\":\"update\",\"data\":[{\"checksum\":266626218,\"symbol\":\"BTC/USD\",\"bids\":[{\"event\":\"delete\",\"order_id\":\"ONWTJI-WY3VZ-E5ZPHW\",\"limit_price\":63117.2,\"order_qty\":0.21783346,\"timestamp\":\"2024-09-24T05:20:22.831070730Z\"},{\"event\":\"add\",\"order_id\":\"OMY6FE-JFCNC-SVUGBS\",\"limit_price\":63113.3,\"order_qty\":0.43119966,\"timestamp\":\"2024-09-24T05:20:22.829812653Z\"}],\"asks\":[]}]}'\n",
      "++Rcv decoded: fin=1 opcode=1 data=b'{\"channel\":\"level3\",\"type\":\"update\",\"data\":[{\"checksum\":266626218,\"symbol\":\"BTC/USD\",\"bids\":[{\"event\":\"delete\",\"order_id\":\"ONWTJI-WY3VZ-E5ZPHW\",\"limit_price\":63117.2,\"order_qty\":0.21783346,\"timestamp\":\"2024-09-24T05:20:22.831070730Z\"},{\"event\":\"add\",\"order_id\":\"OMY6FE-JFCNC-SVUGBS\",\"limit_price\":63113.3,\"order_qty\":0.43119966,\"timestamp\":\"2024-09-24T05:20:22.829812653Z\"}],\"asks\":[]}]}'\n",
      "++Rcv raw: b'\\x81~\\x00\\xf9{\"channel\":\"level3\",\"type\":\"update\",\"data\":[{\"checksum\":1708451626,\"symbol\":\"BTC/USD\",\"bids\":[],\"asks\":[{\"event\":\"delete\",\"order_id\":\"ODGCH6-4DZUM-DZ2YM6\",\"limit_price\":63132.0,\"order_qty\":0.13452308,\"timestamp\":\"2024-09-24T05:20:22.833675835Z\"}]}]}'\n",
      "++Rcv decoded: fin=1 opcode=1 data=b'{\"channel\":\"level3\",\"type\":\"update\",\"data\":[{\"checksum\":1708451626,\"symbol\":\"BTC/USD\",\"bids\":[],\"asks\":[{\"event\":\"delete\",\"order_id\":\"ODGCH6-4DZUM-DZ2YM6\",\"limit_price\":63132.0,\"order_qty\":0.13452308,\"timestamp\":\"2024-09-24T05:20:22.833675835Z\"}]}]}'\n",
      "++Rcv raw: b'\\x81~\\x00\\xf6{\"channel\":\"level3\",\"type\":\"update\",\"data\":[{\"checksum\":2795230519,\"symbol\":\"BTC/USD\",\"bids\":[],\"asks\":[{\"event\":\"add\",\"order_id\":\"OBWRS4-XN4BB-INAIAZ\",\"limit_price\":63133.2,\"order_qty\":0.03947498,\"timestamp\":\"2024-09-24T05:20:22.834928056Z\"}]}]}'\n",
      "++Rcv decoded: fin=1 opcode=1 data=b'{\"channel\":\"level3\",\"type\":\"update\",\"data\":[{\"checksum\":2795230519,\"symbol\":\"BTC/USD\",\"bids\":[],\"asks\":[{\"event\":\"add\",\"order_id\":\"OBWRS4-XN4BB-INAIAZ\",\"limit_price\":63133.2,\"order_qty\":0.03947498,\"timestamp\":\"2024-09-24T05:20:22.834928056Z\"}]}]}'\n",
      "++Rcv raw: b'\\x81~\\x01\\x83{\"channel\":\"level3\",\"type\":\"update\",\"data\":[{\"checksum\":404458411,\"symbol\":\"BTC/USD\",\"bids\":[],\"asks\":[{\"event\":\"delete\",\"order_id\":\"OWQ7SK-MZWQ7-N2HLML\",\"limit_price\":63132.0,\"order_qty\":0.13452308,\"timestamp\":\"2024-09-24T05:20:22.836041886Z\"},{\"event\":\"add\",\"order_id\":\"OC2OTC-AXVDA-42QWZQ\",\"limit_price\":63133.6,\"order_qty\":7.91971801,\"timestamp\":\"2024-09-24T05:20:22.827006585Z\"}]}]}'\n",
      "++Rcv decoded: fin=1 opcode=1 data=b'{\"channel\":\"level3\",\"type\":\"update\",\"data\":[{\"checksum\":404458411,\"symbol\":\"BTC/USD\",\"bids\":[],\"asks\":[{\"event\":\"delete\",\"order_id\":\"OWQ7SK-MZWQ7-N2HLML\",\"limit_price\":63132.0,\"order_qty\":0.13452308,\"timestamp\":\"2024-09-24T05:20:22.836041886Z\"},{\"event\":\"add\",\"order_id\":\"OC2OTC-AXVDA-42QWZQ\",\"limit_price\":63133.6,\"order_qty\":7.91971801,\"timestamp\":\"2024-09-24T05:20:22.827006585Z\"}]}]}'\n",
      "++Rcv raw: b'\\x81~\\x00\\xf6{\"channel\":\"level3\",\"type\":\"update\",\"data\":[{\"checksum\":1788424370,\"symbol\":\"BTC/USD\",\"bids\":[],\"asks\":[{\"event\":\"add\",\"order_id\":\"OFJARH-BHUD2-MPOHU4\",\"limit_price\":63129.7,\"order_qty\":0.13452308,\"timestamp\":\"2024-09-24T05:20:22.836041890Z\"}]}]}'\n",
      "++Rcv decoded: fin=1 opcode=1 data=b'{\"channel\":\"level3\",\"type\":\"update\",\"data\":[{\"checksum\":1788424370,\"symbol\":\"BTC/USD\",\"bids\":[],\"asks\":[{\"event\":\"add\",\"order_id\":\"OFJARH-BHUD2-MPOHU4\",\"limit_price\":63129.7,\"order_qty\":0.13452308,\"timestamp\":\"2024-09-24T05:20:22.836041890Z\"}]}]}'\n",
      "++Rcv raw: b'\\x81~\\x01\\x83{\"channel\":\"level3\",\"type\":\"update\",\"data\":[{\"checksum\":404458411,\"symbol\":\"BTC/USD\",\"bids\":[],\"asks\":[{\"event\":\"delete\",\"order_id\":\"OFJARH-BHUD2-MPOHU4\",\"limit_price\":63129.7,\"order_qty\":0.13452308,\"timestamp\":\"2024-09-24T05:20:22.839387403Z\"},{\"event\":\"add\",\"order_id\":\"OC2OTC-AXVDA-42QWZQ\",\"limit_price\":63133.6,\"order_qty\":7.91971801,\"timestamp\":\"2024-09-24T05:20:22.827006585Z\"}]}]}'\n",
      "++Rcv decoded: fin=1 opcode=1 data=b'{\"channel\":\"level3\",\"type\":\"update\",\"data\":[{\"checksum\":404458411,\"symbol\":\"BTC/USD\",\"bids\":[],\"asks\":[{\"event\":\"delete\",\"order_id\":\"OFJARH-BHUD2-MPOHU4\",\"limit_price\":63129.7,\"order_qty\":0.13452308,\"timestamp\":\"2024-09-24T05:20:22.839387403Z\"},{\"event\":\"add\",\"order_id\":\"OC2OTC-AXVDA-42QWZQ\",\"limit_price\":63133.6,\"order_qty\":7.91971801,\"timestamp\":\"2024-09-24T05:20:22.827006585Z\"}]}]}'\n",
      "++Rcv raw: b'\\x81~\\x00\\xf6{\"channel\":\"level3\",\"type\":\"update\",\"data\":[{\"checksum\":3771786078,\"symbol\":\"BTC/USD\",\"bids\":[],\"asks\":[{\"event\":\"add\",\"order_id\":\"OWQW24-RAPXF-7D4BGF\",\"limit_price\":63129.0,\"order_qty\":0.13452308,\"timestamp\":\"2024-09-24T05:20:22.839387407Z\"}]}]}'\n",
      "++Rcv decoded: fin=1 opcode=1 data=b'{\"channel\":\"level3\",\"type\":\"update\",\"data\":[{\"checksum\":3771786078,\"symbol\":\"BTC/USD\",\"bids\":[],\"asks\":[{\"event\":\"add\",\"order_id\":\"OWQW24-RAPXF-7D4BGF\",\"limit_price\":63129.0,\"order_qty\":0.13452308,\"timestamp\":\"2024-09-24T05:20:22.839387407Z\"}]}]}'\n",
      "++Rcv raw: b'\\x81~\\x00\\xf6{\"channel\":\"level3\",\"type\":\"update\",\"data\":[{\"checksum\":3741604710,\"symbol\":\"BTC/USD\",\"bids\":[{\"event\":\"add\",\"order_id\":\"OPF2PF-ZXD4D-ONNC6J\",\"limit_price\":63113.7,\"order_qty\":0.06335851,\"timestamp\":\"2024-09-24T05:20:22.844322892Z\"}],\"asks\":[]}]}'\n",
      "++Rcv decoded: fin=1 opcode=1 data=b'{\"channel\":\"level3\",\"type\":\"update\",\"data\":[{\"checksum\":3741604710,\"symbol\":\"BTC/USD\",\"bids\":[{\"event\":\"add\",\"order_id\":\"OPF2PF-ZXD4D-ONNC6J\",\"limit_price\":63113.7,\"order_qty\":0.06335851,\"timestamp\":\"2024-09-24T05:20:22.844322892Z\"}],\"asks\":[]}]}'\n",
      "++Rcv raw: b'\\x81~\\x00\\xf6{\"channel\":\"level3\",\"type\":\"update\",\"data\":[{\"checksum\":1640449288,\"symbol\":\"BTC/USD\",\"bids\":[],\"asks\":[{\"event\":\"add\",\"order_id\":\"OQOPOP-DSHMD-KUFFOU\",\"limit_price\":63125.9,\"order_qty\":3.96033957,\"timestamp\":\"2024-09-24T05:20:22.855074586Z\"}]}]}'\n",
      "++Rcv decoded: fin=1 opcode=1 data=b'{\"channel\":\"level3\",\"type\":\"update\",\"data\":[{\"checksum\":1640449288,\"symbol\":\"BTC/USD\",\"bids\":[],\"asks\":[{\"event\":\"add\",\"order_id\":\"OQOPOP-DSHMD-KUFFOU\",\"limit_price\":63125.9,\"order_qty\":3.96033957,\"timestamp\":\"2024-09-24T05:20:22.855074586Z\"}]}]}'\n",
      "++Rcv raw: b'\\x81~\\x01\\x84{\"channel\":\"level3\",\"type\":\"update\",\"data\":[{\"checksum\":2364100068,\"symbol\":\"BTC/USD\",\"bids\":[{\"event\":\"delete\",\"order_id\":\"OHC6DV-XGTH4-M7ZI3X\",\"limit_price\":63117.4,\"order_qty\":0.30765354,\"timestamp\":\"2024-09-24T05:20:22.858135006Z\"},{\"event\":\"add\",\"order_id\":\"OMY6FE-JFCNC-SVUGBS\",\"limit_price\":63113.3,\"order_qty\":0.43119966,\"timestamp\":\"2024-09-24T05:20:22.829812653Z\"}],\"asks\":[]}]}'\n",
      "++Rcv decoded: fin=1 opcode=1 data=b'{\"channel\":\"level3\",\"type\":\"update\",\"data\":[{\"checksum\":2364100068,\"symbol\":\"BTC/USD\",\"bids\":[{\"event\":\"delete\",\"order_id\":\"OHC6DV-XGTH4-M7ZI3X\",\"limit_price\":63117.4,\"order_qty\":0.30765354,\"timestamp\":\"2024-09-24T05:20:22.858135006Z\"},{\"event\":\"add\",\"order_id\":\"OMY6FE-JFCNC-SVUGBS\",\"limit_price\":63113.3,\"order_qty\":0.43119966,\"timestamp\":\"2024-09-24T05:20:22.829812653Z\"}],\"asks\":[]}]}'\n",
      "++Rcv raw: b'\\x81~\\x01\\x83{\"channel\":\"level3\",\"type\":\"update\",\"data\":[{\"checksum\":827867158,\"symbol\":\"BTC/USD\",\"bids\":[],\"asks\":[{\"event\":\"delete\",\"order_id\":\"OWQW24-RAPXF-7D4BGF\",\"limit_price\":63129.0,\"order_qty\":0.13452308,\"timestamp\":\"2024-09-24T05:20:22.873195499Z\"},{\"event\":\"add\",\"order_id\":\"OC2OTC-AXVDA-42QWZQ\",\"limit_price\":63133.6,\"order_qty\":7.91971801,\"timestamp\":\"2024-09-24T05:20:22.827006585Z\"}]}]}'\n",
      "++Rcv decoded: fin=1 opcode=1 data=b'{\"channel\":\"level3\",\"type\":\"update\",\"data\":[{\"checksum\":827867158,\"symbol\":\"BTC/USD\",\"bids\":[],\"asks\":[{\"event\":\"delete\",\"order_id\":\"OWQW24-RAPXF-7D4BGF\",\"limit_price\":63129.0,\"order_qty\":0.13452308,\"timestamp\":\"2024-09-24T05:20:22.873195499Z\"},{\"event\":\"add\",\"order_id\":\"OC2OTC-AXVDA-42QWZQ\",\"limit_price\":63133.6,\"order_qty\":7.91971801,\"timestamp\":\"2024-09-24T05:20:22.827006585Z\"}]}]}'\n",
      "++Rcv raw: b'\\x81~\\x00\\xf6{\"channel\":\"level3\",\"type\":\"update\",\"data\":[{\"checksum\":2149530856,\"symbol\":\"BTC/USD\",\"bids\":[],\"asks\":[{\"event\":\"add\",\"order_id\":\"OBLHC4-LRBLB-A7WFR4\",\"limit_price\":63126.5,\"order_qty\":0.13452308,\"timestamp\":\"2024-09-24T05:20:22.873195503Z\"}]}]}'\n",
      "++Rcv decoded: fin=1 opcode=1 data=b'{\"channel\":\"level3\",\"type\":\"update\",\"data\":[{\"checksum\":2149530856,\"symbol\":\"BTC/USD\",\"bids\":[],\"asks\":[{\"event\":\"add\",\"order_id\":\"OBLHC4-LRBLB-A7WFR4\",\"limit_price\":63126.5,\"order_qty\":0.13452308,\"timestamp\":\"2024-09-24T05:20:22.873195503Z\"}]}]}'\n",
      "++Rcv raw: b'\\x81~\\x00\\xf6{\"channel\":\"level3\",\"type\":\"update\",\"data\":[{\"checksum\":4231884059,\"symbol\":\"BTC/USD\",\"bids\":[],\"asks\":[{\"event\":\"add\",\"order_id\":\"OP2RPQ-YVP2I-NEG6A7\",\"limit_price\":63126.5,\"order_qty\":0.13452308,\"timestamp\":\"2024-09-24T05:20:22.874066040Z\"}]}]}'\n",
      "++Rcv decoded: fin=1 opcode=1 data=b'{\"channel\":\"level3\",\"type\":\"update\",\"data\":[{\"checksum\":4231884059,\"symbol\":\"BTC/USD\",\"bids\":[],\"asks\":[{\"event\":\"add\",\"order_id\":\"OP2RPQ-YVP2I-NEG6A7\",\"limit_price\":63126.5,\"order_qty\":0.13452308,\"timestamp\":\"2024-09-24T05:20:22.874066040Z\"}]}]}'\n",
      "++Rcv raw: b'\\x81~\\x01\\x84{\"channel\":\"level3\",\"type\":\"update\",\"data\":[{\"checksum\":1341278690,\"symbol\":\"BTC/USD\",\"bids\":[{\"event\":\"delete\",\"order_id\":\"OHHANE-TQFCV-OZLZ7V\",\"limit_price\":63118.1,\"order_qty\":3.96082790,\"timestamp\":\"2024-09-24T05:20:22.876988733Z\"},{\"event\":\"add\",\"order_id\":\"OODOCS-ZH4M7-YUGPV2\",\"limit_price\":63113.2,\"order_qty\":0.00792236,\"timestamp\":\"2024-09-24T05:14:52.749973329Z\"}],\"asks\":[]}]}'\n",
      "++Rcv decoded: fin=1 opcode=1 data=b'{\"channel\":\"level3\",\"type\":\"update\",\"data\":[{\"checksum\":1341278690,\"symbol\":\"BTC/USD\",\"bids\":[{\"event\":\"delete\",\"order_id\":\"OHHANE-TQFCV-OZLZ7V\",\"limit_price\":63118.1,\"order_qty\":3.96082790,\"timestamp\":\"2024-09-24T05:20:22.876988733Z\"},{\"event\":\"add\",\"order_id\":\"OODOCS-ZH4M7-YUGPV2\",\"limit_price\":63113.2,\"order_qty\":0.00792236,\"timestamp\":\"2024-09-24T05:14:52.749973329Z\"}],\"asks\":[]}]}'\n",
      "++Rcv raw: b'\\x81~\\x00\\xf5{\"channel\":\"level3\",\"type\":\"update\",\"data\":[{\"checksum\":438465112,\"symbol\":\"BTC/USD\",\"bids\":[{\"event\":\"add\",\"order_id\":\"OF42GR-YVUWV-JVIG2C\",\"limit_price\":63115.8,\"order_qty\":3.96097050,\"timestamp\":\"2024-09-24T05:20:22.883295960Z\"}],\"asks\":[]}]}'\n",
      "++Rcv decoded: fin=1 opcode=1 data=b'{\"channel\":\"level3\",\"type\":\"update\",\"data\":[{\"checksum\":438465112,\"symbol\":\"BTC/USD\",\"bids\":[{\"event\":\"add\",\"order_id\":\"OF42GR-YVUWV-JVIG2C\",\"limit_price\":63115.8,\"order_qty\":3.96097050,\"timestamp\":\"2024-09-24T05:20:22.883295960Z\"}],\"asks\":[]}]}'\n",
      "++Rcv raw: b'\\x81~\\x01\\x84{\"channel\":\"level3\",\"type\":\"update\",\"data\":[{\"checksum\":2979572883,\"symbol\":\"BTC/USD\",\"bids\":[{\"event\":\"delete\",\"order_id\":\"OMY6FE-JFCNC-SVUGBS\",\"limit_price\":63113.3,\"order_qty\":0.43119966,\"timestamp\":\"2024-09-24T05:20:22.891544758Z\"},{\"event\":\"add\",\"order_id\":\"OODOCS-ZH4M7-YUGPV2\",\"limit_price\":63113.2,\"order_qty\":0.00792236,\"timestamp\":\"2024-09-24T05:14:52.749973329Z\"}],\"asks\":[]}]}'\n",
      "++Rcv decoded: fin=1 opcode=1 data=b'{\"channel\":\"level3\",\"type\":\"update\",\"data\":[{\"checksum\":2979572883,\"symbol\":\"BTC/USD\",\"bids\":[{\"event\":\"delete\",\"order_id\":\"OMY6FE-JFCNC-SVUGBS\",\"limit_price\":63113.3,\"order_qty\":0.43119966,\"timestamp\":\"2024-09-24T05:20:22.891544758Z\"},{\"event\":\"add\",\"order_id\":\"OODOCS-ZH4M7-YUGPV2\",\"limit_price\":63113.2,\"order_qty\":0.00792236,\"timestamp\":\"2024-09-24T05:14:52.749973329Z\"}],\"asks\":[]}]}'\n",
      "++Rcv raw: b'\\x81~\\x00\\xf9{\"channel\":\"level3\",\"type\":\"update\",\"data\":[{\"checksum\":3687257099,\"symbol\":\"BTC/USD\",\"bids\":[],\"asks\":[{\"event\":\"delete\",\"order_id\":\"OP2RPQ-YVP2I-NEG6A7\",\"limit_price\":63126.5,\"order_qty\":0.13452308,\"timestamp\":\"2024-09-24T05:20:22.892970432Z\"}]}]}'\n",
      "++Rcv decoded: fin=1 opcode=1 data=b'{\"channel\":\"level3\",\"type\":\"update\",\"data\":[{\"checksum\":3687257099,\"symbol\":\"BTC/USD\",\"bids\":[],\"asks\":[{\"event\":\"delete\",\"order_id\":\"OP2RPQ-YVP2I-NEG6A7\",\"limit_price\":63126.5,\"order_qty\":0.13452308,\"timestamp\":\"2024-09-24T05:20:22.892970432Z\"}]}]}'\n",
      "++Rcv raw: b'\\x81~\\x01\\x84{\"channel\":\"level3\",\"type\":\"update\",\"data\":[{\"checksum\":3017718830,\"symbol\":\"BTC/USD\",\"bids\":[{\"event\":\"delete\",\"order_id\":\"OF42GR-YVUWV-JVIG2C\",\"limit_price\":63115.8,\"order_qty\":3.96097050,\"timestamp\":\"2024-09-24T05:20:22.895793396Z\"},{\"event\":\"add\",\"order_id\":\"OFWFEH-UZ3VY-JJLJLH\",\"limit_price\":63113.1,\"order_qty\":0.25000000,\"timestamp\":\"2024-09-24T05:20:17.406452484Z\"}],\"asks\":[]}]}'\n",
      "++Rcv decoded: fin=1 opcode=1 data=b'{\"channel\":\"level3\",\"type\":\"update\",\"data\":[{\"checksum\":3017718830,\"symbol\":\"BTC/USD\",\"bids\":[{\"event\":\"delete\",\"order_id\":\"OF42GR-YVUWV-JVIG2C\",\"limit_price\":63115.8,\"order_qty\":3.96097050,\"timestamp\":\"2024-09-24T05:20:22.895793396Z\"},{\"event\":\"add\",\"order_id\":\"OFWFEH-UZ3VY-JJLJLH\",\"limit_price\":63113.1,\"order_qty\":0.25000000,\"timestamp\":\"2024-09-24T05:20:17.406452484Z\"}],\"asks\":[]}]}'\n",
      "++Rcv raw: b'\\x81~\\x00\\xf6{\"channel\":\"level3\",\"type\":\"update\",\"data\":[{\"checksum\":3542503846,\"symbol\":\"BTC/USD\",\"bids\":[{\"event\":\"add\",\"order_id\":\"O2Z2UV-7FD4A-TIAN3B\",\"limit_price\":63113.8,\"order_qty\":0.32516381,\"timestamp\":\"2024-09-24T05:20:22.896463182Z\"}],\"asks\":[]}]}'\n",
      "++Rcv decoded: fin=1 opcode=1 data=b'{\"channel\":\"level3\",\"type\":\"update\",\"data\":[{\"checksum\":3542503846,\"symbol\":\"BTC/USD\",\"bids\":[{\"event\":\"add\",\"order_id\":\"O2Z2UV-7FD4A-TIAN3B\",\"limit_price\":63113.8,\"order_qty\":0.32516381,\"timestamp\":\"2024-09-24T05:20:22.896463182Z\"}],\"asks\":[]}]}'\n",
      "++Rcv raw: b'\\x81~\\x00\\xf5{\"channel\":\"level3\",\"type\":\"update\",\"data\":[{\"checksum\":999284394,\"symbol\":\"BTC/USD\",\"bids\":[{\"event\":\"add\",\"order_id\":\"O2MIVK-BJTY5-GADBKQ\",\"limit_price\":63117.9,\"order_qty\":3.96083693,\"timestamp\":\"2024-09-24T05:20:22.901039082Z\"}],\"asks\":[]}]}'\n",
      "++Rcv decoded: fin=1 opcode=1 data=b'{\"channel\":\"level3\",\"type\":\"update\",\"data\":[{\"checksum\":999284394,\"symbol\":\"BTC/USD\",\"bids\":[{\"event\":\"add\",\"order_id\":\"O2MIVK-BJTY5-GADBKQ\",\"limit_price\":63117.9,\"order_qty\":3.96083693,\"timestamp\":\"2024-09-24T05:20:22.901039082Z\"}],\"asks\":[]}]}'\n",
      "++Rcv raw: b'\\x81~\\x00\\xf5{\"channel\":\"level3\",\"type\":\"update\",\"data\":[{\"checksum\":307627270,\"symbol\":\"BTC/USD\",\"bids\":[],\"asks\":[{\"event\":\"add\",\"order_id\":\"OTQW5T-IZC4K-QAO3SW\",\"limit_price\":63125.9,\"order_qty\":0.03730000,\"timestamp\":\"2024-09-24T05:20:22.939357397Z\"}]}]}'\n",
      "++Rcv decoded: fin=1 opcode=1 data=b'{\"channel\":\"level3\",\"type\":\"update\",\"data\":[{\"checksum\":307627270,\"symbol\":\"BTC/USD\",\"bids\":[],\"asks\":[{\"event\":\"add\",\"order_id\":\"OTQW5T-IZC4K-QAO3SW\",\"limit_price\":63125.9,\"order_qty\":0.03730000,\"timestamp\":\"2024-09-24T05:20:22.939357397Z\"}]}]}'\n",
      "++Rcv raw: b'\\x81~\\x00\\xf9{\"channel\":\"level3\",\"type\":\"update\",\"data\":[{\"checksum\":2349941642,\"symbol\":\"BTC/USD\",\"bids\":[],\"asks\":[{\"event\":\"delete\",\"order_id\":\"OX3CVY-2LIVR-DNG46C\",\"limit_price\":63126.0,\"order_qty\":0.03730000,\"timestamp\":\"2024-09-24T05:20:22.939526436Z\"}]}]}'\n",
      "++Rcv decoded: fin=1 opcode=1 data=b'{\"channel\":\"level3\",\"type\":\"update\",\"data\":[{\"checksum\":2349941642,\"symbol\":\"BTC/USD\",\"bids\":[],\"asks\":[{\"event\":\"delete\",\"order_id\":\"OX3CVY-2LIVR-DNG46C\",\"limit_price\":63126.0,\"order_qty\":0.03730000,\"timestamp\":\"2024-09-24T05:20:22.939526436Z\"}]}]}'\n",
      "++Rcv raw: b'\\x81~\\x00\\xf6{\"channel\":\"level3\",\"type\":\"update\",\"data\":[{\"checksum\":4290942234,\"symbol\":\"BTC/USD\",\"bids\":[{\"event\":\"add\",\"order_id\":\"OVZSUT-VZQO2-XJ3HPN\",\"limit_price\":63125.8,\"order_qty\":0.10000000,\"timestamp\":\"2024-09-24T05:20:22.951523206Z\"}],\"asks\":[]}]}'\n",
      "++Rcv decoded: fin=1 opcode=1 data=b'{\"channel\":\"level3\",\"type\":\"update\",\"data\":[{\"checksum\":4290942234,\"symbol\":\"BTC/USD\",\"bids\":[{\"event\":\"add\",\"order_id\":\"OVZSUT-VZQO2-XJ3HPN\",\"limit_price\":63125.8,\"order_qty\":0.10000000,\"timestamp\":\"2024-09-24T05:20:22.951523206Z\"}],\"asks\":[]}]}'\n",
      "++Rcv raw: b'\\x81~\\x00\\xf6{\"channel\":\"level3\",\"type\":\"update\",\"data\":[{\"checksum\":1017230581,\"symbol\":\"BTC/USD\",\"bids\":[{\"event\":\"add\",\"order_id\":\"ONSHCP-D6BHW-BV362F\",\"limit_price\":63125.8,\"order_qty\":0.40000000,\"timestamp\":\"2024-09-24T05:20:22.951802257Z\"}],\"asks\":[]}]}'\n",
      "++Rcv decoded: fin=1 opcode=1 data=b'{\"channel\":\"level3\",\"type\":\"update\",\"data\":[{\"checksum\":1017230581,\"symbol\":\"BTC/USD\",\"bids\":[{\"event\":\"add\",\"order_id\":\"ONSHCP-D6BHW-BV362F\",\"limit_price\":63125.8,\"order_qty\":0.40000000,\"timestamp\":\"2024-09-24T05:20:22.951802257Z\"}],\"asks\":[]}]}'\n",
      "++Rcv raw: b'\\x81~\\x00\\xf6{\"channel\":\"level3\",\"type\":\"update\",\"data\":[{\"checksum\":1827931697,\"symbol\":\"BTC/USD\",\"bids\":[{\"event\":\"add\",\"order_id\":\"O2SZK7-QPYNQ-EABETU\",\"limit_price\":63125.8,\"order_qty\":0.40000000,\"timestamp\":\"2024-09-24T05:20:22.951835039Z\"}],\"asks\":[]}]}'\n",
      "++Rcv decoded: fin=1 opcode=1 data=b'{\"channel\":\"level3\",\"type\":\"update\",\"data\":[{\"checksum\":1827931697,\"symbol\":\"BTC/USD\",\"bids\":[{\"event\":\"add\",\"order_id\":\"O2SZK7-QPYNQ-EABETU\",\"limit_price\":63125.8,\"order_qty\":0.40000000,\"timestamp\":\"2024-09-24T05:20:22.951835039Z\"}],\"asks\":[]}]}'\n",
      "++Rcv raw: b'\\x81~\\x00\\xf6{\"channel\":\"level3\",\"type\":\"update\",\"data\":[{\"checksum\":1477618069,\"symbol\":\"BTC/USD\",\"bids\":[{\"event\":\"add\",\"order_id\":\"O66D5R-MUHF3-O2BOGK\",\"limit_price\":63125.8,\"order_qty\":0.20000000,\"timestamp\":\"2024-09-24T05:20:22.951872369Z\"}],\"asks\":[]}]}'\n",
      "++Rcv decoded: fin=1 opcode=1 data=b'{\"channel\":\"level3\",\"type\":\"update\",\"data\":[{\"checksum\":1477618069,\"symbol\":\"BTC/USD\",\"bids\":[{\"event\":\"add\",\"order_id\":\"O66D5R-MUHF3-O2BOGK\",\"limit_price\":63125.8,\"order_qty\":0.20000000,\"timestamp\":\"2024-09-24T05:20:22.951872369Z\"}],\"asks\":[]}]}'\n",
      "++Rcv raw: b'\\x81~\\x00\\xf6{\"channel\":\"level3\",\"type\":\"update\",\"data\":[{\"checksum\":4034863378,\"symbol\":\"BTC/USD\",\"bids\":[{\"event\":\"add\",\"order_id\":\"OW3742-MLWLA-E6URY2\",\"limit_price\":63125.8,\"order_qty\":0.40000000,\"timestamp\":\"2024-09-24T05:20:22.951943773Z\"}],\"asks\":[]}]}'\n",
      "++Rcv decoded: fin=1 opcode=1 data=b'{\"channel\":\"level3\",\"type\":\"update\",\"data\":[{\"checksum\":4034863378,\"symbol\":\"BTC/USD\",\"bids\":[{\"event\":\"add\",\"order_id\":\"OW3742-MLWLA-E6URY2\",\"limit_price\":63125.8,\"order_qty\":0.40000000,\"timestamp\":\"2024-09-24T05:20:22.951943773Z\"}],\"asks\":[]}]}'\n",
      "++Rcv raw: b'\\x81~\\x00\\xf6{\"channel\":\"level3\",\"type\":\"update\",\"data\":[{\"checksum\":3846312262,\"symbol\":\"BTC/USD\",\"bids\":[{\"event\":\"add\",\"order_id\":\"ODIW6T-NFSLF-PASULK\",\"limit_price\":63125.8,\"order_qty\":0.20000000,\"timestamp\":\"2024-09-24T05:20:22.951970992Z\"}],\"asks\":[]}]}'\n",
      "++Rcv decoded: fin=1 opcode=1 data=b'{\"channel\":\"level3\",\"type\":\"update\",\"data\":[{\"checksum\":3846312262,\"symbol\":\"BTC/USD\",\"bids\":[{\"event\":\"add\",\"order_id\":\"ODIW6T-NFSLF-PASULK\",\"limit_price\":63125.8,\"order_qty\":0.20000000,\"timestamp\":\"2024-09-24T05:20:22.951970992Z\"}],\"asks\":[]}]}'\n",
      "++Rcv raw: b'\\x81~\\x01\\x84{\"channel\":\"level3\",\"type\":\"update\",\"data\":[{\"checksum\":1146727764,\"symbol\":\"BTC/USD\",\"bids\":[{\"event\":\"delete\",\"order_id\":\"O2Z2UV-7FD4A-TIAN3B\",\"limit_price\":63113.8,\"order_qty\":0.32516381,\"timestamp\":\"2024-09-24T05:20:22.952030522Z\"},{\"event\":\"add\",\"order_id\":\"OPTGR5-L4ZKF-GLIDTR\",\"limit_price\":63113.4,\"order_qty\":0.13452308,\"timestamp\":\"2024-09-24T05:20:22.934977223Z\"}],\"asks\":[]}]}'\n",
      "++Rcv decoded: fin=1 opcode=1 data=b'{\"channel\":\"level3\",\"type\":\"update\",\"data\":[{\"checksum\":1146727764,\"symbol\":\"BTC/USD\",\"bids\":[{\"event\":\"delete\",\"order_id\":\"O2Z2UV-7FD4A-TIAN3B\",\"limit_price\":63113.8,\"order_qty\":0.32516381,\"timestamp\":\"2024-09-24T05:20:22.952030522Z\"},{\"event\":\"add\",\"order_id\":\"OPTGR5-L4ZKF-GLIDTR\",\"limit_price\":63113.4,\"order_qty\":0.13452308,\"timestamp\":\"2024-09-24T05:20:22.934977223Z\"}],\"asks\":[]}]}'\n",
      "++Rcv raw: b'\\x81~\\x00\\xf5{\"channel\":\"level3\",\"type\":\"update\",\"data\":[{\"checksum\":681597854,\"symbol\":\"BTC/USD\",\"bids\":[{\"event\":\"add\",\"order_id\":\"OAVIUO-X73LJ-ZFWH6U\",\"limit_price\":63125.8,\"order_qty\":0.20000000,\"timestamp\":\"2024-09-24T05:20:22.952210820Z\"}],\"asks\":[]}]}'\n",
      "++Rcv decoded: fin=1 opcode=1 data=b'{\"channel\":\"level3\",\"type\":\"update\",\"data\":[{\"checksum\":681597854,\"symbol\":\"BTC/USD\",\"bids\":[{\"event\":\"add\",\"order_id\":\"OAVIUO-X73LJ-ZFWH6U\",\"limit_price\":63125.8,\"order_qty\":0.20000000,\"timestamp\":\"2024-09-24T05:20:22.952210820Z\"}],\"asks\":[]}]}'\n",
      "++Rcv raw: b'\\x81~\\x00\\xf9{\"channel\":\"level3\",\"type\":\"update\",\"data\":[{\"checksum\":2294428188,\"symbol\":\"BTC/USD\",\"bids\":[],\"asks\":[{\"event\":\"delete\",\"order_id\":\"OIUVIG-DG4TB-ITS77N\",\"limit_price\":63125.9,\"order_qty\":0.40000000,\"timestamp\":\"2024-09-24T05:20:22.954741710Z\"}]}]}'\n"
     ]
    },
    {
     "name": "stdout",
     "output_type": "stream",
     "text": [
      "{'channel': 'level3', 'type': 'update', 'data': [{'checksum': 3604906755, 'symbol': 'BTC/USD', 'bids': [], 'asks': [{'event': 'add', 'order_id': 'O6CM4Z-KJSMK-FGI7TI', 'limit_price': 63125.9, 'order_qty': 0.4687, 'timestamp': '2024-09-24T05:20:22.797668390Z'}]}]}\n",
      "{'channel': 'level3', 'type': 'update', 'data': [{'checksum': 470653695, 'symbol': 'BTC/USD', 'bids': [{'event': 'delete', 'order_id': 'OYLIQV-AWPJZ-NAOEGW', 'limit_price': 63120.2, 'order_qty': 0.13452308, 'timestamp': '2024-09-24T05:20:22.799774630Z'}, {'event': 'add', 'order_id': 'OHYSTO-VZCT2-QSJG7V', 'limit_price': 63115.5, 'order_qty': 0.01085432, 'timestamp': '2024-09-24T05:20:21.917136362Z'}], 'asks': []}]}\n",
      "{'channel': 'level3', 'type': 'update', 'data': [{'checksum': 2178571248, 'symbol': 'BTC/USD', 'bids': [{'event': 'delete', 'order_id': 'OP7P4D-3UV4J-BIHFUZ', 'limit_price': 63122.5, 'order_qty': 3.96055121, 'timestamp': '2024-09-24T05:20:22.801761187Z'}, {'event': 'add', 'order_id': 'OR2BA2-PXVIN-BH2XJL', 'limit_price': 63115.2, 'order_qty': 0.00015844, 'timestamp': '2024-09-24T05:11:19.366269456Z'}, {'event': 'add', 'order_id': 'OZTEZY-WSYHM-CI2FEH', 'limit_price': 63115.2, 'order_qty': 7.92201563, 'timestamp': '2024-09-24T05:20:15.862186803Z'}], 'asks': []}]}\n",
      "{'channel': 'level3', 'type': 'update', 'data': [{'checksum': 1690727701, 'symbol': 'BTC/USD', 'bids': [], 'asks': [{'event': 'delete', 'order_id': 'OKNFLS-LHP3Q-3CPIYH', 'limit_price': 63127.7, 'order_qty': 3.96023017, 'timestamp': '2024-09-24T05:20:22.801972416Z'}, {'event': 'add', 'order_id': 'OKWBJO-57ZCN-ESFN5W', 'limit_price': 63134.0, 'order_qty': 0.00015865, 'timestamp': '2024-09-24T05:00:50.764166862Z'}]}]}\n",
      "{'channel': 'level3', 'type': 'update', 'data': [{'checksum': 1514729733, 'symbol': 'BTC/USD', 'bids': [{'event': 'add', 'order_id': 'OZYDTG-W7JAO-76OCZ4', 'limit_price': 63122.8, 'order_qty': 0.00784235, 'timestamp': '2024-09-24T05:20:22.802936766Z'}], 'asks': []}]}\n",
      "{'channel': 'level3', 'type': 'update', 'data': [{'checksum': 939794495, 'symbol': 'BTC/USD', 'bids': [], 'asks': [{'event': 'add', 'order_id': 'OXBTVZ-ZF2JZ-VQANKQ', 'limit_price': 63127.7, 'order_qty': 0.214362, 'timestamp': '2024-09-24T05:20:22.804103662Z'}]}]}\n",
      "{'channel': 'level3', 'type': 'update', 'data': [{'checksum': 1887179772, 'symbol': 'BTC/USD', 'bids': [{'event': 'delete', 'order_id': 'OUXXEO-J43AH-GM44RI', 'limit_price': 63123.2, 'order_qty': 3.96050457, 'timestamp': '2024-09-24T05:20:22.804523269Z'}, {'event': 'add', 'order_id': 'OR2BA2-PXVIN-BH2XJL', 'limit_price': 63115.2, 'order_qty': 0.00015844, 'timestamp': '2024-09-24T05:11:19.366269456Z'}, {'event': 'add', 'order_id': 'OZTEZY-WSYHM-CI2FEH', 'limit_price': 63115.2, 'order_qty': 7.92201563, 'timestamp': '2024-09-24T05:20:15.862186803Z'}], 'asks': []}]}\n",
      "{'channel': 'level3', 'type': 'update', 'data': [{'checksum': 1732972556, 'symbol': 'BTC/USD', 'bids': [], 'asks': [{'event': 'delete', 'order_id': 'OP2MBL-ZGDZW-5I42DP', 'limit_price': 63132.5, 'order_qty': 3.95992765, 'timestamp': '2024-09-24T05:20:22.804532279Z'}, {'event': 'add', 'order_id': 'OKWBJO-57ZCN-ESFN5W', 'limit_price': 63134.0, 'order_qty': 0.00015865, 'timestamp': '2024-09-24T05:00:50.764166862Z'}]}]}\n",
      "{'channel': 'level3', 'type': 'update', 'data': [{'checksum': 2156409268, 'symbol': 'BTC/USD', 'bids': [], 'asks': [{'event': 'delete', 'order_id': 'OKEYPO-ZWDDN-OMAP6D', 'limit_price': 63129.9, 'order_qty': 3.96008866, 'timestamp': '2024-09-24T05:20:22.804806655Z'}, {'event': 'add', 'order_id': 'O44R7I-444HK-5TGEHL', 'limit_price': 63134.3, 'order_qty': 0.13452308, 'timestamp': '2024-09-24T05:20:22.328826222Z'}]}]}\n",
      "{'channel': 'level3', 'type': 'update', 'data': [{'checksum': 1853367023, 'symbol': 'BTC/USD', 'bids': [{'event': 'delete', 'order_id': 'OZTEZY-WSYHM-CI2FEH', 'limit_price': 63115.2, 'order_qty': 7.92201563, 'timestamp': '2024-09-24T05:20:22.805767849Z'}], 'asks': []}]}\n",
      "{'channel': 'level3', 'type': 'update', 'data': [{'checksum': 1319793551, 'symbol': 'BTC/USD', 'bids': [{'event': 'delete', 'order_id': 'OSI7WX-GUOPG-WK3PE7', 'limit_price': 63119.2, 'order_qty': 3.96075941, 'timestamp': '2024-09-24T05:20:22.807048192Z'}, {'event': 'add', 'order_id': 'OKF27G-7NT2M-C5DMKL', 'limit_price': 63114.6, 'order_qty': 0.43119078, 'timestamp': '2024-09-24T05:20:21.944812974Z'}], 'asks': []}]}\n",
      "{'channel': 'level3', 'type': 'update', 'data': [{'checksum': 2970884110, 'symbol': 'BTC/USD', 'bids': [{'event': 'delete', 'order_id': 'OL35PK-5U2PH-H3ZH3V', 'limit_price': 63125.8, 'order_qty': 0.1, 'timestamp': '2024-09-24T05:20:22.808369933Z'}], 'asks': []}]}\n",
      "{'channel': 'level3', 'type': 'update', 'data': [{'checksum': 2772416947, 'symbol': 'BTC/USD', 'bids': [{'event': 'delete', 'order_id': 'OFJD62-HPBDZ-T7IAVB', 'limit_price': 63125.8, 'order_qty': 0.14603, 'timestamp': '2024-09-24T05:20:22.808617943Z'}], 'asks': []}]}\n",
      "{'channel': 'level3', 'type': 'update', 'data': [{'checksum': 1100342797, 'symbol': 'BTC/USD', 'bids': [{'event': 'delete', 'order_id': 'OQIUDW-2NWLF-EIMWS5', 'limit_price': 63125.8, 'order_qty': 0.2, 'timestamp': '2024-09-24T05:20:22.809447063Z'}], 'asks': []}]}\n",
      "{'channel': 'level3', 'type': 'update', 'data': [{'checksum': 1292331851, 'symbol': 'BTC/USD', 'bids': [{'event': 'delete', 'order_id': 'OXPFDJ-OWOMB-GXZJD6', 'limit_price': 63125.8, 'order_qty': 0.4, 'timestamp': '2024-09-24T05:20:22.810040099Z'}], 'asks': []}]}\n",
      "{'channel': 'level3', 'type': 'update', 'data': [{'checksum': 1121023926, 'symbol': 'BTC/USD', 'bids': [{'event': 'delete', 'order_id': 'OZYDTG-W7JAO-76OCZ4', 'limit_price': 63122.8, 'order_qty': 0.00784235, 'timestamp': '2024-09-24T05:20:22.810101691Z'}, {'event': 'add', 'order_id': 'OODOCS-ZH4M7-YUGPV2', 'limit_price': 63113.2, 'order_qty': 0.00792236, 'timestamp': '2024-09-24T05:14:52.749973329Z'}], 'asks': []}]}\n",
      "{'channel': 'level3', 'type': 'update', 'data': [{'checksum': 1888384926, 'symbol': 'BTC/USD', 'bids': [{'event': 'delete', 'order_id': 'OZNP2L-R5PAM-5UXUQ7', 'limit_price': 63125.8, 'order_qty': 0.4, 'timestamp': '2024-09-24T05:20:22.816171975Z'}], 'asks': []}]}\n",
      "{'channel': 'level3', 'type': 'update', 'data': [{'checksum': 1704172902, 'symbol': 'BTC/USD', 'bids': [{'event': 'delete', 'order_id': 'O727JF-3XQUX-NCE6EL', 'limit_price': 63125.8, 'order_qty': 0.2, 'timestamp': '2024-09-24T05:20:22.816224096Z'}], 'asks': []}]}\n",
      "{'channel': 'level3', 'type': 'update', 'data': [{'checksum': 3008613564, 'symbol': 'BTC/USD', 'bids': [{'event': 'delete', 'order_id': 'O7FA2F-3FFD2-KLF2V3', 'limit_price': 63125.8, 'order_qty': 0.2, 'timestamp': '2024-09-24T05:20:22.816254111Z'}], 'asks': []}]}\n",
      "{'channel': 'level3', 'type': 'update', 'data': [{'checksum': 1760027483, 'symbol': 'BTC/USD', 'bids': [], 'asks': [{'event': 'add', 'order_id': 'OXJYT7-E26HH-MMUD6C', 'limit_price': 63125.9, 'order_qty': 0.4687, 'timestamp': '2024-09-24T05:20:22.819852131Z'}]}]}\n",
      "{'channel': 'level3', 'type': 'update', 'data': [{'checksum': 2184331082, 'symbol': 'BTC/USD', 'bids': [{'event': 'delete', 'order_id': 'OKF27G-7NT2M-C5DMKL', 'limit_price': 63114.6, 'order_qty': 0.43119078, 'timestamp': '2024-09-24T05:20:22.820700855Z'}, {'event': 'add', 'order_id': 'OFWFEH-UZ3VY-JJLJLH', 'limit_price': 63113.1, 'order_qty': 0.25, 'timestamp': '2024-09-24T05:20:17.406452484Z'}], 'asks': []}]}\n",
      "{'channel': 'level3', 'type': 'update', 'data': [{'checksum': 1442641950, 'symbol': 'BTC/USD', 'bids': [{'event': 'add', 'order_id': 'OALIIZ-VWWBN-5HLQYN', 'limit_price': 63114.7, 'order_qty': 0.4311901, 'timestamp': '2024-09-24T05:20:22.824299220Z'}], 'asks': []}]}\n",
      "{'channel': 'level3', 'type': 'update', 'data': [{'checksum': 2184331082, 'symbol': 'BTC/USD', 'bids': [{'event': 'delete', 'order_id': 'OALIIZ-VWWBN-5HLQYN', 'limit_price': 63114.7, 'order_qty': 0.4311901, 'timestamp': '2024-09-24T05:20:22.824685629Z'}, {'event': 'add', 'order_id': 'OFWFEH-UZ3VY-JJLJLH', 'limit_price': 63113.1, 'order_qty': 0.25, 'timestamp': '2024-09-24T05:20:17.406452484Z'}], 'asks': []}]}\n",
      "{'channel': 'level3', 'type': 'update', 'data': [{'checksum': 3061200523, 'symbol': 'BTC/USD', 'bids': [], 'asks': [{'event': 'add', 'order_id': 'OKQNLY-2XI24-BDVRPJ', 'limit_price': 63125.9, 'order_qty': 3.96033957, 'timestamp': '2024-09-24T05:20:22.826800672Z'}]}]}\n",
      "{'channel': 'level3', 'type': 'update', 'data': [{'checksum': 1329092633, 'symbol': 'BTC/USD', 'bids': [{'event': 'add', 'order_id': 'O6T6OC-HOARP-T6NMFM', 'limit_price': 63116.1, 'order_qty': 3.9609514, 'timestamp': '2024-09-24T05:20:22.826878348Z'}], 'asks': []}]}\n",
      "{'channel': 'level3', 'type': 'update', 'data': [{'checksum': 1919127800, 'symbol': 'BTC/USD', 'bids': [{'event': 'add', 'order_id': 'OHHANE-TQFCV-OZLZ7V', 'limit_price': 63118.1, 'order_qty': 3.9608279, 'timestamp': '2024-09-24T05:20:22.826893594Z'}], 'asks': []}]}\n",
      "{'channel': 'level3', 'type': 'update', 'data': [{'checksum': 2180806506, 'symbol': 'BTC/USD', 'bids': [], 'asks': [{'event': 'add', 'order_id': 'OAAIH3-WZRY4-2QEZKF', 'limit_price': 63125.9, 'order_qty': 3.96033957, 'timestamp': '2024-09-24T05:20:22.826964793Z'}]}]}\n",
      "{'channel': 'level3', 'type': 'update', 'data': [{'checksum': 2556136903, 'symbol': 'BTC/USD', 'bids': [], 'asks': [{'event': 'add', 'order_id': 'OC2OTC-AXVDA-42QWZQ', 'limit_price': 63133.6, 'order_qty': 7.91971801, 'timestamp': '2024-09-24T05:20:22.827006585Z'}]}]}\n",
      "{'channel': 'level3', 'type': 'update', 'data': [{'checksum': 3896314710, 'symbol': 'BTC/USD', 'bids': [], 'asks': [{'event': 'add', 'order_id': 'ODGCH6-4DZUM-DZ2YM6', 'limit_price': 63132.0, 'order_qty': 0.13452308, 'timestamp': '2024-09-24T05:20:22.829350605Z'}]}]}\n",
      "{'channel': 'level3', 'type': 'update', 'data': [{'checksum': 2181925078, 'symbol': 'BTC/USD', 'bids': [], 'asks': [{'event': 'add', 'order_id': 'OWQ7SK-MZWQ7-N2HLML', 'limit_price': 63132.0, 'order_qty': 0.13452308, 'timestamp': '2024-09-24T05:20:22.829899529Z'}]}]}\n",
      "{'channel': 'level3', 'type': 'update', 'data': [{'checksum': 266626218, 'symbol': 'BTC/USD', 'bids': [{'event': 'delete', 'order_id': 'ONWTJI-WY3VZ-E5ZPHW', 'limit_price': 63117.2, 'order_qty': 0.21783346, 'timestamp': '2024-09-24T05:20:22.831070730Z'}, {'event': 'add', 'order_id': 'OMY6FE-JFCNC-SVUGBS', 'limit_price': 63113.3, 'order_qty': 0.43119966, 'timestamp': '2024-09-24T05:20:22.829812653Z'}], 'asks': []}]}\n",
      "{'channel': 'level3', 'type': 'update', 'data': [{'checksum': 1708451626, 'symbol': 'BTC/USD', 'bids': [], 'asks': [{'event': 'delete', 'order_id': 'ODGCH6-4DZUM-DZ2YM6', 'limit_price': 63132.0, 'order_qty': 0.13452308, 'timestamp': '2024-09-24T05:20:22.833675835Z'}]}]}\n",
      "{'channel': 'level3', 'type': 'update', 'data': [{'checksum': 2795230519, 'symbol': 'BTC/USD', 'bids': [], 'asks': [{'event': 'add', 'order_id': 'OBWRS4-XN4BB-INAIAZ', 'limit_price': 63133.2, 'order_qty': 0.03947498, 'timestamp': '2024-09-24T05:20:22.834928056Z'}]}]}\n",
      "{'channel': 'level3', 'type': 'update', 'data': [{'checksum': 404458411, 'symbol': 'BTC/USD', 'bids': [], 'asks': [{'event': 'delete', 'order_id': 'OWQ7SK-MZWQ7-N2HLML', 'limit_price': 63132.0, 'order_qty': 0.13452308, 'timestamp': '2024-09-24T05:20:22.836041886Z'}, {'event': 'add', 'order_id': 'OC2OTC-AXVDA-42QWZQ', 'limit_price': 63133.6, 'order_qty': 7.91971801, 'timestamp': '2024-09-24T05:20:22.827006585Z'}]}]}\n",
      "{'channel': 'level3', 'type': 'update', 'data': [{'checksum': 1788424370, 'symbol': 'BTC/USD', 'bids': [], 'asks': [{'event': 'add', 'order_id': 'OFJARH-BHUD2-MPOHU4', 'limit_price': 63129.7, 'order_qty': 0.13452308, 'timestamp': '2024-09-24T05:20:22.836041890Z'}]}]}\n",
      "{'channel': 'level3', 'type': 'update', 'data': [{'checksum': 404458411, 'symbol': 'BTC/USD', 'bids': [], 'asks': [{'event': 'delete', 'order_id': 'OFJARH-BHUD2-MPOHU4', 'limit_price': 63129.7, 'order_qty': 0.13452308, 'timestamp': '2024-09-24T05:20:22.839387403Z'}, {'event': 'add', 'order_id': 'OC2OTC-AXVDA-42QWZQ', 'limit_price': 63133.6, 'order_qty': 7.91971801, 'timestamp': '2024-09-24T05:20:22.827006585Z'}]}]}\n",
      "{'channel': 'level3', 'type': 'update', 'data': [{'checksum': 3771786078, 'symbol': 'BTC/USD', 'bids': [], 'asks': [{'event': 'add', 'order_id': 'OWQW24-RAPXF-7D4BGF', 'limit_price': 63129.0, 'order_qty': 0.13452308, 'timestamp': '2024-09-24T05:20:22.839387407Z'}]}]}\n",
      "{'channel': 'level3', 'type': 'update', 'data': [{'checksum': 3741604710, 'symbol': 'BTC/USD', 'bids': [{'event': 'add', 'order_id': 'OPF2PF-ZXD4D-ONNC6J', 'limit_price': 63113.7, 'order_qty': 0.06335851, 'timestamp': '2024-09-24T05:20:22.844322892Z'}], 'asks': []}]}\n",
      "{'channel': 'level3', 'type': 'update', 'data': [{'checksum': 1640449288, 'symbol': 'BTC/USD', 'bids': [], 'asks': [{'event': 'add', 'order_id': 'OQOPOP-DSHMD-KUFFOU', 'limit_price': 63125.9, 'order_qty': 3.96033957, 'timestamp': '2024-09-24T05:20:22.855074586Z'}]}]}\n",
      "{'channel': 'level3', 'type': 'update', 'data': [{'checksum': 2364100068, 'symbol': 'BTC/USD', 'bids': [{'event': 'delete', 'order_id': 'OHC6DV-XGTH4-M7ZI3X', 'limit_price': 63117.4, 'order_qty': 0.30765354, 'timestamp': '2024-09-24T05:20:22.858135006Z'}, {'event': 'add', 'order_id': 'OMY6FE-JFCNC-SVUGBS', 'limit_price': 63113.3, 'order_qty': 0.43119966, 'timestamp': '2024-09-24T05:20:22.829812653Z'}], 'asks': []}]}\n",
      "{'channel': 'level3', 'type': 'update', 'data': [{'checksum': 827867158, 'symbol': 'BTC/USD', 'bids': [], 'asks': [{'event': 'delete', 'order_id': 'OWQW24-RAPXF-7D4BGF', 'limit_price': 63129.0, 'order_qty': 0.13452308, 'timestamp': '2024-09-24T05:20:22.873195499Z'}, {'event': 'add', 'order_id': 'OC2OTC-AXVDA-42QWZQ', 'limit_price': 63133.6, 'order_qty': 7.91971801, 'timestamp': '2024-09-24T05:20:22.827006585Z'}]}]}\n",
      "{'channel': 'level3', 'type': 'update', 'data': [{'checksum': 2149530856, 'symbol': 'BTC/USD', 'bids': [], 'asks': [{'event': 'add', 'order_id': 'OBLHC4-LRBLB-A7WFR4', 'limit_price': 63126.5, 'order_qty': 0.13452308, 'timestamp': '2024-09-24T05:20:22.873195503Z'}]}]}\n",
      "{'channel': 'level3', 'type': 'update', 'data': [{'checksum': 4231884059, 'symbol': 'BTC/USD', 'bids': [], 'asks': [{'event': 'add', 'order_id': 'OP2RPQ-YVP2I-NEG6A7', 'limit_price': 63126.5, 'order_qty': 0.13452308, 'timestamp': '2024-09-24T05:20:22.874066040Z'}]}]}\n",
      "{'channel': 'level3', 'type': 'update', 'data': [{'checksum': 1341278690, 'symbol': 'BTC/USD', 'bids': [{'event': 'delete', 'order_id': 'OHHANE-TQFCV-OZLZ7V', 'limit_price': 63118.1, 'order_qty': 3.9608279, 'timestamp': '2024-09-24T05:20:22.876988733Z'}, {'event': 'add', 'order_id': 'OODOCS-ZH4M7-YUGPV2', 'limit_price': 63113.2, 'order_qty': 0.00792236, 'timestamp': '2024-09-24T05:14:52.749973329Z'}], 'asks': []}]}\n",
      "{'channel': 'level3', 'type': 'update', 'data': [{'checksum': 438465112, 'symbol': 'BTC/USD', 'bids': [{'event': 'add', 'order_id': 'OF42GR-YVUWV-JVIG2C', 'limit_price': 63115.8, 'order_qty': 3.9609705, 'timestamp': '2024-09-24T05:20:22.883295960Z'}], 'asks': []}]}\n",
      "{'channel': 'level3', 'type': 'update', 'data': [{'checksum': 2979572883, 'symbol': 'BTC/USD', 'bids': [{'event': 'delete', 'order_id': 'OMY6FE-JFCNC-SVUGBS', 'limit_price': 63113.3, 'order_qty': 0.43119966, 'timestamp': '2024-09-24T05:20:22.891544758Z'}, {'event': 'add', 'order_id': 'OODOCS-ZH4M7-YUGPV2', 'limit_price': 63113.2, 'order_qty': 0.00792236, 'timestamp': '2024-09-24T05:14:52.749973329Z'}], 'asks': []}]}\n",
      "{'channel': 'level3', 'type': 'update', 'data': [{'checksum': 3687257099, 'symbol': 'BTC/USD', 'bids': [], 'asks': [{'event': 'delete', 'order_id': 'OP2RPQ-YVP2I-NEG6A7', 'limit_price': 63126.5, 'order_qty': 0.13452308, 'timestamp': '2024-09-24T05:20:22.892970432Z'}]}]}\n",
      "{'channel': 'level3', 'type': 'update', 'data': [{'checksum': 3017718830, 'symbol': 'BTC/USD', 'bids': [{'event': 'delete', 'order_id': 'OF42GR-YVUWV-JVIG2C', 'limit_price': 63115.8, 'order_qty': 3.9609705, 'timestamp': '2024-09-24T05:20:22.895793396Z'}, {'event': 'add', 'order_id': 'OFWFEH-UZ3VY-JJLJLH', 'limit_price': 63113.1, 'order_qty': 0.25, 'timestamp': '2024-09-24T05:20:17.406452484Z'}], 'asks': []}]}\n",
      "{'channel': 'level3', 'type': 'update', 'data': [{'checksum': 3542503846, 'symbol': 'BTC/USD', 'bids': [{'event': 'add', 'order_id': 'O2Z2UV-7FD4A-TIAN3B', 'limit_price': 63113.8, 'order_qty': 0.32516381, 'timestamp': '2024-09-24T05:20:22.896463182Z'}], 'asks': []}]}\n",
      "{'channel': 'level3', 'type': 'update', 'data': [{'checksum': 999284394, 'symbol': 'BTC/USD', 'bids': [{'event': 'add', 'order_id': 'O2MIVK-BJTY5-GADBKQ', 'limit_price': 63117.9, 'order_qty': 3.96083693, 'timestamp': '2024-09-24T05:20:22.901039082Z'}], 'asks': []}]}\n",
      "{'channel': 'level3', 'type': 'update', 'data': [{'checksum': 307627270, 'symbol': 'BTC/USD', 'bids': [], 'asks': [{'event': 'add', 'order_id': 'OTQW5T-IZC4K-QAO3SW', 'limit_price': 63125.9, 'order_qty': 0.0373, 'timestamp': '2024-09-24T05:20:22.939357397Z'}]}]}\n",
      "{'channel': 'level3', 'type': 'update', 'data': [{'checksum': 2349941642, 'symbol': 'BTC/USD', 'bids': [], 'asks': [{'event': 'delete', 'order_id': 'OX3CVY-2LIVR-DNG46C', 'limit_price': 63126.0, 'order_qty': 0.0373, 'timestamp': '2024-09-24T05:20:22.939526436Z'}]}]}\n",
      "{'channel': 'level3', 'type': 'update', 'data': [{'checksum': 4290942234, 'symbol': 'BTC/USD', 'bids': [{'event': 'add', 'order_id': 'OVZSUT-VZQO2-XJ3HPN', 'limit_price': 63125.8, 'order_qty': 0.1, 'timestamp': '2024-09-24T05:20:22.951523206Z'}], 'asks': []}]}\n",
      "{'channel': 'level3', 'type': 'update', 'data': [{'checksum': 1017230581, 'symbol': 'BTC/USD', 'bids': [{'event': 'add', 'order_id': 'ONSHCP-D6BHW-BV362F', 'limit_price': 63125.8, 'order_qty': 0.4, 'timestamp': '2024-09-24T05:20:22.951802257Z'}], 'asks': []}]}\n",
      "{'channel': 'level3', 'type': 'update', 'data': [{'checksum': 1827931697, 'symbol': 'BTC/USD', 'bids': [{'event': 'add', 'order_id': 'O2SZK7-QPYNQ-EABETU', 'limit_price': 63125.8, 'order_qty': 0.4, 'timestamp': '2024-09-24T05:20:22.951835039Z'}], 'asks': []}]}\n",
      "{'channel': 'level3', 'type': 'update', 'data': [{'checksum': 1477618069, 'symbol': 'BTC/USD', 'bids': [{'event': 'add', 'order_id': 'O66D5R-MUHF3-O2BOGK', 'limit_price': 63125.8, 'order_qty': 0.2, 'timestamp': '2024-09-24T05:20:22.951872369Z'}], 'asks': []}]}\n",
      "{'channel': 'level3', 'type': 'update', 'data': [{'checksum': 4034863378, 'symbol': 'BTC/USD', 'bids': [{'event': 'add', 'order_id': 'OW3742-MLWLA-E6URY2', 'limit_price': 63125.8, 'order_qty': 0.4, 'timestamp': '2024-09-24T05:20:22.951943773Z'}], 'asks': []}]}\n",
      "{'channel': 'level3', 'type': 'update', 'data': [{'checksum': 3846312262, 'symbol': 'BTC/USD', 'bids': [{'event': 'add', 'order_id': 'ODIW6T-NFSLF-PASULK', 'limit_price': 63125.8, 'order_qty': 0.2, 'timestamp': '2024-09-24T05:20:22.951970992Z'}], 'asks': []}]}\n",
      "{'channel': 'level3', 'type': 'update', 'data': [{'checksum': 1146727764, 'symbol': 'BTC/USD', 'bids': [{'event': 'delete', 'order_id': 'O2Z2UV-7FD4A-TIAN3B', 'limit_price': 63113.8, 'order_qty': 0.32516381, 'timestamp': '2024-09-24T05:20:22.952030522Z'}, {'event': 'add', 'order_id': 'OPTGR5-L4ZKF-GLIDTR', 'limit_price': 63113.4, 'order_qty': 0.13452308, 'timestamp': '2024-09-24T05:20:22.934977223Z'}], 'asks': []}]}\n",
      "{'channel': 'level3', 'type': 'update', 'data': [{'checksum': 681597854, 'symbol': 'BTC/USD', 'bids': [{'event': 'add', 'order_id': 'OAVIUO-X73LJ-ZFWH6U', 'limit_price': 63125.8, 'order_qty': 0.2, 'timestamp': '2024-09-24T05:20:22.952210820Z'}], 'asks': []}]}\n"
     ]
    },
    {
     "name": "stderr",
     "output_type": "stream",
     "text": [
      "++Rcv decoded: fin=1 opcode=1 data=b'{\"channel\":\"level3\",\"type\":\"update\",\"data\":[{\"checksum\":2294428188,\"symbol\":\"BTC/USD\",\"bids\":[],\"asks\":[{\"event\":\"delete\",\"order_id\":\"OIUVIG-DG4TB-ITS77N\",\"limit_price\":63125.9,\"order_qty\":0.40000000,\"timestamp\":\"2024-09-24T05:20:22.954741710Z\"}]}]}'\n",
      "++Rcv raw: b'\\x81~\\x00\\xf9{\"channel\":\"level3\",\"type\":\"update\",\"data\":[{\"checksum\":2326119771,\"symbol\":\"BTC/USD\",\"bids\":[{\"event\":\"delete\",\"order_id\":\"ONSHCP-D6BHW-BV362F\",\"limit_price\":63125.8,\"order_qty\":0.40000000,\"timestamp\":\"2024-09-24T05:20:22.954741716Z\"}],\"asks\":[]}]}'\n",
      "++Rcv decoded: fin=1 opcode=1 data=b'{\"channel\":\"level3\",\"type\":\"update\",\"data\":[{\"checksum\":2326119771,\"symbol\":\"BTC/USD\",\"bids\":[{\"event\":\"delete\",\"order_id\":\"ONSHCP-D6BHW-BV362F\",\"limit_price\":63125.8,\"order_qty\":0.40000000,\"timestamp\":\"2024-09-24T05:20:22.954741716Z\"}],\"asks\":[]}]}'\n",
      "++Rcv raw: b'\\x81~\\x00\\xf9{\"channel\":\"level3\",\"type\":\"update\",\"data\":[{\"checksum\":3714545019,\"symbol\":\"BTC/USD\",\"bids\":[],\"asks\":[{\"event\":\"delete\",\"order_id\":\"OIGVUV-AQYCF-4QCV2T\",\"limit_price\":63125.9,\"order_qty\":0.20000000,\"timestamp\":\"2024-09-24T05:20:22.954901529Z\"}]}]}'\n",
      "++Rcv decoded: fin=1 opcode=1 data=b'{\"channel\":\"level3\",\"type\":\"update\",\"data\":[{\"checksum\":3714545019,\"symbol\":\"BTC/USD\",\"bids\":[],\"asks\":[{\"event\":\"delete\",\"order_id\":\"OIGVUV-AQYCF-4QCV2T\",\"limit_price\":63125.9,\"order_qty\":0.20000000,\"timestamp\":\"2024-09-24T05:20:22.954901529Z\"}]}]}'\n",
      "++Rcv raw: b'\\x81~\\x00\\xf8{\"channel\":\"level3\",\"type\":\"update\",\"data\":[{\"checksum\":882637266,\"symbol\":\"BTC/USD\",\"bids\":[{\"event\":\"delete\",\"order_id\":\"O66D5R-MUHF3-O2BOGK\",\"limit_price\":63125.8,\"order_qty\":0.20000000,\"timestamp\":\"2024-09-24T05:20:22.954901535Z\"}],\"asks\":[]}]}'\n",
      "++Rcv decoded: fin=1 opcode=1 data=b'{\"channel\":\"level3\",\"type\":\"update\",\"data\":[{\"checksum\":882637266,\"symbol\":\"BTC/USD\",\"bids\":[{\"event\":\"delete\",\"order_id\":\"O66D5R-MUHF3-O2BOGK\",\"limit_price\":63125.8,\"order_qty\":0.20000000,\"timestamp\":\"2024-09-24T05:20:22.954901535Z\"}],\"asks\":[]}]}'\n",
      "++Rcv raw: b'\\x81~\\x00\\xf6{\"channel\":\"level3\",\"type\":\"update\",\"data\":[{\"checksum\":2352046306,\"symbol\":\"BTC/USD\",\"bids\":[],\"asks\":[{\"event\":\"add\",\"order_id\":\"OYJOSU-UC5I6-5XMOUA\",\"limit_price\":63125.9,\"order_qty\":0.05507000,\"timestamp\":\"2024-09-24T05:20:22.955001008Z\"}]}]}'\n",
      "++Rcv decoded: fin=1 opcode=1 data=b'{\"channel\":\"level3\",\"type\":\"update\",\"data\":[{\"checksum\":2352046306,\"symbol\":\"BTC/USD\",\"bids\":[],\"asks\":[{\"event\":\"add\",\"order_id\":\"OYJOSU-UC5I6-5XMOUA\",\"limit_price\":63125.9,\"order_qty\":0.05507000,\"timestamp\":\"2024-09-24T05:20:22.955001008Z\"}]}]}'\n",
      "++Rcv raw: b'\\x81~\\x00\\xf5{\"channel\":\"level3\",\"type\":\"update\",\"data\":[{\"checksum\":695712141,\"symbol\":\"BTC/USD\",\"bids\":[],\"asks\":[{\"event\":\"add\",\"order_id\":\"OR33BR-QONP5-BO76DM\",\"limit_price\":63125.9,\"order_qty\":0.40000000,\"timestamp\":\"2024-09-24T05:20:22.955011928Z\"}]}]}'\n",
      "++Rcv decoded: fin=1 opcode=1 data=b'{\"channel\":\"level3\",\"type\":\"update\",\"data\":[{\"checksum\":695712141,\"symbol\":\"BTC/USD\",\"bids\":[],\"asks\":[{\"event\":\"add\",\"order_id\":\"OR33BR-QONP5-BO76DM\",\"limit_price\":63125.9,\"order_qty\":0.40000000,\"timestamp\":\"2024-09-24T05:20:22.955011928Z\"}]}]}'\n",
      "++Rcv raw: b'\\x81~\\x00\\xf6{\"channel\":\"level3\",\"type\":\"update\",\"data\":[{\"checksum\":1904825014,\"symbol\":\"BTC/USD\",\"bids\":[],\"asks\":[{\"event\":\"add\",\"order_id\":\"OA37OU-AUUSR-DXCTCK\",\"limit_price\":63125.9,\"order_qty\":0.10000000,\"timestamp\":\"2024-09-24T05:20:22.955458202Z\"}]}]}'\n",
      "++Rcv decoded: fin=1 opcode=1 data=b'{\"channel\":\"level3\",\"type\":\"update\",\"data\":[{\"checksum\":1904825014,\"symbol\":\"BTC/USD\",\"bids\":[],\"asks\":[{\"event\":\"add\",\"order_id\":\"OA37OU-AUUSR-DXCTCK\",\"limit_price\":63125.9,\"order_qty\":0.10000000,\"timestamp\":\"2024-09-24T05:20:22.955458202Z\"}]}]}'\n",
      "++Rcv raw: b'\\x81~\\x00\\xf8{\"channel\":\"level3\",\"type\":\"update\",\"data\":[{\"checksum\":853741713,\"symbol\":\"BTC/USD\",\"bids\":[],\"asks\":[{\"event\":\"delete\",\"order_id\":\"ONIWBU-DHYUU-PSPAEQ\",\"limit_price\":63125.9,\"order_qty\":0.10000000,\"timestamp\":\"2024-09-24T05:20:22.955522712Z\"}]}]}'\n",
      "++Rcv decoded: fin=1 opcode=1 data=b'{\"channel\":\"level3\",\"type\":\"update\",\"data\":[{\"checksum\":853741713,\"symbol\":\"BTC/USD\",\"bids\":[],\"asks\":[{\"event\":\"delete\",\"order_id\":\"ONIWBU-DHYUU-PSPAEQ\",\"limit_price\":63125.9,\"order_qty\":0.10000000,\"timestamp\":\"2024-09-24T05:20:22.955522712Z\"}]}]}'\n",
      "++Rcv raw: b'\\x81~\\x00\\xf9{\"channel\":\"level3\",\"type\":\"update\",\"data\":[{\"checksum\":3608587065,\"symbol\":\"BTC/USD\",\"bids\":[{\"event\":\"delete\",\"order_id\":\"OVZSUT-VZQO2-XJ3HPN\",\"limit_price\":63125.8,\"order_qty\":0.10000000,\"timestamp\":\"2024-09-24T05:20:22.955522718Z\"}],\"asks\":[]}]}'\n",
      "++Rcv decoded: fin=1 opcode=1 data=b'{\"channel\":\"level3\",\"type\":\"update\",\"data\":[{\"checksum\":3608587065,\"symbol\":\"BTC/USD\",\"bids\":[{\"event\":\"delete\",\"order_id\":\"OVZSUT-VZQO2-XJ3HPN\",\"limit_price\":63125.8,\"order_qty\":0.10000000,\"timestamp\":\"2024-09-24T05:20:22.955522718Z\"}],\"asks\":[]}]}'\n",
      "++Rcv raw: b'\\x81~\\x00\\xf9{\"channel\":\"level3\",\"type\":\"update\",\"data\":[{\"checksum\":1051809353,\"symbol\":\"BTC/USD\",\"bids\":[],\"asks\":[{\"event\":\"delete\",\"order_id\":\"OA37OU-AUUSR-DXCTCK\",\"limit_price\":63125.9,\"order_qty\":0.10000000,\"timestamp\":\"2024-09-24T05:20:22.955522724Z\"}]}]}'\n",
      "++Rcv decoded: fin=1 opcode=1 data=b'{\"channel\":\"level3\",\"type\":\"update\",\"data\":[{\"checksum\":1051809353,\"symbol\":\"BTC/USD\",\"bids\":[],\"asks\":[{\"event\":\"delete\",\"order_id\":\"OA37OU-AUUSR-DXCTCK\",\"limit_price\":63125.9,\"order_qty\":0.10000000,\"timestamp\":\"2024-09-24T05:20:22.955522724Z\"}]}]}'\n",
      "++Rcv raw: b'\\x81~\\x00\\xf9{\"channel\":\"level3\",\"type\":\"update\",\"data\":[{\"checksum\":2214747581,\"symbol\":\"BTC/USD\",\"bids\":[],\"asks\":[{\"event\":\"delete\",\"order_id\":\"OESMGK-VSSIS-4RKDWA\",\"limit_price\":63125.9,\"order_qty\":0.40000000,\"timestamp\":\"2024-09-24T05:20:22.955645921Z\"}]}]}'\n",
      "++Rcv decoded: fin=1 opcode=1 data=b'{\"channel\":\"level3\",\"type\":\"update\",\"data\":[{\"checksum\":2214747581,\"symbol\":\"BTC/USD\",\"bids\":[],\"asks\":[{\"event\":\"delete\",\"order_id\":\"OESMGK-VSSIS-4RKDWA\",\"limit_price\":63125.9,\"order_qty\":0.40000000,\"timestamp\":\"2024-09-24T05:20:22.955645921Z\"}]}]}'\n",
      "++Rcv raw: b'\\x81~\\x00\\xf9{\"channel\":\"level3\",\"type\":\"update\",\"data\":[{\"checksum\":2379628254,\"symbol\":\"BTC/USD\",\"bids\":[{\"event\":\"delete\",\"order_id\":\"O2SZK7-QPYNQ-EABETU\",\"limit_price\":63125.8,\"order_qty\":0.40000000,\"timestamp\":\"2024-09-24T05:20:22.955645927Z\"}],\"asks\":[]}]}'\n",
      "++Rcv decoded: fin=1 opcode=1 data=b'{\"channel\":\"level3\",\"type\":\"update\",\"data\":[{\"checksum\":2379628254,\"symbol\":\"BTC/USD\",\"bids\":[{\"event\":\"delete\",\"order_id\":\"O2SZK7-QPYNQ-EABETU\",\"limit_price\":63125.8,\"order_qty\":0.40000000,\"timestamp\":\"2024-09-24T05:20:22.955645927Z\"}],\"asks\":[]}]}'\n",
      "++Rcv raw: b'\\x81~\\x00\\xf8{\"channel\":\"level3\",\"type\":\"update\",\"data\":[{\"checksum\":428015631,\"symbol\":\"BTC/USD\",\"bids\":[],\"asks\":[{\"event\":\"delete\",\"order_id\":\"ONOREW-3BLYP-AP4WXN\",\"limit_price\":63125.9,\"order_qty\":0.20000000,\"timestamp\":\"2024-09-24T05:20:22.955755569Z\"}]}]}'\n",
      "++Rcv decoded: fin=1 opcode=1 data=b'{\"channel\":\"level3\",\"type\":\"update\",\"data\":[{\"checksum\":428015631,\"symbol\":\"BTC/USD\",\"bids\":[],\"asks\":[{\"event\":\"delete\",\"order_id\":\"ONOREW-3BLYP-AP4WXN\",\"limit_price\":63125.9,\"order_qty\":0.20000000,\"timestamp\":\"2024-09-24T05:20:22.955755569Z\"}]}]}'\n",
      "++Rcv raw: b'\\x81~\\x00\\xf9{\"channel\":\"level3\",\"type\":\"update\",\"data\":[{\"checksum\":2904095156,\"symbol\":\"BTC/USD\",\"bids\":[{\"event\":\"delete\",\"order_id\":\"OAVIUO-X73LJ-ZFWH6U\",\"limit_price\":63125.8,\"order_qty\":0.20000000,\"timestamp\":\"2024-09-24T05:20:22.955755575Z\"}],\"asks\":[]}]}'\n",
      "++Rcv decoded: fin=1 opcode=1 data=b'{\"channel\":\"level3\",\"type\":\"update\",\"data\":[{\"checksum\":2904095156,\"symbol\":\"BTC/USD\",\"bids\":[{\"event\":\"delete\",\"order_id\":\"OAVIUO-X73LJ-ZFWH6U\",\"limit_price\":63125.8,\"order_qty\":0.20000000,\"timestamp\":\"2024-09-24T05:20:22.955755575Z\"}],\"asks\":[]}]}'\n",
      "++Rcv raw: b'\\x81~\\x00\\xf6{\"channel\":\"level3\",\"type\":\"update\",\"data\":[{\"checksum\":1171445954,\"symbol\":\"BTC/USD\",\"bids\":[],\"asks\":[{\"event\":\"add\",\"order_id\":\"OPAG5T-MPYUK-HJWY2M\",\"limit_price\":63125.9,\"order_qty\":0.40000000,\"timestamp\":\"2024-09-24T05:20:22.955896974Z\"}]}]}'\n",
      "++Rcv decoded: fin=1 opcode=1 data=b'{\"channel\":\"level3\",\"type\":\"update\",\"data\":[{\"checksum\":1171445954,\"symbol\":\"BTC/USD\",\"bids\":[],\"asks\":[{\"event\":\"add\",\"order_id\":\"OPAG5T-MPYUK-HJWY2M\",\"limit_price\":63125.9,\"order_qty\":0.40000000,\"timestamp\":\"2024-09-24T05:20:22.955896974Z\"}]}]}'\n",
      "++Rcv raw: b'\\x81~\\x00\\xf9{\"channel\":\"level3\",\"type\":\"update\",\"data\":[{\"checksum\":2349740895,\"symbol\":\"BTC/USD\",\"bids\":[],\"asks\":[{\"event\":\"delete\",\"order_id\":\"OZUOZM-VUMOL-53EJEV\",\"limit_price\":63125.9,\"order_qty\":0.40000000,\"timestamp\":\"2024-09-24T05:20:22.955941292Z\"}]}]}'\n",
      "++Rcv decoded: fin=1 opcode=1 data=b'{\"channel\":\"level3\",\"type\":\"update\",\"data\":[{\"checksum\":2349740895,\"symbol\":\"BTC/USD\",\"bids\":[],\"asks\":[{\"event\":\"delete\",\"order_id\":\"OZUOZM-VUMOL-53EJEV\",\"limit_price\":63125.9,\"order_qty\":0.40000000,\"timestamp\":\"2024-09-24T05:20:22.955941292Z\"}]}]}'\n",
      "++Rcv raw: b'\\x81~\\x00\\xf9{\"channel\":\"level3\",\"type\":\"update\",\"data\":[{\"checksum\":2197044829,\"symbol\":\"BTC/USD\",\"bids\":[{\"event\":\"delete\",\"order_id\":\"OW3742-MLWLA-E6URY2\",\"limit_price\":63125.8,\"order_qty\":0.40000000,\"timestamp\":\"2024-09-24T05:20:22.955941298Z\"}],\"asks\":[]}]}'\n",
      "++Rcv decoded: fin=1 opcode=1 data=b'{\"channel\":\"level3\",\"type\":\"update\",\"data\":[{\"checksum\":2197044829,\"symbol\":\"BTC/USD\",\"bids\":[{\"event\":\"delete\",\"order_id\":\"OW3742-MLWLA-E6URY2\",\"limit_price\":63125.8,\"order_qty\":0.40000000,\"timestamp\":\"2024-09-24T05:20:22.955941298Z\"}],\"asks\":[]}]}'\n",
      "++Rcv raw: b'\\x81~\\x00\\xf6{\"channel\":\"level3\",\"type\":\"update\",\"data\":[{\"checksum\":1586107063,\"symbol\":\"BTC/USD\",\"bids\":[],\"asks\":[{\"event\":\"add\",\"order_id\":\"O7RUL4-F3BRW-JPVLZX\",\"limit_price\":63125.9,\"order_qty\":0.07625000,\"timestamp\":\"2024-09-24T05:20:22.956145075Z\"}]}]}'\n",
      "++Rcv decoded: fin=1 opcode=1 data=b'{\"channel\":\"level3\",\"type\":\"update\",\"data\":[{\"checksum\":1586107063,\"symbol\":\"BTC/USD\",\"bids\":[],\"asks\":[{\"event\":\"add\",\"order_id\":\"O7RUL4-F3BRW-JPVLZX\",\"limit_price\":63125.9,\"order_qty\":0.07625000,\"timestamp\":\"2024-09-24T05:20:22.956145075Z\"}]}]}'\n",
      "++Rcv raw: b'\\x81~\\x00\\xf5{\"channel\":\"level3\",\"type\":\"update\",\"data\":[{\"checksum\":619058789,\"symbol\":\"BTC/USD\",\"bids\":[],\"asks\":[{\"event\":\"add\",\"order_id\":\"O27AX6-UBQQ7-DBXHGP\",\"limit_price\":63125.9,\"order_qty\":0.40000000,\"timestamp\":\"2024-09-24T05:20:22.956340113Z\"}]}]}'\n",
      "++Rcv decoded: fin=1 opcode=1 data=b'{\"channel\":\"level3\",\"type\":\"update\",\"data\":[{\"checksum\":619058789,\"symbol\":\"BTC/USD\",\"bids\":[],\"asks\":[{\"event\":\"add\",\"order_id\":\"O27AX6-UBQQ7-DBXHGP\",\"limit_price\":63125.9,\"order_qty\":0.40000000,\"timestamp\":\"2024-09-24T05:20:22.956340113Z\"}]}]}'\n",
      "++Rcv raw: b'\\x81~\\x00\\xf9{\"channel\":\"level3\",\"type\":\"update\",\"data\":[{\"checksum\":3001837486,\"symbol\":\"BTC/USD\",\"bids\":[],\"asks\":[{\"event\":\"delete\",\"order_id\":\"OD3HZ7-GVXPK-5P75MN\",\"limit_price\":63125.9,\"order_qty\":0.20000000,\"timestamp\":\"2024-09-24T05:20:22.956487520Z\"}]}]}'\n",
      "++Rcv decoded: fin=1 opcode=1 data=b'{\"channel\":\"level3\",\"type\":\"update\",\"data\":[{\"checksum\":3001837486,\"symbol\":\"BTC/USD\",\"bids\":[],\"asks\":[{\"event\":\"delete\",\"order_id\":\"OD3HZ7-GVXPK-5P75MN\",\"limit_price\":63125.9,\"order_qty\":0.20000000,\"timestamp\":\"2024-09-24T05:20:22.956487520Z\"}]}]}'\n",
      "++Rcv raw: b'\\x81~\\x00\\xf8{\"channel\":\"level3\",\"type\":\"update\",\"data\":[{\"checksum\":211815868,\"symbol\":\"BTC/USD\",\"bids\":[{\"event\":\"delete\",\"order_id\":\"ODIW6T-NFSLF-PASULK\",\"limit_price\":63125.8,\"order_qty\":0.20000000,\"timestamp\":\"2024-09-24T05:20:22.956487526Z\"}],\"asks\":[]}]}'\n",
      "++Rcv decoded: fin=1 opcode=1 data=b'{\"channel\":\"level3\",\"type\":\"update\",\"data\":[{\"checksum\":211815868,\"symbol\":\"BTC/USD\",\"bids\":[{\"event\":\"delete\",\"order_id\":\"ODIW6T-NFSLF-PASULK\",\"limit_price\":63125.8,\"order_qty\":0.20000000,\"timestamp\":\"2024-09-24T05:20:22.956487526Z\"}],\"asks\":[]}]}'\n",
      "++Rcv raw: b'\\x81~\\x00\\xf6{\"channel\":\"level3\",\"type\":\"update\",\"data\":[{\"checksum\":3514974070,\"symbol\":\"BTC/USD\",\"bids\":[],\"asks\":[{\"event\":\"add\",\"order_id\":\"OXHCWN-YHSQQ-NB3P5E\",\"limit_price\":63125.9,\"order_qty\":0.00582000,\"timestamp\":\"2024-09-24T05:20:22.956738369Z\"}]}]}'\n",
      "++Rcv decoded: fin=1 opcode=1 data=b'{\"channel\":\"level3\",\"type\":\"update\",\"data\":[{\"checksum\":3514974070,\"symbol\":\"BTC/USD\",\"bids\":[],\"asks\":[{\"event\":\"add\",\"order_id\":\"OXHCWN-YHSQQ-NB3P5E\",\"limit_price\":63125.9,\"order_qty\":0.00582000,\"timestamp\":\"2024-09-24T05:20:22.956738369Z\"}]}]}'\n",
      "++Rcv raw: b'\\x81~\\x00\\xf9{\"channel\":\"level3\",\"type\":\"update\",\"data\":[{\"checksum\":2298312471,\"symbol\":\"BTC/USD\",\"bids\":[{\"event\":\"delete\",\"order_id\":\"O7M5D7-GSULO-K35NHE\",\"limit_price\":63125.8,\"order_qty\":0.90000000,\"timestamp\":\"2024-09-24T05:20:22.981779556Z\"}],\"asks\":[]}]}'\n",
      "++Rcv decoded: fin=1 opcode=1 data=b'{\"channel\":\"level3\",\"type\":\"update\",\"data\":[{\"checksum\":2298312471,\"symbol\":\"BTC/USD\",\"bids\":[{\"event\":\"delete\",\"order_id\":\"O7M5D7-GSULO-K35NHE\",\"limit_price\":63125.8,\"order_qty\":0.90000000,\"timestamp\":\"2024-09-24T05:20:22.981779556Z\"}],\"asks\":[]}]}'\n",
      "++Rcv raw: b'\\x81~\\x01\\x84{\"channel\":\"level3\",\"type\":\"update\",\"data\":[{\"checksum\":2572595423,\"symbol\":\"BTC/USD\",\"bids\":[{\"event\":\"delete\",\"order_id\":\"O2MIVK-BJTY5-GADBKQ\",\"limit_price\":63117.9,\"order_qty\":3.96083693,\"timestamp\":\"2024-09-24T05:20:22.991979735Z\"},{\"event\":\"add\",\"order_id\":\"OODOCS-ZH4M7-YUGPV2\",\"limit_price\":63113.2,\"order_qty\":0.00792236,\"timestamp\":\"2024-09-24T05:14:52.749973329Z\"}],\"asks\":[]}]}'\n",
      "++Rcv decoded: fin=1 opcode=1 data=b'{\"channel\":\"level3\",\"type\":\"update\",\"data\":[{\"checksum\":2572595423,\"symbol\":\"BTC/USD\",\"bids\":[{\"event\":\"delete\",\"order_id\":\"O2MIVK-BJTY5-GADBKQ\",\"limit_price\":63117.9,\"order_qty\":3.96083693,\"timestamp\":\"2024-09-24T05:20:22.991979735Z\"},{\"event\":\"add\",\"order_id\":\"OODOCS-ZH4M7-YUGPV2\",\"limit_price\":63113.2,\"order_qty\":0.00792236,\"timestamp\":\"2024-09-24T05:14:52.749973329Z\"}],\"asks\":[]}]}'\n",
      "++Rcv raw: b'\\x81~\\x00\\xf5{\"channel\":\"level3\",\"type\":\"update\",\"data\":[{\"checksum\":801298389,\"symbol\":\"BTC/USD\",\"bids\":[{\"event\":\"add\",\"order_id\":\"O7VJ5X-IUIFQ-RA2TMC\",\"limit_price\":63117.5,\"order_qty\":3.96086309,\"timestamp\":\"2024-09-24T05:20:22.996783120Z\"}],\"asks\":[]}]}'\n",
      "++Rcv decoded: fin=1 opcode=1 data=b'{\"channel\":\"level3\",\"type\":\"update\",\"data\":[{\"checksum\":801298389,\"symbol\":\"BTC/USD\",\"bids\":[{\"event\":\"add\",\"order_id\":\"O7VJ5X-IUIFQ-RA2TMC\",\"limit_price\":63117.5,\"order_qty\":3.96086309,\"timestamp\":\"2024-09-24T05:20:22.996783120Z\"}],\"asks\":[]}]}'\n",
      "++Rcv raw: b'\\x81~\\x01\\x83{\"channel\":\"level3\",\"type\":\"update\",\"data\":[{\"checksum\":464675752,\"symbol\":\"BTC/USD\",\"bids\":[],\"asks\":[{\"event\":\"delete\",\"order_id\":\"OBLHC4-LRBLB-A7WFR4\",\"limit_price\":63126.5,\"order_qty\":0.13452308,\"timestamp\":\"2024-09-24T05:20:22.997575744Z\"},{\"event\":\"add\",\"order_id\":\"OC2OTC-AXVDA-42QWZQ\",\"limit_price\":63133.6,\"order_qty\":7.91971801,\"timestamp\":\"2024-09-24T05:20:22.827006585Z\"}]}]}'\n",
      "++Rcv decoded: fin=1 opcode=1 data=b'{\"channel\":\"level3\",\"type\":\"update\",\"data\":[{\"checksum\":464675752,\"symbol\":\"BTC/USD\",\"bids\":[],\"asks\":[{\"event\":\"delete\",\"order_id\":\"OBLHC4-LRBLB-A7WFR4\",\"limit_price\":63126.5,\"order_qty\":0.13452308,\"timestamp\":\"2024-09-24T05:20:22.997575744Z\"},{\"event\":\"add\",\"order_id\":\"OC2OTC-AXVDA-42QWZQ\",\"limit_price\":63133.6,\"order_qty\":7.91971801,\"timestamp\":\"2024-09-24T05:20:22.827006585Z\"}]}]}'\n",
      "++Rcv raw: b'\\x81~\\x00\\xf4{\"channel\":\"level3\",\"type\":\"update\",\"data\":[{\"checksum\":57979052,\"symbol\":\"BTC/USD\",\"bids\":[],\"asks\":[{\"event\":\"add\",\"order_id\":\"OWKHBN-U6F2E-EGLMQW\",\"limit_price\":63129.7,\"order_qty\":0.13452308,\"timestamp\":\"2024-09-24T05:20:22.997575748Z\"}]}]}'\n",
      "++Rcv decoded: fin=1 opcode=1 data=b'{\"channel\":\"level3\",\"type\":\"update\",\"data\":[{\"checksum\":57979052,\"symbol\":\"BTC/USD\",\"bids\":[],\"asks\":[{\"event\":\"add\",\"order_id\":\"OWKHBN-U6F2E-EGLMQW\",\"limit_price\":63129.7,\"order_qty\":0.13452308,\"timestamp\":\"2024-09-24T05:20:22.997575748Z\"}]}]}'\n",
      "++Rcv raw: b'\\x81~\\x00\\xf6{\"channel\":\"level3\",\"type\":\"update\",\"data\":[{\"checksum\":1503686951,\"symbol\":\"BTC/USD\",\"bids\":[],\"asks\":[{\"event\":\"add\",\"order_id\":\"OBIV7W-6Y3BZ-X7NJ3G\",\"limit_price\":63129.7,\"order_qty\":0.13452308,\"timestamp\":\"2024-09-24T05:20:22.997654034Z\"}]}]}'\n",
      "++Rcv decoded: fin=1 opcode=1 data=b'{\"channel\":\"level3\",\"type\":\"update\",\"data\":[{\"checksum\":1503686951,\"symbol\":\"BTC/USD\",\"bids\":[],\"asks\":[{\"event\":\"add\",\"order_id\":\"OBIV7W-6Y3BZ-X7NJ3G\",\"limit_price\":63129.7,\"order_qty\":0.13452308,\"timestamp\":\"2024-09-24T05:20:22.997654034Z\"}]}]}'\n",
      "++Rcv raw: b'\\x81~\\x01\\x84{\"channel\":\"level3\",\"type\":\"update\",\"data\":[{\"checksum\":4290086058,\"symbol\":\"BTC/USD\",\"bids\":[{\"event\":\"delete\",\"order_id\":\"O6T6OC-HOARP-T6NMFM\",\"limit_price\":63116.1,\"order_qty\":3.96095140,\"timestamp\":\"2024-09-24T05:20:23.013941408Z\"},{\"event\":\"add\",\"order_id\":\"OODOCS-ZH4M7-YUGPV2\",\"limit_price\":63113.2,\"order_qty\":0.00792236,\"timestamp\":\"2024-09-24T05:14:52.749973329Z\"}],\"asks\":[]}]}'\n",
      "++Rcv decoded: fin=1 opcode=1 data=b'{\"channel\":\"level3\",\"type\":\"update\",\"data\":[{\"checksum\":4290086058,\"symbol\":\"BTC/USD\",\"bids\":[{\"event\":\"delete\",\"order_id\":\"O6T6OC-HOARP-T6NMFM\",\"limit_price\":63116.1,\"order_qty\":3.96095140,\"timestamp\":\"2024-09-24T05:20:23.013941408Z\"},{\"event\":\"add\",\"order_id\":\"OODOCS-ZH4M7-YUGPV2\",\"limit_price\":63113.2,\"order_qty\":0.00792236,\"timestamp\":\"2024-09-24T05:14:52.749973329Z\"}],\"asks\":[]}]}'\n",
      "++Rcv raw: b'\\x81~\\x00\\xf9{\"channel\":\"level3\",\"type\":\"update\",\"data\":[{\"checksum\":3289257801,\"symbol\":\"BTC/USD\",\"bids\":[{\"event\":\"delete\",\"order_id\":\"OVDLOY-EFIWB-A4SGLD\",\"limit_price\":63125.8,\"order_qty\":0.00194497,\"timestamp\":\"2024-09-24T05:20:23.025701441Z\"}],\"asks\":[]}]}'\n",
      "++Rcv decoded: fin=1 opcode=1 data=b'{\"channel\":\"level3\",\"type\":\"update\",\"data\":[{\"checksum\":3289257801,\"symbol\":\"BTC/USD\",\"bids\":[{\"event\":\"delete\",\"order_id\":\"OVDLOY-EFIWB-A4SGLD\",\"limit_price\":63125.8,\"order_qty\":0.00194497,\"timestamp\":\"2024-09-24T05:20:23.025701441Z\"}],\"asks\":[]}]}'\n",
      "++Rcv raw: b'\\x81~\\x00\\xf6{\"channel\":\"level3\",\"type\":\"update\",\"data\":[{\"checksum\":1767721790,\"symbol\":\"BTC/USD\",\"bids\":[],\"asks\":[{\"event\":\"add\",\"order_id\":\"OFVGOJ-KVWDH-PAJDE2\",\"limit_price\":63125.9,\"order_qty\":0.03947498,\"timestamp\":\"2024-09-24T05:20:23.029738186Z\"}]}]}'\n",
      "++Rcv decoded: fin=1 opcode=1 data=b'{\"channel\":\"level3\",\"type\":\"update\",\"data\":[{\"checksum\":1767721790,\"symbol\":\"BTC/USD\",\"bids\":[],\"asks\":[{\"event\":\"add\",\"order_id\":\"OFVGOJ-KVWDH-PAJDE2\",\"limit_price\":63125.9,\"order_qty\":0.03947498,\"timestamp\":\"2024-09-24T05:20:23.029738186Z\"}]}]}'\n",
      "++Rcv raw: b'\\x81~\\x00\\xf6{\"channel\":\"level3\",\"type\":\"update\",\"data\":[{\"checksum\":3929942316,\"symbol\":\"BTC/USD\",\"bids\":[{\"event\":\"add\",\"order_id\":\"OCM5JJ-XQ2CV-CIKUC6\",\"limit_price\":63116.3,\"order_qty\":3.96093617,\"timestamp\":\"2024-09-24T05:20:23.033381716Z\"}],\"asks\":[]}]}'\n",
      "++Rcv decoded: fin=1 opcode=1 data=b'{\"channel\":\"level3\",\"type\":\"update\",\"data\":[{\"checksum\":3929942316,\"symbol\":\"BTC/USD\",\"bids\":[{\"event\":\"add\",\"order_id\":\"OCM5JJ-XQ2CV-CIKUC6\",\"limit_price\":63116.3,\"order_qty\":3.96093617,\"timestamp\":\"2024-09-24T05:20:23.033381716Z\"}],\"asks\":[]}]}'\n",
      "++Rcv raw: b'\\x81~\\x00\\xf6{\"channel\":\"level3\",\"type\":\"update\",\"data\":[{\"checksum\":2478100813,\"symbol\":\"BTC/USD\",\"bids\":[{\"event\":\"add\",\"order_id\":\"OZ7JCJ-UWNR7-EZNMRJ\",\"limit_price\":63113.8,\"order_qty\":3.96109872,\"timestamp\":\"2024-09-24T05:20:23.033557164Z\"}],\"asks\":[]}]}'\n",
      "++Rcv decoded: fin=1 opcode=1 data=b'{\"channel\":\"level3\",\"type\":\"update\",\"data\":[{\"checksum\":2478100813,\"symbol\":\"BTC/USD\",\"bids\":[{\"event\":\"add\",\"order_id\":\"OZ7JCJ-UWNR7-EZNMRJ\",\"limit_price\":63113.8,\"order_qty\":3.96109872,\"timestamp\":\"2024-09-24T05:20:23.033557164Z\"}],\"asks\":[]}]}'\n",
      "++Rcv raw: b'\\x81~\\x00\\xf8{\"channel\":\"level3\",\"type\":\"update\",\"data\":[{\"checksum\":268324593,\"symbol\":\"BTC/USD\",\"bids\":[],\"asks\":[{\"event\":\"delete\",\"order_id\":\"OWKHBN-U6F2E-EGLMQW\",\"limit_price\":63129.7,\"order_qty\":0.13452308,\"timestamp\":\"2024-09-24T05:20:23.033850145Z\"}]}]}'\n",
      "++Rcv decoded: fin=1 opcode=1 data=b'{\"channel\":\"level3\",\"type\":\"update\",\"data\":[{\"checksum\":268324593,\"symbol\":\"BTC/USD\",\"bids\":[],\"asks\":[{\"event\":\"delete\",\"order_id\":\"OWKHBN-U6F2E-EGLMQW\",\"limit_price\":63129.7,\"order_qty\":0.13452308,\"timestamp\":\"2024-09-24T05:20:23.033850145Z\"}]}]}'\n",
      "++Rcv raw: b'\\x81~\\x00\\xf6{\"channel\":\"level3\",\"type\":\"update\",\"data\":[{\"checksum\":2405283230,\"symbol\":\"BTC/USD\",\"bids\":[{\"event\":\"add\",\"order_id\":\"ODOQOW-QCXLX-CGSC7B\",\"limit_price\":63116.6,\"order_qty\":0.00786294,\"timestamp\":\"2024-09-24T05:20:23.052055560Z\"}],\"asks\":[]}]}'\n",
      "++Rcv decoded: fin=1 opcode=1 data=b'{\"channel\":\"level3\",\"type\":\"update\",\"data\":[{\"checksum\":2405283230,\"symbol\":\"BTC/USD\",\"bids\":[{\"event\":\"add\",\"order_id\":\"ODOQOW-QCXLX-CGSC7B\",\"limit_price\":63116.6,\"order_qty\":0.00786294,\"timestamp\":\"2024-09-24T05:20:23.052055560Z\"}],\"asks\":[]}]}'\n",
      "++Rcv raw: b'\\x81~\\x01\\x84{\"channel\":\"level3\",\"type\":\"update\",\"data\":[{\"checksum\":2122254490,\"symbol\":\"BTC/USD\",\"bids\":[{\"event\":\"delete\",\"order_id\":\"O7VJ5X-IUIFQ-RA2TMC\",\"limit_price\":63117.5,\"order_qty\":3.96086309,\"timestamp\":\"2024-09-24T05:20:23.057244307Z\"},{\"event\":\"add\",\"order_id\":\"OPF2PF-ZXD4D-ONNC6J\",\"limit_price\":63113.7,\"order_qty\":0.06335851,\"timestamp\":\"2024-09-24T05:20:22.844322892Z\"}],\"asks\":[]}]}'\n",
      "++Rcv decoded: fin=1 opcode=1 data=b'{\"channel\":\"level3\",\"type\":\"update\",\"data\":[{\"checksum\":2122254490,\"symbol\":\"BTC/USD\",\"bids\":[{\"event\":\"delete\",\"order_id\":\"O7VJ5X-IUIFQ-RA2TMC\",\"limit_price\":63117.5,\"order_qty\":3.96086309,\"timestamp\":\"2024-09-24T05:20:23.057244307Z\"},{\"event\":\"add\",\"order_id\":\"OPF2PF-ZXD4D-ONNC6J\",\"limit_price\":63113.7,\"order_qty\":0.06335851,\"timestamp\":\"2024-09-24T05:20:22.844322892Z\"}],\"asks\":[]}]}'\n",
      "++Rcv raw: b'\\x81~\\x01\\x83{\"channel\":\"level3\",\"type\":\"update\",\"data\":[{\"checksum\":168375963,\"symbol\":\"BTC/USD\",\"bids\":[],\"asks\":[{\"event\":\"delete\",\"order_id\":\"OBWRS4-XN4BB-INAIAZ\",\"limit_price\":63133.2,\"order_qty\":0.03947498,\"timestamp\":\"2024-09-24T05:20:23.061649226Z\"},{\"event\":\"add\",\"order_id\":\"OC2OTC-AXVDA-42QWZQ\",\"limit_price\":63133.6,\"order_qty\":7.91971801,\"timestamp\":\"2024-09-24T05:20:22.827006585Z\"}]}]}'\n",
      "++Rcv decoded: fin=1 opcode=1 data=b'{\"channel\":\"level3\",\"type\":\"update\",\"data\":[{\"checksum\":168375963,\"symbol\":\"BTC/USD\",\"bids\":[],\"asks\":[{\"event\":\"delete\",\"order_id\":\"OBWRS4-XN4BB-INAIAZ\",\"limit_price\":63133.2,\"order_qty\":0.03947498,\"timestamp\":\"2024-09-24T05:20:23.061649226Z\"},{\"event\":\"add\",\"order_id\":\"OC2OTC-AXVDA-42QWZQ\",\"limit_price\":63133.6,\"order_qty\":7.91971801,\"timestamp\":\"2024-09-24T05:20:22.827006585Z\"}]}]}'\n",
      "++Rcv raw: b'\\x81~\\x01\\x84{\"channel\":\"level3\",\"type\":\"update\",\"data\":[{\"checksum\":3989484887,\"symbol\":\"BTC/USD\",\"bids\":[{\"event\":\"delete\",\"order_id\":\"ODOQOW-QCXLX-CGSC7B\",\"limit_price\":63116.6,\"order_qty\":0.00786294,\"timestamp\":\"2024-09-24T05:20:23.063148407Z\"},{\"event\":\"add\",\"order_id\":\"OPTGR5-L4ZKF-GLIDTR\",\"limit_price\":63113.4,\"order_qty\":0.13452308,\"timestamp\":\"2024-09-24T05:20:22.934977223Z\"}],\"asks\":[]}]}'\n",
      "++Rcv decoded: fin=1 opcode=1 data=b'{\"channel\":\"level3\",\"type\":\"update\",\"data\":[{\"checksum\":3989484887,\"symbol\":\"BTC/USD\",\"bids\":[{\"event\":\"delete\",\"order_id\":\"ODOQOW-QCXLX-CGSC7B\",\"limit_price\":63116.6,\"order_qty\":0.00786294,\"timestamp\":\"2024-09-24T05:20:23.063148407Z\"},{\"event\":\"add\",\"order_id\":\"OPTGR5-L4ZKF-GLIDTR\",\"limit_price\":63113.4,\"order_qty\":0.13452308,\"timestamp\":\"2024-09-24T05:20:22.934977223Z\"}],\"asks\":[]}]}'\n",
      "++Rcv raw: b'\\x81~\\x01\\x83{\"channel\":\"level3\",\"type\":\"update\",\"data\":[{\"checksum\":594942428,\"symbol\":\"BTC/USD\",\"bids\":[{\"event\":\"delete\",\"order_id\":\"OZ7JCJ-UWNR7-EZNMRJ\",\"limit_price\":63113.8,\"order_qty\":3.96109872,\"timestamp\":\"2024-09-24T05:20:23.065077696Z\"},{\"event\":\"add\",\"order_id\":\"OODOCS-ZH4M7-YUGPV2\",\"limit_price\":63113.2,\"order_qty\":0.00792236,\"timestamp\":\"2024-09-24T05:14:52.749973329Z\"}],\"asks\":[]}]}'\n",
      "++Rcv decoded: fin=1 opcode=1 data=b'{\"channel\":\"level3\",\"type\":\"update\",\"data\":[{\"checksum\":594942428,\"symbol\":\"BTC/USD\",\"bids\":[{\"event\":\"delete\",\"order_id\":\"OZ7JCJ-UWNR7-EZNMRJ\",\"limit_price\":63113.8,\"order_qty\":3.96109872,\"timestamp\":\"2024-09-24T05:20:23.065077696Z\"},{\"event\":\"add\",\"order_id\":\"OODOCS-ZH4M7-YUGPV2\",\"limit_price\":63113.2,\"order_qty\":0.00792236,\"timestamp\":\"2024-09-24T05:14:52.749973329Z\"}],\"asks\":[]}]}'\n",
      "++Rcv raw: b'\\x81~\\x01\\x84{\"channel\":\"level3\",\"type\":\"update\",\"data\":[{\"checksum\":3931440729,\"symbol\":\"BTC/USD\",\"bids\":[{\"event\":\"delete\",\"order_id\":\"OCM5JJ-XQ2CV-CIKUC6\",\"limit_price\":63116.3,\"order_qty\":3.96093617,\"timestamp\":\"2024-09-24T05:20:23.104475932Z\"},{\"event\":\"add\",\"order_id\":\"OFWFEH-UZ3VY-JJLJLH\",\"limit_price\":63113.1,\"order_qty\":0.25000000,\"timestamp\":\"2024-09-24T05:20:17.406452484Z\"}],\"asks\":[]}]}'\n",
      "++Rcv decoded: fin=1 opcode=1 data=b'{\"channel\":\"level3\",\"type\":\"update\",\"data\":[{\"checksum\":3931440729,\"symbol\":\"BTC/USD\",\"bids\":[{\"event\":\"delete\",\"order_id\":\"OCM5JJ-XQ2CV-CIKUC6\",\"limit_price\":63116.3,\"order_qty\":3.96093617,\"timestamp\":\"2024-09-24T05:20:23.104475932Z\"},{\"event\":\"add\",\"order_id\":\"OFWFEH-UZ3VY-JJLJLH\",\"limit_price\":63113.1,\"order_qty\":0.25000000,\"timestamp\":\"2024-09-24T05:20:17.406452484Z\"}],\"asks\":[]}]}'\n",
      "++Rcv raw: b'\\x81~\\x01\\x84{\"channel\":\"level3\",\"type\":\"update\",\"data\":[{\"checksum\":1080343803,\"symbol\":\"BTC/USD\",\"bids\":[{\"event\":\"delete\",\"order_id\":\"OPF2PF-ZXD4D-ONNC6J\",\"limit_price\":63113.7,\"order_qty\":0.06335851,\"timestamp\":\"2024-09-24T05:20:23.116532190Z\"},{\"event\":\"add\",\"order_id\":\"ORNJP3-BUDWL-5XNIHN\",\"limit_price\":63112.6,\"order_qty\":0.04454749,\"timestamp\":\"2024-09-24T05:20:16.373003303Z\"}],\"asks\":[]}]}'\n",
      "++Rcv decoded: fin=1 opcode=1 data=b'{\"channel\":\"level3\",\"type\":\"update\",\"data\":[{\"checksum\":1080343803,\"symbol\":\"BTC/USD\",\"bids\":[{\"event\":\"delete\",\"order_id\":\"OPF2PF-ZXD4D-ONNC6J\",\"limit_price\":63113.7,\"order_qty\":0.06335851,\"timestamp\":\"2024-09-24T05:20:23.116532190Z\"},{\"event\":\"add\",\"order_id\":\"ORNJP3-BUDWL-5XNIHN\",\"limit_price\":63112.6,\"order_qty\":0.04454749,\"timestamp\":\"2024-09-24T05:20:16.373003303Z\"}],\"asks\":[]}]}'\n",
      "++Rcv raw: b'\\x81~\\x00\\xf6{\"channel\":\"level3\",\"type\":\"update\",\"data\":[{\"checksum\":3821245879,\"symbol\":\"BTC/USD\",\"bids\":[],\"asks\":[{\"event\":\"add\",\"order_id\":\"O7MWHP-NDZEM-U2YEKB\",\"limit_price\":63127.3,\"order_qty\":0.13452308,\"timestamp\":\"2024-09-24T05:20:23.151627610Z\"}]}]}'\n",
      "++Rcv decoded: fin=1 opcode=1 data=b'{\"channel\":\"level3\",\"type\":\"update\",\"data\":[{\"checksum\":3821245879,\"symbol\":\"BTC/USD\",\"bids\":[],\"asks\":[{\"event\":\"add\",\"order_id\":\"O7MWHP-NDZEM-U2YEKB\",\"limit_price\":63127.3,\"order_qty\":0.13452308,\"timestamp\":\"2024-09-24T05:20:23.151627610Z\"}]}]}'\n",
      "++Rcv raw: b'\\x81~\\x01\\x84{\"channel\":\"level3\",\"type\":\"update\",\"data\":[{\"checksum\":2765154490,\"symbol\":\"BTC/USD\",\"bids\":[],\"asks\":[{\"event\":\"delete\",\"order_id\":\"OBIV7W-6Y3BZ-X7NJ3G\",\"limit_price\":63129.7,\"order_qty\":0.13452308,\"timestamp\":\"2024-09-24T05:20:23.152134296Z\"},{\"event\":\"add\",\"order_id\":\"OC2OTC-AXVDA-42QWZQ\",\"limit_price\":63133.6,\"order_qty\":7.91971801,\"timestamp\":\"2024-09-24T05:20:22.827006585Z\"}]}]}'\n",
      "++Rcv decoded: fin=1 opcode=1 data=b'{\"channel\":\"level3\",\"type\":\"update\",\"data\":[{\"checksum\":2765154490,\"symbol\":\"BTC/USD\",\"bids\":[],\"asks\":[{\"event\":\"delete\",\"order_id\":\"OBIV7W-6Y3BZ-X7NJ3G\",\"limit_price\":63129.7,\"order_qty\":0.13452308,\"timestamp\":\"2024-09-24T05:20:23.152134296Z\"},{\"event\":\"add\",\"order_id\":\"OC2OTC-AXVDA-42QWZQ\",\"limit_price\":63133.6,\"order_qty\":7.91971801,\"timestamp\":\"2024-09-24T05:20:22.827006585Z\"}]}]}'\n",
      "++Rcv raw: b'\\x81~\\x00\\xf6{\"channel\":\"level3\",\"type\":\"update\",\"data\":[{\"checksum\":2725002740,\"symbol\":\"BTC/USD\",\"bids\":[],\"asks\":[{\"event\":\"add\",\"order_id\":\"O5PC7P-AAZ64-4DV37C\",\"limit_price\":63127.3,\"order_qty\":0.13452308,\"timestamp\":\"2024-09-24T05:20:23.152134300Z\"}]}]}'\n",
      "++Rcv decoded: fin=1 opcode=1 data=b'{\"channel\":\"level3\",\"type\":\"update\",\"data\":[{\"checksum\":2725002740,\"symbol\":\"BTC/USD\",\"bids\":[],\"asks\":[{\"event\":\"add\",\"order_id\":\"O5PC7P-AAZ64-4DV37C\",\"limit_price\":63127.3,\"order_qty\":0.13452308,\"timestamp\":\"2024-09-24T05:20:23.152134300Z\"}]}]}'\n",
      "++Rcv raw: b'\\x81~\\x01\\x84{\"channel\":\"level3\",\"type\":\"update\",\"data\":[{\"checksum\":3758468740,\"symbol\":\"BTC/USD\",\"bids\":[],\"asks\":[{\"event\":\"delete\",\"order_id\":\"OSNACP-HN7VX-NVTBXY\",\"limit_price\":63129.8,\"order_qty\":0.59000000,\"timestamp\":\"2024-09-24T05:20:23.154087701Z\"},{\"event\":\"add\",\"order_id\":\"OKWBJO-57ZCN-ESFN5W\",\"limit_price\":63134.0,\"order_qty\":0.00015865,\"timestamp\":\"2024-09-24T05:00:50.764166862Z\"}]}]}'\n",
      "++Rcv decoded: fin=1 opcode=1 data=b'{\"channel\":\"level3\",\"type\":\"update\",\"data\":[{\"checksum\":3758468740,\"symbol\":\"BTC/USD\",\"bids\":[],\"asks\":[{\"event\":\"delete\",\"order_id\":\"OSNACP-HN7VX-NVTBXY\",\"limit_price\":63129.8,\"order_qty\":0.59000000,\"timestamp\":\"2024-09-24T05:20:23.154087701Z\"},{\"event\":\"add\",\"order_id\":\"OKWBJO-57ZCN-ESFN5W\",\"limit_price\":63134.0,\"order_qty\":0.00015865,\"timestamp\":\"2024-09-24T05:00:50.764166862Z\"}]}]}'\n",
      "++Rcv raw: b'\\x81~\\x00\\xf6{\"channel\":\"level3\",\"type\":\"update\",\"data\":[{\"checksum\":2980293763,\"symbol\":\"BTC/USD\",\"bids\":[],\"asks\":[{\"event\":\"add\",\"order_id\":\"OXQ6NY-PVXZT-VOP26E\",\"limit_price\":63125.9,\"order_qty\":0.59000000,\"timestamp\":\"2024-09-24T05:20:23.154221701Z\"}]}]}'\n",
      "++Rcv decoded: fin=1 opcode=1 data=b'{\"channel\":\"level3\",\"type\":\"update\",\"data\":[{\"checksum\":2980293763,\"symbol\":\"BTC/USD\",\"bids\":[],\"asks\":[{\"event\":\"add\",\"order_id\":\"OXQ6NY-PVXZT-VOP26E\",\"limit_price\":63125.9,\"order_qty\":0.59000000,\"timestamp\":\"2024-09-24T05:20:23.154221701Z\"}]}]}'\n",
      "++Rcv raw: b'\\x81~\\x00\\xf9{\"channel\":\"level3\",\"type\":\"update\",\"data\":[{\"checksum\":3049707467,\"symbol\":\"BTC/USD\",\"bids\":[],\"asks\":[{\"event\":\"delete\",\"order_id\":\"O7MWHP-NDZEM-U2YEKB\",\"limit_price\":63127.3,\"order_qty\":0.13452308,\"timestamp\":\"2024-09-24T05:20:23.171002076Z\"}]}]}'\n",
      "++Rcv decoded: fin=1 opcode=1 data=b'{\"channel\":\"level3\",\"type\":\"update\",\"data\":[{\"checksum\":3049707467,\"symbol\":\"BTC/USD\",\"bids\":[],\"asks\":[{\"event\":\"delete\",\"order_id\":\"O7MWHP-NDZEM-U2YEKB\",\"limit_price\":63127.3,\"order_qty\":0.13452308,\"timestamp\":\"2024-09-24T05:20:23.171002076Z\"}]}]}'\n"
     ]
    },
    {
     "name": "stdout",
     "output_type": "stream",
     "text": [
      "{'channel': 'level3', 'type': 'update', 'data': [{'checksum': 2294428188, 'symbol': 'BTC/USD', 'bids': [], 'asks': [{'event': 'delete', 'order_id': 'OIUVIG-DG4TB-ITS77N', 'limit_price': 63125.9, 'order_qty': 0.4, 'timestamp': '2024-09-24T05:20:22.954741710Z'}]}]}\n",
      "{'channel': 'level3', 'type': 'update', 'data': [{'checksum': 2326119771, 'symbol': 'BTC/USD', 'bids': [{'event': 'delete', 'order_id': 'ONSHCP-D6BHW-BV362F', 'limit_price': 63125.8, 'order_qty': 0.4, 'timestamp': '2024-09-24T05:20:22.954741716Z'}], 'asks': []}]}\n",
      "{'channel': 'level3', 'type': 'update', 'data': [{'checksum': 3714545019, 'symbol': 'BTC/USD', 'bids': [], 'asks': [{'event': 'delete', 'order_id': 'OIGVUV-AQYCF-4QCV2T', 'limit_price': 63125.9, 'order_qty': 0.2, 'timestamp': '2024-09-24T05:20:22.954901529Z'}]}]}\n",
      "{'channel': 'level3', 'type': 'update', 'data': [{'checksum': 882637266, 'symbol': 'BTC/USD', 'bids': [{'event': 'delete', 'order_id': 'O66D5R-MUHF3-O2BOGK', 'limit_price': 63125.8, 'order_qty': 0.2, 'timestamp': '2024-09-24T05:20:22.954901535Z'}], 'asks': []}]}\n",
      "{'channel': 'level3', 'type': 'update', 'data': [{'checksum': 2352046306, 'symbol': 'BTC/USD', 'bids': [], 'asks': [{'event': 'add', 'order_id': 'OYJOSU-UC5I6-5XMOUA', 'limit_price': 63125.9, 'order_qty': 0.05507, 'timestamp': '2024-09-24T05:20:22.955001008Z'}]}]}\n",
      "{'channel': 'level3', 'type': 'update', 'data': [{'checksum': 695712141, 'symbol': 'BTC/USD', 'bids': [], 'asks': [{'event': 'add', 'order_id': 'OR33BR-QONP5-BO76DM', 'limit_price': 63125.9, 'order_qty': 0.4, 'timestamp': '2024-09-24T05:20:22.955011928Z'}]}]}\n",
      "{'channel': 'level3', 'type': 'update', 'data': [{'checksum': 1904825014, 'symbol': 'BTC/USD', 'bids': [], 'asks': [{'event': 'add', 'order_id': 'OA37OU-AUUSR-DXCTCK', 'limit_price': 63125.9, 'order_qty': 0.1, 'timestamp': '2024-09-24T05:20:22.955458202Z'}]}]}\n",
      "{'channel': 'level3', 'type': 'update', 'data': [{'checksum': 853741713, 'symbol': 'BTC/USD', 'bids': [], 'asks': [{'event': 'delete', 'order_id': 'ONIWBU-DHYUU-PSPAEQ', 'limit_price': 63125.9, 'order_qty': 0.1, 'timestamp': '2024-09-24T05:20:22.955522712Z'}]}]}\n",
      "{'channel': 'level3', 'type': 'update', 'data': [{'checksum': 3608587065, 'symbol': 'BTC/USD', 'bids': [{'event': 'delete', 'order_id': 'OVZSUT-VZQO2-XJ3HPN', 'limit_price': 63125.8, 'order_qty': 0.1, 'timestamp': '2024-09-24T05:20:22.955522718Z'}], 'asks': []}]}\n",
      "{'channel': 'level3', 'type': 'update', 'data': [{'checksum': 1051809353, 'symbol': 'BTC/USD', 'bids': [], 'asks': [{'event': 'delete', 'order_id': 'OA37OU-AUUSR-DXCTCK', 'limit_price': 63125.9, 'order_qty': 0.1, 'timestamp': '2024-09-24T05:20:22.955522724Z'}]}]}\n",
      "{'channel': 'level3', 'type': 'update', 'data': [{'checksum': 2214747581, 'symbol': 'BTC/USD', 'bids': [], 'asks': [{'event': 'delete', 'order_id': 'OESMGK-VSSIS-4RKDWA', 'limit_price': 63125.9, 'order_qty': 0.4, 'timestamp': '2024-09-24T05:20:22.955645921Z'}]}]}\n",
      "{'channel': 'level3', 'type': 'update', 'data': [{'checksum': 2379628254, 'symbol': 'BTC/USD', 'bids': [{'event': 'delete', 'order_id': 'O2SZK7-QPYNQ-EABETU', 'limit_price': 63125.8, 'order_qty': 0.4, 'timestamp': '2024-09-24T05:20:22.955645927Z'}], 'asks': []}]}\n",
      "{'channel': 'level3', 'type': 'update', 'data': [{'checksum': 428015631, 'symbol': 'BTC/USD', 'bids': [], 'asks': [{'event': 'delete', 'order_id': 'ONOREW-3BLYP-AP4WXN', 'limit_price': 63125.9, 'order_qty': 0.2, 'timestamp': '2024-09-24T05:20:22.955755569Z'}]}]}\n",
      "{'channel': 'level3', 'type': 'update', 'data': [{'checksum': 2904095156, 'symbol': 'BTC/USD', 'bids': [{'event': 'delete', 'order_id': 'OAVIUO-X73LJ-ZFWH6U', 'limit_price': 63125.8, 'order_qty': 0.2, 'timestamp': '2024-09-24T05:20:22.955755575Z'}], 'asks': []}]}\n",
      "{'channel': 'level3', 'type': 'update', 'data': [{'checksum': 1171445954, 'symbol': 'BTC/USD', 'bids': [], 'asks': [{'event': 'add', 'order_id': 'OPAG5T-MPYUK-HJWY2M', 'limit_price': 63125.9, 'order_qty': 0.4, 'timestamp': '2024-09-24T05:20:22.955896974Z'}]}]}\n",
      "{'channel': 'level3', 'type': 'update', 'data': [{'checksum': 2349740895, 'symbol': 'BTC/USD', 'bids': [], 'asks': [{'event': 'delete', 'order_id': 'OZUOZM-VUMOL-53EJEV', 'limit_price': 63125.9, 'order_qty': 0.4, 'timestamp': '2024-09-24T05:20:22.955941292Z'}]}]}\n",
      "{'channel': 'level3', 'type': 'update', 'data': [{'checksum': 2197044829, 'symbol': 'BTC/USD', 'bids': [{'event': 'delete', 'order_id': 'OW3742-MLWLA-E6URY2', 'limit_price': 63125.8, 'order_qty': 0.4, 'timestamp': '2024-09-24T05:20:22.955941298Z'}], 'asks': []}]}\n",
      "{'channel': 'level3', 'type': 'update', 'data': [{'checksum': 1586107063, 'symbol': 'BTC/USD', 'bids': [], 'asks': [{'event': 'add', 'order_id': 'O7RUL4-F3BRW-JPVLZX', 'limit_price': 63125.9, 'order_qty': 0.07625, 'timestamp': '2024-09-24T05:20:22.956145075Z'}]}]}\n",
      "{'channel': 'level3', 'type': 'update', 'data': [{'checksum': 619058789, 'symbol': 'BTC/USD', 'bids': [], 'asks': [{'event': 'add', 'order_id': 'O27AX6-UBQQ7-DBXHGP', 'limit_price': 63125.9, 'order_qty': 0.4, 'timestamp': '2024-09-24T05:20:22.956340113Z'}]}]}\n",
      "{'channel': 'level3', 'type': 'update', 'data': [{'checksum': 3001837486, 'symbol': 'BTC/USD', 'bids': [], 'asks': [{'event': 'delete', 'order_id': 'OD3HZ7-GVXPK-5P75MN', 'limit_price': 63125.9, 'order_qty': 0.2, 'timestamp': '2024-09-24T05:20:22.956487520Z'}]}]}\n",
      "{'channel': 'level3', 'type': 'update', 'data': [{'checksum': 211815868, 'symbol': 'BTC/USD', 'bids': [{'event': 'delete', 'order_id': 'ODIW6T-NFSLF-PASULK', 'limit_price': 63125.8, 'order_qty': 0.2, 'timestamp': '2024-09-24T05:20:22.956487526Z'}], 'asks': []}]}\n",
      "{'channel': 'level3', 'type': 'update', 'data': [{'checksum': 3514974070, 'symbol': 'BTC/USD', 'bids': [], 'asks': [{'event': 'add', 'order_id': 'OXHCWN-YHSQQ-NB3P5E', 'limit_price': 63125.9, 'order_qty': 0.00582, 'timestamp': '2024-09-24T05:20:22.956738369Z'}]}]}\n",
      "{'channel': 'level3', 'type': 'update', 'data': [{'checksum': 2298312471, 'symbol': 'BTC/USD', 'bids': [{'event': 'delete', 'order_id': 'O7M5D7-GSULO-K35NHE', 'limit_price': 63125.8, 'order_qty': 0.9, 'timestamp': '2024-09-24T05:20:22.981779556Z'}], 'asks': []}]}\n",
      "{'channel': 'level3', 'type': 'update', 'data': [{'checksum': 2572595423, 'symbol': 'BTC/USD', 'bids': [{'event': 'delete', 'order_id': 'O2MIVK-BJTY5-GADBKQ', 'limit_price': 63117.9, 'order_qty': 3.96083693, 'timestamp': '2024-09-24T05:20:22.991979735Z'}, {'event': 'add', 'order_id': 'OODOCS-ZH4M7-YUGPV2', 'limit_price': 63113.2, 'order_qty': 0.00792236, 'timestamp': '2024-09-24T05:14:52.749973329Z'}], 'asks': []}]}\n",
      "{'channel': 'level3', 'type': 'update', 'data': [{'checksum': 801298389, 'symbol': 'BTC/USD', 'bids': [{'event': 'add', 'order_id': 'O7VJ5X-IUIFQ-RA2TMC', 'limit_price': 63117.5, 'order_qty': 3.96086309, 'timestamp': '2024-09-24T05:20:22.996783120Z'}], 'asks': []}]}\n",
      "{'channel': 'level3', 'type': 'update', 'data': [{'checksum': 464675752, 'symbol': 'BTC/USD', 'bids': [], 'asks': [{'event': 'delete', 'order_id': 'OBLHC4-LRBLB-A7WFR4', 'limit_price': 63126.5, 'order_qty': 0.13452308, 'timestamp': '2024-09-24T05:20:22.997575744Z'}, {'event': 'add', 'order_id': 'OC2OTC-AXVDA-42QWZQ', 'limit_price': 63133.6, 'order_qty': 7.91971801, 'timestamp': '2024-09-24T05:20:22.827006585Z'}]}]}\n",
      "{'channel': 'level3', 'type': 'update', 'data': [{'checksum': 57979052, 'symbol': 'BTC/USD', 'bids': [], 'asks': [{'event': 'add', 'order_id': 'OWKHBN-U6F2E-EGLMQW', 'limit_price': 63129.7, 'order_qty': 0.13452308, 'timestamp': '2024-09-24T05:20:22.997575748Z'}]}]}\n",
      "{'channel': 'level3', 'type': 'update', 'data': [{'checksum': 1503686951, 'symbol': 'BTC/USD', 'bids': [], 'asks': [{'event': 'add', 'order_id': 'OBIV7W-6Y3BZ-X7NJ3G', 'limit_price': 63129.7, 'order_qty': 0.13452308, 'timestamp': '2024-09-24T05:20:22.997654034Z'}]}]}\n",
      "{'channel': 'level3', 'type': 'update', 'data': [{'checksum': 4290086058, 'symbol': 'BTC/USD', 'bids': [{'event': 'delete', 'order_id': 'O6T6OC-HOARP-T6NMFM', 'limit_price': 63116.1, 'order_qty': 3.9609514, 'timestamp': '2024-09-24T05:20:23.013941408Z'}, {'event': 'add', 'order_id': 'OODOCS-ZH4M7-YUGPV2', 'limit_price': 63113.2, 'order_qty': 0.00792236, 'timestamp': '2024-09-24T05:14:52.749973329Z'}], 'asks': []}]}\n",
      "{'channel': 'level3', 'type': 'update', 'data': [{'checksum': 3289257801, 'symbol': 'BTC/USD', 'bids': [{'event': 'delete', 'order_id': 'OVDLOY-EFIWB-A4SGLD', 'limit_price': 63125.8, 'order_qty': 0.00194497, 'timestamp': '2024-09-24T05:20:23.025701441Z'}], 'asks': []}]}\n",
      "{'channel': 'level3', 'type': 'update', 'data': [{'checksum': 1767721790, 'symbol': 'BTC/USD', 'bids': [], 'asks': [{'event': 'add', 'order_id': 'OFVGOJ-KVWDH-PAJDE2', 'limit_price': 63125.9, 'order_qty': 0.03947498, 'timestamp': '2024-09-24T05:20:23.029738186Z'}]}]}\n",
      "{'channel': 'level3', 'type': 'update', 'data': [{'checksum': 3929942316, 'symbol': 'BTC/USD', 'bids': [{'event': 'add', 'order_id': 'OCM5JJ-XQ2CV-CIKUC6', 'limit_price': 63116.3, 'order_qty': 3.96093617, 'timestamp': '2024-09-24T05:20:23.033381716Z'}], 'asks': []}]}\n",
      "{'channel': 'level3', 'type': 'update', 'data': [{'checksum': 2478100813, 'symbol': 'BTC/USD', 'bids': [{'event': 'add', 'order_id': 'OZ7JCJ-UWNR7-EZNMRJ', 'limit_price': 63113.8, 'order_qty': 3.96109872, 'timestamp': '2024-09-24T05:20:23.033557164Z'}], 'asks': []}]}\n",
      "{'channel': 'level3', 'type': 'update', 'data': [{'checksum': 268324593, 'symbol': 'BTC/USD', 'bids': [], 'asks': [{'event': 'delete', 'order_id': 'OWKHBN-U6F2E-EGLMQW', 'limit_price': 63129.7, 'order_qty': 0.13452308, 'timestamp': '2024-09-24T05:20:23.033850145Z'}]}]}\n",
      "{'channel': 'level3', 'type': 'update', 'data': [{'checksum': 2405283230, 'symbol': 'BTC/USD', 'bids': [{'event': 'add', 'order_id': 'ODOQOW-QCXLX-CGSC7B', 'limit_price': 63116.6, 'order_qty': 0.00786294, 'timestamp': '2024-09-24T05:20:23.052055560Z'}], 'asks': []}]}\n",
      "{'channel': 'level3', 'type': 'update', 'data': [{'checksum': 2122254490, 'symbol': 'BTC/USD', 'bids': [{'event': 'delete', 'order_id': 'O7VJ5X-IUIFQ-RA2TMC', 'limit_price': 63117.5, 'order_qty': 3.96086309, 'timestamp': '2024-09-24T05:20:23.057244307Z'}, {'event': 'add', 'order_id': 'OPF2PF-ZXD4D-ONNC6J', 'limit_price': 63113.7, 'order_qty': 0.06335851, 'timestamp': '2024-09-24T05:20:22.844322892Z'}], 'asks': []}]}\n",
      "{'channel': 'level3', 'type': 'update', 'data': [{'checksum': 168375963, 'symbol': 'BTC/USD', 'bids': [], 'asks': [{'event': 'delete', 'order_id': 'OBWRS4-XN4BB-INAIAZ', 'limit_price': 63133.2, 'order_qty': 0.03947498, 'timestamp': '2024-09-24T05:20:23.061649226Z'}, {'event': 'add', 'order_id': 'OC2OTC-AXVDA-42QWZQ', 'limit_price': 63133.6, 'order_qty': 7.91971801, 'timestamp': '2024-09-24T05:20:22.827006585Z'}]}]}\n",
      "{'channel': 'level3', 'type': 'update', 'data': [{'checksum': 3989484887, 'symbol': 'BTC/USD', 'bids': [{'event': 'delete', 'order_id': 'ODOQOW-QCXLX-CGSC7B', 'limit_price': 63116.6, 'order_qty': 0.00786294, 'timestamp': '2024-09-24T05:20:23.063148407Z'}, {'event': 'add', 'order_id': 'OPTGR5-L4ZKF-GLIDTR', 'limit_price': 63113.4, 'order_qty': 0.13452308, 'timestamp': '2024-09-24T05:20:22.934977223Z'}], 'asks': []}]}\n",
      "{'channel': 'level3', 'type': 'update', 'data': [{'checksum': 594942428, 'symbol': 'BTC/USD', 'bids': [{'event': 'delete', 'order_id': 'OZ7JCJ-UWNR7-EZNMRJ', 'limit_price': 63113.8, 'order_qty': 3.96109872, 'timestamp': '2024-09-24T05:20:23.065077696Z'}, {'event': 'add', 'order_id': 'OODOCS-ZH4M7-YUGPV2', 'limit_price': 63113.2, 'order_qty': 0.00792236, 'timestamp': '2024-09-24T05:14:52.749973329Z'}], 'asks': []}]}\n",
      "{'channel': 'level3', 'type': 'update', 'data': [{'checksum': 3931440729, 'symbol': 'BTC/USD', 'bids': [{'event': 'delete', 'order_id': 'OCM5JJ-XQ2CV-CIKUC6', 'limit_price': 63116.3, 'order_qty': 3.96093617, 'timestamp': '2024-09-24T05:20:23.104475932Z'}, {'event': 'add', 'order_id': 'OFWFEH-UZ3VY-JJLJLH', 'limit_price': 63113.1, 'order_qty': 0.25, 'timestamp': '2024-09-24T05:20:17.406452484Z'}], 'asks': []}]}\n",
      "{'channel': 'level3', 'type': 'update', 'data': [{'checksum': 1080343803, 'symbol': 'BTC/USD', 'bids': [{'event': 'delete', 'order_id': 'OPF2PF-ZXD4D-ONNC6J', 'limit_price': 63113.7, 'order_qty': 0.06335851, 'timestamp': '2024-09-24T05:20:23.116532190Z'}, {'event': 'add', 'order_id': 'ORNJP3-BUDWL-5XNIHN', 'limit_price': 63112.6, 'order_qty': 0.04454749, 'timestamp': '2024-09-24T05:20:16.373003303Z'}], 'asks': []}]}\n",
      "{'channel': 'level3', 'type': 'update', 'data': [{'checksum': 3821245879, 'symbol': 'BTC/USD', 'bids': [], 'asks': [{'event': 'add', 'order_id': 'O7MWHP-NDZEM-U2YEKB', 'limit_price': 63127.3, 'order_qty': 0.13452308, 'timestamp': '2024-09-24T05:20:23.151627610Z'}]}]}\n",
      "{'channel': 'level3', 'type': 'update', 'data': [{'checksum': 2765154490, 'symbol': 'BTC/USD', 'bids': [], 'asks': [{'event': 'delete', 'order_id': 'OBIV7W-6Y3BZ-X7NJ3G', 'limit_price': 63129.7, 'order_qty': 0.13452308, 'timestamp': '2024-09-24T05:20:23.152134296Z'}, {'event': 'add', 'order_id': 'OC2OTC-AXVDA-42QWZQ', 'limit_price': 63133.6, 'order_qty': 7.91971801, 'timestamp': '2024-09-24T05:20:22.827006585Z'}]}]}\n",
      "{'channel': 'level3', 'type': 'update', 'data': [{'checksum': 2725002740, 'symbol': 'BTC/USD', 'bids': [], 'asks': [{'event': 'add', 'order_id': 'O5PC7P-AAZ64-4DV37C', 'limit_price': 63127.3, 'order_qty': 0.13452308, 'timestamp': '2024-09-24T05:20:23.152134300Z'}]}]}\n",
      "{'channel': 'level3', 'type': 'update', 'data': [{'checksum': 3758468740, 'symbol': 'BTC/USD', 'bids': [], 'asks': [{'event': 'delete', 'order_id': 'OSNACP-HN7VX-NVTBXY', 'limit_price': 63129.8, 'order_qty': 0.59, 'timestamp': '2024-09-24T05:20:23.154087701Z'}, {'event': 'add', 'order_id': 'OKWBJO-57ZCN-ESFN5W', 'limit_price': 63134.0, 'order_qty': 0.00015865, 'timestamp': '2024-09-24T05:00:50.764166862Z'}]}]}\n",
      "{'channel': 'level3', 'type': 'update', 'data': [{'checksum': 2980293763, 'symbol': 'BTC/USD', 'bids': [], 'asks': [{'event': 'add', 'order_id': 'OXQ6NY-PVXZT-VOP26E', 'limit_price': 63125.9, 'order_qty': 0.59, 'timestamp': '2024-09-24T05:20:23.154221701Z'}]}]}\n",
      "{'channel': 'level3', 'type': 'update', 'data': [{'checksum': 3049707467, 'symbol': 'BTC/USD', 'bids': [], 'asks': [{'event': 'delete', 'order_id': 'O7MWHP-NDZEM-U2YEKB', 'limit_price': 63127.3, 'order_qty': 0.13452308, 'timestamp': '2024-09-24T05:20:23.171002076Z'}]}]}\n"
     ]
    },
    {
     "name": "stderr",
     "output_type": "stream",
     "text": [
      "++Rcv raw: b'\\x81~\\x00\\xf6{\"channel\":\"level3\",\"type\":\"update\",\"data\":[{\"checksum\":1645471860,\"symbol\":\"BTC/USD\",\"bids\":[{\"event\":\"add\",\"order_id\":\"O5QSYW-NEG43-K6T567\",\"limit_price\":63115.9,\"order_qty\":0.00782493,\"timestamp\":\"2024-09-24T05:20:23.295932157Z\"}],\"asks\":[]}]}'\n",
      "++Rcv decoded: fin=1 opcode=1 data=b'{\"channel\":\"level3\",\"type\":\"update\",\"data\":[{\"checksum\":1645471860,\"symbol\":\"BTC/USD\",\"bids\":[{\"event\":\"add\",\"order_id\":\"O5QSYW-NEG43-K6T567\",\"limit_price\":63115.9,\"order_qty\":0.00782493,\"timestamp\":\"2024-09-24T05:20:23.295932157Z\"}],\"asks\":[]}]}'\n",
      "++Rcv raw: b'\\x81~\\x00\\xf5{\"channel\":\"level3\",\"type\":\"update\",\"data\":[{\"checksum\":225265750,\"symbol\":\"BTC/USD\",\"bids\":[],\"asks\":[{\"event\":\"add\",\"order_id\":\"OJIKDN-KAXBR-KO7FTU\",\"limit_price\":63128.1,\"order_qty\":7.92040783,\"timestamp\":\"2024-09-24T05:20:23.304779520Z\"}]}]}'\n",
      "++Rcv decoded: fin=1 opcode=1 data=b'{\"channel\":\"level3\",\"type\":\"update\",\"data\":[{\"checksum\":225265750,\"symbol\":\"BTC/USD\",\"bids\":[],\"asks\":[{\"event\":\"add\",\"order_id\":\"OJIKDN-KAXBR-KO7FTU\",\"limit_price\":63128.1,\"order_qty\":7.92040783,\"timestamp\":\"2024-09-24T05:20:23.304779520Z\"}]}]}'\n",
      "++Rcv raw: b'\\x81~\\x00\\xf6{\"channel\":\"level3\",\"type\":\"update\",\"data\":[{\"checksum\":2964923277,\"symbol\":\"BTC/USD\",\"bids\":[{\"event\":\"add\",\"order_id\":\"OA4JW2-4IEJF-KDTROW\",\"limit_price\":63114.4,\"order_qty\":3.96105923,\"timestamp\":\"2024-09-24T05:20:23.304891557Z\"}],\"asks\":[]}]}'\n",
      "++Rcv decoded: fin=1 opcode=1 data=b'{\"channel\":\"level3\",\"type\":\"update\",\"data\":[{\"checksum\":2964923277,\"symbol\":\"BTC/USD\",\"bids\":[{\"event\":\"add\",\"order_id\":\"OA4JW2-4IEJF-KDTROW\",\"limit_price\":63114.4,\"order_qty\":3.96105923,\"timestamp\":\"2024-09-24T05:20:23.304891557Z\"}],\"asks\":[]}]}'\n",
      "++Rcv raw: b'\\x81~\\x00\\xf6{\"channel\":\"level3\",\"type\":\"update\",\"data\":[{\"checksum\":2504877014,\"symbol\":\"BTC/USD\",\"bids\":[{\"event\":\"add\",\"order_id\":\"OXBZCP-3I25A-JKU2PN\",\"limit_price\":63115.8,\"order_qty\":3.96097226,\"timestamp\":\"2024-09-24T05:20:23.362357995Z\"}],\"asks\":[]}]}'\n",
      "++Rcv decoded: fin=1 opcode=1 data=b'{\"channel\":\"level3\",\"type\":\"update\",\"data\":[{\"checksum\":2504877014,\"symbol\":\"BTC/USD\",\"bids\":[{\"event\":\"add\",\"order_id\":\"OXBZCP-3I25A-JKU2PN\",\"limit_price\":63115.8,\"order_qty\":3.96097226,\"timestamp\":\"2024-09-24T05:20:23.362357995Z\"}],\"asks\":[]}]}'\n",
      "++Rcv raw: b'\\x81~\\x00\\xf5{\"channel\":\"level3\",\"type\":\"update\",\"data\":[{\"checksum\":911876528,\"symbol\":\"BTC/USD\",\"bids\":[],\"asks\":[{\"event\":\"add\",\"order_id\":\"OMLLOI-VYQX3-PEIR5A\",\"limit_price\":63125.9,\"order_qty\":0.10000000,\"timestamp\":\"2024-09-24T05:20:23.456431495Z\"}]}]}'\n",
      "++Rcv decoded: fin=1 opcode=1 data=b'{\"channel\":\"level3\",\"type\":\"update\",\"data\":[{\"checksum\":911876528,\"symbol\":\"BTC/USD\",\"bids\":[],\"asks\":[{\"event\":\"add\",\"order_id\":\"OMLLOI-VYQX3-PEIR5A\",\"limit_price\":63125.9,\"order_qty\":0.10000000,\"timestamp\":\"2024-09-24T05:20:23.456431495Z\"}]}]}'\n"
     ]
    },
    {
     "name": "stdout",
     "output_type": "stream",
     "text": [
      "{'channel': 'level3', 'type': 'update', 'data': [{'checksum': 1645471860, 'symbol': 'BTC/USD', 'bids': [{'event': 'add', 'order_id': 'O5QSYW-NEG43-K6T567', 'limit_price': 63115.9, 'order_qty': 0.00782493, 'timestamp': '2024-09-24T05:20:23.295932157Z'}], 'asks': []}]}\n",
      "{'channel': 'level3', 'type': 'update', 'data': [{'checksum': 225265750, 'symbol': 'BTC/USD', 'bids': [], 'asks': [{'event': 'add', 'order_id': 'OJIKDN-KAXBR-KO7FTU', 'limit_price': 63128.1, 'order_qty': 7.92040783, 'timestamp': '2024-09-24T05:20:23.304779520Z'}]}]}\n",
      "{'channel': 'level3', 'type': 'update', 'data': [{'checksum': 2964923277, 'symbol': 'BTC/USD', 'bids': [{'event': 'add', 'order_id': 'OA4JW2-4IEJF-KDTROW', 'limit_price': 63114.4, 'order_qty': 3.96105923, 'timestamp': '2024-09-24T05:20:23.304891557Z'}], 'asks': []}]}\n",
      "{'channel': 'level3', 'type': 'update', 'data': [{'checksum': 2504877014, 'symbol': 'BTC/USD', 'bids': [{'event': 'add', 'order_id': 'OXBZCP-3I25A-JKU2PN', 'limit_price': 63115.8, 'order_qty': 3.96097226, 'timestamp': '2024-09-24T05:20:23.362357995Z'}], 'asks': []}]}\n",
      "{'channel': 'level3', 'type': 'update', 'data': [{'checksum': 911876528, 'symbol': 'BTC/USD', 'bids': [], 'asks': [{'event': 'add', 'order_id': 'OMLLOI-VYQX3-PEIR5A', 'limit_price': 63125.9, 'order_qty': 0.1, 'timestamp': '2024-09-24T05:20:23.456431495Z'}]}]}\n"
     ]
    },
    {
     "name": "stderr",
     "output_type": "stream",
     "text": [
      "++Rcv raw: b'\\x81\\x17{\"channel\":\"heartbeat\"}'\n",
      "++Rcv decoded: fin=1 opcode=1 data=b'{\"channel\":\"heartbeat\"}'\n",
      "++Rcv raw: b'\\x81~\\x00\\xf8{\"channel\":\"level3\",\"type\":\"update\",\"data\":[{\"checksum\":398143820,\"symbol\":\"BTC/USD\",\"bids\":[],\"asks\":[{\"event\":\"delete\",\"order_id\":\"OXJYT7-E26HH-MMUD6C\",\"limit_price\":63125.9,\"order_qty\":0.46870000,\"timestamp\":\"2024-09-24T05:20:23.852529035Z\"}]}]}'\n",
      "++Rcv decoded: fin=1 opcode=1 data=b'{\"channel\":\"level3\",\"type\":\"update\",\"data\":[{\"checksum\":398143820,\"symbol\":\"BTC/USD\",\"bids\":[],\"asks\":[{\"event\":\"delete\",\"order_id\":\"OXJYT7-E26HH-MMUD6C\",\"limit_price\":63125.9,\"order_qty\":0.46870000,\"timestamp\":\"2024-09-24T05:20:23.852529035Z\"}]}]}'\n",
      "++Rcv raw: b'\\x81~\\x00\\xf6{\"channel\":\"level3\",\"type\":\"update\",\"data\":[{\"checksum\":2274711486,\"symbol\":\"BTC/USD\",\"bids\":[],\"asks\":[{\"event\":\"add\",\"order_id\":\"OOYR4Q-7EDSB-2NQJAT\",\"limit_price\":63125.9,\"order_qty\":0.46870000,\"timestamp\":\"2024-09-24T05:20:23.854924327Z\"}]}]}'\n",
      "++Rcv decoded: fin=1 opcode=1 data=b'{\"channel\":\"level3\",\"type\":\"update\",\"data\":[{\"checksum\":2274711486,\"symbol\":\"BTC/USD\",\"bids\":[],\"asks\":[{\"event\":\"add\",\"order_id\":\"OOYR4Q-7EDSB-2NQJAT\",\"limit_price\":63125.9,\"order_qty\":0.46870000,\"timestamp\":\"2024-09-24T05:20:23.854924327Z\"}]}]}'\n",
      "++Rcv raw: b'\\x81~\\x01\\x83{\"channel\":\"level3\",\"type\":\"update\",\"data\":[{\"checksum\":336850504,\"symbol\":\"BTC/USD\",\"bids\":[],\"asks\":[{\"event\":\"delete\",\"order_id\":\"OC2OTC-AXVDA-42QWZQ\",\"limit_price\":63133.6,\"order_qty\":7.91971801,\"timestamp\":\"2024-09-24T05:20:23.878731949Z\"},{\"event\":\"add\",\"order_id\":\"OKWBJO-57ZCN-ESFN5W\",\"limit_price\":63134.0,\"order_qty\":0.00015865,\"timestamp\":\"2024-09-24T05:00:50.764166862Z\"}]}]}'\n",
      "++Rcv decoded: fin=1 opcode=1 data=b'{\"channel\":\"level3\",\"type\":\"update\",\"data\":[{\"checksum\":336850504,\"symbol\":\"BTC/USD\",\"bids\":[],\"asks\":[{\"event\":\"delete\",\"order_id\":\"OC2OTC-AXVDA-42QWZQ\",\"limit_price\":63133.6,\"order_qty\":7.91971801,\"timestamp\":\"2024-09-24T05:20:23.878731949Z\"},{\"event\":\"add\",\"order_id\":\"OKWBJO-57ZCN-ESFN5W\",\"limit_price\":63134.0,\"order_qty\":0.00015865,\"timestamp\":\"2024-09-24T05:00:50.764166862Z\"}]}]}'\n"
     ]
    },
    {
     "name": "stdout",
     "output_type": "stream",
     "text": [
      "{'channel': 'heartbeat'}\n",
      "{'channel': 'level3', 'type': 'update', 'data': [{'checksum': 398143820, 'symbol': 'BTC/USD', 'bids': [], 'asks': [{'event': 'delete', 'order_id': 'OXJYT7-E26HH-MMUD6C', 'limit_price': 63125.9, 'order_qty': 0.4687, 'timestamp': '2024-09-24T05:20:23.852529035Z'}]}]}\n",
      "{'channel': 'level3', 'type': 'update', 'data': [{'checksum': 2274711486, 'symbol': 'BTC/USD', 'bids': [], 'asks': [{'event': 'add', 'order_id': 'OOYR4Q-7EDSB-2NQJAT', 'limit_price': 63125.9, 'order_qty': 0.4687, 'timestamp': '2024-09-24T05:20:23.854924327Z'}]}]}\n",
      "{'channel': 'level3', 'type': 'update', 'data': [{'checksum': 336850504, 'symbol': 'BTC/USD', 'bids': [], 'asks': [{'event': 'delete', 'order_id': 'OC2OTC-AXVDA-42QWZQ', 'limit_price': 63133.6, 'order_qty': 7.91971801, 'timestamp': '2024-09-24T05:20:23.878731949Z'}, {'event': 'add', 'order_id': 'OKWBJO-57ZCN-ESFN5W', 'limit_price': 63134.0, 'order_qty': 0.00015865, 'timestamp': '2024-09-24T05:00:50.764166862Z'}]}]}\n"
     ]
    },
    {
     "name": "stderr",
     "output_type": "stream",
     "text": [
      "++Rcv raw: b'\\x81~\\x01\\x84{\"channel\":\"level3\",\"type\":\"update\",\"data\":[{\"checksum\":3596702743,\"symbol\":\"BTC/USD\",\"bids\":[{\"event\":\"delete\",\"order_id\":\"OPTGR5-L4ZKF-GLIDTR\",\"limit_price\":63113.4,\"order_qty\":0.13452308,\"timestamp\":\"2024-09-24T05:20:24.031481346Z\"},{\"event\":\"add\",\"order_id\":\"OODOCS-ZH4M7-YUGPV2\",\"limit_price\":63113.2,\"order_qty\":0.00792236,\"timestamp\":\"2024-09-24T05:14:52.749973329Z\"}],\"asks\":[]}]}'\n",
      "++Rcv decoded: fin=1 opcode=1 data=b'{\"channel\":\"level3\",\"type\":\"update\",\"data\":[{\"checksum\":3596702743,\"symbol\":\"BTC/USD\",\"bids\":[{\"event\":\"delete\",\"order_id\":\"OPTGR5-L4ZKF-GLIDTR\",\"limit_price\":63113.4,\"order_qty\":0.13452308,\"timestamp\":\"2024-09-24T05:20:24.031481346Z\"},{\"event\":\"add\",\"order_id\":\"OODOCS-ZH4M7-YUGPV2\",\"limit_price\":63113.2,\"order_qty\":0.00792236,\"timestamp\":\"2024-09-24T05:14:52.749973329Z\"}],\"asks\":[]}]}'\n",
      "++Rcv raw: b'\\x81~\\x00\\xf6{\"channel\":\"level3\",\"type\":\"update\",\"data\":[{\"checksum\":3848014111,\"symbol\":\"BTC/USD\",\"bids\":[{\"event\":\"add\",\"order_id\":\"O3KW3T-R5MJM-Y64I6B\",\"limit_price\":63113.9,\"order_qty\":0.13452308,\"timestamp\":\"2024-09-24T05:20:24.158913416Z\"}],\"asks\":[]}]}'\n",
      "++Rcv decoded: fin=1 opcode=1 data=b'{\"channel\":\"level3\",\"type\":\"update\",\"data\":[{\"checksum\":3848014111,\"symbol\":\"BTC/USD\",\"bids\":[{\"event\":\"add\",\"order_id\":\"O3KW3T-R5MJM-Y64I6B\",\"limit_price\":63113.9,\"order_qty\":0.13452308,\"timestamp\":\"2024-09-24T05:20:24.158913416Z\"}],\"asks\":[]}]}'\n",
      "++Rcv raw: b'\\x81~\\x01\\x84{\"channel\":\"level3\",\"type\":\"update\",\"data\":[{\"checksum\":2787242812,\"symbol\":\"BTC/USD\",\"bids\":[{\"event\":\"delete\",\"order_id\":\"OXBZCP-3I25A-JKU2PN\",\"limit_price\":63115.8,\"order_qty\":3.96097226,\"timestamp\":\"2024-09-24T05:20:24.184425621Z\"},{\"event\":\"add\",\"order_id\":\"OODOCS-ZH4M7-YUGPV2\",\"limit_price\":63113.2,\"order_qty\":0.00792236,\"timestamp\":\"2024-09-24T05:14:52.749973329Z\"}],\"asks\":[]}]}'\n",
      "++Rcv decoded: fin=1 opcode=1 data=b'{\"channel\":\"level3\",\"type\":\"update\",\"data\":[{\"checksum\":2787242812,\"symbol\":\"BTC/USD\",\"bids\":[{\"event\":\"delete\",\"order_id\":\"OXBZCP-3I25A-JKU2PN\",\"limit_price\":63115.8,\"order_qty\":3.96097226,\"timestamp\":\"2024-09-24T05:20:24.184425621Z\"},{\"event\":\"add\",\"order_id\":\"OODOCS-ZH4M7-YUGPV2\",\"limit_price\":63113.2,\"order_qty\":0.00792236,\"timestamp\":\"2024-09-24T05:14:52.749973329Z\"}],\"asks\":[]}]}'\n",
      "++Rcv raw: b'\\x81~\\x00\\xf6{\"channel\":\"level3\",\"type\":\"update\",\"data\":[{\"checksum\":1289483176,\"symbol\":\"BTC/USD\",\"bids\":[{\"event\":\"add\",\"order_id\":\"OPZ65X-WOGKE-SBHIR5\",\"limit_price\":63113.4,\"order_qty\":3.96111947,\"timestamp\":\"2024-09-24T05:20:24.187469400Z\"}],\"asks\":[]}]}'\n",
      "++Rcv decoded: fin=1 opcode=1 data=b'{\"channel\":\"level3\",\"type\":\"update\",\"data\":[{\"checksum\":1289483176,\"symbol\":\"BTC/USD\",\"bids\":[{\"event\":\"add\",\"order_id\":\"OPZ65X-WOGKE-SBHIR5\",\"limit_price\":63113.4,\"order_qty\":3.96111947,\"timestamp\":\"2024-09-24T05:20:24.187469400Z\"}],\"asks\":[]}]}'\n"
     ]
    },
    {
     "name": "stdout",
     "output_type": "stream",
     "text": [
      "{'channel': 'level3', 'type': 'update', 'data': [{'checksum': 3596702743, 'symbol': 'BTC/USD', 'bids': [{'event': 'delete', 'order_id': 'OPTGR5-L4ZKF-GLIDTR', 'limit_price': 63113.4, 'order_qty': 0.13452308, 'timestamp': '2024-09-24T05:20:24.031481346Z'}, {'event': 'add', 'order_id': 'OODOCS-ZH4M7-YUGPV2', 'limit_price': 63113.2, 'order_qty': 0.00792236, 'timestamp': '2024-09-24T05:14:52.749973329Z'}], 'asks': []}]}\n",
      "{'channel': 'level3', 'type': 'update', 'data': [{'checksum': 3848014111, 'symbol': 'BTC/USD', 'bids': [{'event': 'add', 'order_id': 'O3KW3T-R5MJM-Y64I6B', 'limit_price': 63113.9, 'order_qty': 0.13452308, 'timestamp': '2024-09-24T05:20:24.158913416Z'}], 'asks': []}]}\n",
      "{'channel': 'level3', 'type': 'update', 'data': [{'checksum': 2787242812, 'symbol': 'BTC/USD', 'bids': [{'event': 'delete', 'order_id': 'OXBZCP-3I25A-JKU2PN', 'limit_price': 63115.8, 'order_qty': 3.96097226, 'timestamp': '2024-09-24T05:20:24.184425621Z'}, {'event': 'add', 'order_id': 'OODOCS-ZH4M7-YUGPV2', 'limit_price': 63113.2, 'order_qty': 0.00792236, 'timestamp': '2024-09-24T05:14:52.749973329Z'}], 'asks': []}]}\n",
      "{'channel': 'level3', 'type': 'update', 'data': [{'checksum': 1289483176, 'symbol': 'BTC/USD', 'bids': [{'event': 'add', 'order_id': 'OPZ65X-WOGKE-SBHIR5', 'limit_price': 63113.4, 'order_qty': 3.96111947, 'timestamp': '2024-09-24T05:20:24.187469400Z'}], 'asks': []}]}\n"
     ]
    },
    {
     "name": "stderr",
     "output_type": "stream",
     "text": [
      "++Rcv raw: b'\\x81~\\x01\\x83{\"channel\":\"level3\",\"type\":\"update\",\"data\":[{\"checksum\":412721225,\"symbol\":\"BTC/USD\",\"bids\":[{\"event\":\"delete\",\"order_id\":\"O3KW3T-R5MJM-Y64I6B\",\"limit_price\":63113.9,\"order_qty\":0.13452308,\"timestamp\":\"2024-09-24T05:20:24.260120288Z\"},{\"event\":\"add\",\"order_id\":\"OODOCS-ZH4M7-YUGPV2\",\"limit_price\":63113.2,\"order_qty\":0.00792236,\"timestamp\":\"2024-09-24T05:14:52.749973329Z\"}],\"asks\":[]}]}'\n",
      "++Rcv decoded: fin=1 opcode=1 data=b'{\"channel\":\"level3\",\"type\":\"update\",\"data\":[{\"checksum\":412721225,\"symbol\":\"BTC/USD\",\"bids\":[{\"event\":\"delete\",\"order_id\":\"O3KW3T-R5MJM-Y64I6B\",\"limit_price\":63113.9,\"order_qty\":0.13452308,\"timestamp\":\"2024-09-24T05:20:24.260120288Z\"},{\"event\":\"add\",\"order_id\":\"OODOCS-ZH4M7-YUGPV2\",\"limit_price\":63113.2,\"order_qty\":0.00792236,\"timestamp\":\"2024-09-24T05:14:52.749973329Z\"}],\"asks\":[]}]}'\n",
      "++Rcv raw: b'\\x81~\\x01\\x84{\"channel\":\"level3\",\"type\":\"update\",\"data\":[{\"checksum\":4146848624,\"symbol\":\"BTC/USD\",\"bids\":[{\"event\":\"delete\",\"order_id\":\"OPZ65X-WOGKE-SBHIR5\",\"limit_price\":63113.4,\"order_qty\":3.96111947,\"timestamp\":\"2024-09-24T05:20:24.283730421Z\"},{\"event\":\"add\",\"order_id\":\"OFWFEH-UZ3VY-JJLJLH\",\"limit_price\":63113.1,\"order_qty\":0.25000000,\"timestamp\":\"2024-09-24T05:20:17.406452484Z\"}],\"asks\":[]}]}'\n",
      "++Rcv decoded: fin=1 opcode=1 data=b'{\"channel\":\"level3\",\"type\":\"update\",\"data\":[{\"checksum\":4146848624,\"symbol\":\"BTC/USD\",\"bids\":[{\"event\":\"delete\",\"order_id\":\"OPZ65X-WOGKE-SBHIR5\",\"limit_price\":63113.4,\"order_qty\":3.96111947,\"timestamp\":\"2024-09-24T05:20:24.283730421Z\"},{\"event\":\"add\",\"order_id\":\"OFWFEH-UZ3VY-JJLJLH\",\"limit_price\":63113.1,\"order_qty\":0.25000000,\"timestamp\":\"2024-09-24T05:20:17.406452484Z\"}],\"asks\":[]}]}'\n",
      "++Rcv raw: b'\\x81~\\x00\\xf6{\"channel\":\"level3\",\"type\":\"update\",\"data\":[{\"checksum\":4267543676,\"symbol\":\"BTC/USD\",\"bids\":[{\"event\":\"add\",\"order_id\":\"OREIAX-XO36T-WYDAXK\",\"limit_price\":63115.5,\"order_qty\":3.96099159,\"timestamp\":\"2024-09-24T05:20:24.286468053Z\"}],\"asks\":[]}]}'\n",
      "++Rcv decoded: fin=1 opcode=1 data=b'{\"channel\":\"level3\",\"type\":\"update\",\"data\":[{\"checksum\":4267543676,\"symbol\":\"BTC/USD\",\"bids\":[{\"event\":\"add\",\"order_id\":\"OREIAX-XO36T-WYDAXK\",\"limit_price\":63115.5,\"order_qty\":3.96099159,\"timestamp\":\"2024-09-24T05:20:24.286468053Z\"}],\"asks\":[]}]}'\n"
     ]
    },
    {
     "name": "stdout",
     "output_type": "stream",
     "text": [
      "{'channel': 'level3', 'type': 'update', 'data': [{'checksum': 412721225, 'symbol': 'BTC/USD', 'bids': [{'event': 'delete', 'order_id': 'O3KW3T-R5MJM-Y64I6B', 'limit_price': 63113.9, 'order_qty': 0.13452308, 'timestamp': '2024-09-24T05:20:24.260120288Z'}, {'event': 'add', 'order_id': 'OODOCS-ZH4M7-YUGPV2', 'limit_price': 63113.2, 'order_qty': 0.00792236, 'timestamp': '2024-09-24T05:14:52.749973329Z'}], 'asks': []}]}\n",
      "{'channel': 'level3', 'type': 'update', 'data': [{'checksum': 4146848624, 'symbol': 'BTC/USD', 'bids': [{'event': 'delete', 'order_id': 'OPZ65X-WOGKE-SBHIR5', 'limit_price': 63113.4, 'order_qty': 3.96111947, 'timestamp': '2024-09-24T05:20:24.283730421Z'}, {'event': 'add', 'order_id': 'OFWFEH-UZ3VY-JJLJLH', 'limit_price': 63113.1, 'order_qty': 0.25, 'timestamp': '2024-09-24T05:20:17.406452484Z'}], 'asks': []}]}\n",
      "{'channel': 'level3', 'type': 'update', 'data': [{'checksum': 4267543676, 'symbol': 'BTC/USD', 'bids': [{'event': 'add', 'order_id': 'OREIAX-XO36T-WYDAXK', 'limit_price': 63115.5, 'order_qty': 3.96099159, 'timestamp': '2024-09-24T05:20:24.286468053Z'}], 'asks': []}]}\n"
     ]
    },
    {
     "name": "stderr",
     "output_type": "stream",
     "text": [
      "++Rcv raw: b'\\x81~\\x01\\x84{\"channel\":\"level3\",\"type\":\"update\",\"data\":[{\"checksum\":3135075972,\"symbol\":\"BTC/USD\",\"bids\":[{\"event\":\"delete\",\"order_id\":\"O5QSYW-NEG43-K6T567\",\"limit_price\":63115.9,\"order_qty\":0.00782493,\"timestamp\":\"2024-09-24T05:20:24.535663109Z\"},{\"event\":\"add\",\"order_id\":\"ORNJP3-BUDWL-5XNIHN\",\"limit_price\":63112.6,\"order_qty\":0.04454749,\"timestamp\":\"2024-09-24T05:20:16.373003303Z\"}],\"asks\":[]}]}'\n",
      "++Rcv decoded: fin=1 opcode=1 data=b'{\"channel\":\"level3\",\"type\":\"update\",\"data\":[{\"checksum\":3135075972,\"symbol\":\"BTC/USD\",\"bids\":[{\"event\":\"delete\",\"order_id\":\"O5QSYW-NEG43-K6T567\",\"limit_price\":63115.9,\"order_qty\":0.00782493,\"timestamp\":\"2024-09-24T05:20:24.535663109Z\"},{\"event\":\"add\",\"order_id\":\"ORNJP3-BUDWL-5XNIHN\",\"limit_price\":63112.6,\"order_qty\":0.04454749,\"timestamp\":\"2024-09-24T05:20:16.373003303Z\"}],\"asks\":[]}]}'\n",
      "++Rcv raw: b'\\x81~\\x00\\xf6{\"channel\":\"level3\",\"type\":\"update\",\"data\":[{\"checksum\":1225453632,\"symbol\":\"BTC/USD\",\"bids\":[],\"asks\":[{\"event\":\"add\",\"order_id\":\"OS2UOG-JYAU4-V6HBGP\",\"limit_price\":63131.0,\"order_qty\":0.06173410,\"timestamp\":\"2024-09-24T05:20:24.622984645Z\"}]}]}'\n",
      "++Rcv decoded: fin=1 opcode=1 data=b'{\"channel\":\"level3\",\"type\":\"update\",\"data\":[{\"checksum\":1225453632,\"symbol\":\"BTC/USD\",\"bids\":[],\"asks\":[{\"event\":\"add\",\"order_id\":\"OS2UOG-JYAU4-V6HBGP\",\"limit_price\":63131.0,\"order_qty\":0.06173410,\"timestamp\":\"2024-09-24T05:20:24.622984645Z\"}]}]}'\n",
      "++Rcv raw: b'\\x81~\\x00\\xf9{\"channel\":\"level3\",\"type\":\"update\",\"data\":[{\"checksum\":2002126207,\"symbol\":\"BTC/USD\",\"bids\":[{\"event\":\"delete\",\"order_id\":\"OHYSTO-VZCT2-QSJG7V\",\"limit_price\":63115.5,\"order_qty\":0.01085432,\"timestamp\":\"2024-09-24T05:20:24.655132298Z\"}],\"asks\":[]}]}'\n",
      "++Rcv decoded: fin=1 opcode=1 data=b'{\"channel\":\"level3\",\"type\":\"update\",\"data\":[{\"checksum\":2002126207,\"symbol\":\"BTC/USD\",\"bids\":[{\"event\":\"delete\",\"order_id\":\"OHYSTO-VZCT2-QSJG7V\",\"limit_price\":63115.5,\"order_qty\":0.01085432,\"timestamp\":\"2024-09-24T05:20:24.655132298Z\"}],\"asks\":[]}]}'\n",
      "++Rcv raw: b'\\x81~\\x00\\xf6{\"channel\":\"level3\",\"type\":\"update\",\"data\":[{\"checksum\":3774559679,\"symbol\":\"BTC/USD\",\"bids\":[{\"event\":\"add\",\"order_id\":\"OOHJTJ-B3WRK-YJXRUI\",\"limit_price\":63115.6,\"order_qty\":0.01408458,\"timestamp\":\"2024-09-24T05:20:24.658469237Z\"}],\"asks\":[]}]}'\n",
      "++Rcv decoded: fin=1 opcode=1 data=b'{\"channel\":\"level3\",\"type\":\"update\",\"data\":[{\"checksum\":3774559679,\"symbol\":\"BTC/USD\",\"bids\":[{\"event\":\"add\",\"order_id\":\"OOHJTJ-B3WRK-YJXRUI\",\"limit_price\":63115.6,\"order_qty\":0.01408458,\"timestamp\":\"2024-09-24T05:20:24.658469237Z\"}],\"asks\":[]}]}'\n",
      "++Rcv raw: b'\\x81\\x17{\"channel\":\"heartbeat\"}'\n",
      "++Rcv decoded: fin=1 opcode=1 data=b'{\"channel\":\"heartbeat\"}'\n"
     ]
    },
    {
     "name": "stdout",
     "output_type": "stream",
     "text": [
      "{'channel': 'level3', 'type': 'update', 'data': [{'checksum': 3135075972, 'symbol': 'BTC/USD', 'bids': [{'event': 'delete', 'order_id': 'O5QSYW-NEG43-K6T567', 'limit_price': 63115.9, 'order_qty': 0.00782493, 'timestamp': '2024-09-24T05:20:24.535663109Z'}, {'event': 'add', 'order_id': 'ORNJP3-BUDWL-5XNIHN', 'limit_price': 63112.6, 'order_qty': 0.04454749, 'timestamp': '2024-09-24T05:20:16.373003303Z'}], 'asks': []}]}\n",
      "{'channel': 'level3', 'type': 'update', 'data': [{'checksum': 1225453632, 'symbol': 'BTC/USD', 'bids': [], 'asks': [{'event': 'add', 'order_id': 'OS2UOG-JYAU4-V6HBGP', 'limit_price': 63131.0, 'order_qty': 0.0617341, 'timestamp': '2024-09-24T05:20:24.622984645Z'}]}]}\n",
      "{'channel': 'level3', 'type': 'update', 'data': [{'checksum': 2002126207, 'symbol': 'BTC/USD', 'bids': [{'event': 'delete', 'order_id': 'OHYSTO-VZCT2-QSJG7V', 'limit_price': 63115.5, 'order_qty': 0.01085432, 'timestamp': '2024-09-24T05:20:24.655132298Z'}], 'asks': []}]}\n",
      "{'channel': 'level3', 'type': 'update', 'data': [{'checksum': 3774559679, 'symbol': 'BTC/USD', 'bids': [{'event': 'add', 'order_id': 'OOHJTJ-B3WRK-YJXRUI', 'limit_price': 63115.6, 'order_qty': 0.01408458, 'timestamp': '2024-09-24T05:20:24.658469237Z'}], 'asks': []}]}\n",
      "{'channel': 'heartbeat'}\n"
     ]
    },
    {
     "name": "stderr",
     "output_type": "stream",
     "text": [
      "++Rcv raw: b'\\x81~\\x00\\xf5{\"channel\":\"level3\",\"type\":\"update\",\"data\":[{\"checksum\":277345317,\"symbol\":\"BTC/USD\",\"bids\":[],\"asks\":[{\"event\":\"add\",\"order_id\":\"OKCLZV-VOLW4-2RATXW\",\"limit_price\":63125.9,\"order_qty\":0.23760000,\"timestamp\":\"2024-09-24T05:20:25.141560378Z\"}]}]}'\n",
      "++Rcv decoded: fin=1 opcode=1 data=b'{\"channel\":\"level3\",\"type\":\"update\",\"data\":[{\"checksum\":277345317,\"symbol\":\"BTC/USD\",\"bids\":[],\"asks\":[{\"event\":\"add\",\"order_id\":\"OKCLZV-VOLW4-2RATXW\",\"limit_price\":63125.9,\"order_qty\":0.23760000,\"timestamp\":\"2024-09-24T05:20:25.141560378Z\"}]}]}'\n",
      "++Rcv raw: b'\\x81~\\x00\\xf9{\"channel\":\"level3\",\"type\":\"update\",\"data\":[{\"checksum\":3774559679,\"symbol\":\"BTC/USD\",\"bids\":[],\"asks\":[{\"event\":\"delete\",\"order_id\":\"OKCLZV-VOLW4-2RATXW\",\"limit_price\":63125.9,\"order_qty\":0.23760000,\"timestamp\":\"2024-09-24T05:20:25.144180744Z\"}]}]}'\n",
      "++Rcv decoded: fin=1 opcode=1 data=b'{\"channel\":\"level3\",\"type\":\"update\",\"data\":[{\"checksum\":3774559679,\"symbol\":\"BTC/USD\",\"bids\":[],\"asks\":[{\"event\":\"delete\",\"order_id\":\"OKCLZV-VOLW4-2RATXW\",\"limit_price\":63125.9,\"order_qty\":0.23760000,\"timestamp\":\"2024-09-24T05:20:25.144180744Z\"}]}]}'\n",
      "++Rcv raw: b'\\x81~\\x01\\x83{\"channel\":\"level3\",\"type\":\"update\",\"data\":[{\"checksum\":150244075,\"symbol\":\"BTC/USD\",\"bids\":[{\"event\":\"delete\",\"order_id\":\"OREIAX-XO36T-WYDAXK\",\"limit_price\":63115.5,\"order_qty\":3.96099159,\"timestamp\":\"2024-09-24T05:20:25.183383140Z\"},{\"event\":\"add\",\"order_id\":\"ORNJP3-BUDWL-5XNIHN\",\"limit_price\":63112.6,\"order_qty\":0.04454749,\"timestamp\":\"2024-09-24T05:20:16.373003303Z\"}],\"asks\":[]}]}'\n",
      "++Rcv decoded: fin=1 opcode=1 data=b'{\"channel\":\"level3\",\"type\":\"update\",\"data\":[{\"checksum\":150244075,\"symbol\":\"BTC/USD\",\"bids\":[{\"event\":\"delete\",\"order_id\":\"OREIAX-XO36T-WYDAXK\",\"limit_price\":63115.5,\"order_qty\":3.96099159,\"timestamp\":\"2024-09-24T05:20:25.183383140Z\"},{\"event\":\"add\",\"order_id\":\"ORNJP3-BUDWL-5XNIHN\",\"limit_price\":63112.6,\"order_qty\":0.04454749,\"timestamp\":\"2024-09-24T05:20:16.373003303Z\"}],\"asks\":[]}]}'\n",
      "++Rcv raw: b'\\x81~\\x01\\x84{\"channel\":\"level3\",\"type\":\"update\",\"data\":[{\"checksum\":1556889835,\"symbol\":\"BTC/USD\",\"bids\":[{\"event\":\"delete\",\"order_id\":\"OA4JW2-4IEJF-KDTROW\",\"limit_price\":63114.4,\"order_qty\":3.96105923,\"timestamp\":\"2024-09-24T05:20:25.184025744Z\"},{\"event\":\"add\",\"order_id\":\"OWO5W3-UGESJ-7V6RAE\",\"limit_price\":63112.0,\"order_qty\":0.00015844,\"timestamp\":\"2024-09-24T05:11:19.370630524Z\"}],\"asks\":[]}]}'\n",
      "++Rcv decoded: fin=1 opcode=1 data=b'{\"channel\":\"level3\",\"type\":\"update\",\"data\":[{\"checksum\":1556889835,\"symbol\":\"BTC/USD\",\"bids\":[{\"event\":\"delete\",\"order_id\":\"OA4JW2-4IEJF-KDTROW\",\"limit_price\":63114.4,\"order_qty\":3.96105923,\"timestamp\":\"2024-09-24T05:20:25.184025744Z\"},{\"event\":\"add\",\"order_id\":\"OWO5W3-UGESJ-7V6RAE\",\"limit_price\":63112.0,\"order_qty\":0.00015844,\"timestamp\":\"2024-09-24T05:11:19.370630524Z\"}],\"asks\":[]}]}'\n",
      "++Rcv raw: b'\\x81~\\x01\\x84{\"channel\":\"level3\",\"type\":\"update\",\"data\":[{\"checksum\":1180921722,\"symbol\":\"BTC/USD\",\"bids\":[{\"event\":\"delete\",\"order_id\":\"OFWFEH-UZ3VY-JJLJLH\",\"limit_price\":63113.1,\"order_qty\":0.25000000,\"timestamp\":\"2024-09-24T05:20:25.184698167Z\"},{\"event\":\"add\",\"order_id\":\"O47BJK-QJRTZ-B72R2D\",\"limit_price\":63110.8,\"order_qty\":0.02088348,\"timestamp\":\"2024-09-24T05:20:24.659038688Z\"}],\"asks\":[]}]}'\n",
      "++Rcv decoded: fin=1 opcode=1 data=b'{\"channel\":\"level3\",\"type\":\"update\",\"data\":[{\"checksum\":1180921722,\"symbol\":\"BTC/USD\",\"bids\":[{\"event\":\"delete\",\"order_id\":\"OFWFEH-UZ3VY-JJLJLH\",\"limit_price\":63113.1,\"order_qty\":0.25000000,\"timestamp\":\"2024-09-24T05:20:25.184698167Z\"},{\"event\":\"add\",\"order_id\":\"O47BJK-QJRTZ-B72R2D\",\"limit_price\":63110.8,\"order_qty\":0.02088348,\"timestamp\":\"2024-09-24T05:20:24.659038688Z\"}],\"asks\":[]}]}'\n",
      "++Rcv raw: b'\\x81~\\x01\\x82{\"channel\":\"level3\",\"type\":\"update\",\"data\":[{\"checksum\":31398706,\"symbol\":\"BTC/USD\",\"bids\":[{\"event\":\"delete\",\"order_id\":\"ORNJP3-BUDWL-5XNIHN\",\"limit_price\":63112.6,\"order_qty\":0.04454749,\"timestamp\":\"2024-09-24T05:20:25.184806986Z\"},{\"event\":\"add\",\"order_id\":\"OCW2WK-MK4SO-EQJGR4\",\"limit_price\":63110.7,\"order_qty\":3.96129304,\"timestamp\":\"2024-09-24T05:20:23.881561367Z\"}],\"asks\":[]}]}'\n",
      "++Rcv decoded: fin=1 opcode=1 data=b'{\"channel\":\"level3\",\"type\":\"update\",\"data\":[{\"checksum\":31398706,\"symbol\":\"BTC/USD\",\"bids\":[{\"event\":\"delete\",\"order_id\":\"ORNJP3-BUDWL-5XNIHN\",\"limit_price\":63112.6,\"order_qty\":0.04454749,\"timestamp\":\"2024-09-24T05:20:25.184806986Z\"},{\"event\":\"add\",\"order_id\":\"OCW2WK-MK4SO-EQJGR4\",\"limit_price\":63110.7,\"order_qty\":3.96129304,\"timestamp\":\"2024-09-24T05:20:23.881561367Z\"}],\"asks\":[]}]}'\n",
      "++Rcv raw: b'\\x81~\\x00\\xf6{\"channel\":\"level3\",\"type\":\"update\",\"data\":[{\"checksum\":3054530613,\"symbol\":\"BTC/USD\",\"bids\":[],\"asks\":[{\"event\":\"add\",\"order_id\":\"OXZMIE-USJMH-GUWXGV\",\"limit_price\":63125.9,\"order_qty\":7.92067915,\"timestamp\":\"2024-09-24T05:20:25.193360410Z\"}]}]}'\n",
      "++Rcv decoded: fin=1 opcode=1 data=b'{\"channel\":\"level3\",\"type\":\"update\",\"data\":[{\"checksum\":3054530613,\"symbol\":\"BTC/USD\",\"bids\":[],\"asks\":[{\"event\":\"add\",\"order_id\":\"OXZMIE-USJMH-GUWXGV\",\"limit_price\":63125.9,\"order_qty\":7.92067915,\"timestamp\":\"2024-09-24T05:20:25.193360410Z\"}]}]}'\n",
      "++Rcv raw: b'\\x81~\\x01\\x84{\"channel\":\"level3\",\"type\":\"update\",\"data\":[{\"checksum\":1718947062,\"symbol\":\"BTC/USD\",\"bids\":[{\"event\":\"delete\",\"order_id\":\"OCW2WK-MK4SO-EQJGR4\",\"limit_price\":63110.7,\"order_qty\":3.96129304,\"timestamp\":\"2024-09-24T05:20:25.201582269Z\"},{\"event\":\"add\",\"order_id\":\"OQ64VX-D2N6K-BXP4NP\",\"limit_price\":63110.2,\"order_qty\":0.00792236,\"timestamp\":\"2024-09-24T05:14:52.750290768Z\"}],\"asks\":[]}]}'\n",
      "++Rcv decoded: fin=1 opcode=1 data=b'{\"channel\":\"level3\",\"type\":\"update\",\"data\":[{\"checksum\":1718947062,\"symbol\":\"BTC/USD\",\"bids\":[{\"event\":\"delete\",\"order_id\":\"OCW2WK-MK4SO-EQJGR4\",\"limit_price\":63110.7,\"order_qty\":3.96129304,\"timestamp\":\"2024-09-24T05:20:25.201582269Z\"},{\"event\":\"add\",\"order_id\":\"OQ64VX-D2N6K-BXP4NP\",\"limit_price\":63110.2,\"order_qty\":0.00792236,\"timestamp\":\"2024-09-24T05:14:52.750290768Z\"}],\"asks\":[]}]}'\n",
      "++Rcv raw: b'\\x81~\\x00\\xf6{\"channel\":\"level3\",\"type\":\"update\",\"data\":[{\"checksum\":2933507029,\"symbol\":\"BTC/USD\",\"bids\":[],\"asks\":[{\"event\":\"add\",\"order_id\":\"OFHORG-LDJ4E-XBZLGU\",\"limit_price\":63125.9,\"order_qty\":1.90138369,\"timestamp\":\"2024-09-24T05:20:25.212092695Z\"}]}]}'\n",
      "++Rcv decoded: fin=1 opcode=1 data=b'{\"channel\":\"level3\",\"type\":\"update\",\"data\":[{\"checksum\":2933507029,\"symbol\":\"BTC/USD\",\"bids\":[],\"asks\":[{\"event\":\"add\",\"order_id\":\"OFHORG-LDJ4E-XBZLGU\",\"limit_price\":63125.9,\"order_qty\":1.90138369,\"timestamp\":\"2024-09-24T05:20:25.212092695Z\"}]}]}'\n"
     ]
    },
    {
     "name": "stdout",
     "output_type": "stream",
     "text": [
      "{'channel': 'level3', 'type': 'update', 'data': [{'checksum': 277345317, 'symbol': 'BTC/USD', 'bids': [], 'asks': [{'event': 'add', 'order_id': 'OKCLZV-VOLW4-2RATXW', 'limit_price': 63125.9, 'order_qty': 0.2376, 'timestamp': '2024-09-24T05:20:25.141560378Z'}]}]}\n",
      "{'channel': 'level3', 'type': 'update', 'data': [{'checksum': 3774559679, 'symbol': 'BTC/USD', 'bids': [], 'asks': [{'event': 'delete', 'order_id': 'OKCLZV-VOLW4-2RATXW', 'limit_price': 63125.9, 'order_qty': 0.2376, 'timestamp': '2024-09-24T05:20:25.144180744Z'}]}]}\n",
      "{'channel': 'level3', 'type': 'update', 'data': [{'checksum': 150244075, 'symbol': 'BTC/USD', 'bids': [{'event': 'delete', 'order_id': 'OREIAX-XO36T-WYDAXK', 'limit_price': 63115.5, 'order_qty': 3.96099159, 'timestamp': '2024-09-24T05:20:25.183383140Z'}, {'event': 'add', 'order_id': 'ORNJP3-BUDWL-5XNIHN', 'limit_price': 63112.6, 'order_qty': 0.04454749, 'timestamp': '2024-09-24T05:20:16.373003303Z'}], 'asks': []}]}\n",
      "{'channel': 'level3', 'type': 'update', 'data': [{'checksum': 1556889835, 'symbol': 'BTC/USD', 'bids': [{'event': 'delete', 'order_id': 'OA4JW2-4IEJF-KDTROW', 'limit_price': 63114.4, 'order_qty': 3.96105923, 'timestamp': '2024-09-24T05:20:25.184025744Z'}, {'event': 'add', 'order_id': 'OWO5W3-UGESJ-7V6RAE', 'limit_price': 63112.0, 'order_qty': 0.00015844, 'timestamp': '2024-09-24T05:11:19.370630524Z'}], 'asks': []}]}\n",
      "{'channel': 'level3', 'type': 'update', 'data': [{'checksum': 1180921722, 'symbol': 'BTC/USD', 'bids': [{'event': 'delete', 'order_id': 'OFWFEH-UZ3VY-JJLJLH', 'limit_price': 63113.1, 'order_qty': 0.25, 'timestamp': '2024-09-24T05:20:25.184698167Z'}, {'event': 'add', 'order_id': 'O47BJK-QJRTZ-B72R2D', 'limit_price': 63110.8, 'order_qty': 0.02088348, 'timestamp': '2024-09-24T05:20:24.659038688Z'}], 'asks': []}]}\n",
      "{'channel': 'level3', 'type': 'update', 'data': [{'checksum': 31398706, 'symbol': 'BTC/USD', 'bids': [{'event': 'delete', 'order_id': 'ORNJP3-BUDWL-5XNIHN', 'limit_price': 63112.6, 'order_qty': 0.04454749, 'timestamp': '2024-09-24T05:20:25.184806986Z'}, {'event': 'add', 'order_id': 'OCW2WK-MK4SO-EQJGR4', 'limit_price': 63110.7, 'order_qty': 3.96129304, 'timestamp': '2024-09-24T05:20:23.881561367Z'}], 'asks': []}]}\n",
      "{'channel': 'level3', 'type': 'update', 'data': [{'checksum': 3054530613, 'symbol': 'BTC/USD', 'bids': [], 'asks': [{'event': 'add', 'order_id': 'OXZMIE-USJMH-GUWXGV', 'limit_price': 63125.9, 'order_qty': 7.92067915, 'timestamp': '2024-09-24T05:20:25.193360410Z'}]}]}\n",
      "{'channel': 'level3', 'type': 'update', 'data': [{'checksum': 1718947062, 'symbol': 'BTC/USD', 'bids': [{'event': 'delete', 'order_id': 'OCW2WK-MK4SO-EQJGR4', 'limit_price': 63110.7, 'order_qty': 3.96129304, 'timestamp': '2024-09-24T05:20:25.201582269Z'}, {'event': 'add', 'order_id': 'OQ64VX-D2N6K-BXP4NP', 'limit_price': 63110.2, 'order_qty': 0.00792236, 'timestamp': '2024-09-24T05:14:52.750290768Z'}], 'asks': []}]}\n",
      "{'channel': 'level3', 'type': 'update', 'data': [{'checksum': 2933507029, 'symbol': 'BTC/USD', 'bids': [], 'asks': [{'event': 'add', 'order_id': 'OFHORG-LDJ4E-XBZLGU', 'limit_price': 63125.9, 'order_qty': 1.90138369, 'timestamp': '2024-09-24T05:20:25.212092695Z'}]}]}\n"
     ]
    },
    {
     "name": "stderr",
     "output_type": "stream",
     "text": [
      "++Rcv raw: b'\\x81~\\x00\\xf9{\"channel\":\"level3\",\"type\":\"update\",\"data\":[{\"checksum\":4006224328,\"symbol\":\"BTC/USD\",\"bids\":[{\"event\":\"delete\",\"order_id\":\"O3QR4Z-FJMM5-AZAVRB\",\"limit_price\":63125.8,\"order_qty\":2.97300000,\"timestamp\":\"2024-09-24T05:20:25.307969575Z\"}],\"asks\":[]}]}'\n",
      "++Rcv decoded: fin=1 opcode=1 data=b'{\"channel\":\"level3\",\"type\":\"update\",\"data\":[{\"checksum\":4006224328,\"symbol\":\"BTC/USD\",\"bids\":[{\"event\":\"delete\",\"order_id\":\"O3QR4Z-FJMM5-AZAVRB\",\"limit_price\":63125.8,\"order_qty\":2.97300000,\"timestamp\":\"2024-09-24T05:20:25.307969575Z\"}],\"asks\":[]}]}'\n",
      "++Rcv raw: b'\\x81~\\x00\\xf6{\"channel\":\"level3\",\"type\":\"update\",\"data\":[{\"checksum\":3924773371,\"symbol\":\"BTC/USD\",\"bids\":[],\"asks\":[{\"event\":\"add\",\"order_id\":\"ODZIZ7-ZSH33-435VIG\",\"limit_price\":63125.9,\"order_qty\":0.10000000,\"timestamp\":\"2024-09-24T05:20:25.312163276Z\"}]}]}'\n",
      "++Rcv decoded: fin=1 opcode=1 data=b'{\"channel\":\"level3\",\"type\":\"update\",\"data\":[{\"checksum\":3924773371,\"symbol\":\"BTC/USD\",\"bids\":[],\"asks\":[{\"event\":\"add\",\"order_id\":\"ODZIZ7-ZSH33-435VIG\",\"limit_price\":63125.9,\"order_qty\":0.10000000,\"timestamp\":\"2024-09-24T05:20:25.312163276Z\"}]}]}'\n",
      "++Rcv raw: b'\\x81~\\x00\\xf6{\"channel\":\"level3\",\"type\":\"update\",\"data\":[{\"checksum\":3741938554,\"symbol\":\"BTC/USD\",\"bids\":[],\"asks\":[{\"event\":\"add\",\"order_id\":\"OAWBSV-AICYO-4SOEFB\",\"limit_price\":63126.2,\"order_qty\":0.08178762,\"timestamp\":\"2024-09-24T05:20:25.340209692Z\"}]}]}'\n",
      "++Rcv decoded: fin=1 opcode=1 data=b'{\"channel\":\"level3\",\"type\":\"update\",\"data\":[{\"checksum\":3741938554,\"symbol\":\"BTC/USD\",\"bids\":[],\"asks\":[{\"event\":\"add\",\"order_id\":\"OAWBSV-AICYO-4SOEFB\",\"limit_price\":63126.2,\"order_qty\":0.08178762,\"timestamp\":\"2024-09-24T05:20:25.340209692Z\"}]}]}'\n",
      "++Rcv raw: b'\\x81~\\x01\\x83{\"channel\":\"level3\",\"type\":\"update\",\"data\":[{\"checksum\":876258730,\"symbol\":\"BTC/USD\",\"bids\":[{\"event\":\"delete\",\"order_id\":\"O47BJK-QJRTZ-B72R2D\",\"limit_price\":63110.8,\"order_qty\":0.02088348,\"timestamp\":\"2024-09-24T05:20:25.371997392Z\"},{\"event\":\"add\",\"order_id\":\"ON65Q5-MI75K-GG5CFO\",\"limit_price\":63109.0,\"order_qty\":0.02770657,\"timestamp\":\"2024-09-24T05:20:12.848741741Z\"}],\"asks\":[]}]}'\n",
      "++Rcv decoded: fin=1 opcode=1 data=b'{\"channel\":\"level3\",\"type\":\"update\",\"data\":[{\"checksum\":876258730,\"symbol\":\"BTC/USD\",\"bids\":[{\"event\":\"delete\",\"order_id\":\"O47BJK-QJRTZ-B72R2D\",\"limit_price\":63110.8,\"order_qty\":0.02088348,\"timestamp\":\"2024-09-24T05:20:25.371997392Z\"},{\"event\":\"add\",\"order_id\":\"ON65Q5-MI75K-GG5CFO\",\"limit_price\":63109.0,\"order_qty\":0.02770657,\"timestamp\":\"2024-09-24T05:20:12.848741741Z\"}],\"asks\":[]}]}'\n",
      "++Rcv raw: b'\\x81~\\x01\\x84{\"channel\":\"level3\",\"type\":\"update\",\"data\":[{\"checksum\":1668592525,\"symbol\":\"BTC/USD\",\"bids\":[{\"event\":\"delete\",\"order_id\":\"OOHJTJ-B3WRK-YJXRUI\",\"limit_price\":63115.6,\"order_qty\":0.01408458,\"timestamp\":\"2024-09-24T05:20:25.395881080Z\"},{\"event\":\"add\",\"order_id\":\"OFX6B5-YLMJU-UJ5Z7I\",\"limit_price\":63108.9,\"order_qty\":0.00015844,\"timestamp\":\"2024-09-24T05:11:18.870198008Z\"}],\"asks\":[]}]}'\n",
      "++Rcv decoded: fin=1 opcode=1 data=b'{\"channel\":\"level3\",\"type\":\"update\",\"data\":[{\"checksum\":1668592525,\"symbol\":\"BTC/USD\",\"bids\":[{\"event\":\"delete\",\"order_id\":\"OOHJTJ-B3WRK-YJXRUI\",\"limit_price\":63115.6,\"order_qty\":0.01408458,\"timestamp\":\"2024-09-24T05:20:25.395881080Z\"},{\"event\":\"add\",\"order_id\":\"OFX6B5-YLMJU-UJ5Z7I\",\"limit_price\":63108.9,\"order_qty\":0.00015844,\"timestamp\":\"2024-09-24T05:11:18.870198008Z\"}],\"asks\":[]}]}'\n",
      "++Rcv raw: b'\\x81~\\x02\\x0f{\"channel\":\"level3\",\"type\":\"update\",\"data\":[{\"checksum\":3189512717,\"symbol\":\"BTC/USD\",\"bids\":[{\"event\":\"delete\",\"order_id\":\"OHUYD7-KXRH5-I2XNV4\",\"limit_price\":63125.0,\"order_qty\":0.00010000,\"timestamp\":\"2024-09-24T05:20:25.454910377Z\"},{\"event\":\"add\",\"order_id\":\"OUATSD-E4KJX-HMWRQH\",\"limit_price\":63107.4,\"order_qty\":0.00010000,\"timestamp\":\"2024-09-24T05:09:22.046851641Z\"},{\"event\":\"add\",\"order_id\":\"OUJ2M6-BVWNW-V5RPKQ\",\"limit_price\":63107.4,\"order_qty\":0.00010000,\"timestamp\":\"2024-09-24T05:10:45.426477179Z\"}],\"asks\":[]}]}'\n",
      "++Rcv decoded: fin=1 opcode=1 data=b'{\"channel\":\"level3\",\"type\":\"update\",\"data\":[{\"checksum\":3189512717,\"symbol\":\"BTC/USD\",\"bids\":[{\"event\":\"delete\",\"order_id\":\"OHUYD7-KXRH5-I2XNV4\",\"limit_price\":63125.0,\"order_qty\":0.00010000,\"timestamp\":\"2024-09-24T05:20:25.454910377Z\"},{\"event\":\"add\",\"order_id\":\"OUATSD-E4KJX-HMWRQH\",\"limit_price\":63107.4,\"order_qty\":0.00010000,\"timestamp\":\"2024-09-24T05:09:22.046851641Z\"},{\"event\":\"add\",\"order_id\":\"OUJ2M6-BVWNW-V5RPKQ\",\"limit_price\":63107.4,\"order_qty\":0.00010000,\"timestamp\":\"2024-09-24T05:10:45.426477179Z\"}],\"asks\":[]}]}'\n",
      "++Rcv raw: b'\\x81~\\x00\\xf6{\"channel\":\"level3\",\"type\":\"update\",\"data\":[{\"checksum\":2075148659,\"symbol\":\"BTC/USD\",\"bids\":[{\"event\":\"add\",\"order_id\":\"OAROCG-ZUP4C-TOKCIH\",\"limit_price\":63115.1,\"order_qty\":0.00010000,\"timestamp\":\"2024-09-24T05:20:25.454910381Z\"}],\"asks\":[]}]}'\n",
      "++Rcv decoded: fin=1 opcode=1 data=b'{\"channel\":\"level3\",\"type\":\"update\",\"data\":[{\"checksum\":2075148659,\"symbol\":\"BTC/USD\",\"bids\":[{\"event\":\"add\",\"order_id\":\"OAROCG-ZUP4C-TOKCIH\",\"limit_price\":63115.1,\"order_qty\":0.00010000,\"timestamp\":\"2024-09-24T05:20:25.454910381Z\"}],\"asks\":[]}]}'\n",
      "++Rcv raw: b'\\x81~\\x01\\x82{\"channel\":\"level3\",\"type\":\"update\",\"data\":[{\"checksum\":57759976,\"symbol\":\"BTC/USD\",\"bids\":[],\"asks\":[{\"event\":\"delete\",\"order_id\":\"OQDJQG-O47NR-O4HPAF\",\"limit_price\":63131.1,\"order_qty\":0.00010000,\"timestamp\":\"2024-09-24T05:20:25.454969115Z\"},{\"event\":\"add\",\"order_id\":\"O3PF7P-FIANT-3OF6EX\",\"limit_price\":63132.3,\"order_qty\":0.46870000,\"timestamp\":\"2024-09-24T05:20:12.895482418Z\"}]}]}'\n",
      "++Rcv decoded: fin=1 opcode=1 data=b'{\"channel\":\"level3\",\"type\":\"update\",\"data\":[{\"checksum\":57759976,\"symbol\":\"BTC/USD\",\"bids\":[],\"asks\":[{\"event\":\"delete\",\"order_id\":\"OQDJQG-O47NR-O4HPAF\",\"limit_price\":63131.1,\"order_qty\":0.00010000,\"timestamp\":\"2024-09-24T05:20:25.454969115Z\"},{\"event\":\"add\",\"order_id\":\"O3PF7P-FIANT-3OF6EX\",\"limit_price\":63132.3,\"order_qty\":0.46870000,\"timestamp\":\"2024-09-24T05:20:12.895482418Z\"}]}]}'\n",
      "++Rcv raw: b'\\x81~\\x00\\xf6{\"channel\":\"level3\",\"type\":\"update\",\"data\":[{\"checksum\":1696770294,\"symbol\":\"BTC/USD\",\"bids\":[],\"asks\":[{\"event\":\"add\",\"order_id\":\"OQN2AG-FVTGX-2BL6BW\",\"limit_price\":63125.9,\"order_qty\":0.00010000,\"timestamp\":\"2024-09-24T05:20:25.454969119Z\"}]}]}'\n",
      "++Rcv decoded: fin=1 opcode=1 data=b'{\"channel\":\"level3\",\"type\":\"update\",\"data\":[{\"checksum\":1696770294,\"symbol\":\"BTC/USD\",\"bids\":[],\"asks\":[{\"event\":\"add\",\"order_id\":\"OQN2AG-FVTGX-2BL6BW\",\"limit_price\":63125.9,\"order_qty\":0.00010000,\"timestamp\":\"2024-09-24T05:20:25.454969119Z\"}]}]}'\n",
      "++Rcv raw: b'\\x81~\\x01\\x84{\"channel\":\"level3\",\"type\":\"update\",\"data\":[{\"checksum\":3522002606,\"symbol\":\"BTC/USD\",\"bids\":[],\"asks\":[{\"event\":\"delete\",\"order_id\":\"OS2UOG-JYAU4-V6HBGP\",\"limit_price\":63131.0,\"order_qty\":0.06173410,\"timestamp\":\"2024-09-24T05:20:25.465272711Z\"},{\"event\":\"add\",\"order_id\":\"OKWBJO-57ZCN-ESFN5W\",\"limit_price\":63134.0,\"order_qty\":0.00015865,\"timestamp\":\"2024-09-24T05:00:50.764166862Z\"}]}]}'\n",
      "++Rcv decoded: fin=1 opcode=1 data=b'{\"channel\":\"level3\",\"type\":\"update\",\"data\":[{\"checksum\":3522002606,\"symbol\":\"BTC/USD\",\"bids\":[],\"asks\":[{\"event\":\"delete\",\"order_id\":\"OS2UOG-JYAU4-V6HBGP\",\"limit_price\":63131.0,\"order_qty\":0.06173410,\"timestamp\":\"2024-09-24T05:20:25.465272711Z\"},{\"event\":\"add\",\"order_id\":\"OKWBJO-57ZCN-ESFN5W\",\"limit_price\":63134.0,\"order_qty\":0.00015865,\"timestamp\":\"2024-09-24T05:00:50.764166862Z\"}]}]}'\n"
     ]
    },
    {
     "name": "stdout",
     "output_type": "stream",
     "text": [
      "{'channel': 'level3', 'type': 'update', 'data': [{'checksum': 4006224328, 'symbol': 'BTC/USD', 'bids': [{'event': 'delete', 'order_id': 'O3QR4Z-FJMM5-AZAVRB', 'limit_price': 63125.8, 'order_qty': 2.973, 'timestamp': '2024-09-24T05:20:25.307969575Z'}], 'asks': []}]}\n",
      "{'channel': 'level3', 'type': 'update', 'data': [{'checksum': 3924773371, 'symbol': 'BTC/USD', 'bids': [], 'asks': [{'event': 'add', 'order_id': 'ODZIZ7-ZSH33-435VIG', 'limit_price': 63125.9, 'order_qty': 0.1, 'timestamp': '2024-09-24T05:20:25.312163276Z'}]}]}\n",
      "{'channel': 'level3', 'type': 'update', 'data': [{'checksum': 3741938554, 'symbol': 'BTC/USD', 'bids': [], 'asks': [{'event': 'add', 'order_id': 'OAWBSV-AICYO-4SOEFB', 'limit_price': 63126.2, 'order_qty': 0.08178762, 'timestamp': '2024-09-24T05:20:25.340209692Z'}]}]}\n",
      "{'channel': 'level3', 'type': 'update', 'data': [{'checksum': 876258730, 'symbol': 'BTC/USD', 'bids': [{'event': 'delete', 'order_id': 'O47BJK-QJRTZ-B72R2D', 'limit_price': 63110.8, 'order_qty': 0.02088348, 'timestamp': '2024-09-24T05:20:25.371997392Z'}, {'event': 'add', 'order_id': 'ON65Q5-MI75K-GG5CFO', 'limit_price': 63109.0, 'order_qty': 0.02770657, 'timestamp': '2024-09-24T05:20:12.848741741Z'}], 'asks': []}]}\n",
      "{'channel': 'level3', 'type': 'update', 'data': [{'checksum': 1668592525, 'symbol': 'BTC/USD', 'bids': [{'event': 'delete', 'order_id': 'OOHJTJ-B3WRK-YJXRUI', 'limit_price': 63115.6, 'order_qty': 0.01408458, 'timestamp': '2024-09-24T05:20:25.395881080Z'}, {'event': 'add', 'order_id': 'OFX6B5-YLMJU-UJ5Z7I', 'limit_price': 63108.9, 'order_qty': 0.00015844, 'timestamp': '2024-09-24T05:11:18.870198008Z'}], 'asks': []}]}\n",
      "{'channel': 'level3', 'type': 'update', 'data': [{'checksum': 3189512717, 'symbol': 'BTC/USD', 'bids': [{'event': 'delete', 'order_id': 'OHUYD7-KXRH5-I2XNV4', 'limit_price': 63125.0, 'order_qty': 0.0001, 'timestamp': '2024-09-24T05:20:25.454910377Z'}, {'event': 'add', 'order_id': 'OUATSD-E4KJX-HMWRQH', 'limit_price': 63107.4, 'order_qty': 0.0001, 'timestamp': '2024-09-24T05:09:22.046851641Z'}, {'event': 'add', 'order_id': 'OUJ2M6-BVWNW-V5RPKQ', 'limit_price': 63107.4, 'order_qty': 0.0001, 'timestamp': '2024-09-24T05:10:45.426477179Z'}], 'asks': []}]}\n",
      "{'channel': 'level3', 'type': 'update', 'data': [{'checksum': 2075148659, 'symbol': 'BTC/USD', 'bids': [{'event': 'add', 'order_id': 'OAROCG-ZUP4C-TOKCIH', 'limit_price': 63115.1, 'order_qty': 0.0001, 'timestamp': '2024-09-24T05:20:25.454910381Z'}], 'asks': []}]}\n",
      "{'channel': 'level3', 'type': 'update', 'data': [{'checksum': 57759976, 'symbol': 'BTC/USD', 'bids': [], 'asks': [{'event': 'delete', 'order_id': 'OQDJQG-O47NR-O4HPAF', 'limit_price': 63131.1, 'order_qty': 0.0001, 'timestamp': '2024-09-24T05:20:25.454969115Z'}, {'event': 'add', 'order_id': 'O3PF7P-FIANT-3OF6EX', 'limit_price': 63132.3, 'order_qty': 0.4687, 'timestamp': '2024-09-24T05:20:12.895482418Z'}]}]}\n",
      "{'channel': 'level3', 'type': 'update', 'data': [{'checksum': 1696770294, 'symbol': 'BTC/USD', 'bids': [], 'asks': [{'event': 'add', 'order_id': 'OQN2AG-FVTGX-2BL6BW', 'limit_price': 63125.9, 'order_qty': 0.0001, 'timestamp': '2024-09-24T05:20:25.454969119Z'}]}]}\n",
      "{'channel': 'level3', 'type': 'update', 'data': [{'checksum': 3522002606, 'symbol': 'BTC/USD', 'bids': [], 'asks': [{'event': 'delete', 'order_id': 'OS2UOG-JYAU4-V6HBGP', 'limit_price': 63131.0, 'order_qty': 0.0617341, 'timestamp': '2024-09-24T05:20:25.465272711Z'}, {'event': 'add', 'order_id': 'OKWBJO-57ZCN-ESFN5W', 'limit_price': 63134.0, 'order_qty': 0.00015865, 'timestamp': '2024-09-24T05:00:50.764166862Z'}]}]}\n"
     ]
    },
    {
     "name": "stderr",
     "output_type": "stream",
     "text": [
      "++Rcv raw: b'\\x81~\\x00\\xf6{\"channel\":\"level3\",\"type\":\"update\",\"data\":[{\"checksum\":3842920086,\"symbol\":\"BTC/USD\",\"bids\":[],\"asks\":[{\"event\":\"add\",\"order_id\":\"O7NF6X-NWKM6-MVCCCM\",\"limit_price\":63132.3,\"order_qty\":0.01653205,\"timestamp\":\"2024-09-24T05:20:25.572840299Z\"}]}]}'\n",
      "++Rcv decoded: fin=1 opcode=1 data=b'{\"channel\":\"level3\",\"type\":\"update\",\"data\":[{\"checksum\":3842920086,\"symbol\":\"BTC/USD\",\"bids\":[],\"asks\":[{\"event\":\"add\",\"order_id\":\"O7NF6X-NWKM6-MVCCCM\",\"limit_price\":63132.3,\"order_qty\":0.01653205,\"timestamp\":\"2024-09-24T05:20:25.572840299Z\"}]}]}'\n",
      "++Rcv raw: b'\\x81~\\x00\\xf6{\"channel\":\"level3\",\"type\":\"update\",\"data\":[{\"checksum\":3500222853,\"symbol\":\"BTC/USD\",\"bids\":[],\"asks\":[{\"event\":\"add\",\"order_id\":\"OLO57O-VBEHM-S55K72\",\"limit_price\":63130.7,\"order_qty\":0.23760000,\"timestamp\":\"2024-09-24T05:20:25.660494141Z\"}]}]}'\n",
      "++Rcv decoded: fin=1 opcode=1 data=b'{\"channel\":\"level3\",\"type\":\"update\",\"data\":[{\"checksum\":3500222853,\"symbol\":\"BTC/USD\",\"bids\":[],\"asks\":[{\"event\":\"add\",\"order_id\":\"OLO57O-VBEHM-S55K72\",\"limit_price\":63130.7,\"order_qty\":0.23760000,\"timestamp\":\"2024-09-24T05:20:25.660494141Z\"}]}]}'\n",
      "++Rcv raw: b'\\x81\\x17{\"channel\":\"heartbeat\"}'\n",
      "++Rcv decoded: fin=1 opcode=1 data=b'{\"channel\":\"heartbeat\"}'\n"
     ]
    },
    {
     "name": "stdout",
     "output_type": "stream",
     "text": [
      "{'channel': 'level3', 'type': 'update', 'data': [{'checksum': 3842920086, 'symbol': 'BTC/USD', 'bids': [], 'asks': [{'event': 'add', 'order_id': 'O7NF6X-NWKM6-MVCCCM', 'limit_price': 63132.3, 'order_qty': 0.01653205, 'timestamp': '2024-09-24T05:20:25.572840299Z'}]}]}\n",
      "{'channel': 'level3', 'type': 'update', 'data': [{'checksum': 3500222853, 'symbol': 'BTC/USD', 'bids': [], 'asks': [{'event': 'add', 'order_id': 'OLO57O-VBEHM-S55K72', 'limit_price': 63130.7, 'order_qty': 0.2376, 'timestamp': '2024-09-24T05:20:25.660494141Z'}]}]}\n",
      "{'channel': 'heartbeat'}\n"
     ]
    },
    {
     "name": "stderr",
     "output_type": "stream",
     "text": [
      "++Rcv raw: b'\\x81~\\x02\\x0e{\"channel\":\"level3\",\"type\":\"update\",\"data\":[{\"checksum\":207370808,\"symbol\":\"BTC/USD\",\"bids\":[{\"event\":\"delete\",\"order_id\":\"ON65Q5-MI75K-GG5CFO\",\"limit_price\":63109.0,\"order_qty\":0.02770657,\"timestamp\":\"2024-09-24T05:20:26.197980194Z\"},{\"event\":\"add\",\"order_id\":\"OUATSD-E4KJX-HMWRQH\",\"limit_price\":63107.4,\"order_qty\":0.00010000,\"timestamp\":\"2024-09-24T05:09:22.046851641Z\"},{\"event\":\"add\",\"order_id\":\"OUJ2M6-BVWNW-V5RPKQ\",\"limit_price\":63107.4,\"order_qty\":0.00010000,\"timestamp\":\"2024-09-24T05:10:45.426477179Z\"}],\"asks\":[]}]}'\n",
      "++Rcv decoded: fin=1 opcode=1 data=b'{\"channel\":\"level3\",\"type\":\"update\",\"data\":[{\"checksum\":207370808,\"symbol\":\"BTC/USD\",\"bids\":[{\"event\":\"delete\",\"order_id\":\"ON65Q5-MI75K-GG5CFO\",\"limit_price\":63109.0,\"order_qty\":0.02770657,\"timestamp\":\"2024-09-24T05:20:26.197980194Z\"},{\"event\":\"add\",\"order_id\":\"OUATSD-E4KJX-HMWRQH\",\"limit_price\":63107.4,\"order_qty\":0.00010000,\"timestamp\":\"2024-09-24T05:09:22.046851641Z\"},{\"event\":\"add\",\"order_id\":\"OUJ2M6-BVWNW-V5RPKQ\",\"limit_price\":63107.4,\"order_qty\":0.00010000,\"timestamp\":\"2024-09-24T05:10:45.426477179Z\"}],\"asks\":[]}]}'\n"
     ]
    },
    {
     "name": "stdout",
     "output_type": "stream",
     "text": [
      "{'channel': 'level3', 'type': 'update', 'data': [{'checksum': 207370808, 'symbol': 'BTC/USD', 'bids': [{'event': 'delete', 'order_id': 'ON65Q5-MI75K-GG5CFO', 'limit_price': 63109.0, 'order_qty': 0.02770657, 'timestamp': '2024-09-24T05:20:26.197980194Z'}, {'event': 'add', 'order_id': 'OUATSD-E4KJX-HMWRQH', 'limit_price': 63107.4, 'order_qty': 0.0001, 'timestamp': '2024-09-24T05:09:22.046851641Z'}, {'event': 'add', 'order_id': 'OUJ2M6-BVWNW-V5RPKQ', 'limit_price': 63107.4, 'order_qty': 0.0001, 'timestamp': '2024-09-24T05:10:45.426477179Z'}], 'asks': []}]}\n"
     ]
    },
    {
     "name": "stderr",
     "output_type": "stream",
     "text": [
      "++Rcv raw: b'\\x81~\\x00\\xf6{\"channel\":\"level3\",\"type\":\"update\",\"data\":[{\"checksum\":1878126926,\"symbol\":\"BTC/USD\",\"bids\":[],\"asks\":[{\"event\":\"add\",\"order_id\":\"OCHAOH-OLWXK-CMCAAP\",\"limit_price\":63125.9,\"order_qty\":0.06206332,\"timestamp\":\"2024-09-24T05:20:26.655758452Z\"}]}]}'\n",
      "++Rcv decoded: fin=1 opcode=1 data=b'{\"channel\":\"level3\",\"type\":\"update\",\"data\":[{\"checksum\":1878126926,\"symbol\":\"BTC/USD\",\"bids\":[],\"asks\":[{\"event\":\"add\",\"order_id\":\"OCHAOH-OLWXK-CMCAAP\",\"limit_price\":63125.9,\"order_qty\":0.06206332,\"timestamp\":\"2024-09-24T05:20:26.655758452Z\"}]}]}'\n",
      "++Rcv raw: b'\\x81\\x17{\"channel\":\"heartbeat\"}'\n",
      "++Rcv decoded: fin=1 opcode=1 data=b'{\"channel\":\"heartbeat\"}'\n"
     ]
    },
    {
     "name": "stdout",
     "output_type": "stream",
     "text": [
      "{'channel': 'level3', 'type': 'update', 'data': [{'checksum': 1878126926, 'symbol': 'BTC/USD', 'bids': [], 'asks': [{'event': 'add', 'order_id': 'OCHAOH-OLWXK-CMCAAP', 'limit_price': 63125.9, 'order_qty': 0.06206332, 'timestamp': '2024-09-24T05:20:26.655758452Z'}]}]}\n",
      "{'channel': 'heartbeat'}\n"
     ]
    },
    {
     "name": "stderr",
     "output_type": "stream",
     "text": [
      "++Rcv raw: b'\\x81~\\x00\\xf6{\"channel\":\"level3\",\"type\":\"update\",\"data\":[{\"checksum\":2752555544,\"symbol\":\"BTC/USD\",\"bids\":[],\"asks\":[{\"event\":\"add\",\"order_id\":\"OJBAWL-RK7S3-4VA6K4\",\"limit_price\":63125.9,\"order_qty\":1.00000000,\"timestamp\":\"2024-09-24T05:20:27.311560979Z\"}]}]}'\n",
      "++Rcv decoded: fin=1 opcode=1 data=b'{\"channel\":\"level3\",\"type\":\"update\",\"data\":[{\"checksum\":2752555544,\"symbol\":\"BTC/USD\",\"bids\":[],\"asks\":[{\"event\":\"add\",\"order_id\":\"OJBAWL-RK7S3-4VA6K4\",\"limit_price\":63125.9,\"order_qty\":1.00000000,\"timestamp\":\"2024-09-24T05:20:27.311560979Z\"}]}]}'\n"
     ]
    },
    {
     "name": "stdout",
     "output_type": "stream",
     "text": [
      "{'channel': 'level3', 'type': 'update', 'data': [{'checksum': 2752555544, 'symbol': 'BTC/USD', 'bids': [], 'asks': [{'event': 'add', 'order_id': 'OJBAWL-RK7S3-4VA6K4', 'limit_price': 63125.9, 'order_qty': 1.0, 'timestamp': '2024-09-24T05:20:27.311560979Z'}]}]}\n"
     ]
    },
    {
     "name": "stderr",
     "output_type": "stream",
     "text": [
      "++Rcv raw: b'\\x81\\x17{\"channel\":\"heartbeat\"}'\n",
      "++Rcv decoded: fin=1 opcode=1 data=b'{\"channel\":\"heartbeat\"}'\n"
     ]
    },
    {
     "name": "stdout",
     "output_type": "stream",
     "text": [
      "{'channel': 'heartbeat'}\n"
     ]
    },
    {
     "name": "stderr",
     "output_type": "stream",
     "text": [
      "++Rcv raw: b'\\x81~\\x00\\xf6{\"channel\":\"level3\",\"type\":\"update\",\"data\":[{\"checksum\":1757847865,\"symbol\":\"BTC/USD\",\"bids\":[],\"asks\":[{\"event\":\"add\",\"order_id\":\"OXGNPZ-EMCEK-ULS2GU\",\"limit_price\":63127.8,\"order_qty\":0.30963304,\"timestamp\":\"2024-09-24T05:20:28.385265664Z\"}]}]}'\n",
      "++Rcv decoded: fin=1 opcode=1 data=b'{\"channel\":\"level3\",\"type\":\"update\",\"data\":[{\"checksum\":1757847865,\"symbol\":\"BTC/USD\",\"bids\":[],\"asks\":[{\"event\":\"add\",\"order_id\":\"OXGNPZ-EMCEK-ULS2GU\",\"limit_price\":63127.8,\"order_qty\":0.30963304,\"timestamp\":\"2024-09-24T05:20:28.385265664Z\"}]}]}'\n"
     ]
    },
    {
     "name": "stdout",
     "output_type": "stream",
     "text": [
      "{'channel': 'level3', 'type': 'update', 'data': [{'checksum': 1757847865, 'symbol': 'BTC/USD', 'bids': [], 'asks': [{'event': 'add', 'order_id': 'OXGNPZ-EMCEK-ULS2GU', 'limit_price': 63127.8, 'order_qty': 0.30963304, 'timestamp': '2024-09-24T05:20:28.385265664Z'}]}]}\n"
     ]
    },
    {
     "name": "stderr",
     "output_type": "stream",
     "text": [
      "++Rcv raw: b'\\x81\\x17{\"channel\":\"heartbeat\"}'\n",
      "++Rcv decoded: fin=1 opcode=1 data=b'{\"channel\":\"heartbeat\"}'\n"
     ]
    },
    {
     "name": "stdout",
     "output_type": "stream",
     "text": [
      "{'channel': 'heartbeat'}\n"
     ]
    },
    {
     "name": "stderr",
     "output_type": "stream",
     "text": [
      "++Rcv raw: b'\\x81~\\x00\\xf6{\"channel\":\"level3\",\"type\":\"update\",\"data\":[{\"checksum\":3346717379,\"symbol\":\"BTC/USD\",\"bids\":[{\"event\":\"add\",\"order_id\":\"OEHDUM-KNL3G-UQEQV4\",\"limit_price\":63120.8,\"order_qty\":0.00010000,\"timestamp\":\"2024-09-24T05:20:28.967895737Z\"}],\"asks\":[]}]}'\n",
      "++Rcv decoded: fin=1 opcode=1 data=b'{\"channel\":\"level3\",\"type\":\"update\",\"data\":[{\"checksum\":3346717379,\"symbol\":\"BTC/USD\",\"bids\":[{\"event\":\"add\",\"order_id\":\"OEHDUM-KNL3G-UQEQV4\",\"limit_price\":63120.8,\"order_qty\":0.00010000,\"timestamp\":\"2024-09-24T05:20:28.967895737Z\"}],\"asks\":[]}]}'\n",
      "++Rcv raw: b'\\x81~\\x00\\xf6{\"channel\":\"level3\",\"type\":\"update\",\"data\":[{\"checksum\":3111027804,\"symbol\":\"BTC/USD\",\"bids\":[],\"asks\":[{\"event\":\"add\",\"order_id\":\"O65JDA-JSOZZ-OYYTQG\",\"limit_price\":63125.9,\"order_qty\":0.31680000,\"timestamp\":\"2024-09-24T05:20:29.054573918Z\"}]}]}'\n",
      "++Rcv decoded: fin=1 opcode=1 data=b'{\"channel\":\"level3\",\"type\":\"update\",\"data\":[{\"checksum\":3111027804,\"symbol\":\"BTC/USD\",\"bids\":[],\"asks\":[{\"event\":\"add\",\"order_id\":\"O65JDA-JSOZZ-OYYTQG\",\"limit_price\":63125.9,\"order_qty\":0.31680000,\"timestamp\":\"2024-09-24T05:20:29.054573918Z\"}]}]}'\n",
      "++Rcv raw: b'\\x81~\\x00\\xf8{\"channel\":\"level3\",\"type\":\"update\",\"data\":[{\"checksum\":706246315,\"symbol\":\"BTC/USD\",\"bids\":[],\"asks\":[{\"event\":\"delete\",\"order_id\":\"OLO57O-VBEHM-S55K72\",\"limit_price\":63130.7,\"order_qty\":0.23760000,\"timestamp\":\"2024-09-24T05:20:29.057359968Z\"}]}]}'\n",
      "++Rcv decoded: fin=1 opcode=1 data=b'{\"channel\":\"level3\",\"type\":\"update\",\"data\":[{\"checksum\":706246315,\"symbol\":\"BTC/USD\",\"bids\":[],\"asks\":[{\"event\":\"delete\",\"order_id\":\"OLO57O-VBEHM-S55K72\",\"limit_price\":63130.7,\"order_qty\":0.23760000,\"timestamp\":\"2024-09-24T05:20:29.057359968Z\"}]}]}'\n",
      "++Rcv raw: b'\\x81~\\x00\\xf6{\"channel\":\"level3\",\"type\":\"update\",\"data\":[{\"checksum\":1677375516,\"symbol\":\"BTC/USD\",\"bids\":[],\"asks\":[{\"event\":\"add\",\"order_id\":\"OP3IQ3-JBFPG-AHJDMH\",\"limit_price\":63125.9,\"order_qty\":0.23760000,\"timestamp\":\"2024-09-24T05:20:29.057359972Z\"}]}]}'\n",
      "++Rcv decoded: fin=1 opcode=1 data=b'{\"channel\":\"level3\",\"type\":\"update\",\"data\":[{\"checksum\":1677375516,\"symbol\":\"BTC/USD\",\"bids\":[],\"asks\":[{\"event\":\"add\",\"order_id\":\"OP3IQ3-JBFPG-AHJDMH\",\"limit_price\":63125.9,\"order_qty\":0.23760000,\"timestamp\":\"2024-09-24T05:20:29.057359972Z\"}]}]}'\n",
      "++Rcv raw: b'\\x81~\\x00\\xf6{\"channel\":\"level3\",\"type\":\"update\",\"data\":[{\"checksum\":3823582219,\"symbol\":\"BTC/USD\",\"bids\":[],\"asks\":[{\"event\":\"add\",\"order_id\":\"OQQTHF-J2GH4-B4W5Q5\",\"limit_price\":63125.9,\"order_qty\":7.92067915,\"timestamp\":\"2024-09-24T05:20:29.065064399Z\"}]}]}'\n",
      "++Rcv decoded: fin=1 opcode=1 data=b'{\"channel\":\"level3\",\"type\":\"update\",\"data\":[{\"checksum\":3823582219,\"symbol\":\"BTC/USD\",\"bids\":[],\"asks\":[{\"event\":\"add\",\"order_id\":\"OQQTHF-J2GH4-B4W5Q5\",\"limit_price\":63125.9,\"order_qty\":7.92067915,\"timestamp\":\"2024-09-24T05:20:29.065064399Z\"}]}]}'\n",
      "++Rcv raw: b'\\x81~\\x01\\x84{\"channel\":\"level3\",\"type\":\"update\",\"data\":[{\"checksum\":1291775208,\"symbol\":\"BTC/USD\",\"bids\":[],\"asks\":[{\"event\":\"delete\",\"order_id\":\"OAWBSV-AICYO-4SOEFB\",\"limit_price\":63126.2,\"order_qty\":0.08178762,\"timestamp\":\"2024-09-24T05:20:29.090284264Z\"},{\"event\":\"add\",\"order_id\":\"OKWBJO-57ZCN-ESFN5W\",\"limit_price\":63134.0,\"order_qty\":0.00015865,\"timestamp\":\"2024-09-24T05:00:50.764166862Z\"}]}]}'\n",
      "++Rcv decoded: fin=1 opcode=1 data=b'{\"channel\":\"level3\",\"type\":\"update\",\"data\":[{\"checksum\":1291775208,\"symbol\":\"BTC/USD\",\"bids\":[],\"asks\":[{\"event\":\"delete\",\"order_id\":\"OAWBSV-AICYO-4SOEFB\",\"limit_price\":63126.2,\"order_qty\":0.08178762,\"timestamp\":\"2024-09-24T05:20:29.090284264Z\"},{\"event\":\"add\",\"order_id\":\"OKWBJO-57ZCN-ESFN5W\",\"limit_price\":63134.0,\"order_qty\":0.00015865,\"timestamp\":\"2024-09-24T05:00:50.764166862Z\"}]}]}'\n"
     ]
    },
    {
     "name": "stdout",
     "output_type": "stream",
     "text": [
      "{'channel': 'level3', 'type': 'update', 'data': [{'checksum': 3346717379, 'symbol': 'BTC/USD', 'bids': [{'event': 'add', 'order_id': 'OEHDUM-KNL3G-UQEQV4', 'limit_price': 63120.8, 'order_qty': 0.0001, 'timestamp': '2024-09-24T05:20:28.967895737Z'}], 'asks': []}]}\n",
      "{'channel': 'level3', 'type': 'update', 'data': [{'checksum': 3111027804, 'symbol': 'BTC/USD', 'bids': [], 'asks': [{'event': 'add', 'order_id': 'O65JDA-JSOZZ-OYYTQG', 'limit_price': 63125.9, 'order_qty': 0.3168, 'timestamp': '2024-09-24T05:20:29.054573918Z'}]}]}\n",
      "{'channel': 'level3', 'type': 'update', 'data': [{'checksum': 706246315, 'symbol': 'BTC/USD', 'bids': [], 'asks': [{'event': 'delete', 'order_id': 'OLO57O-VBEHM-S55K72', 'limit_price': 63130.7, 'order_qty': 0.2376, 'timestamp': '2024-09-24T05:20:29.057359968Z'}]}]}\n",
      "{'channel': 'level3', 'type': 'update', 'data': [{'checksum': 1677375516, 'symbol': 'BTC/USD', 'bids': [], 'asks': [{'event': 'add', 'order_id': 'OP3IQ3-JBFPG-AHJDMH', 'limit_price': 63125.9, 'order_qty': 0.2376, 'timestamp': '2024-09-24T05:20:29.057359972Z'}]}]}\n",
      "{'channel': 'level3', 'type': 'update', 'data': [{'checksum': 3823582219, 'symbol': 'BTC/USD', 'bids': [], 'asks': [{'event': 'add', 'order_id': 'OQQTHF-J2GH4-B4W5Q5', 'limit_price': 63125.9, 'order_qty': 7.92067915, 'timestamp': '2024-09-24T05:20:29.065064399Z'}]}]}\n",
      "{'channel': 'level3', 'type': 'update', 'data': [{'checksum': 1291775208, 'symbol': 'BTC/USD', 'bids': [], 'asks': [{'event': 'delete', 'order_id': 'OAWBSV-AICYO-4SOEFB', 'limit_price': 63126.2, 'order_qty': 0.08178762, 'timestamp': '2024-09-24T05:20:29.090284264Z'}, {'event': 'add', 'order_id': 'OKWBJO-57ZCN-ESFN5W', 'limit_price': 63134.0, 'order_qty': 0.00015865, 'timestamp': '2024-09-24T05:00:50.764166862Z'}]}]}\n"
     ]
    },
    {
     "name": "stderr",
     "output_type": "stream",
     "text": [
      "++Rcv raw: b'\\x81~\\x01\\x83{\"channel\":\"level3\",\"type\":\"update\",\"data\":[{\"checksum\":381812281,\"symbol\":\"BTC/USD\",\"bids\":[{\"event\":\"delete\",\"order_id\":\"OAROCG-ZUP4C-TOKCIH\",\"limit_price\":63115.1,\"order_qty\":0.00010000,\"timestamp\":\"2024-09-24T05:20:29.207594545Z\"},{\"event\":\"add\",\"order_id\":\"O3JEC3-JRANP-CYOVSS\",\"limit_price\":63106.1,\"order_qty\":0.00010000,\"timestamp\":\"2024-09-24T05:06:35.563496731Z\"}],\"asks\":[]}]}'\n",
      "++Rcv decoded: fin=1 opcode=1 data=b'{\"channel\":\"level3\",\"type\":\"update\",\"data\":[{\"checksum\":381812281,\"symbol\":\"BTC/USD\",\"bids\":[{\"event\":\"delete\",\"order_id\":\"OAROCG-ZUP4C-TOKCIH\",\"limit_price\":63115.1,\"order_qty\":0.00010000,\"timestamp\":\"2024-09-24T05:20:29.207594545Z\"},{\"event\":\"add\",\"order_id\":\"O3JEC3-JRANP-CYOVSS\",\"limit_price\":63106.1,\"order_qty\":0.00010000,\"timestamp\":\"2024-09-24T05:06:35.563496731Z\"}],\"asks\":[]}]}'\n",
      "++Rcv raw: b'\\x81~\\x00\\xf6{\"channel\":\"level3\",\"type\":\"update\",\"data\":[{\"checksum\":1148189258,\"symbol\":\"BTC/USD\",\"bids\":[{\"event\":\"add\",\"order_id\":\"OGIOAR-OJRMI-ZORYKP\",\"limit_price\":63108.9,\"order_qty\":0.00010000,\"timestamp\":\"2024-09-24T05:20:29.207594549Z\"}],\"asks\":[]}]}'\n",
      "++Rcv decoded: fin=1 opcode=1 data=b'{\"channel\":\"level3\",\"type\":\"update\",\"data\":[{\"checksum\":1148189258,\"symbol\":\"BTC/USD\",\"bids\":[{\"event\":\"add\",\"order_id\":\"OGIOAR-OJRMI-ZORYKP\",\"limit_price\":63108.9,\"order_qty\":0.00010000,\"timestamp\":\"2024-09-24T05:20:29.207594549Z\"}],\"asks\":[]}]}'\n",
      "++Rcv raw: b'\\x81~\\x00\\xf5{\"channel\":\"level3\",\"type\":\"update\",\"data\":[{\"checksum\":844539820,\"symbol\":\"BTC/USD\",\"bids\":[],\"asks\":[{\"event\":\"add\",\"order_id\":\"OCSNSL-HDY7D-FLVQOR\",\"limit_price\":63125.9,\"order_qty\":0.08178762,\"timestamp\":\"2024-09-24T05:20:29.242039453Z\"}]}]}'\n",
      "++Rcv decoded: fin=1 opcode=1 data=b'{\"channel\":\"level3\",\"type\":\"update\",\"data\":[{\"checksum\":844539820,\"symbol\":\"BTC/USD\",\"bids\":[],\"asks\":[{\"event\":\"add\",\"order_id\":\"OCSNSL-HDY7D-FLVQOR\",\"limit_price\":63125.9,\"order_qty\":0.08178762,\"timestamp\":\"2024-09-24T05:20:29.242039453Z\"}]}]}'\n"
     ]
    },
    {
     "name": "stdout",
     "output_type": "stream",
     "text": [
      "{'channel': 'level3', 'type': 'update', 'data': [{'checksum': 381812281, 'symbol': 'BTC/USD', 'bids': [{'event': 'delete', 'order_id': 'OAROCG-ZUP4C-TOKCIH', 'limit_price': 63115.1, 'order_qty': 0.0001, 'timestamp': '2024-09-24T05:20:29.207594545Z'}, {'event': 'add', 'order_id': 'O3JEC3-JRANP-CYOVSS', 'limit_price': 63106.1, 'order_qty': 0.0001, 'timestamp': '2024-09-24T05:06:35.563496731Z'}], 'asks': []}]}\n",
      "{'channel': 'level3', 'type': 'update', 'data': [{'checksum': 1148189258, 'symbol': 'BTC/USD', 'bids': [{'event': 'add', 'order_id': 'OGIOAR-OJRMI-ZORYKP', 'limit_price': 63108.9, 'order_qty': 0.0001, 'timestamp': '2024-09-24T05:20:29.207594549Z'}], 'asks': []}]}\n",
      "{'channel': 'level3', 'type': 'update', 'data': [{'checksum': 844539820, 'symbol': 'BTC/USD', 'bids': [], 'asks': [{'event': 'add', 'order_id': 'OCSNSL-HDY7D-FLVQOR', 'limit_price': 63125.9, 'order_qty': 0.08178762, 'timestamp': '2024-09-24T05:20:29.242039453Z'}]}]}\n"
     ]
    },
    {
     "name": "stderr",
     "output_type": "stream",
     "text": [
      "++Rcv raw: b'\\x81\\x17{\"channel\":\"heartbeat\"}'\n",
      "++Rcv decoded: fin=1 opcode=1 data=b'{\"channel\":\"heartbeat\"}'\n"
     ]
    },
    {
     "name": "stdout",
     "output_type": "stream",
     "text": [
      "{'channel': 'heartbeat'}\n"
     ]
    },
    {
     "name": "stderr",
     "output_type": "stream",
     "text": [
      "++Rcv raw: b'\\x81\\x17{\"channel\":\"heartbeat\"}'\n",
      "++Rcv decoded: fin=1 opcode=1 data=b'{\"channel\":\"heartbeat\"}'\n"
     ]
    },
    {
     "name": "stdout",
     "output_type": "stream",
     "text": [
      "{'channel': 'heartbeat'}\n"
     ]
    },
    {
     "name": "stderr",
     "output_type": "stream",
     "text": [
      "++Rcv raw: b'\\x81\\x17{\"channel\":\"heartbeat\"}'\n",
      "++Rcv decoded: fin=1 opcode=1 data=b'{\"channel\":\"heartbeat\"}'\n"
     ]
    },
    {
     "name": "stdout",
     "output_type": "stream",
     "text": [
      "{'channel': 'heartbeat'}\n"
     ]
    },
    {
     "name": "stderr",
     "output_type": "stream",
     "text": [
      "++Rcv raw: b'\\x81~\\x01\\x84{\"channel\":\"level3\",\"type\":\"update\",\"data\":[{\"checksum\":4067666340,\"symbol\":\"BTC/USD\",\"bids\":[],\"asks\":[{\"event\":\"delete\",\"order_id\":\"OXBTVZ-ZF2JZ-VQANKQ\",\"limit_price\":63127.7,\"order_qty\":0.21436200,\"timestamp\":\"2024-09-24T05:20:32.025544252Z\"},{\"event\":\"add\",\"order_id\":\"OW6PIK-SBIJG-B2HADI\",\"limit_price\":63137.2,\"order_qty\":0.00015865,\"timestamp\":\"2024-09-24T05:00:52.305466323Z\"}]}]}'\n",
      "++Rcv decoded: fin=1 opcode=1 data=b'{\"channel\":\"level3\",\"type\":\"update\",\"data\":[{\"checksum\":4067666340,\"symbol\":\"BTC/USD\",\"bids\":[],\"asks\":[{\"event\":\"delete\",\"order_id\":\"OXBTVZ-ZF2JZ-VQANKQ\",\"limit_price\":63127.7,\"order_qty\":0.21436200,\"timestamp\":\"2024-09-24T05:20:32.025544252Z\"},{\"event\":\"add\",\"order_id\":\"OW6PIK-SBIJG-B2HADI\",\"limit_price\":63137.2,\"order_qty\":0.00015865,\"timestamp\":\"2024-09-24T05:00:52.305466323Z\"}]}]}'\n",
      "++Rcv raw: b'\\x81~\\x00\\xf6{\"channel\":\"level3\",\"type\":\"update\",\"data\":[{\"checksum\":2612008283,\"symbol\":\"BTC/USD\",\"bids\":[],\"asks\":[{\"event\":\"add\",\"order_id\":\"ONZIOX-44MR6-N5FXZ7\",\"limit_price\":63125.9,\"order_qty\":0.21432900,\"timestamp\":\"2024-09-24T05:20:32.125815012Z\"}]}]}'\n",
      "++Rcv decoded: fin=1 opcode=1 data=b'{\"channel\":\"level3\",\"type\":\"update\",\"data\":[{\"checksum\":2612008283,\"symbol\":\"BTC/USD\",\"bids\":[],\"asks\":[{\"event\":\"add\",\"order_id\":\"ONZIOX-44MR6-N5FXZ7\",\"limit_price\":63125.9,\"order_qty\":0.21432900,\"timestamp\":\"2024-09-24T05:20:32.125815012Z\"}]}]}'\n",
      "++Rcv raw: b'\\x81~\\x00\\xf5{\"channel\":\"level3\",\"type\":\"update\",\"data\":[{\"checksum\":921166277,\"symbol\":\"BTC/USD\",\"bids\":[{\"event\":\"add\",\"order_id\":\"O5CBQC-3IQA4-RTFOQT\",\"limit_price\":63108.3,\"order_qty\":0.13452308,\"timestamp\":\"2024-09-24T05:20:32.131012359Z\"}],\"asks\":[]}]}'\n",
      "++Rcv decoded: fin=1 opcode=1 data=b'{\"channel\":\"level3\",\"type\":\"update\",\"data\":[{\"checksum\":921166277,\"symbol\":\"BTC/USD\",\"bids\":[{\"event\":\"add\",\"order_id\":\"O5CBQC-3IQA4-RTFOQT\",\"limit_price\":63108.3,\"order_qty\":0.13452308,\"timestamp\":\"2024-09-24T05:20:32.131012359Z\"}],\"asks\":[]}]}'\n",
      "++Rcv raw: b'\\x81~\\x00\\xf6{\"channel\":\"level3\",\"type\":\"update\",\"data\":[{\"checksum\":3943089801,\"symbol\":\"BTC/USD\",\"bids\":[{\"event\":\"add\",\"order_id\":\"OD7K23-H257I-HDBI6N\",\"limit_price\":63108.3,\"order_qty\":0.13452308,\"timestamp\":\"2024-09-24T05:20:32.134737686Z\"}],\"asks\":[]}]}'\n",
      "++Rcv decoded: fin=1 opcode=1 data=b'{\"channel\":\"level3\",\"type\":\"update\",\"data\":[{\"checksum\":3943089801,\"symbol\":\"BTC/USD\",\"bids\":[{\"event\":\"add\",\"order_id\":\"OD7K23-H257I-HDBI6N\",\"limit_price\":63108.3,\"order_qty\":0.13452308,\"timestamp\":\"2024-09-24T05:20:32.134737686Z\"}],\"asks\":[]}]}'\n",
      "++Rcv raw: b'\\x81~\\x00\\xf8{\"channel\":\"level3\",\"type\":\"update\",\"data\":[{\"checksum\":921166277,\"symbol\":\"BTC/USD\",\"bids\":[{\"event\":\"delete\",\"order_id\":\"OD7K23-H257I-HDBI6N\",\"limit_price\":63108.3,\"order_qty\":0.13452308,\"timestamp\":\"2024-09-24T05:20:32.140154052Z\"}],\"asks\":[]}]}'\n",
      "++Rcv decoded: fin=1 opcode=1 data=b'{\"channel\":\"level3\",\"type\":\"update\",\"data\":[{\"checksum\":921166277,\"symbol\":\"BTC/USD\",\"bids\":[{\"event\":\"delete\",\"order_id\":\"OD7K23-H257I-HDBI6N\",\"limit_price\":63108.3,\"order_qty\":0.13452308,\"timestamp\":\"2024-09-24T05:20:32.140154052Z\"}],\"asks\":[]}]}'\n",
      "++Rcv raw: b'\\x81~\\x01\\x84{\"channel\":\"level3\",\"type\":\"update\",\"data\":[{\"checksum\":1923960583,\"symbol\":\"BTC/USD\",\"bids\":[],\"asks\":[{\"event\":\"delete\",\"order_id\":\"O5PC7P-AAZ64-4DV37C\",\"limit_price\":63127.3,\"order_qty\":0.13452308,\"timestamp\":\"2024-09-24T05:20:32.143000733Z\"},{\"event\":\"add\",\"order_id\":\"OM3LDM-OH3QN-E65J6L\",\"limit_price\":63137.5,\"order_qty\":0.00501696,\"timestamp\":\"2024-09-24T05:20:03.181730273Z\"}]}]}'\n",
      "++Rcv decoded: fin=1 opcode=1 data=b'{\"channel\":\"level3\",\"type\":\"update\",\"data\":[{\"checksum\":1923960583,\"symbol\":\"BTC/USD\",\"bids\":[],\"asks\":[{\"event\":\"delete\",\"order_id\":\"O5PC7P-AAZ64-4DV37C\",\"limit_price\":63127.3,\"order_qty\":0.13452308,\"timestamp\":\"2024-09-24T05:20:32.143000733Z\"},{\"event\":\"add\",\"order_id\":\"OM3LDM-OH3QN-E65J6L\",\"limit_price\":63137.5,\"order_qty\":0.00501696,\"timestamp\":\"2024-09-24T05:20:03.181730273Z\"}]}]}'\n",
      "++Rcv raw: b'\\x81~\\x00\\xf9{\"channel\":\"level3\",\"type\":\"update\",\"data\":[{\"checksum\":1606837046,\"symbol\":\"BTC/USD\",\"bids\":[],\"asks\":[{\"event\":\"delete\",\"order_id\":\"ONZIOX-44MR6-N5FXZ7\",\"limit_price\":63125.9,\"order_qty\":0.21432900,\"timestamp\":\"2024-09-24T05:20:32.158346301Z\"}]}]}'\n",
      "++Rcv decoded: fin=1 opcode=1 data=b'{\"channel\":\"level3\",\"type\":\"update\",\"data\":[{\"checksum\":1606837046,\"symbol\":\"BTC/USD\",\"bids\":[],\"asks\":[{\"event\":\"delete\",\"order_id\":\"ONZIOX-44MR6-N5FXZ7\",\"limit_price\":63125.9,\"order_qty\":0.21432900,\"timestamp\":\"2024-09-24T05:20:32.158346301Z\"}]}]}'\n",
      "++Rcv raw: b'\\x81~\\x00\\xf9{\"channel\":\"level3\",\"type\":\"update\",\"data\":[{\"checksum\":1253696297,\"symbol\":\"BTC/USD\",\"bids\":[],\"asks\":[{\"event\":\"delete\",\"order_id\":\"OQQTHF-J2GH4-B4W5Q5\",\"limit_price\":63125.9,\"order_qty\":7.92067915,\"timestamp\":\"2024-09-24T05:20:32.164231690Z\"}]}]}'\n",
      "++Rcv decoded: fin=1 opcode=1 data=b'{\"channel\":\"level3\",\"type\":\"update\",\"data\":[{\"checksum\":1253696297,\"symbol\":\"BTC/USD\",\"bids\":[],\"asks\":[{\"event\":\"delete\",\"order_id\":\"OQQTHF-J2GH4-B4W5Q5\",\"limit_price\":63125.9,\"order_qty\":7.92067915,\"timestamp\":\"2024-09-24T05:20:32.164231690Z\"}]}]}'\n",
      "++Rcv raw: b'\\x81~\\x00\\xf5{\"channel\":\"level3\",\"type\":\"update\",\"data\":[{\"checksum\":680709479,\"symbol\":\"BTC/USD\",\"bids\":[],\"asks\":[{\"event\":\"add\",\"order_id\":\"OHBVQA-WUYXB-5O7Z3R\",\"limit_price\":63125.9,\"order_qty\":7.92067915,\"timestamp\":\"2024-09-24T05:20:32.213985675Z\"}]}]}'\n",
      "++Rcv decoded: fin=1 opcode=1 data=b'{\"channel\":\"level3\",\"type\":\"update\",\"data\":[{\"checksum\":680709479,\"symbol\":\"BTC/USD\",\"bids\":[],\"asks\":[{\"event\":\"add\",\"order_id\":\"OHBVQA-WUYXB-5O7Z3R\",\"limit_price\":63125.9,\"order_qty\":7.92067915,\"timestamp\":\"2024-09-24T05:20:32.213985675Z\"}]}]}'\n"
     ]
    },
    {
     "name": "stdout",
     "output_type": "stream",
     "text": [
      "{'channel': 'level3', 'type': 'update', 'data': [{'checksum': 4067666340, 'symbol': 'BTC/USD', 'bids': [], 'asks': [{'event': 'delete', 'order_id': 'OXBTVZ-ZF2JZ-VQANKQ', 'limit_price': 63127.7, 'order_qty': 0.214362, 'timestamp': '2024-09-24T05:20:32.025544252Z'}, {'event': 'add', 'order_id': 'OW6PIK-SBIJG-B2HADI', 'limit_price': 63137.2, 'order_qty': 0.00015865, 'timestamp': '2024-09-24T05:00:52.305466323Z'}]}]}\n",
      "{'channel': 'level3', 'type': 'update', 'data': [{'checksum': 2612008283, 'symbol': 'BTC/USD', 'bids': [], 'asks': [{'event': 'add', 'order_id': 'ONZIOX-44MR6-N5FXZ7', 'limit_price': 63125.9, 'order_qty': 0.214329, 'timestamp': '2024-09-24T05:20:32.125815012Z'}]}]}\n",
      "{'channel': 'level3', 'type': 'update', 'data': [{'checksum': 921166277, 'symbol': 'BTC/USD', 'bids': [{'event': 'add', 'order_id': 'O5CBQC-3IQA4-RTFOQT', 'limit_price': 63108.3, 'order_qty': 0.13452308, 'timestamp': '2024-09-24T05:20:32.131012359Z'}], 'asks': []}]}\n",
      "{'channel': 'level3', 'type': 'update', 'data': [{'checksum': 3943089801, 'symbol': 'BTC/USD', 'bids': [{'event': 'add', 'order_id': 'OD7K23-H257I-HDBI6N', 'limit_price': 63108.3, 'order_qty': 0.13452308, 'timestamp': '2024-09-24T05:20:32.134737686Z'}], 'asks': []}]}\n",
      "{'channel': 'level3', 'type': 'update', 'data': [{'checksum': 921166277, 'symbol': 'BTC/USD', 'bids': [{'event': 'delete', 'order_id': 'OD7K23-H257I-HDBI6N', 'limit_price': 63108.3, 'order_qty': 0.13452308, 'timestamp': '2024-09-24T05:20:32.140154052Z'}], 'asks': []}]}\n",
      "{'channel': 'level3', 'type': 'update', 'data': [{'checksum': 1923960583, 'symbol': 'BTC/USD', 'bids': [], 'asks': [{'event': 'delete', 'order_id': 'O5PC7P-AAZ64-4DV37C', 'limit_price': 63127.3, 'order_qty': 0.13452308, 'timestamp': '2024-09-24T05:20:32.143000733Z'}, {'event': 'add', 'order_id': 'OM3LDM-OH3QN-E65J6L', 'limit_price': 63137.5, 'order_qty': 0.00501696, 'timestamp': '2024-09-24T05:20:03.181730273Z'}]}]}\n",
      "{'channel': 'level3', 'type': 'update', 'data': [{'checksum': 1606837046, 'symbol': 'BTC/USD', 'bids': [], 'asks': [{'event': 'delete', 'order_id': 'ONZIOX-44MR6-N5FXZ7', 'limit_price': 63125.9, 'order_qty': 0.214329, 'timestamp': '2024-09-24T05:20:32.158346301Z'}]}]}\n",
      "{'channel': 'level3', 'type': 'update', 'data': [{'checksum': 1253696297, 'symbol': 'BTC/USD', 'bids': [], 'asks': [{'event': 'delete', 'order_id': 'OQQTHF-J2GH4-B4W5Q5', 'limit_price': 63125.9, 'order_qty': 7.92067915, 'timestamp': '2024-09-24T05:20:32.164231690Z'}]}]}\n",
      "{'channel': 'level3', 'type': 'update', 'data': [{'checksum': 680709479, 'symbol': 'BTC/USD', 'bids': [], 'asks': [{'event': 'add', 'order_id': 'OHBVQA-WUYXB-5O7Z3R', 'limit_price': 63125.9, 'order_qty': 7.92067915, 'timestamp': '2024-09-24T05:20:32.213985675Z'}]}]}\n"
     ]
    },
    {
     "name": "stderr",
     "output_type": "stream",
     "text": [
      "++Rcv raw: b'\\x81~\\x00\\xf9{\"channel\":\"level3\",\"type\":\"update\",\"data\":[{\"checksum\":1253696297,\"symbol\":\"BTC/USD\",\"bids\":[],\"asks\":[{\"event\":\"delete\",\"order_id\":\"OHBVQA-WUYXB-5O7Z3R\",\"limit_price\":63125.9,\"order_qty\":7.92067915,\"timestamp\":\"2024-09-24T05:20:32.237579586Z\"}]}]}'\n",
      "++Rcv decoded: fin=1 opcode=1 data=b'{\"channel\":\"level3\",\"type\":\"update\",\"data\":[{\"checksum\":1253696297,\"symbol\":\"BTC/USD\",\"bids\":[],\"asks\":[{\"event\":\"delete\",\"order_id\":\"OHBVQA-WUYXB-5O7Z3R\",\"limit_price\":63125.9,\"order_qty\":7.92067915,\"timestamp\":\"2024-09-24T05:20:32.237579586Z\"}]}]}'\n",
      "++Rcv raw: b'\\x81~\\x00\\xf6{\"channel\":\"level3\",\"type\":\"update\",\"data\":[{\"checksum\":3529699267,\"symbol\":\"BTC/USD\",\"bids\":[],\"asks\":[{\"event\":\"add\",\"order_id\":\"OUTZDV-7GLVX-UAOBCA\",\"limit_price\":63125.9,\"order_qty\":0.13452308,\"timestamp\":\"2024-09-24T05:20:32.257439501Z\"}]}]}'\n",
      "++Rcv decoded: fin=1 opcode=1 data=b'{\"channel\":\"level3\",\"type\":\"update\",\"data\":[{\"checksum\":3529699267,\"symbol\":\"BTC/USD\",\"bids\":[],\"asks\":[{\"event\":\"add\",\"order_id\":\"OUTZDV-7GLVX-UAOBCA\",\"limit_price\":63125.9,\"order_qty\":0.13452308,\"timestamp\":\"2024-09-24T05:20:32.257439501Z\"}]}]}'\n",
      "++Rcv raw: b'\\x81~\\x00\\xf6{\"channel\":\"level3\",\"type\":\"update\",\"data\":[{\"checksum\":1648826078,\"symbol\":\"BTC/USD\",\"bids\":[],\"asks\":[{\"event\":\"add\",\"order_id\":\"OSFYMX-MMQUP-QHSE57\",\"limit_price\":63125.9,\"order_qty\":0.21432900,\"timestamp\":\"2024-09-24T05:20:32.333447667Z\"}]}]}'\n",
      "++Rcv decoded: fin=1 opcode=1 data=b'{\"channel\":\"level3\",\"type\":\"update\",\"data\":[{\"checksum\":1648826078,\"symbol\":\"BTC/USD\",\"bids\":[],\"asks\":[{\"event\":\"add\",\"order_id\":\"OSFYMX-MMQUP-QHSE57\",\"limit_price\":63125.9,\"order_qty\":0.21432900,\"timestamp\":\"2024-09-24T05:20:32.333447667Z\"}]}]}'\n"
     ]
    },
    {
     "name": "stdout",
     "output_type": "stream",
     "text": [
      "{'channel': 'level3', 'type': 'update', 'data': [{'checksum': 1253696297, 'symbol': 'BTC/USD', 'bids': [], 'asks': [{'event': 'delete', 'order_id': 'OHBVQA-WUYXB-5O7Z3R', 'limit_price': 63125.9, 'order_qty': 7.92067915, 'timestamp': '2024-09-24T05:20:32.237579586Z'}]}]}\n",
      "{'channel': 'level3', 'type': 'update', 'data': [{'checksum': 3529699267, 'symbol': 'BTC/USD', 'bids': [], 'asks': [{'event': 'add', 'order_id': 'OUTZDV-7GLVX-UAOBCA', 'limit_price': 63125.9, 'order_qty': 0.13452308, 'timestamp': '2024-09-24T05:20:32.257439501Z'}]}]}\n",
      "{'channel': 'level3', 'type': 'update', 'data': [{'checksum': 1648826078, 'symbol': 'BTC/USD', 'bids': [], 'asks': [{'event': 'add', 'order_id': 'OSFYMX-MMQUP-QHSE57', 'limit_price': 63125.9, 'order_qty': 0.214329, 'timestamp': '2024-09-24T05:20:32.333447667Z'}]}]}\n"
     ]
    },
    {
     "name": "stderr",
     "output_type": "stream",
     "text": [
      "++Rcv raw: b'\\x81\\x17{\"channel\":\"heartbeat\"}'\n",
      "++Rcv decoded: fin=1 opcode=1 data=b'{\"channel\":\"heartbeat\"}'\n",
      "++Rcv raw: b'\\x81~\\x00\\xf9{\"channel\":\"level3\",\"type\":\"update\",\"data\":[{\"checksum\":3529699267,\"symbol\":\"BTC/USD\",\"bids\":[],\"asks\":[{\"event\":\"delete\",\"order_id\":\"OSFYMX-MMQUP-QHSE57\",\"limit_price\":63125.9,\"order_qty\":0.21432900,\"timestamp\":\"2024-09-24T05:20:32.716334963Z\"}]}]}'\n",
      "++Rcv decoded: fin=1 opcode=1 data=b'{\"channel\":\"level3\",\"type\":\"update\",\"data\":[{\"checksum\":3529699267,\"symbol\":\"BTC/USD\",\"bids\":[],\"asks\":[{\"event\":\"delete\",\"order_id\":\"OSFYMX-MMQUP-QHSE57\",\"limit_price\":63125.9,\"order_qty\":0.21432900,\"timestamp\":\"2024-09-24T05:20:32.716334963Z\"}]}]}'\n",
      "++Rcv raw: b'\\x81~\\x02\\x0e{\"channel\":\"level3\",\"type\":\"update\",\"data\":[{\"checksum\":938299265,\"symbol\":\"BTC/USD\",\"bids\":[{\"event\":\"delete\",\"order_id\":\"O5CBQC-3IQA4-RTFOQT\",\"limit_price\":63108.3,\"order_qty\":0.13452308,\"timestamp\":\"2024-09-24T05:20:32.808717742Z\"},{\"event\":\"add\",\"order_id\":\"O3JEC3-JRANP-CYOVSS\",\"limit_price\":63106.1,\"order_qty\":0.00010000,\"timestamp\":\"2024-09-24T05:06:35.563496731Z\"},{\"event\":\"add\",\"order_id\":\"OJVWXT-ZJAVY-53MJJK\",\"limit_price\":63106.1,\"order_qty\":3.96158042,\"timestamp\":\"2024-09-24T05:20:32.725303683Z\"}],\"asks\":[]}]}'\n",
      "++Rcv decoded: fin=1 opcode=1 data=b'{\"channel\":\"level3\",\"type\":\"update\",\"data\":[{\"checksum\":938299265,\"symbol\":\"BTC/USD\",\"bids\":[{\"event\":\"delete\",\"order_id\":\"O5CBQC-3IQA4-RTFOQT\",\"limit_price\":63108.3,\"order_qty\":0.13452308,\"timestamp\":\"2024-09-24T05:20:32.808717742Z\"},{\"event\":\"add\",\"order_id\":\"O3JEC3-JRANP-CYOVSS\",\"limit_price\":63106.1,\"order_qty\":0.00010000,\"timestamp\":\"2024-09-24T05:06:35.563496731Z\"},{\"event\":\"add\",\"order_id\":\"OJVWXT-ZJAVY-53MJJK\",\"limit_price\":63106.1,\"order_qty\":3.96158042,\"timestamp\":\"2024-09-24T05:20:32.725303683Z\"}],\"asks\":[]}]}'\n",
      "++Rcv raw: b'\\x81~\\x00\\xf6{\"channel\":\"level3\",\"type\":\"update\",\"data\":[{\"checksum\":1475019505,\"symbol\":\"BTC/USD\",\"bids\":[{\"event\":\"add\",\"order_id\":\"OBUEYL-B4G5J-KBMYJI\",\"limit_price\":63111.1,\"order_qty\":0.13452308,\"timestamp\":\"2024-09-24T05:20:32.808717746Z\"}],\"asks\":[]}]}'\n",
      "++Rcv decoded: fin=1 opcode=1 data=b'{\"channel\":\"level3\",\"type\":\"update\",\"data\":[{\"checksum\":1475019505,\"symbol\":\"BTC/USD\",\"bids\":[{\"event\":\"add\",\"order_id\":\"OBUEYL-B4G5J-KBMYJI\",\"limit_price\":63111.1,\"order_qty\":0.13452308,\"timestamp\":\"2024-09-24T05:20:32.808717746Z\"}],\"asks\":[]}]}'\n",
      "++Rcv raw: b'\\x81~\\x00\\xf6{\"channel\":\"level3\",\"type\":\"update\",\"data\":[{\"checksum\":1542879210,\"symbol\":\"BTC/USD\",\"bids\":[{\"event\":\"add\",\"order_id\":\"OHY7PU-FFO6C-43WSGD\",\"limit_price\":63111.1,\"order_qty\":0.13452308,\"timestamp\":\"2024-09-24T05:20:32.809875011Z\"}],\"asks\":[]}]}'\n",
      "++Rcv decoded: fin=1 opcode=1 data=b'{\"channel\":\"level3\",\"type\":\"update\",\"data\":[{\"checksum\":1542879210,\"symbol\":\"BTC/USD\",\"bids\":[{\"event\":\"add\",\"order_id\":\"OHY7PU-FFO6C-43WSGD\",\"limit_price\":63111.1,\"order_qty\":0.13452308,\"timestamp\":\"2024-09-24T05:20:32.809875011Z\"}],\"asks\":[]}]}'\n",
      "++Rcv raw: b'\\x81~\\x00\\xf6{\"channel\":\"level3\",\"type\":\"update\",\"data\":[{\"checksum\":3366763213,\"symbol\":\"BTC/USD\",\"bids\":[],\"asks\":[{\"event\":\"add\",\"order_id\":\"OC7CY4-GGCWF-JTOX6B\",\"limit_price\":63125.9,\"order_qty\":0.21432900,\"timestamp\":\"2024-09-24T05:20:32.815014321Z\"}]}]}'\n",
      "++Rcv decoded: fin=1 opcode=1 data=b'{\"channel\":\"level3\",\"type\":\"update\",\"data\":[{\"checksum\":3366763213,\"symbol\":\"BTC/USD\",\"bids\":[],\"asks\":[{\"event\":\"add\",\"order_id\":\"OC7CY4-GGCWF-JTOX6B\",\"limit_price\":63125.9,\"order_qty\":0.21432900,\"timestamp\":\"2024-09-24T05:20:32.815014321Z\"}]}]}'\n",
      "++Rcv raw: b'\\x81~\\x00\\xf9{\"channel\":\"level3\",\"type\":\"update\",\"data\":[{\"checksum\":2794507970,\"symbol\":\"BTC/USD\",\"bids\":[],\"asks\":[{\"event\":\"delete\",\"order_id\":\"OUTZDV-7GLVX-UAOBCA\",\"limit_price\":63125.9,\"order_qty\":0.13452308,\"timestamp\":\"2024-09-24T05:20:32.818658321Z\"}]}]}'\n",
      "++Rcv decoded: fin=1 opcode=1 data=b'{\"channel\":\"level3\",\"type\":\"update\",\"data\":[{\"checksum\":2794507970,\"symbol\":\"BTC/USD\",\"bids\":[],\"asks\":[{\"event\":\"delete\",\"order_id\":\"OUTZDV-7GLVX-UAOBCA\",\"limit_price\":63125.9,\"order_qty\":0.13452308,\"timestamp\":\"2024-09-24T05:20:32.818658321Z\"}]}]}'\n",
      "++Rcv raw: b'\\x81~\\x00\\xf9{\"channel\":\"level3\",\"type\":\"update\",\"data\":[{\"checksum\":1378874802,\"symbol\":\"BTC/USD\",\"bids\":[],\"asks\":[{\"event\":\"delete\",\"order_id\":\"OC7CY4-GGCWF-JTOX6B\",\"limit_price\":63125.9,\"order_qty\":0.21432900,\"timestamp\":\"2024-09-24T05:20:32.829910900Z\"}]}]}'\n",
      "++Rcv decoded: fin=1 opcode=1 data=b'{\"channel\":\"level3\",\"type\":\"update\",\"data\":[{\"checksum\":1378874802,\"symbol\":\"BTC/USD\",\"bids\":[],\"asks\":[{\"event\":\"delete\",\"order_id\":\"OC7CY4-GGCWF-JTOX6B\",\"limit_price\":63125.9,\"order_qty\":0.21432900,\"timestamp\":\"2024-09-24T05:20:32.829910900Z\"}]}]}'\n",
      "++Rcv raw: b'\\x81~\\x00\\xf5{\"channel\":\"level3\",\"type\":\"update\",\"data\":[{\"checksum\":980607962,\"symbol\":\"BTC/USD\",\"bids\":[{\"event\":\"add\",\"order_id\":\"OYZX43-3Y4PJ-PN2A5B\",\"limit_price\":63107.6,\"order_qty\":3.96148297,\"timestamp\":\"2024-09-24T05:20:32.837703441Z\"}],\"asks\":[]}]}'\n",
      "++Rcv decoded: fin=1 opcode=1 data=b'{\"channel\":\"level3\",\"type\":\"update\",\"data\":[{\"checksum\":980607962,\"symbol\":\"BTC/USD\",\"bids\":[{\"event\":\"add\",\"order_id\":\"OYZX43-3Y4PJ-PN2A5B\",\"limit_price\":63107.6,\"order_qty\":3.96148297,\"timestamp\":\"2024-09-24T05:20:32.837703441Z\"}],\"asks\":[]}]}'\n",
      "++Rcv raw: b'\\x81~\\x00\\xf9{\"channel\":\"level3\",\"type\":\"update\",\"data\":[{\"checksum\":2296593463,\"symbol\":\"BTC/USD\",\"bids\":[],\"asks\":[{\"event\":\"delete\",\"order_id\":\"O65JDA-JSOZZ-OYYTQG\",\"limit_price\":63125.9,\"order_qty\":0.31680000,\"timestamp\":\"2024-09-24T05:20:32.838137294Z\"}]}]}'\n",
      "++Rcv decoded: fin=1 opcode=1 data=b'{\"channel\":\"level3\",\"type\":\"update\",\"data\":[{\"checksum\":2296593463,\"symbol\":\"BTC/USD\",\"bids\":[],\"asks\":[{\"event\":\"delete\",\"order_id\":\"O65JDA-JSOZZ-OYYTQG\",\"limit_price\":63125.9,\"order_qty\":0.31680000,\"timestamp\":\"2024-09-24T05:20:32.838137294Z\"}]}]}'\n",
      "++Rcv raw: b'\\x81~\\x00\\xf6{\"channel\":\"level3\",\"type\":\"update\",\"data\":[{\"checksum\":3472528356,\"symbol\":\"BTC/USD\",\"bids\":[],\"asks\":[{\"event\":\"add\",\"order_id\":\"ONGICB-3WA7G-22D7LY\",\"limit_price\":63128.5,\"order_qty\":0.31680000,\"timestamp\":\"2024-09-24T05:20:32.846440433Z\"}]}]}'\n",
      "++Rcv decoded: fin=1 opcode=1 data=b'{\"channel\":\"level3\",\"type\":\"update\",\"data\":[{\"checksum\":3472528356,\"symbol\":\"BTC/USD\",\"bids\":[],\"asks\":[{\"event\":\"add\",\"order_id\":\"ONGICB-3WA7G-22D7LY\",\"limit_price\":63128.5,\"order_qty\":0.31680000,\"timestamp\":\"2024-09-24T05:20:32.846440433Z\"}]}]}'\n",
      "++Rcv raw: b'\\x81~\\x00\\xf9{\"channel\":\"level3\",\"type\":\"update\",\"data\":[{\"checksum\":1821563503,\"symbol\":\"BTC/USD\",\"bids\":[{\"event\":\"delete\",\"order_id\":\"OHY7PU-FFO6C-43WSGD\",\"limit_price\":63111.1,\"order_qty\":0.13452308,\"timestamp\":\"2024-09-24T05:20:32.847292454Z\"}],\"asks\":[]}]}'\n",
      "++Rcv decoded: fin=1 opcode=1 data=b'{\"channel\":\"level3\",\"type\":\"update\",\"data\":[{\"checksum\":1821563503,\"symbol\":\"BTC/USD\",\"bids\":[{\"event\":\"delete\",\"order_id\":\"OHY7PU-FFO6C-43WSGD\",\"limit_price\":63111.1,\"order_qty\":0.13452308,\"timestamp\":\"2024-09-24T05:20:32.847292454Z\"}],\"asks\":[]}]}'\n"
     ]
    },
    {
     "name": "stdout",
     "output_type": "stream",
     "text": [
      "{'channel': 'heartbeat'}\n",
      "{'channel': 'level3', 'type': 'update', 'data': [{'checksum': 3529699267, 'symbol': 'BTC/USD', 'bids': [], 'asks': [{'event': 'delete', 'order_id': 'OSFYMX-MMQUP-QHSE57', 'limit_price': 63125.9, 'order_qty': 0.214329, 'timestamp': '2024-09-24T05:20:32.716334963Z'}]}]}\n",
      "{'channel': 'level3', 'type': 'update', 'data': [{'checksum': 938299265, 'symbol': 'BTC/USD', 'bids': [{'event': 'delete', 'order_id': 'O5CBQC-3IQA4-RTFOQT', 'limit_price': 63108.3, 'order_qty': 0.13452308, 'timestamp': '2024-09-24T05:20:32.808717742Z'}, {'event': 'add', 'order_id': 'O3JEC3-JRANP-CYOVSS', 'limit_price': 63106.1, 'order_qty': 0.0001, 'timestamp': '2024-09-24T05:06:35.563496731Z'}, {'event': 'add', 'order_id': 'OJVWXT-ZJAVY-53MJJK', 'limit_price': 63106.1, 'order_qty': 3.96158042, 'timestamp': '2024-09-24T05:20:32.725303683Z'}], 'asks': []}]}\n",
      "{'channel': 'level3', 'type': 'update', 'data': [{'checksum': 1475019505, 'symbol': 'BTC/USD', 'bids': [{'event': 'add', 'order_id': 'OBUEYL-B4G5J-KBMYJI', 'limit_price': 63111.1, 'order_qty': 0.13452308, 'timestamp': '2024-09-24T05:20:32.808717746Z'}], 'asks': []}]}\n",
      "{'channel': 'level3', 'type': 'update', 'data': [{'checksum': 1542879210, 'symbol': 'BTC/USD', 'bids': [{'event': 'add', 'order_id': 'OHY7PU-FFO6C-43WSGD', 'limit_price': 63111.1, 'order_qty': 0.13452308, 'timestamp': '2024-09-24T05:20:32.809875011Z'}], 'asks': []}]}\n",
      "{'channel': 'level3', 'type': 'update', 'data': [{'checksum': 3366763213, 'symbol': 'BTC/USD', 'bids': [], 'asks': [{'event': 'add', 'order_id': 'OC7CY4-GGCWF-JTOX6B', 'limit_price': 63125.9, 'order_qty': 0.214329, 'timestamp': '2024-09-24T05:20:32.815014321Z'}]}]}\n",
      "{'channel': 'level3', 'type': 'update', 'data': [{'checksum': 2794507970, 'symbol': 'BTC/USD', 'bids': [], 'asks': [{'event': 'delete', 'order_id': 'OUTZDV-7GLVX-UAOBCA', 'limit_price': 63125.9, 'order_qty': 0.13452308, 'timestamp': '2024-09-24T05:20:32.818658321Z'}]}]}\n",
      "{'channel': 'level3', 'type': 'update', 'data': [{'checksum': 1378874802, 'symbol': 'BTC/USD', 'bids': [], 'asks': [{'event': 'delete', 'order_id': 'OC7CY4-GGCWF-JTOX6B', 'limit_price': 63125.9, 'order_qty': 0.214329, 'timestamp': '2024-09-24T05:20:32.829910900Z'}]}]}\n",
      "{'channel': 'level3', 'type': 'update', 'data': [{'checksum': 980607962, 'symbol': 'BTC/USD', 'bids': [{'event': 'add', 'order_id': 'OYZX43-3Y4PJ-PN2A5B', 'limit_price': 63107.6, 'order_qty': 3.96148297, 'timestamp': '2024-09-24T05:20:32.837703441Z'}], 'asks': []}]}\n",
      "{'channel': 'level3', 'type': 'update', 'data': [{'checksum': 2296593463, 'symbol': 'BTC/USD', 'bids': [], 'asks': [{'event': 'delete', 'order_id': 'O65JDA-JSOZZ-OYYTQG', 'limit_price': 63125.9, 'order_qty': 0.3168, 'timestamp': '2024-09-24T05:20:32.838137294Z'}]}]}\n",
      "{'channel': 'level3', 'type': 'update', 'data': [{'checksum': 3472528356, 'symbol': 'BTC/USD', 'bids': [], 'asks': [{'event': 'add', 'order_id': 'ONGICB-3WA7G-22D7LY', 'limit_price': 63128.5, 'order_qty': 0.3168, 'timestamp': '2024-09-24T05:20:32.846440433Z'}]}]}\n",
      "{'channel': 'level3', 'type': 'update', 'data': [{'checksum': 1821563503, 'symbol': 'BTC/USD', 'bids': [{'event': 'delete', 'order_id': 'OHY7PU-FFO6C-43WSGD', 'limit_price': 63111.1, 'order_qty': 0.13452308, 'timestamp': '2024-09-24T05:20:32.847292454Z'}], 'asks': []}]}\n"
     ]
    },
    {
     "name": "stderr",
     "output_type": "stream",
     "text": [
      "++Rcv raw: b'\\x81~\\x00\\xf6{\"channel\":\"level3\",\"type\":\"update\",\"data\":[{\"checksum\":2626748431,\"symbol\":\"BTC/USD\",\"bids\":[],\"asks\":[{\"event\":\"add\",\"order_id\":\"OCB6YV-KUN3O-T3BFGA\",\"limit_price\":63125.9,\"order_qty\":0.21432900,\"timestamp\":\"2024-09-24T05:20:32.928787754Z\"}]}]}'\n",
      "++Rcv decoded: fin=1 opcode=1 data=b'{\"channel\":\"level3\",\"type\":\"update\",\"data\":[{\"checksum\":2626748431,\"symbol\":\"BTC/USD\",\"bids\":[],\"asks\":[{\"event\":\"add\",\"order_id\":\"OCB6YV-KUN3O-T3BFGA\",\"limit_price\":63125.9,\"order_qty\":0.21432900,\"timestamp\":\"2024-09-24T05:20:32.928787754Z\"}]}]}'\n",
      "++Rcv raw: b'\\x81~\\x00\\xf9{\"channel\":\"level3\",\"type\":\"update\",\"data\":[{\"checksum\":1821563503,\"symbol\":\"BTC/USD\",\"bids\":[],\"asks\":[{\"event\":\"delete\",\"order_id\":\"OCB6YV-KUN3O-T3BFGA\",\"limit_price\":63125.9,\"order_qty\":0.21432900,\"timestamp\":\"2024-09-24T05:20:32.934731591Z\"}]}]}'\n",
      "++Rcv decoded: fin=1 opcode=1 data=b'{\"channel\":\"level3\",\"type\":\"update\",\"data\":[{\"checksum\":1821563503,\"symbol\":\"BTC/USD\",\"bids\":[],\"asks\":[{\"event\":\"delete\",\"order_id\":\"OCB6YV-KUN3O-T3BFGA\",\"limit_price\":63125.9,\"order_qty\":0.21432900,\"timestamp\":\"2024-09-24T05:20:32.934731591Z\"}]}]}'\n",
      "++Rcv raw: b'\\x81~\\x00\\xf6{\"channel\":\"level3\",\"type\":\"update\",\"data\":[{\"checksum\":1128181729,\"symbol\":\"BTC/USD\",\"bids\":[{\"event\":\"add\",\"order_id\":\"OVCTRX-OGMSB-EVPFGS\",\"limit_price\":63108.8,\"order_qty\":3.96140669,\"timestamp\":\"2024-09-24T05:20:32.941737910Z\"}],\"asks\":[]}]}'\n",
      "++Rcv decoded: fin=1 opcode=1 data=b'{\"channel\":\"level3\",\"type\":\"update\",\"data\":[{\"checksum\":1128181729,\"symbol\":\"BTC/USD\",\"bids\":[{\"event\":\"add\",\"order_id\":\"OVCTRX-OGMSB-EVPFGS\",\"limit_price\":63108.8,\"order_qty\":3.96140669,\"timestamp\":\"2024-09-24T05:20:32.941737910Z\"}],\"asks\":[]}]}'\n",
      "++Rcv raw: b'\\x81~\\x00\\xf6{\"channel\":\"level3\",\"type\":\"update\",\"data\":[{\"checksum\":1442034101,\"symbol\":\"BTC/USD\",\"bids\":[],\"asks\":[{\"event\":\"add\",\"order_id\":\"OSRZKL-6K2YT-6MDDKH\",\"limit_price\":63127.6,\"order_qty\":0.13452308,\"timestamp\":\"2024-09-24T05:20:32.965609017Z\"}]}]}'\n",
      "++Rcv decoded: fin=1 opcode=1 data=b'{\"channel\":\"level3\",\"type\":\"update\",\"data\":[{\"checksum\":1442034101,\"symbol\":\"BTC/USD\",\"bids\":[],\"asks\":[{\"event\":\"add\",\"order_id\":\"OSRZKL-6K2YT-6MDDKH\",\"limit_price\":63127.6,\"order_qty\":0.13452308,\"timestamp\":\"2024-09-24T05:20:32.965609017Z\"}]}]}'\n",
      "++Rcv raw: b'\\x81~\\x00\\xf6{\"channel\":\"level3\",\"type\":\"update\",\"data\":[{\"checksum\":3520537428,\"symbol\":\"BTC/USD\",\"bids\":[{\"event\":\"add\",\"order_id\":\"O37EPF-QNNSU-VZYLM3\",\"limit_price\":63110.0,\"order_qty\":3.96133683,\"timestamp\":\"2024-09-24T05:20:33.031076050Z\"}],\"asks\":[]}]}'\n",
      "++Rcv decoded: fin=1 opcode=1 data=b'{\"channel\":\"level3\",\"type\":\"update\",\"data\":[{\"checksum\":3520537428,\"symbol\":\"BTC/USD\",\"bids\":[{\"event\":\"add\",\"order_id\":\"O37EPF-QNNSU-VZYLM3\",\"limit_price\":63110.0,\"order_qty\":3.96133683,\"timestamp\":\"2024-09-24T05:20:33.031076050Z\"}],\"asks\":[]}]}'\n",
      "++Rcv raw: b'\\x81~\\x00\\xf6{\"channel\":\"level3\",\"type\":\"update\",\"data\":[{\"checksum\":2078184619,\"symbol\":\"BTC/USD\",\"bids\":[],\"asks\":[{\"event\":\"add\",\"order_id\":\"OSZ3LV-P35JW-5CNE4R\",\"limit_price\":63125.9,\"order_qty\":0.21432900,\"timestamp\":\"2024-09-24T05:20:33.033344848Z\"}]}]}'\n",
      "++Rcv decoded: fin=1 opcode=1 data=b'{\"channel\":\"level3\",\"type\":\"update\",\"data\":[{\"checksum\":2078184619,\"symbol\":\"BTC/USD\",\"bids\":[],\"asks\":[{\"event\":\"add\",\"order_id\":\"OSZ3LV-P35JW-5CNE4R\",\"limit_price\":63125.9,\"order_qty\":0.21432900,\"timestamp\":\"2024-09-24T05:20:33.033344848Z\"}]}]}'\n",
      "++Rcv raw: b'\\x81~\\x01\\x84{\"channel\":\"level3\",\"type\":\"update\",\"data\":[{\"checksum\":4294575690,\"symbol\":\"BTC/USD\",\"bids\":[{\"event\":\"delete\",\"order_id\":\"O37EPF-QNNSU-VZYLM3\",\"limit_price\":63110.0,\"order_qty\":3.96133683,\"timestamp\":\"2024-09-24T05:20:33.065536402Z\"},{\"event\":\"add\",\"order_id\":\"OVCTRX-OGMSB-EVPFGS\",\"limit_price\":63108.8,\"order_qty\":3.96140669,\"timestamp\":\"2024-09-24T05:20:32.941737910Z\"}],\"asks\":[]}]}'\n",
      "++Rcv decoded: fin=1 opcode=1 data=b'{\"channel\":\"level3\",\"type\":\"update\",\"data\":[{\"checksum\":4294575690,\"symbol\":\"BTC/USD\",\"bids\":[{\"event\":\"delete\",\"order_id\":\"O37EPF-QNNSU-VZYLM3\",\"limit_price\":63110.0,\"order_qty\":3.96133683,\"timestamp\":\"2024-09-24T05:20:33.065536402Z\"},{\"event\":\"add\",\"order_id\":\"OVCTRX-OGMSB-EVPFGS\",\"limit_price\":63108.8,\"order_qty\":3.96140669,\"timestamp\":\"2024-09-24T05:20:32.941737910Z\"}],\"asks\":[]}]}'\n",
      "++Rcv raw: b'\\x81~\\x00\\xf9{\"channel\":\"level3\",\"type\":\"update\",\"data\":[{\"checksum\":2400959035,\"symbol\":\"BTC/USD\",\"bids\":[{\"event\":\"delete\",\"order_id\":\"OGIOAR-OJRMI-ZORYKP\",\"limit_price\":63108.9,\"order_qty\":0.00010000,\"timestamp\":\"2024-09-24T05:20:33.091547348Z\"}],\"asks\":[]}]}'\n",
      "++Rcv decoded: fin=1 opcode=1 data=b'{\"channel\":\"level3\",\"type\":\"update\",\"data\":[{\"checksum\":2400959035,\"symbol\":\"BTC/USD\",\"bids\":[{\"event\":\"delete\",\"order_id\":\"OGIOAR-OJRMI-ZORYKP\",\"limit_price\":63108.9,\"order_qty\":0.00010000,\"timestamp\":\"2024-09-24T05:20:33.091547348Z\"}],\"asks\":[]}]}'\n",
      "++Rcv raw: b'\\x81~\\x00\\xf6{\"channel\":\"level3\",\"type\":\"update\",\"data\":[{\"checksum\":1859630320,\"symbol\":\"BTC/USD\",\"bids\":[{\"event\":\"add\",\"order_id\":\"ORK62M-YNKJZ-DSYDUJ\",\"limit_price\":63114.1,\"order_qty\":0.00010000,\"timestamp\":\"2024-09-24T05:20:33.091547352Z\"}],\"asks\":[]}]}'\n",
      "++Rcv decoded: fin=1 opcode=1 data=b'{\"channel\":\"level3\",\"type\":\"update\",\"data\":[{\"checksum\":1859630320,\"symbol\":\"BTC/USD\",\"bids\":[{\"event\":\"add\",\"order_id\":\"ORK62M-YNKJZ-DSYDUJ\",\"limit_price\":63114.1,\"order_qty\":0.00010000,\"timestamp\":\"2024-09-24T05:20:33.091547352Z\"}],\"asks\":[]}]}'\n"
     ]
    },
    {
     "name": "stdout",
     "output_type": "stream",
     "text": [
      "{'channel': 'level3', 'type': 'update', 'data': [{'checksum': 2626748431, 'symbol': 'BTC/USD', 'bids': [], 'asks': [{'event': 'add', 'order_id': 'OCB6YV-KUN3O-T3BFGA', 'limit_price': 63125.9, 'order_qty': 0.214329, 'timestamp': '2024-09-24T05:20:32.928787754Z'}]}]}\n",
      "{'channel': 'level3', 'type': 'update', 'data': [{'checksum': 1821563503, 'symbol': 'BTC/USD', 'bids': [], 'asks': [{'event': 'delete', 'order_id': 'OCB6YV-KUN3O-T3BFGA', 'limit_price': 63125.9, 'order_qty': 0.214329, 'timestamp': '2024-09-24T05:20:32.934731591Z'}]}]}\n",
      "{'channel': 'level3', 'type': 'update', 'data': [{'checksum': 1128181729, 'symbol': 'BTC/USD', 'bids': [{'event': 'add', 'order_id': 'OVCTRX-OGMSB-EVPFGS', 'limit_price': 63108.8, 'order_qty': 3.96140669, 'timestamp': '2024-09-24T05:20:32.941737910Z'}], 'asks': []}]}\n",
      "{'channel': 'level3', 'type': 'update', 'data': [{'checksum': 1442034101, 'symbol': 'BTC/USD', 'bids': [], 'asks': [{'event': 'add', 'order_id': 'OSRZKL-6K2YT-6MDDKH', 'limit_price': 63127.6, 'order_qty': 0.13452308, 'timestamp': '2024-09-24T05:20:32.965609017Z'}]}]}\n",
      "{'channel': 'level3', 'type': 'update', 'data': [{'checksum': 3520537428, 'symbol': 'BTC/USD', 'bids': [{'event': 'add', 'order_id': 'O37EPF-QNNSU-VZYLM3', 'limit_price': 63110.0, 'order_qty': 3.96133683, 'timestamp': '2024-09-24T05:20:33.031076050Z'}], 'asks': []}]}\n",
      "{'channel': 'level3', 'type': 'update', 'data': [{'checksum': 2078184619, 'symbol': 'BTC/USD', 'bids': [], 'asks': [{'event': 'add', 'order_id': 'OSZ3LV-P35JW-5CNE4R', 'limit_price': 63125.9, 'order_qty': 0.214329, 'timestamp': '2024-09-24T05:20:33.033344848Z'}]}]}\n",
      "{'channel': 'level3', 'type': 'update', 'data': [{'checksum': 4294575690, 'symbol': 'BTC/USD', 'bids': [{'event': 'delete', 'order_id': 'O37EPF-QNNSU-VZYLM3', 'limit_price': 63110.0, 'order_qty': 3.96133683, 'timestamp': '2024-09-24T05:20:33.065536402Z'}, {'event': 'add', 'order_id': 'OVCTRX-OGMSB-EVPFGS', 'limit_price': 63108.8, 'order_qty': 3.96140669, 'timestamp': '2024-09-24T05:20:32.941737910Z'}], 'asks': []}]}\n",
      "{'channel': 'level3', 'type': 'update', 'data': [{'checksum': 2400959035, 'symbol': 'BTC/USD', 'bids': [{'event': 'delete', 'order_id': 'OGIOAR-OJRMI-ZORYKP', 'limit_price': 63108.9, 'order_qty': 0.0001, 'timestamp': '2024-09-24T05:20:33.091547348Z'}], 'asks': []}]}\n",
      "{'channel': 'level3', 'type': 'update', 'data': [{'checksum': 1859630320, 'symbol': 'BTC/USD', 'bids': [{'event': 'add', 'order_id': 'ORK62M-YNKJZ-DSYDUJ', 'limit_price': 63114.1, 'order_qty': 0.0001, 'timestamp': '2024-09-24T05:20:33.091547352Z'}], 'asks': []}]}\n"
     ]
    },
    {
     "name": "stderr",
     "output_type": "stream",
     "text": [
      "++Rcv raw: b'\\x81~\\x00\\xf6{\"channel\":\"level3\",\"type\":\"update\",\"data\":[{\"checksum\":4190528859,\"symbol\":\"BTC/USD\",\"bids\":[{\"event\":\"add\",\"order_id\":\"OHJXMQ-5RMFO-NLH75I\",\"limit_price\":63109.8,\"order_qty\":3.96134485,\"timestamp\":\"2024-09-24T05:20:33.166742365Z\"}],\"asks\":[]}]}'\n",
      "++Rcv decoded: fin=1 opcode=1 data=b'{\"channel\":\"level3\",\"type\":\"update\",\"data\":[{\"checksum\":4190528859,\"symbol\":\"BTC/USD\",\"bids\":[{\"event\":\"add\",\"order_id\":\"OHJXMQ-5RMFO-NLH75I\",\"limit_price\":63109.8,\"order_qty\":3.96134485,\"timestamp\":\"2024-09-24T05:20:33.166742365Z\"}],\"asks\":[]}]}'\n"
     ]
    },
    {
     "name": "stdout",
     "output_type": "stream",
     "text": [
      "{'channel': 'level3', 'type': 'update', 'data': [{'checksum': 4190528859, 'symbol': 'BTC/USD', 'bids': [{'event': 'add', 'order_id': 'OHJXMQ-5RMFO-NLH75I', 'limit_price': 63109.8, 'order_qty': 3.96134485, 'timestamp': '2024-09-24T05:20:33.166742365Z'}], 'asks': []}]}\n"
     ]
    },
    {
     "name": "stderr",
     "output_type": "stream",
     "text": [
      "++Rcv raw: b'\\x81~\\x01\\x84{\"channel\":\"level3\",\"type\":\"update\",\"data\":[{\"checksum\":1859630320,\"symbol\":\"BTC/USD\",\"bids\":[{\"event\":\"delete\",\"order_id\":\"OHJXMQ-5RMFO-NLH75I\",\"limit_price\":63109.8,\"order_qty\":3.96134485,\"timestamp\":\"2024-09-24T05:20:33.466328643Z\"},{\"event\":\"add\",\"order_id\":\"OFX6B5-YLMJU-UJ5Z7I\",\"limit_price\":63108.9,\"order_qty\":0.00015844,\"timestamp\":\"2024-09-24T05:11:18.870198008Z\"}],\"asks\":[]}]}'\n",
      "++Rcv decoded: fin=1 opcode=1 data=b'{\"channel\":\"level3\",\"type\":\"update\",\"data\":[{\"checksum\":1859630320,\"symbol\":\"BTC/USD\",\"bids\":[{\"event\":\"delete\",\"order_id\":\"OHJXMQ-5RMFO-NLH75I\",\"limit_price\":63109.8,\"order_qty\":3.96134485,\"timestamp\":\"2024-09-24T05:20:33.466328643Z\"},{\"event\":\"add\",\"order_id\":\"OFX6B5-YLMJU-UJ5Z7I\",\"limit_price\":63108.9,\"order_qty\":0.00015844,\"timestamp\":\"2024-09-24T05:11:18.870198008Z\"}],\"asks\":[]}]}'\n"
     ]
    },
    {
     "name": "stdout",
     "output_type": "stream",
     "text": [
      "{'channel': 'level3', 'type': 'update', 'data': [{'checksum': 1859630320, 'symbol': 'BTC/USD', 'bids': [{'event': 'delete', 'order_id': 'OHJXMQ-5RMFO-NLH75I', 'limit_price': 63109.8, 'order_qty': 3.96134485, 'timestamp': '2024-09-24T05:20:33.466328643Z'}, {'event': 'add', 'order_id': 'OFX6B5-YLMJU-UJ5Z7I', 'limit_price': 63108.9, 'order_qty': 0.00015844, 'timestamp': '2024-09-24T05:11:18.870198008Z'}], 'asks': []}]}\n"
     ]
    },
    {
     "name": "stderr",
     "output_type": "stream",
     "text": [
      "++Rcv raw: b'\\x81\\x17{\"channel\":\"heartbeat\"}'\n",
      "++Rcv decoded: fin=1 opcode=1 data=b'{\"channel\":\"heartbeat\"}'\n",
      "++Rcv raw: b'\\x81~\\x00\\xf9{\"channel\":\"level3\",\"type\":\"update\",\"data\":[{\"checksum\":2487419277,\"symbol\":\"BTC/USD\",\"bids\":[{\"event\":\"modify\",\"order_id\":\"OENJ7B-QAKHY-LSN2FA\",\"limit_price\":63125.8,\"order_qty\":0.00165350,\"timestamp\":\"2024-09-24T05:20:12.907445945Z\"}],\"asks\":[]}]}'\n",
      "++Rcv decoded: fin=1 opcode=1 data=b'{\"channel\":\"level3\",\"type\":\"update\",\"data\":[{\"checksum\":2487419277,\"symbol\":\"BTC/USD\",\"bids\":[{\"event\":\"modify\",\"order_id\":\"OENJ7B-QAKHY-LSN2FA\",\"limit_price\":63125.8,\"order_qty\":0.00165350,\"timestamp\":\"2024-09-24T05:20:12.907445945Z\"}],\"asks\":[]}]}'\n"
     ]
    },
    {
     "name": "stdout",
     "output_type": "stream",
     "text": [
      "{'channel': 'heartbeat'}\n",
      "{'channel': 'level3', 'type': 'update', 'data': [{'checksum': 2487419277, 'symbol': 'BTC/USD', 'bids': [{'event': 'modify', 'order_id': 'OENJ7B-QAKHY-LSN2FA', 'limit_price': 63125.8, 'order_qty': 0.0016535, 'timestamp': '2024-09-24T05:20:12.907445945Z'}], 'asks': []}]}\n"
     ]
    },
    {
     "name": "stderr",
     "output_type": "stream",
     "text": [
      "++Rcv raw: b'\\x81~\\x00\\xf5{\"channel\":\"level3\",\"type\":\"update\",\"data\":[{\"checksum\":452738724,\"symbol\":\"BTC/USD\",\"bids\":[{\"event\":\"add\",\"order_id\":\"OOVKDS-Y2HCH-SCRV24\",\"limit_price\":63110.4,\"order_qty\":3.96130686,\"timestamp\":\"2024-09-24T05:20:34.114363154Z\"}],\"asks\":[]}]}'\n",
      "++Rcv decoded: fin=1 opcode=1 data=b'{\"channel\":\"level3\",\"type\":\"update\",\"data\":[{\"checksum\":452738724,\"symbol\":\"BTC/USD\",\"bids\":[{\"event\":\"add\",\"order_id\":\"OOVKDS-Y2HCH-SCRV24\",\"limit_price\":63110.4,\"order_qty\":3.96130686,\"timestamp\":\"2024-09-24T05:20:34.114363154Z\"}],\"asks\":[]}]}'\n",
      "++Rcv raw: b'\\x81~\\x00\\xf9{\"channel\":\"level3\",\"type\":\"update\",\"data\":[{\"checksum\":3133285358,\"symbol\":\"BTC/USD\",\"bids\":[],\"asks\":[{\"event\":\"delete\",\"order_id\":\"OSZ3LV-P35JW-5CNE4R\",\"limit_price\":63125.9,\"order_qty\":0.21432900,\"timestamp\":\"2024-09-24T05:20:34.182928755Z\"}]}]}'\n",
      "++Rcv decoded: fin=1 opcode=1 data=b'{\"channel\":\"level3\",\"type\":\"update\",\"data\":[{\"checksum\":3133285358,\"symbol\":\"BTC/USD\",\"bids\":[],\"asks\":[{\"event\":\"delete\",\"order_id\":\"OSZ3LV-P35JW-5CNE4R\",\"limit_price\":63125.9,\"order_qty\":0.21432900,\"timestamp\":\"2024-09-24T05:20:34.182928755Z\"}]}]}'\n",
      "++Rcv raw: b'\\x81~\\x01\\x84{\"channel\":\"level3\",\"type\":\"update\",\"data\":[{\"checksum\":3062434249,\"symbol\":\"BTC/USD\",\"bids\":[],\"asks\":[{\"event\":\"delete\",\"order_id\":\"ONGICB-3WA7G-22D7LY\",\"limit_price\":63128.5,\"order_qty\":0.31680000,\"timestamp\":\"2024-09-24T05:20:34.185656702Z\"},{\"event\":\"add\",\"order_id\":\"OW6PIK-SBIJG-B2HADI\",\"limit_price\":63137.2,\"order_qty\":0.00015865,\"timestamp\":\"2024-09-24T05:00:52.305466323Z\"}]}]}'\n",
      "++Rcv decoded: fin=1 opcode=1 data=b'{\"channel\":\"level3\",\"type\":\"update\",\"data\":[{\"checksum\":3062434249,\"symbol\":\"BTC/USD\",\"bids\":[],\"asks\":[{\"event\":\"delete\",\"order_id\":\"ONGICB-3WA7G-22D7LY\",\"limit_price\":63128.5,\"order_qty\":0.31680000,\"timestamp\":\"2024-09-24T05:20:34.185656702Z\"},{\"event\":\"add\",\"order_id\":\"OW6PIK-SBIJG-B2HADI\",\"limit_price\":63137.2,\"order_qty\":0.00015865,\"timestamp\":\"2024-09-24T05:00:52.305466323Z\"}]}]}'\n",
      "++Rcv raw: b'\\x81~\\x00\\xf5{\"channel\":\"level3\",\"type\":\"update\",\"data\":[{\"checksum\":276062471,\"symbol\":\"BTC/USD\",\"bids\":[],\"asks\":[{\"event\":\"add\",\"order_id\":\"O4HB5G-H7KUK-6NTUHH\",\"limit_price\":63125.9,\"order_qty\":0.31680000,\"timestamp\":\"2024-09-24T05:20:34.185656706Z\"}]}]}'\n",
      "++Rcv decoded: fin=1 opcode=1 data=b'{\"channel\":\"level3\",\"type\":\"update\",\"data\":[{\"checksum\":276062471,\"symbol\":\"BTC/USD\",\"bids\":[],\"asks\":[{\"event\":\"add\",\"order_id\":\"O4HB5G-H7KUK-6NTUHH\",\"limit_price\":63125.9,\"order_qty\":0.31680000,\"timestamp\":\"2024-09-24T05:20:34.185656706Z\"}]}]}'\n",
      "++Rcv raw: b'\\x81~\\x00\\xf6{\"channel\":\"level3\",\"type\":\"update\",\"data\":[{\"checksum\":2838100250,\"symbol\":\"BTC/USD\",\"bids\":[],\"asks\":[{\"event\":\"add\",\"order_id\":\"OV6SSH-5IWGB-AHXVPO\",\"limit_price\":63125.9,\"order_qty\":0.21433900,\"timestamp\":\"2024-09-24T05:20:34.281539048Z\"}]}]}'\n",
      "++Rcv decoded: fin=1 opcode=1 data=b'{\"channel\":\"level3\",\"type\":\"update\",\"data\":[{\"checksum\":2838100250,\"symbol\":\"BTC/USD\",\"bids\":[],\"asks\":[{\"event\":\"add\",\"order_id\":\"OV6SSH-5IWGB-AHXVPO\",\"limit_price\":63125.9,\"order_qty\":0.21433900,\"timestamp\":\"2024-09-24T05:20:34.281539048Z\"}]}]}'\n"
     ]
    },
    {
     "name": "stdout",
     "output_type": "stream",
     "text": [
      "{'channel': 'level3', 'type': 'update', 'data': [{'checksum': 452738724, 'symbol': 'BTC/USD', 'bids': [{'event': 'add', 'order_id': 'OOVKDS-Y2HCH-SCRV24', 'limit_price': 63110.4, 'order_qty': 3.96130686, 'timestamp': '2024-09-24T05:20:34.114363154Z'}], 'asks': []}]}\n",
      "{'channel': 'level3', 'type': 'update', 'data': [{'checksum': 3133285358, 'symbol': 'BTC/USD', 'bids': [], 'asks': [{'event': 'delete', 'order_id': 'OSZ3LV-P35JW-5CNE4R', 'limit_price': 63125.9, 'order_qty': 0.214329, 'timestamp': '2024-09-24T05:20:34.182928755Z'}]}]}\n",
      "{'channel': 'level3', 'type': 'update', 'data': [{'checksum': 3062434249, 'symbol': 'BTC/USD', 'bids': [], 'asks': [{'event': 'delete', 'order_id': 'ONGICB-3WA7G-22D7LY', 'limit_price': 63128.5, 'order_qty': 0.3168, 'timestamp': '2024-09-24T05:20:34.185656702Z'}, {'event': 'add', 'order_id': 'OW6PIK-SBIJG-B2HADI', 'limit_price': 63137.2, 'order_qty': 0.00015865, 'timestamp': '2024-09-24T05:00:52.305466323Z'}]}]}\n",
      "{'channel': 'level3', 'type': 'update', 'data': [{'checksum': 276062471, 'symbol': 'BTC/USD', 'bids': [], 'asks': [{'event': 'add', 'order_id': 'O4HB5G-H7KUK-6NTUHH', 'limit_price': 63125.9, 'order_qty': 0.3168, 'timestamp': '2024-09-24T05:20:34.185656706Z'}]}]}\n",
      "{'channel': 'level3', 'type': 'update', 'data': [{'checksum': 2838100250, 'symbol': 'BTC/USD', 'bids': [], 'asks': [{'event': 'add', 'order_id': 'OV6SSH-5IWGB-AHXVPO', 'limit_price': 63125.9, 'order_qty': 0.214339, 'timestamp': '2024-09-24T05:20:34.281539048Z'}]}]}\n"
     ]
    },
    {
     "name": "stderr",
     "output_type": "stream",
     "text": [
      "++Rcv raw: b'\\x81~\\x01\\x84{\"channel\":\"level3\",\"type\":\"update\",\"data\":[{\"checksum\":1433211324,\"symbol\":\"BTC/USD\",\"bids\":[{\"event\":\"delete\",\"order_id\":\"OOVKDS-Y2HCH-SCRV24\",\"limit_price\":63110.4,\"order_qty\":3.96130686,\"timestamp\":\"2024-09-24T05:20:34.693828771Z\"},{\"event\":\"add\",\"order_id\":\"OFX6B5-YLMJU-UJ5Z7I\",\"limit_price\":63108.9,\"order_qty\":0.00015844,\"timestamp\":\"2024-09-24T05:11:18.870198008Z\"}],\"asks\":[]}]}'\n",
      "++Rcv decoded: fin=1 opcode=1 data=b'{\"channel\":\"level3\",\"type\":\"update\",\"data\":[{\"checksum\":1433211324,\"symbol\":\"BTC/USD\",\"bids\":[{\"event\":\"delete\",\"order_id\":\"OOVKDS-Y2HCH-SCRV24\",\"limit_price\":63110.4,\"order_qty\":3.96130686,\"timestamp\":\"2024-09-24T05:20:34.693828771Z\"},{\"event\":\"add\",\"order_id\":\"OFX6B5-YLMJU-UJ5Z7I\",\"limit_price\":63108.9,\"order_qty\":0.00015844,\"timestamp\":\"2024-09-24T05:11:18.870198008Z\"}],\"asks\":[]}]}'\n",
      "++Rcv raw: b'\\x81\\x17{\"channel\":\"heartbeat\"}'\n",
      "++Rcv decoded: fin=1 opcode=1 data=b'{\"channel\":\"heartbeat\"}'\n",
      "++Rcv raw: b'\\x81~\\x00\\xf6{\"channel\":\"level3\",\"type\":\"update\",\"data\":[{\"checksum\":1257293245,\"symbol\":\"BTC/USD\",\"bids\":[{\"event\":\"add\",\"order_id\":\"OXEGRU-5TB6B-HJ4BTP\",\"limit_price\":63109.9,\"order_qty\":3.96134278,\"timestamp\":\"2024-09-24T05:20:34.894392982Z\"}],\"asks\":[]}]}'\n",
      "++Rcv decoded: fin=1 opcode=1 data=b'{\"channel\":\"level3\",\"type\":\"update\",\"data\":[{\"checksum\":1257293245,\"symbol\":\"BTC/USD\",\"bids\":[{\"event\":\"add\",\"order_id\":\"OXEGRU-5TB6B-HJ4BTP\",\"limit_price\":63109.9,\"order_qty\":3.96134278,\"timestamp\":\"2024-09-24T05:20:34.894392982Z\"}],\"asks\":[]}]}'\n"
     ]
    },
    {
     "name": "stdout",
     "output_type": "stream",
     "text": [
      "{'channel': 'level3', 'type': 'update', 'data': [{'checksum': 1433211324, 'symbol': 'BTC/USD', 'bids': [{'event': 'delete', 'order_id': 'OOVKDS-Y2HCH-SCRV24', 'limit_price': 63110.4, 'order_qty': 3.96130686, 'timestamp': '2024-09-24T05:20:34.693828771Z'}, {'event': 'add', 'order_id': 'OFX6B5-YLMJU-UJ5Z7I', 'limit_price': 63108.9, 'order_qty': 0.00015844, 'timestamp': '2024-09-24T05:11:18.870198008Z'}], 'asks': []}]}\n",
      "{'channel': 'heartbeat'}\n",
      "{'channel': 'level3', 'type': 'update', 'data': [{'checksum': 1257293245, 'symbol': 'BTC/USD', 'bids': [{'event': 'add', 'order_id': 'OXEGRU-5TB6B-HJ4BTP', 'limit_price': 63109.9, 'order_qty': 3.96134278, 'timestamp': '2024-09-24T05:20:34.894392982Z'}], 'asks': []}]}\n"
     ]
    },
    {
     "name": "stderr",
     "output_type": "stream",
     "text": [
      "++Rcv raw: b'\\x81~\\x01\\x83{\"channel\":\"level3\",\"type\":\"update\",\"data\":[{\"checksum\":972554875,\"symbol\":\"BTC/USD\",\"bids\":[{\"event\":\"delete\",\"order_id\":\"OBUEYL-B4G5J-KBMYJI\",\"limit_price\":63111.1,\"order_qty\":0.13452308,\"timestamp\":\"2024-09-24T05:20:35.267719472Z\"},{\"event\":\"add\",\"order_id\":\"OFX6B5-YLMJU-UJ5Z7I\",\"limit_price\":63108.9,\"order_qty\":0.00015844,\"timestamp\":\"2024-09-24T05:11:18.870198008Z\"}],\"asks\":[]}]}'\n",
      "++Rcv decoded: fin=1 opcode=1 data=b'{\"channel\":\"level3\",\"type\":\"update\",\"data\":[{\"checksum\":972554875,\"symbol\":\"BTC/USD\",\"bids\":[{\"event\":\"delete\",\"order_id\":\"OBUEYL-B4G5J-KBMYJI\",\"limit_price\":63111.1,\"order_qty\":0.13452308,\"timestamp\":\"2024-09-24T05:20:35.267719472Z\"},{\"event\":\"add\",\"order_id\":\"OFX6B5-YLMJU-UJ5Z7I\",\"limit_price\":63108.9,\"order_qty\":0.00015844,\"timestamp\":\"2024-09-24T05:11:18.870198008Z\"}],\"asks\":[]}]}'\n",
      "++Rcv raw: b'\\x81~\\x00\\xf8{\"channel\":\"level3\",\"type\":\"update\",\"data\":[{\"checksum\":256941005,\"symbol\":\"BTC/USD\",\"bids\":[],\"asks\":[{\"event\":\"delete\",\"order_id\":\"OV6SSH-5IWGB-AHXVPO\",\"limit_price\":63125.9,\"order_qty\":0.21433900,\"timestamp\":\"2024-09-24T05:20:35.442809211Z\"}]}]}'\n",
      "++Rcv decoded: fin=1 opcode=1 data=b'{\"channel\":\"level3\",\"type\":\"update\",\"data\":[{\"checksum\":256941005,\"symbol\":\"BTC/USD\",\"bids\":[],\"asks\":[{\"event\":\"delete\",\"order_id\":\"OV6SSH-5IWGB-AHXVPO\",\"limit_price\":63125.9,\"order_qty\":0.21433900,\"timestamp\":\"2024-09-24T05:20:35.442809211Z\"}]}]}'\n"
     ]
    },
    {
     "name": "stdout",
     "output_type": "stream",
     "text": [
      "{'channel': 'level3', 'type': 'update', 'data': [{'checksum': 972554875, 'symbol': 'BTC/USD', 'bids': [{'event': 'delete', 'order_id': 'OBUEYL-B4G5J-KBMYJI', 'limit_price': 63111.1, 'order_qty': 0.13452308, 'timestamp': '2024-09-24T05:20:35.267719472Z'}, {'event': 'add', 'order_id': 'OFX6B5-YLMJU-UJ5Z7I', 'limit_price': 63108.9, 'order_qty': 0.00015844, 'timestamp': '2024-09-24T05:11:18.870198008Z'}], 'asks': []}]}\n",
      "{'channel': 'level3', 'type': 'update', 'data': [{'checksum': 256941005, 'symbol': 'BTC/USD', 'bids': [], 'asks': [{'event': 'delete', 'order_id': 'OV6SSH-5IWGB-AHXVPO', 'limit_price': 63125.9, 'order_qty': 0.214339, 'timestamp': '2024-09-24T05:20:35.442809211Z'}]}]}\n"
     ]
    },
    {
     "name": "stderr",
     "output_type": "stream",
     "text": [
      "++Rcv raw: b'\\x81~\\x00\\xf5{\"channel\":\"level3\",\"type\":\"update\",\"data\":[{\"checksum\":972554875,\"symbol\":\"BTC/USD\",\"bids\":[],\"asks\":[{\"event\":\"add\",\"order_id\":\"OF62NC-ZUKIZ-VZ5IFE\",\"limit_price\":63125.9,\"order_qty\":0.21433900,\"timestamp\":\"2024-09-24T05:20:35.546198356Z\"}]}]}'\n",
      "++Rcv decoded: fin=1 opcode=1 data=b'{\"channel\":\"level3\",\"type\":\"update\",\"data\":[{\"checksum\":972554875,\"symbol\":\"BTC/USD\",\"bids\":[],\"asks\":[{\"event\":\"add\",\"order_id\":\"OF62NC-ZUKIZ-VZ5IFE\",\"limit_price\":63125.9,\"order_qty\":0.21433900,\"timestamp\":\"2024-09-24T05:20:35.546198356Z\"}]}]}'\n",
      "++Rcv raw: b'\\x81\\x17{\"channel\":\"heartbeat\"}'\n",
      "++Rcv decoded: fin=1 opcode=1 data=b'{\"channel\":\"heartbeat\"}'\n"
     ]
    },
    {
     "name": "stdout",
     "output_type": "stream",
     "text": [
      "{'channel': 'level3', 'type': 'update', 'data': [{'checksum': 972554875, 'symbol': 'BTC/USD', 'bids': [], 'asks': [{'event': 'add', 'order_id': 'OF62NC-ZUKIZ-VZ5IFE', 'limit_price': 63125.9, 'order_qty': 0.214339, 'timestamp': '2024-09-24T05:20:35.546198356Z'}]}]}\n",
      "{'channel': 'heartbeat'}\n"
     ]
    },
    {
     "name": "stderr",
     "output_type": "stream",
     "text": [
      "++Rcv raw: b'\\x81~\\x00\\xf9{\"channel\":\"level3\",\"type\":\"update\",\"data\":[{\"checksum\":4019882258,\"symbol\":\"BTC/USD\",\"bids\":[{\"event\":\"modify\",\"order_id\":\"OENJ7B-QAKHY-LSN2FA\",\"limit_price\":63125.8,\"order_qty\":0.00139467,\"timestamp\":\"2024-09-24T05:20:12.907445945Z\"}],\"asks\":[]}]}'\n",
      "++Rcv decoded: fin=1 opcode=1 data=b'{\"channel\":\"level3\",\"type\":\"update\",\"data\":[{\"checksum\":4019882258,\"symbol\":\"BTC/USD\",\"bids\":[{\"event\":\"modify\",\"order_id\":\"OENJ7B-QAKHY-LSN2FA\",\"limit_price\":63125.8,\"order_qty\":0.00139467,\"timestamp\":\"2024-09-24T05:20:12.907445945Z\"}],\"asks\":[]}]}'\n"
     ]
    },
    {
     "name": "stdout",
     "output_type": "stream",
     "text": [
      "{'channel': 'level3', 'type': 'update', 'data': [{'checksum': 4019882258, 'symbol': 'BTC/USD', 'bids': [{'event': 'modify', 'order_id': 'OENJ7B-QAKHY-LSN2FA', 'limit_price': 63125.8, 'order_qty': 0.00139467, 'timestamp': '2024-09-24T05:20:12.907445945Z'}], 'asks': []}]}\n"
     ]
    },
    {
     "name": "stderr",
     "output_type": "stream",
     "text": [
      "++Rcv raw: b'\\x81~\\x00\\xf6{\"channel\":\"level3\",\"type\":\"update\",\"data\":[{\"checksum\":2121810546,\"symbol\":\"BTC/USD\",\"bids\":[],\"asks\":[{\"event\":\"add\",\"order_id\":\"OSXXUH-BAZWD-W7PAUO\",\"limit_price\":63137.0,\"order_qty\":1.18316854,\"timestamp\":\"2024-09-24T05:20:36.170636451Z\"}]}]}'\n",
      "++Rcv decoded: fin=1 opcode=1 data=b'{\"channel\":\"level3\",\"type\":\"update\",\"data\":[{\"checksum\":2121810546,\"symbol\":\"BTC/USD\",\"bids\":[],\"asks\":[{\"event\":\"add\",\"order_id\":\"OSXXUH-BAZWD-W7PAUO\",\"limit_price\":63137.0,\"order_qty\":1.18316854,\"timestamp\":\"2024-09-24T05:20:36.170636451Z\"}]}]}'\n"
     ]
    },
    {
     "name": "stdout",
     "output_type": "stream",
     "text": [
      "{'channel': 'level3', 'type': 'update', 'data': [{'checksum': 2121810546, 'symbol': 'BTC/USD', 'bids': [], 'asks': [{'event': 'add', 'order_id': 'OSXXUH-BAZWD-W7PAUO', 'limit_price': 63137.0, 'order_qty': 1.18316854, 'timestamp': '2024-09-24T05:20:36.170636451Z'}]}]}\n"
     ]
    },
    {
     "name": "stderr",
     "output_type": "stream",
     "text": [
      "++Rcv raw: b'\\x81\\x17{\"channel\":\"heartbeat\"}'\n",
      "++Rcv decoded: fin=1 opcode=1 data=b'{\"channel\":\"heartbeat\"}'\n"
     ]
    },
    {
     "name": "stdout",
     "output_type": "stream",
     "text": [
      "{'channel': 'heartbeat'}\n",
      "Exiting...\n"
     ]
    },
    {
     "name": "stderr",
     "output_type": "stream",
     "text": [
      "++Rcv raw: b'\\x81~\\x00\\xf6{\"channel\":\"level3\",\"type\":\"update\",\"data\":[{\"checksum\":2796129712,\"symbol\":\"BTC/USD\",\"bids\":[],\"asks\":[{\"event\":\"add\",\"order_id\":\"OYRONN-3ZKBM-COTS2U\",\"limit_price\":63131.6,\"order_qty\":0.00633745,\"timestamp\":\"2024-09-24T05:20:36.931129752Z\"}]}]}'\n",
      "++Rcv decoded: fin=1 opcode=1 data=b'{\"channel\":\"level3\",\"type\":\"update\",\"data\":[{\"checksum\":2796129712,\"symbol\":\"BTC/USD\",\"bids\":[],\"asks\":[{\"event\":\"add\",\"order_id\":\"OYRONN-3ZKBM-COTS2U\",\"limit_price\":63131.6,\"order_qty\":0.00633745,\"timestamp\":\"2024-09-24T05:20:36.931129752Z\"}]}]}'\n"
     ]
    },
    {
     "name": "stdout",
     "output_type": "stream",
     "text": [
      "{'channel': 'level3', 'type': 'update', 'data': [{'checksum': 2796129712, 'symbol': 'BTC/USD', 'bids': [], 'asks': [{'event': 'add', 'order_id': 'OYRONN-3ZKBM-COTS2U', 'limit_price': 63131.6, 'order_qty': 0.00633745, 'timestamp': '2024-09-24T05:20:36.931129752Z'}]}]}\n"
     ]
    },
    {
     "name": "stdout",
     "output_type": "stream",
     "text": [
      "{'channel': 'level3', 'type': 'update', 'data': [{'checksum': 2689645963, 'symbol': 'BTC/USD', 'bids': [{'event': 'add', 'order_id': 'OAESWM-36V76-U5WCIA', 'limit_price': 63111.0, 'order_qty': 3.96127153, 'timestamp': '2024-09-24T05:20:37.190223016Z'}], 'asks': []}]}\n"
     ]
    },
    {
     "name": "stderr",
     "output_type": "stream",
     "text": [
      "++Rcv raw: b'\\x81\\x17{\"channel\":\"heartbeat\"}'\n",
      "++Rcv decoded: fin=1 opcode=1 data=b'{\"channel\":\"heartbeat\"}'\n"
     ]
    },
    {
     "name": "stdout",
     "output_type": "stream",
     "text": [
      "{'channel': 'heartbeat'}\n"
     ]
    },
    {
     "name": "stderr",
     "output_type": "stream",
     "text": [
      "++Rcv raw: b'\\x81~\\x00\\xf6{\"channel\":\"level3\",\"type\":\"update\",\"data\":[{\"checksum\":3500653713,\"symbol\":\"BTC/USD\",\"bids\":[{\"event\":\"add\",\"order_id\":\"OYANJ7-MH7YJ-OOQU44\",\"limit_price\":63112.3,\"order_qty\":3.96118871,\"timestamp\":\"2024-09-24T05:20:38.143593179Z\"}],\"asks\":[]}]}'\n",
      "++Rcv decoded: fin=1 opcode=1 data=b'{\"channel\":\"level3\",\"type\":\"update\",\"data\":[{\"checksum\":3500653713,\"symbol\":\"BTC/USD\",\"bids\":[{\"event\":\"add\",\"order_id\":\"OYANJ7-MH7YJ-OOQU44\",\"limit_price\":63112.3,\"order_qty\":3.96118871,\"timestamp\":\"2024-09-24T05:20:38.143593179Z\"}],\"asks\":[]}]}'\n",
      "++Rcv raw: b'\\x81~\\x01\\x84{\"channel\":\"level3\",\"type\":\"update\",\"data\":[{\"checksum\":2252072409,\"symbol\":\"BTC/USD\",\"bids\":[],\"asks\":[{\"event\":\"delete\",\"order_id\":\"OYRONN-3ZKBM-COTS2U\",\"limit_price\":63131.6,\"order_qty\":0.00633745,\"timestamp\":\"2024-09-24T05:20:38.172702248Z\"},{\"event\":\"add\",\"order_id\":\"OSXXUH-BAZWD-W7PAUO\",\"limit_price\":63137.0,\"order_qty\":1.18316854,\"timestamp\":\"2024-09-24T05:20:36.170636451Z\"}]}]}'\n",
      "++Rcv decoded: fin=1 opcode=1 data=b'{\"channel\":\"level3\",\"type\":\"update\",\"data\":[{\"checksum\":2252072409,\"symbol\":\"BTC/USD\",\"bids\":[],\"asks\":[{\"event\":\"delete\",\"order_id\":\"OYRONN-3ZKBM-COTS2U\",\"limit_price\":63131.6,\"order_qty\":0.00633745,\"timestamp\":\"2024-09-24T05:20:38.172702248Z\"},{\"event\":\"add\",\"order_id\":\"OSXXUH-BAZWD-W7PAUO\",\"limit_price\":63137.0,\"order_qty\":1.18316854,\"timestamp\":\"2024-09-24T05:20:36.170636451Z\"}]}]}'\n"
     ]
    },
    {
     "name": "stdout",
     "output_type": "stream",
     "text": [
      "{'channel': 'level3', 'type': 'update', 'data': [{'checksum': 3500653713, 'symbol': 'BTC/USD', 'bids': [{'event': 'add', 'order_id': 'OYANJ7-MH7YJ-OOQU44', 'limit_price': 63112.3, 'order_qty': 3.96118871, 'timestamp': '2024-09-24T05:20:38.143593179Z'}], 'asks': []}]}\n",
      "{'channel': 'level3', 'type': 'update', 'data': [{'checksum': 2252072409, 'symbol': 'BTC/USD', 'bids': [], 'asks': [{'event': 'delete', 'order_id': 'OYRONN-3ZKBM-COTS2U', 'limit_price': 63131.6, 'order_qty': 0.00633745, 'timestamp': '2024-09-24T05:20:38.172702248Z'}, {'event': 'add', 'order_id': 'OSXXUH-BAZWD-W7PAUO', 'limit_price': 63137.0, 'order_qty': 1.18316854, 'timestamp': '2024-09-24T05:20:36.170636451Z'}]}]}\n"
     ]
    },
    {
     "name": "stderr",
     "output_type": "stream",
     "text": [
      "++Rcv raw: b'\\x81~\\x00\\xf6{\"channel\":\"level3\",\"type\":\"update\",\"data\":[{\"checksum\":1054364936,\"symbol\":\"BTC/USD\",\"bids\":[],\"asks\":[{\"event\":\"add\",\"order_id\":\"OEUMIA-HHGEI-2IQ3HK\",\"limit_price\":63131.7,\"order_qty\":0.00633744,\"timestamp\":\"2024-09-24T05:20:38.427767043Z\"}]}]}'\n",
      "++Rcv decoded: fin=1 opcode=1 data=b'{\"channel\":\"level3\",\"type\":\"update\",\"data\":[{\"checksum\":1054364936,\"symbol\":\"BTC/USD\",\"bids\":[],\"asks\":[{\"event\":\"add\",\"order_id\":\"OEUMIA-HHGEI-2IQ3HK\",\"limit_price\":63131.7,\"order_qty\":0.00633744,\"timestamp\":\"2024-09-24T05:20:38.427767043Z\"}]}]}'\n"
     ]
    },
    {
     "name": "stdout",
     "output_type": "stream",
     "text": [
      "{'channel': 'level3', 'type': 'update', 'data': [{'checksum': 1054364936, 'symbol': 'BTC/USD', 'bids': [], 'asks': [{'event': 'add', 'order_id': 'OEUMIA-HHGEI-2IQ3HK', 'limit_price': 63131.7, 'order_qty': 0.00633744, 'timestamp': '2024-09-24T05:20:38.427767043Z'}]}]}\n"
     ]
    },
    {
     "name": "stderr",
     "output_type": "stream",
     "text": [
      "++Rcv raw: b'\\x81\\x17{\"channel\":\"heartbeat\"}'\n",
      "++Rcv decoded: fin=1 opcode=1 data=b'{\"channel\":\"heartbeat\"}'\n"
     ]
    },
    {
     "name": "stdout",
     "output_type": "stream",
     "text": [
      "{'channel': 'heartbeat'}\n"
     ]
    },
    {
     "name": "stderr",
     "output_type": "stream",
     "text": [
      "++Rcv raw: b'\\x81~\\x01\\x83{\"channel\":\"level3\",\"type\":\"update\",\"data\":[{\"checksum\":242254530,\"symbol\":\"BTC/USD\",\"bids\":[],\"asks\":[{\"event\":\"delete\",\"order_id\":\"OEUMIA-HHGEI-2IQ3HK\",\"limit_price\":63131.7,\"order_qty\":0.00633744,\"timestamp\":\"2024-09-24T05:20:39.147346221Z\"},{\"event\":\"add\",\"order_id\":\"OWVUT3-NE3TN-ZJNDAN\",\"limit_price\":63136.9,\"order_qty\":0.48283915,\"timestamp\":\"2024-09-24T05:20:38.790976636Z\"}]}]}'\n",
      "++Rcv decoded: fin=1 opcode=1 data=b'{\"channel\":\"level3\",\"type\":\"update\",\"data\":[{\"checksum\":242254530,\"symbol\":\"BTC/USD\",\"bids\":[],\"asks\":[{\"event\":\"delete\",\"order_id\":\"OEUMIA-HHGEI-2IQ3HK\",\"limit_price\":63131.7,\"order_qty\":0.00633744,\"timestamp\":\"2024-09-24T05:20:39.147346221Z\"},{\"event\":\"add\",\"order_id\":\"OWVUT3-NE3TN-ZJNDAN\",\"limit_price\":63136.9,\"order_qty\":0.48283915,\"timestamp\":\"2024-09-24T05:20:38.790976636Z\"}]}]}'\n"
     ]
    },
    {
     "name": "stdout",
     "output_type": "stream",
     "text": [
      "{'channel': 'level3', 'type': 'update', 'data': [{'checksum': 242254530, 'symbol': 'BTC/USD', 'bids': [], 'asks': [{'event': 'delete', 'order_id': 'OEUMIA-HHGEI-2IQ3HK', 'limit_price': 63131.7, 'order_qty': 0.00633744, 'timestamp': '2024-09-24T05:20:39.147346221Z'}, {'event': 'add', 'order_id': 'OWVUT3-NE3TN-ZJNDAN', 'limit_price': 63136.9, 'order_qty': 0.48283915, 'timestamp': '2024-09-24T05:20:38.790976636Z'}]}]}\n"
     ]
    },
    {
     "name": "stderr",
     "output_type": "stream",
     "text": [
      "++Rcv raw: b'\\x81~\\x00\\xf6{\"channel\":\"level3\",\"type\":\"update\",\"data\":[{\"checksum\":1981663272,\"symbol\":\"BTC/USD\",\"bids\":[],\"asks\":[{\"event\":\"add\",\"order_id\":\"O7X4LD-NYRQA-YZO3UX\",\"limit_price\":63131.8,\"order_qty\":0.00633743,\"timestamp\":\"2024-09-24T05:20:39.401870144Z\"}]}]}'\n",
      "++Rcv decoded: fin=1 opcode=1 data=b'{\"channel\":\"level3\",\"type\":\"update\",\"data\":[{\"checksum\":1981663272,\"symbol\":\"BTC/USD\",\"bids\":[],\"asks\":[{\"event\":\"add\",\"order_id\":\"O7X4LD-NYRQA-YZO3UX\",\"limit_price\":63131.8,\"order_qty\":0.00633743,\"timestamp\":\"2024-09-24T05:20:39.401870144Z\"}]}]}'\n"
     ]
    },
    {
     "name": "stdout",
     "output_type": "stream",
     "text": [
      "{'channel': 'level3', 'type': 'update', 'data': [{'checksum': 1981663272, 'symbol': 'BTC/USD', 'bids': [], 'asks': [{'event': 'add', 'order_id': 'O7X4LD-NYRQA-YZO3UX', 'limit_price': 63131.8, 'order_qty': 0.00633743, 'timestamp': '2024-09-24T05:20:39.401870144Z'}]}]}\n"
     ]
    },
    {
     "name": "stderr",
     "output_type": "stream",
     "text": [
      "++Rcv raw: b'\\x81\\x17{\"channel\":\"heartbeat\"}'\n",
      "++Rcv decoded: fin=1 opcode=1 data=b'{\"channel\":\"heartbeat\"}'\n",
      "++Rcv raw: b'\\x81~\\x00\\xf9{\"channel\":\"level3\",\"type\":\"update\",\"data\":[{\"checksum\":2007303711,\"symbol\":\"BTC/USD\",\"bids\":[],\"asks\":[{\"event\":\"delete\",\"order_id\":\"OF62NC-ZUKIZ-VZ5IFE\",\"limit_price\":63125.9,\"order_qty\":0.21433900,\"timestamp\":\"2024-09-24T05:20:39.810482844Z\"}]}]}'\n",
      "++Rcv decoded: fin=1 opcode=1 data=b'{\"channel\":\"level3\",\"type\":\"update\",\"data\":[{\"checksum\":2007303711,\"symbol\":\"BTC/USD\",\"bids\":[],\"asks\":[{\"event\":\"delete\",\"order_id\":\"OF62NC-ZUKIZ-VZ5IFE\",\"limit_price\":63125.9,\"order_qty\":0.21433900,\"timestamp\":\"2024-09-24T05:20:39.810482844Z\"}]}]}'\n"
     ]
    },
    {
     "name": "stdout",
     "output_type": "stream",
     "text": [
      "{'channel': 'heartbeat'}\n",
      "{'channel': 'level3', 'type': 'update', 'data': [{'checksum': 2007303711, 'symbol': 'BTC/USD', 'bids': [], 'asks': [{'event': 'delete', 'order_id': 'OF62NC-ZUKIZ-VZ5IFE', 'limit_price': 63125.9, 'order_qty': 0.214339, 'timestamp': '2024-09-24T05:20:39.810482844Z'}]}]}\n"
     ]
    },
    {
     "name": "stderr",
     "output_type": "stream",
     "text": [
      "++Rcv raw: b'\\x81~\\x00\\xf6{\"channel\":\"level3\",\"type\":\"update\",\"data\":[{\"checksum\":2077412638,\"symbol\":\"BTC/USD\",\"bids\":[],\"asks\":[{\"event\":\"add\",\"order_id\":\"OIVFKG-3A6HN-NRFXC7\",\"limit_price\":63125.9,\"order_qty\":0.21435000,\"timestamp\":\"2024-09-24T05:20:39.908351390Z\"}]}]}'\n",
      "++Rcv decoded: fin=1 opcode=1 data=b'{\"channel\":\"level3\",\"type\":\"update\",\"data\":[{\"checksum\":2077412638,\"symbol\":\"BTC/USD\",\"bids\":[],\"asks\":[{\"event\":\"add\",\"order_id\":\"OIVFKG-3A6HN-NRFXC7\",\"limit_price\":63125.9,\"order_qty\":0.21435000,\"timestamp\":\"2024-09-24T05:20:39.908351390Z\"}]}]}'\n"
     ]
    },
    {
     "name": "stdout",
     "output_type": "stream",
     "text": [
      "{'channel': 'level3', 'type': 'update', 'data': [{'checksum': 2077412638, 'symbol': 'BTC/USD', 'bids': [], 'asks': [{'event': 'add', 'order_id': 'OIVFKG-3A6HN-NRFXC7', 'limit_price': 63125.9, 'order_qty': 0.21435, 'timestamp': '2024-09-24T05:20:39.908351390Z'}]}]}\n"
     ]
    },
    {
     "name": "stderr",
     "output_type": "stream",
     "text": [
      "++Rcv raw: b'\\x81~\\x01\\x83{\"channel\":\"level3\",\"type\":\"update\",\"data\":[{\"checksum\":187026436,\"symbol\":\"BTC/USD\",\"bids\":[{\"event\":\"delete\",\"order_id\":\"OYANJ7-MH7YJ-OOQU44\",\"limit_price\":63112.3,\"order_qty\":3.96118871,\"timestamp\":\"2024-09-24T05:20:40.152240070Z\"},{\"event\":\"add\",\"order_id\":\"OXEGRU-5TB6B-HJ4BTP\",\"limit_price\":63109.9,\"order_qty\":3.96134278,\"timestamp\":\"2024-09-24T05:20:34.894392982Z\"}],\"asks\":[]}]}'\n",
      "++Rcv decoded: fin=1 opcode=1 data=b'{\"channel\":\"level3\",\"type\":\"update\",\"data\":[{\"checksum\":187026436,\"symbol\":\"BTC/USD\",\"bids\":[{\"event\":\"delete\",\"order_id\":\"OYANJ7-MH7YJ-OOQU44\",\"limit_price\":63112.3,\"order_qty\":3.96118871,\"timestamp\":\"2024-09-24T05:20:40.152240070Z\"},{\"event\":\"add\",\"order_id\":\"OXEGRU-5TB6B-HJ4BTP\",\"limit_price\":63109.9,\"order_qty\":3.96134278,\"timestamp\":\"2024-09-24T05:20:34.894392982Z\"}],\"asks\":[]}]}'\n"
     ]
    },
    {
     "name": "stdout",
     "output_type": "stream",
     "text": [
      "{'channel': 'level3', 'type': 'update', 'data': [{'checksum': 187026436, 'symbol': 'BTC/USD', 'bids': [{'event': 'delete', 'order_id': 'OYANJ7-MH7YJ-OOQU44', 'limit_price': 63112.3, 'order_qty': 3.96118871, 'timestamp': '2024-09-24T05:20:40.152240070Z'}, {'event': 'add', 'order_id': 'OXEGRU-5TB6B-HJ4BTP', 'limit_price': 63109.9, 'order_qty': 3.96134278, 'timestamp': '2024-09-24T05:20:34.894392982Z'}], 'asks': []}]}\n"
     ]
    },
    {
     "name": "stderr",
     "output_type": "stream",
     "text": [
      "++Rcv raw: b'\\x81~\\x01\\x84{\"channel\":\"level3\",\"type\":\"update\",\"data\":[{\"checksum\":1485561135,\"symbol\":\"BTC/USD\",\"bids\":[{\"event\":\"delete\",\"order_id\":\"OXEGRU-5TB6B-HJ4BTP\",\"limit_price\":63109.9,\"order_qty\":3.96134278,\"timestamp\":\"2024-09-24T05:20:40.413631239Z\"},{\"event\":\"add\",\"order_id\":\"OFX6B5-YLMJU-UJ5Z7I\",\"limit_price\":63108.9,\"order_qty\":0.00015844,\"timestamp\":\"2024-09-24T05:11:18.870198008Z\"}],\"asks\":[]}]}'\n",
      "++Rcv decoded: fin=1 opcode=1 data=b'{\"channel\":\"level3\",\"type\":\"update\",\"data\":[{\"checksum\":1485561135,\"symbol\":\"BTC/USD\",\"bids\":[{\"event\":\"delete\",\"order_id\":\"OXEGRU-5TB6B-HJ4BTP\",\"limit_price\":63109.9,\"order_qty\":3.96134278,\"timestamp\":\"2024-09-24T05:20:40.413631239Z\"},{\"event\":\"add\",\"order_id\":\"OFX6B5-YLMJU-UJ5Z7I\",\"limit_price\":63108.9,\"order_qty\":0.00015844,\"timestamp\":\"2024-09-24T05:11:18.870198008Z\"}],\"asks\":[]}]}'\n",
      "++Rcv raw: b'\\x81~\\x00\\xf5{\"channel\":\"level3\",\"type\":\"update\",\"data\":[{\"checksum\":254398673,\"symbol\":\"BTC/USD\",\"bids\":[{\"event\":\"add\",\"order_id\":\"OTC2L3-TVO2S-KPOIVY\",\"limit_price\":63112.1,\"order_qty\":3.96120036,\"timestamp\":\"2024-09-24T05:20:40.416540721Z\"}],\"asks\":[]}]}'\n",
      "++Rcv decoded: fin=1 opcode=1 data=b'{\"channel\":\"level3\",\"type\":\"update\",\"data\":[{\"checksum\":254398673,\"symbol\":\"BTC/USD\",\"bids\":[{\"event\":\"add\",\"order_id\":\"OTC2L3-TVO2S-KPOIVY\",\"limit_price\":63112.1,\"order_qty\":3.96120036,\"timestamp\":\"2024-09-24T05:20:40.416540721Z\"}],\"asks\":[]}]}'\n",
      "++Rcv raw: b'\\x81~\\x01\\x84{\"channel\":\"level3\",\"type\":\"update\",\"data\":[{\"checksum\":1485561135,\"symbol\":\"BTC/USD\",\"bids\":[{\"event\":\"delete\",\"order_id\":\"OTC2L3-TVO2S-KPOIVY\",\"limit_price\":63112.1,\"order_qty\":3.96120036,\"timestamp\":\"2024-09-24T05:20:40.440251435Z\"},{\"event\":\"add\",\"order_id\":\"OFX6B5-YLMJU-UJ5Z7I\",\"limit_price\":63108.9,\"order_qty\":0.00015844,\"timestamp\":\"2024-09-24T05:11:18.870198008Z\"}],\"asks\":[]}]}'\n",
      "++Rcv decoded: fin=1 opcode=1 data=b'{\"channel\":\"level3\",\"type\":\"update\",\"data\":[{\"checksum\":1485561135,\"symbol\":\"BTC/USD\",\"bids\":[{\"event\":\"delete\",\"order_id\":\"OTC2L3-TVO2S-KPOIVY\",\"limit_price\":63112.1,\"order_qty\":3.96120036,\"timestamp\":\"2024-09-24T05:20:40.440251435Z\"},{\"event\":\"add\",\"order_id\":\"OFX6B5-YLMJU-UJ5Z7I\",\"limit_price\":63108.9,\"order_qty\":0.00015844,\"timestamp\":\"2024-09-24T05:11:18.870198008Z\"}],\"asks\":[]}]}'\n",
      "++Rcv raw: b'\\x81~\\x00\\xf6{\"channel\":\"level3\",\"type\":\"update\",\"data\":[{\"checksum\":1040519910,\"symbol\":\"BTC/USD\",\"bids\":[{\"event\":\"add\",\"order_id\":\"ORN6TP-6V337-FCFKGU\",\"limit_price\":63110.2,\"order_qty\":3.96131866,\"timestamp\":\"2024-09-24T05:20:40.443026856Z\"}],\"asks\":[]}]}'\n",
      "++Rcv decoded: fin=1 opcode=1 data=b'{\"channel\":\"level3\",\"type\":\"update\",\"data\":[{\"checksum\":1040519910,\"symbol\":\"BTC/USD\",\"bids\":[{\"event\":\"add\",\"order_id\":\"ORN6TP-6V337-FCFKGU\",\"limit_price\":63110.2,\"order_qty\":3.96131866,\"timestamp\":\"2024-09-24T05:20:40.443026856Z\"}],\"asks\":[]}]}'\n"
     ]
    },
    {
     "name": "stdout",
     "output_type": "stream",
     "text": [
      "{'channel': 'level3', 'type': 'update', 'data': [{'checksum': 1485561135, 'symbol': 'BTC/USD', 'bids': [{'event': 'delete', 'order_id': 'OXEGRU-5TB6B-HJ4BTP', 'limit_price': 63109.9, 'order_qty': 3.96134278, 'timestamp': '2024-09-24T05:20:40.413631239Z'}, {'event': 'add', 'order_id': 'OFX6B5-YLMJU-UJ5Z7I', 'limit_price': 63108.9, 'order_qty': 0.00015844, 'timestamp': '2024-09-24T05:11:18.870198008Z'}], 'asks': []}]}\n",
      "{'channel': 'level3', 'type': 'update', 'data': [{'checksum': 254398673, 'symbol': 'BTC/USD', 'bids': [{'event': 'add', 'order_id': 'OTC2L3-TVO2S-KPOIVY', 'limit_price': 63112.1, 'order_qty': 3.96120036, 'timestamp': '2024-09-24T05:20:40.416540721Z'}], 'asks': []}]}\n",
      "{'channel': 'level3', 'type': 'update', 'data': [{'checksum': 1485561135, 'symbol': 'BTC/USD', 'bids': [{'event': 'delete', 'order_id': 'OTC2L3-TVO2S-KPOIVY', 'limit_price': 63112.1, 'order_qty': 3.96120036, 'timestamp': '2024-09-24T05:20:40.440251435Z'}, {'event': 'add', 'order_id': 'OFX6B5-YLMJU-UJ5Z7I', 'limit_price': 63108.9, 'order_qty': 0.00015844, 'timestamp': '2024-09-24T05:11:18.870198008Z'}], 'asks': []}]}\n",
      "{'channel': 'level3', 'type': 'update', 'data': [{'checksum': 1040519910, 'symbol': 'BTC/USD', 'bids': [{'event': 'add', 'order_id': 'ORN6TP-6V337-FCFKGU', 'limit_price': 63110.2, 'order_qty': 3.96131866, 'timestamp': '2024-09-24T05:20:40.443026856Z'}], 'asks': []}]}\n"
     ]
    },
    {
     "name": "stderr",
     "output_type": "stream",
     "text": [
      "++Rcv raw: b'\\x81\\x17{\"channel\":\"heartbeat\"}'\n",
      "++Rcv decoded: fin=1 opcode=1 data=b'{\"channel\":\"heartbeat\"}'\n",
      "++Rcv raw: b'\\x81~\\x01\\x84{\"channel\":\"level3\",\"type\":\"update\",\"data\":[{\"checksum\":2189629389,\"symbol\":\"BTC/USD\",\"bids\":[],\"asks\":[{\"event\":\"delete\",\"order_id\":\"O7X4LD-NYRQA-YZO3UX\",\"limit_price\":63131.8,\"order_qty\":0.00633743,\"timestamp\":\"2024-09-24T05:20:40.890279571Z\"},{\"event\":\"add\",\"order_id\":\"OWVUT3-NE3TN-ZJNDAN\",\"limit_price\":63136.9,\"order_qty\":0.48283915,\"timestamp\":\"2024-09-24T05:20:38.790976636Z\"}]}]}'\n",
      "++Rcv decoded: fin=1 opcode=1 data=b'{\"channel\":\"level3\",\"type\":\"update\",\"data\":[{\"checksum\":2189629389,\"symbol\":\"BTC/USD\",\"bids\":[],\"asks\":[{\"event\":\"delete\",\"order_id\":\"O7X4LD-NYRQA-YZO3UX\",\"limit_price\":63131.8,\"order_qty\":0.00633743,\"timestamp\":\"2024-09-24T05:20:40.890279571Z\"},{\"event\":\"add\",\"order_id\":\"OWVUT3-NE3TN-ZJNDAN\",\"limit_price\":63136.9,\"order_qty\":0.48283915,\"timestamp\":\"2024-09-24T05:20:38.790976636Z\"}]}]}'\n"
     ]
    },
    {
     "name": "stdout",
     "output_type": "stream",
     "text": [
      "{'channel': 'heartbeat'}\n",
      "{'channel': 'level3', 'type': 'update', 'data': [{'checksum': 2189629389, 'symbol': 'BTC/USD', 'bids': [], 'asks': [{'event': 'delete', 'order_id': 'O7X4LD-NYRQA-YZO3UX', 'limit_price': 63131.8, 'order_qty': 0.00633743, 'timestamp': '2024-09-24T05:20:40.890279571Z'}, {'event': 'add', 'order_id': 'OWVUT3-NE3TN-ZJNDAN', 'limit_price': 63136.9, 'order_qty': 0.48283915, 'timestamp': '2024-09-24T05:20:38.790976636Z'}]}]}\n"
     ]
    },
    {
     "name": "stderr",
     "output_type": "stream",
     "text": [
      "++Rcv raw: b'\\x81~\\x00\\xf9{\"channel\":\"level3\",\"type\":\"update\",\"data\":[{\"checksum\":2105218953,\"symbol\":\"BTC/USD\",\"bids\":[{\"event\":\"modify\",\"order_id\":\"OENJ7B-QAKHY-LSN2FA\",\"limit_price\":63125.8,\"order_qty\":0.00069827,\"timestamp\":\"2024-09-24T05:20:12.907445945Z\"}],\"asks\":[]}]}'\n",
      "++Rcv decoded: fin=1 opcode=1 data=b'{\"channel\":\"level3\",\"type\":\"update\",\"data\":[{\"checksum\":2105218953,\"symbol\":\"BTC/USD\",\"bids\":[{\"event\":\"modify\",\"order_id\":\"OENJ7B-QAKHY-LSN2FA\",\"limit_price\":63125.8,\"order_qty\":0.00069827,\"timestamp\":\"2024-09-24T05:20:12.907445945Z\"}],\"asks\":[]}]}'\n",
      "++Rcv raw: b'\\x81~\\x00\\xf9{\"channel\":\"level3\",\"type\":\"update\",\"data\":[{\"checksum\":1636604018,\"symbol\":\"BTC/USD\",\"bids\":[{\"event\":\"delete\",\"order_id\":\"ORN6TP-6V337-FCFKGU\",\"limit_price\":63110.2,\"order_qty\":3.96131866,\"timestamp\":\"2024-09-24T05:20:41.053042966Z\"}],\"asks\":[]}]}'\n",
      "++Rcv decoded: fin=1 opcode=1 data=b'{\"channel\":\"level3\",\"type\":\"update\",\"data\":[{\"checksum\":1636604018,\"symbol\":\"BTC/USD\",\"bids\":[{\"event\":\"delete\",\"order_id\":\"ORN6TP-6V337-FCFKGU\",\"limit_price\":63110.2,\"order_qty\":3.96131866,\"timestamp\":\"2024-09-24T05:20:41.053042966Z\"}],\"asks\":[]}]}'\n",
      "++Rcv raw: b'\\x81~\\x00\\xf6{\"channel\":\"level3\",\"type\":\"update\",\"data\":[{\"checksum\":4180697916,\"symbol\":\"BTC/USD\",\"bids\":[{\"event\":\"add\",\"order_id\":\"O24DXB-RFD6Q-M5GB5A\",\"limit_price\":63112.2,\"order_qty\":3.96119789,\"timestamp\":\"2024-09-24T05:20:41.055838172Z\"}],\"asks\":[]}]}'\n",
      "++Rcv decoded: fin=1 opcode=1 data=b'{\"channel\":\"level3\",\"type\":\"update\",\"data\":[{\"checksum\":4180697916,\"symbol\":\"BTC/USD\",\"bids\":[{\"event\":\"add\",\"order_id\":\"O24DXB-RFD6Q-M5GB5A\",\"limit_price\":63112.2,\"order_qty\":3.96119789,\"timestamp\":\"2024-09-24T05:20:41.055838172Z\"}],\"asks\":[]}]}'\n",
      "++Rcv raw: b'\\x81~\\x00\\xf6{\"channel\":\"level3\",\"type\":\"update\",\"data\":[{\"checksum\":2431639741,\"symbol\":\"BTC/USD\",\"bids\":[],\"asks\":[{\"event\":\"add\",\"order_id\":\"OWHQQL-VLT4C-2GDXVQ\",\"limit_price\":63131.8,\"order_qty\":0.00633742,\"timestamp\":\"2024-09-24T05:20:41.147853771Z\"}]}]}'\n",
      "--- Logging error ---\n",
      "Traceback (most recent call last):\n",
      "  File \"/home/alg/anaconda3/envs/torch/lib/python3.10/logging/__init__.py\", line 1103, in emit\n",
      "    stream.write(msg + self.terminator)\n",
      "  File \"/home/alg/.local/lib/python3.10/site-packages/ipykernel/iostream.py\", line 694, in write\n",
      "    self._schedule_flush()\n",
      "  File \"/home/alg/.local/lib/python3.10/site-packages/ipykernel/iostream.py\", line 590, in _schedule_flush\n",
      "    self.pub_thread.schedule(_schedule_in_thread)\n",
      "  File \"/home/alg/.local/lib/python3.10/site-packages/ipykernel/iostream.py\", line 267, in schedule\n",
      "    self._event_pipe.send(b\"\")\n",
      "  File \"/home/alg/.local/lib/python3.10/site-packages/zmq/sugar/socket.py\", line 701, in send\n",
      "    return super().send(data, flags=flags, copy=copy, track=track)\n",
      "  File \"_zmq.py\", line 1073, in zmq.backend.cython._zmq.Socket.send\n",
      "  File \"_zmq.py\", line 1115, in zmq.backend.cython._zmq.Socket.send\n",
      "  File \"_zmq.py\", line 1190, in zmq.backend.cython._zmq._check_closed\n",
      "zmq.error.ZMQError: Socket operation on non-socket\n",
      "Call stack:\n",
      "  File \"/home/alg/anaconda3/envs/torch/lib/python3.10/threading.py\", line 973, in _bootstrap\n",
      "    self._bootstrap_inner()\n",
      "  File \"/home/alg/anaconda3/envs/torch/lib/python3.10/threading.py\", line 1016, in _bootstrap_inner\n",
      "    self.run()\n",
      "  File \"/home/alg/.local/lib/python3.10/site-packages/ipykernel/ipkernel.py\", line 766, in run_closure\n",
      "    _threading_Thread_run(self)\n",
      "  File \"/home/alg/anaconda3/envs/torch/lib/python3.10/threading.py\", line 953, in run\n",
      "    self._target(*self._args, **self._kwargs)\n",
      "  File \"/tmp/ipykernel_4075/3311373795.py\", line 86, in run_websocket\n",
      "    ws.run_forever()\n",
      "  File \"/home/alg/anaconda3/envs/torch/lib/python3.10/site-packages/websocket/_app.py\", line 616, in run_forever\n",
      "    setSock()\n",
      "  File \"/home/alg/anaconda3/envs/torch/lib/python3.10/site-packages/websocket/_app.py\", line 511, in setSock\n",
      "    dispatcher.read(self.sock.sock, read, check)\n",
      "  File \"/home/alg/anaconda3/envs/torch/lib/python3.10/site-packages/websocket/_app.py\", line 113, in read\n",
      "    if not read_callback():\n",
      "  File \"/home/alg/anaconda3/envs/torch/lib/python3.10/site-packages/websocket/_app.py\", line 526, in read\n",
      "    op_code, frame = self.sock.recv_data_frame(True)\n",
      "  File \"/home/alg/anaconda3/envs/torch/lib/python3.10/site-packages/websocket/_core.py\", line 439, in recv_data_frame\n",
      "    trace(f\"++Rcv raw: {repr(frame.format())}\")\n",
      "  File \"/home/alg/anaconda3/envs/torch/lib/python3.10/site-packages/websocket/_logging.py\", line 94, in trace\n",
      "    _logger.debug(msg)\n",
      "Message: '++Rcv raw: b\\'\\\\x81~\\\\x00\\\\xf6{\"channel\":\"level3\",\"type\":\"update\",\"data\":[{\"checksum\":2431639741,\"symbol\":\"BTC/USD\",\"bids\":[],\"asks\":[{\"event\":\"add\",\"order_id\":\"OWHQQL-VLT4C-2GDXVQ\",\"limit_price\":63131.8,\"order_qty\":0.00633742,\"timestamp\":\"2024-09-24T05:20:41.147853771Z\"}]}]}\\''\n",
      "Arguments: ()\n",
      "++Rcv decoded: fin=1 opcode=1 data=b'{\"channel\":\"level3\",\"type\":\"update\",\"data\":[{\"checksum\":2431639741,\"symbol\":\"BTC/USD\",\"bids\":[],\"asks\":[{\"event\":\"add\",\"order_id\":\"OWHQQL-VLT4C-2GDXVQ\",\"limit_price\":63131.8,\"order_qty\":0.00633742,\"timestamp\":\"2024-09-24T05:20:41.147853771Z\"}]}]}'\n",
      "--- Logging error ---\n",
      "Traceback (most recent call last):\n",
      "  File \"/home/alg/anaconda3/envs/torch/lib/python3.10/logging/__init__.py\", line 1104, in emit\n",
      "    self.flush()\n",
      "  File \"/home/alg/anaconda3/envs/torch/lib/python3.10/logging/__init__.py\", line 1084, in flush\n",
      "    self.stream.flush()\n",
      "  File \"/home/alg/.local/lib/python3.10/site-packages/ipykernel/iostream.py\", line 604, in flush\n",
      "    self.pub_thread.schedule(self._flush)\n",
      "  File \"/home/alg/.local/lib/python3.10/site-packages/ipykernel/iostream.py\", line 267, in schedule\n",
      "    self._event_pipe.send(b\"\")\n",
      "  File \"/home/alg/.local/lib/python3.10/site-packages/zmq/sugar/socket.py\", line 701, in send\n",
      "    return super().send(data, flags=flags, copy=copy, track=track)\n",
      "  File \"_zmq.py\", line 1073, in zmq.backend.cython._zmq.Socket.send\n",
      "  File \"_zmq.py\", line 1115, in zmq.backend.cython._zmq.Socket.send\n",
      "  File \"_zmq.py\", line 1190, in zmq.backend.cython._zmq._check_closed\n",
      "zmq.error.ZMQError: Socket operation on non-socket\n",
      "Call stack:\n",
      "  File \"/home/alg/anaconda3/envs/torch/lib/python3.10/threading.py\", line 973, in _bootstrap\n",
      "    self._bootstrap_inner()\n",
      "  File \"/home/alg/anaconda3/envs/torch/lib/python3.10/threading.py\", line 1016, in _bootstrap_inner\n",
      "    self.run()\n",
      "  File \"/home/alg/.local/lib/python3.10/site-packages/ipykernel/ipkernel.py\", line 766, in run_closure\n",
      "    _threading_Thread_run(self)\n",
      "  File \"/home/alg/anaconda3/envs/torch/lib/python3.10/threading.py\", line 953, in run\n",
      "    self._target(*self._args, **self._kwargs)\n",
      "  File \"/tmp/ipykernel_4075/3311373795.py\", line 86, in run_websocket\n",
      "    ws.run_forever()\n",
      "  File \"/home/alg/anaconda3/envs/torch/lib/python3.10/site-packages/websocket/_app.py\", line 616, in run_forever\n",
      "    setSock()\n",
      "  File \"/home/alg/anaconda3/envs/torch/lib/python3.10/site-packages/websocket/_app.py\", line 511, in setSock\n",
      "    dispatcher.read(self.sock.sock, read, check)\n",
      "  File \"/home/alg/anaconda3/envs/torch/lib/python3.10/site-packages/websocket/_app.py\", line 113, in read\n",
      "    if not read_callback():\n",
      "  File \"/home/alg/anaconda3/envs/torch/lib/python3.10/site-packages/websocket/_app.py\", line 526, in read\n",
      "    op_code, frame = self.sock.recv_data_frame(True)\n",
      "  File \"/home/alg/anaconda3/envs/torch/lib/python3.10/site-packages/websocket/_core.py\", line 440, in recv_data_frame\n",
      "    trace(f\"++Rcv decoded: {frame.__str__()}\")\n",
      "  File \"/home/alg/anaconda3/envs/torch/lib/python3.10/site-packages/websocket/_logging.py\", line 94, in trace\n",
      "    _logger.debug(msg)\n",
      "Message: '++Rcv decoded: fin=1 opcode=1 data=b\\'{\"channel\":\"level3\",\"type\":\"update\",\"data\":[{\"checksum\":2431639741,\"symbol\":\"BTC/USD\",\"bids\":[],\"asks\":[{\"event\":\"add\",\"order_id\":\"OWHQQL-VLT4C-2GDXVQ\",\"limit_price\":63131.8,\"order_qty\":0.00633742,\"timestamp\":\"2024-09-24T05:20:41.147853771Z\"}]}]}\\''\n",
      "Arguments: ()\n"
     ]
    },
    {
     "name": "stdout",
     "output_type": "stream",
     "text": [
      "{'channel': 'level3', 'type': 'update', 'data': [{'checksum': 2105218953, 'symbol': 'BTC/USD', 'bids': [{'event': 'modify', 'order_id': 'OENJ7B-QAKHY-LSN2FA', 'limit_price': 63125.8, 'order_qty': 0.00069827, 'timestamp': '2024-09-24T05:20:12.907445945Z'}], 'asks': []}]}\n",
      "{'channel': 'level3', 'type': 'update', 'data': [{'checksum': 1636604018, 'symbol': 'BTC/USD', 'bids': [{'event': 'delete', 'order_id': 'ORN6TP-6V337-FCFKGU', 'limit_price': 63110.2, 'order_qty': 3.96131866, 'timestamp': '2024-09-24T05:20:41.053042966Z'}], 'asks': []}]}\n",
      "{'channel': 'level3', 'type': 'update', 'data': [{'checksum': 4180697916, 'symbol': 'BTC/USD', 'bids': [{'event': 'add', 'order_id': 'O24DXB-RFD6Q-M5GB5A', 'limit_price': 63112.2, 'order_qty': 3.96119789, 'timestamp': '2024-09-24T05:20:41.055838172Z'}], 'asks': []}]}\n",
      "{'channel': 'level3', 'type': 'update', 'data': [{'checksum': 2431639741, 'symbol': 'BTC/USD', 'bids': [], 'asks': [{'event': 'add', 'order_id': 'OWHQQL-VLT4C-2GDXVQ', 'limit_price': 63131.8, 'order_qty': 0.00633742, 'timestamp': '2024-09-24T05:20:41.147853771Z'}]}]}\n"
     ]
    }
   ],
   "source": [
    "\n",
    "websocket_thread = threading.Thread(target=run_websocket)\n",
    "websocket_thread.start()\n",
    "try:\n",
    "    websocket_thread.join()\n",
    "except KeyboardInterrupt:\n",
    "    print(\"Exiting...\")\n"
   ]
  },
  {
   "cell_type": "code",
   "execution_count": null,
   "metadata": {},
   "outputs": [],
   "source": []
  },
  {
   "cell_type": "code",
   "execution_count": null,
   "metadata": {},
   "outputs": [],
   "source": []
  }
 ],
 "metadata": {
  "kernelspec": {
   "display_name": "torch",
   "language": "python",
   "name": "python3"
  },
  "language_info": {
   "codemirror_mode": {
    "name": "ipython",
    "version": 3
   },
   "file_extension": ".py",
   "mimetype": "text/x-python",
   "name": "python",
   "nbconvert_exporter": "python",
   "pygments_lexer": "ipython3",
   "version": "3.10.13"
  }
 },
 "nbformat": 4,
 "nbformat_minor": 2
}
